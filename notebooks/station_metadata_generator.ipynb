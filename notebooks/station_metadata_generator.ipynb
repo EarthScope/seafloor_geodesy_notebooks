{
 "cells": [
  {
   "cell_type": "markdown",
   "id": "18992eaf",
   "metadata": {},
   "source": [
    "# **Create or Update Seafloor Site Metadata File**\n",
    "\n",
    "This notebook goes through the steps necessary to update or create a new site metadata file."
   ]
  },
  {
   "cell_type": "markdown",
   "id": "e591895a",
   "metadata": {},
   "source": [
    "***\n",
    "## **1. Import packages**"
   ]
  },
  {
   "cell_type": "code",
   "execution_count": null,
   "id": "6ec279d2",
   "metadata": {},
   "outputs": [],
   "source": [
    "from datetime import datetime\n",
    "import json\n",
    "import ipywidgets as widgets\n",
    "from IPython.display import display\n",
    "import functools\n",
    "import os\n",
    "\n",
    "from es_sfgtools.utils.metadata.site import Site, import_site\n",
    "from es_sfgtools.utils.metadata.utils import start_and_end_dates\n",
    "from es_sfgtools.utils.archive_pull import download_file_from_archive\n",
    "from es_sfgtools.utils.metadata.campaign import campaign_checks"
   ]
  },
  {
   "cell_type": "markdown",
   "id": "9a99a3b5",
   "metadata": {},
   "source": [
    "***\n",
    "## **2. Choosing the appropriate site metadata file**\n",
    "\n",
    "Using the options below, you may either `create` or `update` a site metadata file. If the site already exists in the earthscope archive, the metadata file should be accessible on https://gage-data.earthscope.org/archive/seafloor. \n",
    "\n",
    "Only choose 1 of the 3 options.\n",
    "\n",
    "### **Option 1:** Create a new site file "
   ]
  },
  {
   "cell_type": "code",
   "execution_count": null,
   "id": "bc945090",
   "metadata": {},
   "outputs": [],
   "source": [
    "# ----------------------- Update these values ----------------------- \n",
    "# Add site names and networks\n",
    "names = ['AAAA']                 # list of names used for this site, including the 4 char ID\n",
    "networks = ['aleutian']          # list of networks this site is a part of              \n",
    "\n",
    "# Add time of origin (Benchmarks drop date)\n",
    "time_of_origin = datetime(year=1900, month=1, day=1, \n",
    "                          hour=0, minute=0, second=0)\n",
    "\n",
    "local_geoid_height = 0\n",
    "\n",
    "# Add array center coordinates\n",
    "x = 0\n",
    "y = 0\n",
    "z = 0\n",
    "\n",
    "# ---------------------- Do not update code below ---------------------\n",
    "site_class = Site(names=names, networks=networks, time_of_origin=time_of_origin, local_geoid_height=local_geoid_height, array_center={'x':x, 'y':y, 'z':z})\n",
    "print(\"Created site object\\n\"+ json.dumps(site_class.to_dict(), indent=2))"
   ]
  },
  {
   "cell_type": "markdown",
   "id": "6bb258f5",
   "metadata": {},
   "source": [
    "### **Option 2:** Pull existing site metadata from local file path\n",
    "Use the cell below to load an existing site metadata file to update"
   ]
  },
  {
   "cell_type": "code",
   "execution_count": null,
   "id": "2c2fcdb1",
   "metadata": {},
   "outputs": [],
   "source": [
    "# Pull in site metadata from json file\n",
    "# ----------------------- Update these values -----------------------\n",
    "json_file_path = 'site.json'        # JSON file path\n",
    "\n",
    "# ---------------------- Do not update code below ---------------------\n",
    "site_class = import_site(json_file_path)\n",
    "print(json.dumps(site_class.to_dict(), indent=2))"
   ]
  },
  {
   "cell_type": "markdown",
   "id": "5c749c6f",
   "metadata": {},
   "source": [
    "### **Option 3:** Pull existing site metadata directly from GAGE data\n",
    "Use the cell below to load an existing site metadata file from the GAGE data archive"
   ]
  },
  {
   "cell_type": "code",
   "execution_count": null,
   "id": "b1ebb51f",
   "metadata": {},
   "outputs": [],
   "source": [
    "# ----------------------- Update these values -----------------------\n",
    "gage_http_file_link = ''\n",
    "destination_directory = './gage_data'   # directory where the files will be downloaded to (default is the current directory/gage_data)\n",
    "token_path = '.'                        # directory where the token will be stored (default is the current directory)\n",
    "\n",
    "\n",
    "# ---------------------- Do not update code below ---------------------\n",
    "download_file_from_archive(url=gage_http_file_link, \n",
    "                           dest_dir=destination_directory)\n",
    "\n",
    "file_name = os.path.basename(gage_http_file_link)\n",
    "site_class = import_site(os.path.join(destination_directory, file_name))\n",
    "print(json.dumps(site_class.to_dict(), indent=2))"
   ]
  },
  {
   "cell_type": "markdown",
   "id": "fc62bcbe",
   "metadata": {},
   "source": [
    "## **3. Site additions and updates**\n",
    "***\n",
    "Below are optional additions and updates you can make to the site metadata file. You do not need to go in order to update the file. Options include..\n",
    "* Required site specific metadata\n",
    "   * Benchmarks \n",
    "   * Transponders\n",
    "* Campaigns\n",
    "   * Basic campaign information\n",
    "   * Surveys within each campaign\n",
    "* Other site data\n",
    "   * Reference Frames\n",
    "   * Additional Transponder Information\n",
    "\n",
    "#### **Instructions**\n",
    "1. Input values in __*Update these Values*__ section\n",
    "   * For a new section, enter all known values, including a start and end date. If a start and end date is not changed from \"1900\", then it will not be added into the json\n",
    "   * For updating an existing section, update only the values you wish to change. Leave all other fields empty or as they are.\n",
    "2. Run the cell and check the printed JSON input is correct.\n",
    "3. Use the cell below to add, update or delete.\n",
    "\n",
    "If you need to see the site class object at any time in the process, scroll to the **Write out JSON file** section at the bottom and run the cell that checks the output. \n"
   ]
  },
  {
   "cell_type": "markdown",
   "id": "400a05dc",
   "metadata": {},
   "source": [
    "### **Come back and view the full site output at any time using the cell below**"
   ]
  },
  {
   "cell_type": "code",
   "execution_count": null,
   "id": "529b1355",
   "metadata": {},
   "outputs": [],
   "source": [
    "print(json.dumps(site_class.to_dict(), indent=2))"
   ]
  },
  {
   "cell_type": "markdown",
   "id": "1d4af6b5",
   "metadata": {},
   "source": [
    "\n",
    "## **Required site specific metadata**\n",
    "***\n"
   ]
  },
  {
   "cell_type": "markdown",
   "id": "8bf012ec",
   "metadata": {},
   "source": [
    "## Benchmarks\n",
    "\n",
    "If you are updating a site file that already exists, you will only need to update or add a new *Benchmark* as needed.\n",
    "\n",
    "* **New Benchmark:** please enter the required information below and then run the cell, check your output and set `ADD_NEW_BENCHMARK` to `True` in the next cell prior to running. \n",
    "\n",
    "* **Updating a Benchmark:**, please only enter the values you wish to update including the `benchmark_name` you wish to update. All previous values in the site file will be kept if not updated. One entered, run the cell, check your output and set `UPDATE_EXISTING_BENCHMARK` to `True` in the next cell prior to running. \n",
    "\n",
    "* **Deleting a Benchmark:** When deleting, only the `benchmark_name` is needed. Once entered, run the cell, and set `DELETE_BENCHMARK` to `True` in the next cell prior to running. "
   ]
  },
  {
   "cell_type": "code",
   "execution_count": null,
   "id": "12c528a8",
   "metadata": {},
   "outputs": [],
   "source": [
    "benchmark = {'dropPointLocation': {}, 'aPrioriLocation': {}}\n",
    "# ----------------------- Update these values ----------------------- \n",
    "\n",
    "# -- Required Benchmark Information -- \n",
    "benchmark_name = \"IVB1-2\"                 # \"IVB1-1\" - REQUIRED\n",
    "benchmark['benchmarkID'] = \"\"             # stamped on name\n",
    "\n",
    "benchmark['aPrioriLocation']['latitude'] = \"\"          # latitude of benchmark drop point\n",
    "benchmark['aPrioriLocation']['longitude']  = \"\"        # longitude of benchmark drop point\n",
    "benchmark['aPrioriLocation']['elevation']  = \"\"        # elevation of benchmark drop point\n",
    "\n",
    "benchmark_start = '1900-01-01T00:00:00'\n",
    "\n",
    "# -- Optional Benchmark information --\n",
    "benchmark_end = '1900-01-01T00:00:00'\n",
    "\n",
    "# Drop points\n",
    "benchmark['dropPointLocation']['latitude'] = \"\"         # latitude of benchmark drop point\n",
    "benchmark['dropPointLocation']['longitude'] = \"\"        # longitude of benchmark drop point\n",
    "benchmark['dropPointLocation']['elevation'] = \"\"        # elevation of benchmark drop point\n",
    "\n",
    "# ----------------------- Do not update code below ----------------------- \n",
    "benchmark = start_and_end_dates(start_date=benchmark_start, end_date=benchmark_end, dict_to_update=benchmark)"
   ]
  },
  {
   "cell_type": "markdown",
   "id": "70c67f44",
   "metadata": {},
   "source": [
    "#### Choose whether to add new, update, or delete the benchmark you defined above"
   ]
  },
  {
   "cell_type": "code",
   "execution_count": null,
   "id": "e4202d44",
   "metadata": {},
   "outputs": [],
   "source": [
    "# Set only one of the following to True\n",
    "ADD_NEW_BENCHMARK = True                \n",
    "UPDATE_EXISTING_BENCHMARK = False\n",
    "DELETE_BENCHMARK = False\n",
    "\n",
    "# ----------------------- Do not update code below ----------------------- \n",
    "site_class.run_benchmark(benchmark_name=benchmark_name, benchmark_data=benchmark, add_new=ADD_NEW_BENCHMARK, update=UPDATE_EXISTING_BENCHMARK, delete=DELETE_BENCHMARK)"
   ]
  },
  {
   "cell_type": "markdown",
   "id": "aed29bf7",
   "metadata": {},
   "source": [
    "## Benchmark Transponders\n",
    "\n",
    "If you are updating a site file that already exists, you will only need to update or add a new *Transponder* as needed.\n",
    "\n",
    "* **New Transponder:** please enter the required information below and then run the cell, check your output and set `ADD_NEW_TRANSPONDER` to `True` in the next cell prior to running. \n",
    "\n",
    "* **Updating a Transponder:**, please only enter the values you wish to update including the `transponder_benchmark_name` and `transponder_address` you wish to update. All previous values in the site file will be kept if not updated. One entered, run the cell, check your output and set `UPDATE_EXISTING_TRANSPONDER` to `True` in the next cell prior to running. \n",
    "\n",
    "* **Deleting a Transponder:** When deleting, only the `transponder_benchmark_name` and `transponder_address` is needed. Once entered, run the cell, and set `DELETE_TRANSPONDER` to `True` in the next cell prior to running. "
   ]
  },
  {
   "cell_type": "code",
   "execution_count": null,
   "id": "f3ea2551",
   "metadata": {},
   "outputs": [],
   "source": [
    "transponder = {}\n",
    "# ----------------------- Update these values ----------------------- \n",
    "\n",
    "# -- Required Transponder Information --\n",
    "transponder_benchmark_name = benchmark_name         # e.g \"IVB1-1\" -  Change this if you didn't previously add a benchmark or wish to add to a different benchmark\n",
    "transponder_address = \"\"                            # e.g 5209\n",
    "transponder_start = '1900-01-01T00:00:00'           # Start date of transponder\n",
    "\n",
    "\n",
    "# -- Optional transponder information --\n",
    "transponder['uid'] = \"\"                       # UID of transponder\n",
    "transponder['model'] = \"\"                     # transponder model number\n",
    "transponder['serialNumber'] = \"\"              # transponder serial number\n",
    "transponder['batteryCapacity'] = \"\"           # e.g 4 Ah\n",
    "transponder['tat'] = \"\"                       # TAT in ms\n",
    "\n",
    "transponder_end = '1900-01-01T00:00:00'       # End date of transponder\n",
    "\n",
    "transponder['notes'] = \"\"                     # Any notable events\n",
    "\n",
    "# ----------------------- Do not update code below ----------------------- \n",
    "transponder = start_and_end_dates(start_date=transponder_start, end_date=transponder_end,  dict_to_update=transponder)"
   ]
  },
  {
   "cell_type": "markdown",
   "id": "fffc4eb4",
   "metadata": {},
   "source": [
    "#### Choose whether to add new, update, or delete the transponder you defined above"
   ]
  },
  {
   "cell_type": "code",
   "execution_count": null,
   "id": "eb02573e",
   "metadata": {},
   "outputs": [],
   "source": [
    "ADD_NEW_TRANSPONDER = True\n",
    "UPDATE_EXISTING_TRANSPONDER = False\n",
    "DELETE_TRANSPONDER = False\n",
    "\n",
    "# ----------------------- Do not update code below ----------------------- \n",
    "site_class.run_transponder(benchmark_name=transponder_benchmark_name, transponder_address=transponder_address, transponder_data=transponder,\n",
    "                            add_new=ADD_NEW_TRANSPONDER, update=UPDATE_EXISTING_TRANSPONDER, delete=DELETE_TRANSPONDER)"
   ]
  },
  {
   "cell_type": "markdown",
   "id": "b703a9c6",
   "metadata": {},
   "source": [
    "***\n",
    "## Campaign Data\n",
    "***\n",
    "### Campaign information\n",
    "\n",
    "* **New Campaign:** please enter the required information below and then run the cell, check your output and set `ADD_NEW_CAMPAIGN` to `True` in the next cell prior to running. \n",
    "\n",
    "* **Updating a Campaign:**, please only enter the values you wish to update including the `campaign_year`, `campaign_interval` and `vessel code`  you wish to update. All previous values in the site file will be kept if not updated. One entered, run the cell, check your output and set `UPDATE_EXISTING_CAMPAIGN` to `True` in the next cell prior to running. \n",
    "\n",
    "* **Deleting a Transponder:** When deleting, only the `campaign_year`, `campaign_interval` and `vessel code` is needed. Once entered, run the cell, and set `DELETE_CAMPAIGN` to `True` in the next cell prior to running. "
   ]
  },
  {
   "cell_type": "code",
   "execution_count": null,
   "id": "d4bdb7a1",
   "metadata": {},
   "outputs": [],
   "source": [
    "campaign = {}\n",
    "# ----------------------- Update these values ----------------------- \n",
    "\n",
    "# -- Required Campaign Information --\n",
    "# Generate the campaign name\n",
    "campaign_year = \"\"              # Year of campaign - eg. 2024\n",
    "campaign_interval = \"\"          # alphabetical interval of campaign - 1st: a, 2nd: b, etc..\n",
    "vessel_code = \"\"                # 4 digit vessel code - this will also reference vessel metadata file\n",
    "\n",
    "campaign_start = '1900-01-01T00:00:00'          # Start date of campaign\n",
    "campaign_end = '1900-01-01T00:00:00'            # End date of campaign\n",
    "\n",
    "campaign['type'] = \"\"                         # type of campaign: deploy | measure \n",
    "\n",
    "# Optional: Enter information known about the people and vessels involved in the campaign\n",
    "campaign['launchVesselName'] = \"\"             # launch vessel name used in campaign\n",
    "campaign['recoveryVesselName'] = \"\"           # recovery vessel name used in campaign\n",
    "campaign['principalInvestigator'] = \"\"        # PI name \n",
    "campaign['cruiseName'] = \"\"                   # Name of cruise\n",
    "campaign['technicianName'] = \"\"               # technician name\n",
    "campaign['technicianContact'] = \"\"            # technician contact information (email/phone)\n",
    "\n",
    "\n",
    "# ----------------------- Do not update code below ----------------------- \n",
    "campaign_name, campaign['vesselCode'] = campaign_checks(campaign_year, campaign_interval, vessel_code)\n",
    "campaign = start_and_end_dates(start_date=campaign_start, end_date=campaign_end, dict_to_update=campaign)"
   ]
  },
  {
   "cell_type": "markdown",
   "id": "e6d09bbe",
   "metadata": {},
   "source": [
    "#### Choose whether to add new, update, or delete the campaign you defined above"
   ]
  },
  {
   "cell_type": "code",
   "execution_count": null,
   "id": "76ac4a60",
   "metadata": {},
   "outputs": [],
   "source": [
    "# Set only one of the following to True\n",
    "ADD_NEW_CAMPAIGN = True\n",
    "UPDATE_EXISTING_CAMPAIGN = False\n",
    "DELETE_CAMPAIGN = False\n",
    "\n",
    "# ----------------------- Do not update code below -----------------------\n",
    "site_class.run_campaign(campaign_name=campaign_name, campaign_data=campaign, add_new=ADD_NEW_CAMPAIGN, update=UPDATE_EXISTING_CAMPAIGN, delete=DELETE_CAMPAIGN)"
   ]
  },
  {
   "cell_type": "markdown",
   "id": "573a5f8b",
   "metadata": {},
   "source": [
    "## Campaign Survey\n",
    "\n",
    "* **New Survey:** please enter the required information below and then run the cell, check your output and set `ADD_NEW_SURVEY` to `True` in the next cell prior to running. \n",
    "    * You do not need to enter a `survey_id` if entereing a new survey. The code will generate an ID for you.\n",
    "    * The code below assumes the survey was part of an campaign and with a survey vessel entered above. If you wish to add to a different campaign / survey vessel, change the `survey_campaign_name` variable from the default.\n",
    "\n",
    "* **Updating a Survey:**, please only enter the values you wish to update including the `survey_campaign_name` and `survey_id` you wish to update. All previous values in the site file will be kept if not updated. One entered, run the cell, check your output and set `UPDATE_EXISTING_SURVEY` to `True` in the next cell prior to running. \n",
    "\n",
    "* **Deleting a Surveyr:** When deleting, only the `survey_campaign_name` and `survey_id` is needed. Once entered, run the cell, and set `DELETE_SURVEY` to `True` in the next cell prior to running. "
   ]
  },
  {
   "cell_type": "code",
   "execution_count": null,
   "id": "515e9606",
   "metadata": {},
   "outputs": [],
   "source": [
    "survey = {}\n",
    "# ----------------------- Update these values ----------------------- \n",
    "# -- Required Survey Information --\n",
    "survey_campaign_name = campaign_name         # Change this if you didn't previously add a campaign or wish to add to a different campaign, example: 2024_A_GLDR\n",
    "\n",
    "# Only add if updating or deleting an existing survey. Please check the current JSON file for the survey ID.\n",
    "survey_id = ''                      # campaign_name + interval e.g 2024_A_GLDR_1\n",
    "\n",
    "survey['pattern'] = ''             # e.g cirle drive | fixed point | mixed\n",
    "survey['benchmarkIDs'] = []        # List of benchmark IDs in survey['IVB1-1', 'IVB1-2', 'IVB1-3']\n",
    "\n",
    "# Enter the start and end date/time of the survey\n",
    "survey_start = '1900-01-01T00:00:00'\n",
    "survey_end = '1900-01-01T00:00:00'\n",
    "\n",
    "# -- Optional Survey Information --\n",
    "survey['commands'] = ''                  # log of commands for a given survey\n",
    "survey['notes'] = ''                    # i.e any strange data flags\n",
    "\n",
    "    \n",
    "# ----------------------- Do not update code below -----------------------    \n",
    "survey = start_and_end_dates(start_date=survey_start, end_date=survey_end, dict_to_update=survey)\n",
    "print('\\n')"
   ]
  },
  {
   "cell_type": "markdown",
   "id": "aa14cf4a",
   "metadata": {},
   "source": [
    "#### Choose whether to add new, update, or delete the survey you defined above"
   ]
  },
  {
   "cell_type": "code",
   "execution_count": null,
   "id": "e506bf01",
   "metadata": {},
   "outputs": [],
   "source": [
    "ADD_NEW_SURVEY = True\n",
    "UPDATE_EXISTING_SURVEY = False\n",
    "DELETE_SURVEY = False\n",
    "\n",
    "# ----------------------- Do not update code below -----------------------\n",
    "site_class.run_survey(campaign_name=survey_campaign_name, survey_id=survey_id, survey_data=survey, add_new=ADD_NEW_SURVEY, update=UPDATE_EXISTING_SURVEY, delete=DELETE_SURVEY)"
   ]
  },
  {
   "cell_type": "markdown",
   "id": "8b163293",
   "metadata": {},
   "source": [
    "***\n",
    "## Other Site Specific Data\n",
    "***\n",
    "### Reference frames\n",
    "\n",
    "Add reference frame name and start and end dates used (optional)"
   ]
  },
  {
   "cell_type": "code",
   "execution_count": null,
   "id": "b3d17197",
   "metadata": {},
   "outputs": [],
   "source": [
    "reference_frame = {}\n",
    "# ----------------------- Update these values ----------------------- \n",
    "reference_frame_name = \"ITRF2008\"         # e.g ITRF2008\n",
    "\n",
    "# Enter the start/end date & time of the reference frame in ISO string format\n",
    "ref_start = '1900-01-01T00:00:00'\n",
    "ref_end = '1900-01-01T00:00:00'\n",
    "\n",
    "# ---------------------- Do not update code below ---------------------\n",
    "reference_frame = start_and_end_dates(start_date=ref_start, end_date=ref_end,  dict_to_update=reference_frame)"
   ]
  },
  {
   "cell_type": "markdown",
   "id": "7f2d7859",
   "metadata": {},
   "source": [
    "#### Choose whether to add new, update, or delete the reference frame you defined above"
   ]
  },
  {
   "cell_type": "code",
   "execution_count": null,
   "id": "d6800ea9",
   "metadata": {},
   "outputs": [],
   "source": [
    "ADD_NEW_REFERENCE_FRAME = True\n",
    "UPDATE_EXISTING_REFERENCE_FRAME = False\n",
    "DELETE_REFERENCE_FRAME = False\n",
    "\n",
    "# ---------------------- Do not update code below ---------------------\n",
    "site_class.run_reference_frame(reference_frame_name=reference_frame_name, reference_frame_data=reference_frame, add_new=ADD_NEW_REFERENCE_FRAME, update=UPDATE_EXISTING_REFERENCE_FRAME, delete=DELETE_REFERENCE_FRAME)"
   ]
  },
  {
   "cell_type": "markdown",
   "id": "23de5c00",
   "metadata": {},
   "source": [
    "***\n",
    "### Additional Transponder Information # TODO\n",
    "\n",
    "#### Extra Sensors"
   ]
  },
  {
   "cell_type": "code",
   "execution_count": null,
   "id": "521ea34e",
   "metadata": {},
   "outputs": [],
   "source": [
    "extra_sensor = {}\n",
    "# ----------------------- Update these values -----------------------\n",
    "benchmark_name = \"\"                 # e.g \"IVB1-1\" - REQUIRED to add sensor \n",
    "transponder_address = \"\"            # e.g 5209 - REQUIRED to add sensor\n",
    "extra_sensor['type'] = \"\"                           # e.g \"pressure\"\n",
    "extra_sensor['serial_number'] = \"\"                  # pressure sensor serial number\n",
    "extra_sensor['model_number'] = \"\"                   # pressure sensor model number"
   ]
  },
  {
   "cell_type": "markdown",
   "id": "fa252e5b",
   "metadata": {},
   "source": [
    "#### Add the sensor you defined above"
   ]
  },
  {
   "cell_type": "code",
   "execution_count": null,
   "id": "e77fdf89",
   "metadata": {},
   "outputs": [],
   "source": [
    "site_class.add_sensor_to_transponder(benchmark_name=benchmark_name, transponder_address=transponder_address, sensor_data=extra_sensor)"
   ]
  },
  {
   "cell_type": "markdown",
   "id": "5d12b4fe",
   "metadata": {},
   "source": [
    "#### Battery Voltages"
   ]
  },
  {
   "cell_type": "code",
   "execution_count": null,
   "id": "37284209",
   "metadata": {},
   "outputs": [],
   "source": [
    "battery = {}\n",
    "# ----------------------- Update these values -----------------------\n",
    "benchmark_name = \"\"                 # e.g \"IVB1-1\" - REQUIRED \n",
    "transponder_address = \"\"            # e.g 5209 - REQUIRED \n",
    "\n",
    "battery['date'] = '1900-01-01T00:00:00'\n",
    "battery['value'] = 0                    # e.g 12.0"
   ]
  },
  {
   "cell_type": "markdown",
   "id": "e8865759",
   "metadata": {},
   "source": [
    "#### Add the battery voltage"
   ]
  },
  {
   "cell_type": "code",
   "execution_count": null,
   "id": "ff584133",
   "metadata": {},
   "outputs": [],
   "source": [
    "site_class.add_battery_voltage_to_transponder(benchmark_name=benchmark_name, transponder_address=transponder_address, battery_data=battery)"
   ]
  },
  {
   "cell_type": "markdown",
   "id": "99666369",
   "metadata": {},
   "source": [
    "## **4. Write out JSON file**\n",
    "***\n",
    "This step can be completed at any time.\n",
    "\n",
    "* First check the contents..."
   ]
  },
  {
   "cell_type": "code",
   "execution_count": null,
   "id": "c3dde637-d315-4a76-824c-794c792de426",
   "metadata": {},
   "outputs": [],
   "source": [
    "print(json.dumps(site_class.to_dict(), indent=2))"
   ]
  },
  {
   "cell_type": "markdown",
   "id": "0159eb31-b567-45e1-b88f-adb6847553a1",
   "metadata": {},
   "source": [
    "### Export Site to file"
   ]
  },
  {
   "cell_type": "code",
   "execution_count": null,
   "id": "ed555100",
   "metadata": {},
   "outputs": [],
   "source": [
    "SITE_4_CHAR_ID = \"\" # 4 char site ID\n",
    "\n",
    "if not SITE_4_CHAR_ID:\n",
    "    raise ValueError(\"Please enter a 4 char site ID\")\n",
    "\n",
    "# Export site metadata to a json file\n",
    "# Add date to the file name\n",
    "date = datetime.now().strftime(\"%Y-%m-%d\")\n",
    "file_path = f\"./{SITE_4_CHAR_ID + '.' + date}.json\"                            # Export file path you wish to store\n",
    "site_class.export_site(file_path)"
   ]
  }
 ],
 "metadata": {
  "kernelspec": {
   "display_name": "seafloor_geodesy",
   "language": "python",
   "name": "python3"
  },
  "language_info": {
   "codemirror_mode": {
    "name": "ipython",
    "version": 3
   },
   "file_extension": ".py",
   "mimetype": "text/x-python",
   "name": "python",
   "nbconvert_exporter": "python",
   "pygments_lexer": "ipython3",
   "version": "3.11.10"
  }
 },
 "nbformat": 4,
 "nbformat_minor": 5
}
