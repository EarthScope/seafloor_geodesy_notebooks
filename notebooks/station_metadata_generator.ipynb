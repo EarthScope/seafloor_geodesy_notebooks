{
 "cells": [
  {
   "cell_type": "markdown",
   "id": "18992eaf",
   "metadata": {},
   "source": [
    "# **Create or Update Seafloor Site Metadata File**\n",
    "\n",
    "This notebook goes through the steps necessary to update or create a new site metadata file."
   ]
  },
  {
   "cell_type": "markdown",
   "id": "e591895a",
   "metadata": {},
   "source": [
    "***\n",
    "## **Import packages**"
   ]
  },
  {
   "cell_type": "code",
   "execution_count": 1,
   "id": "6ec279d2",
   "metadata": {},
   "outputs": [],
   "source": [
    "from datetime import datetime\n",
    "import json\n",
    "import ipywidgets as widgets\n",
    "from IPython.display import display\n",
    "import functools\n",
    "import os\n",
    "\n",
    "from es_sfgtools.utils.metadata.site import Site, buttons\n",
    "from es_sfgtools.utils.metadata.utils import start_and_end_dates\n",
    "from es_sfgtools.utils.archive_pull import download_file_from_archive\n",
    "from es_sfgtools.utils.metadata.campaign import campaign_checks"
   ]
  },
  {
   "cell_type": "markdown",
   "id": "9a99a3b5",
   "metadata": {},
   "source": [
    "***\n",
    "## **Choosing the appropriate site metadata file**\n",
    "\n",
    "Using the options below, you may either `create` or `update` a site metadata file. If the site already exists in the earthscope archive, the metadata file should be accessible on https://gage-data.earthscope.org/archive/seafloor. \n",
    "\n",
    "Only choose 1 of the 3 options.\n",
    "\n",
    "### **Option 1:** Create a new site file "
   ]
  },
  {
   "cell_type": "code",
   "execution_count": null,
   "id": "bc945090",
   "metadata": {},
   "outputs": [],
   "source": [
    "# ----------------------- Update these values ----------------------- \n",
    "# Add site names and networks\n",
    "names = ['AAAA']                 # list of names used for this site, including the 4 char ID\n",
    "networks = ['aleutian']          # list of networks this site is a part of              \n",
    "\n",
    "# Add time of origin (Benchmarks drop date)\n",
    "time_of_origin = datetime(year=1900, month=1, day=1, \n",
    "                          hour=0, minute=0, second=0)\n",
    "\n",
    "local_geoid_height = 0\n",
    "\n",
    "# Add array center coordinates\n",
    "x = 0\n",
    "y = 0\n",
    "z = 0\n",
    "\n",
    "# ---------------------- Do not update code below ---------------------\n",
    "site_class = Site(names=names, networks=networks, time_of_origin=time_of_origin, local_geoid_height=local_geoid_height, array_center={'x':x, 'y':y, 'z':z})\n",
    "print(\"Created site object\\n\"+ json.dumps(site_class.to_dict(), indent=2))"
   ]
  },
  {
   "cell_type": "markdown",
   "id": "6bb258f5",
   "metadata": {},
   "source": [
    "### **Option 2:** Pull existing site metadata from local file path\n",
    "Use the cell below to load an existing site metadata file to update"
   ]
  },
  {
   "cell_type": "code",
   "execution_count": null,
   "id": "2c2fcdb1",
   "metadata": {},
   "outputs": [],
   "source": [
    "# Pull in site metadata from json file\n",
    "# ----------------------- Update these values -----------------------\n",
    "json_file_path = 'site.json'        # JSON file path\n",
    "\n",
    "# ---------------------- Do not update code below ---------------------\n",
    "site_class = import_site(json_file_path)\n",
    "print(json.dumps(site_class.site, indent=2))"
   ]
  },
  {
   "cell_type": "markdown",
   "id": "5c749c6f",
   "metadata": {},
   "source": [
    "### **Option 3:** Pull existing site metadata directly from GAGE data\n",
    "Use the cell below to load an existing site metadata file from the GAGE data archive"
   ]
  },
  {
   "cell_type": "code",
   "execution_count": null,
   "id": "b1ebb51f",
   "metadata": {},
   "outputs": [],
   "source": [
    "# ----------------------- Update these values -----------------------\n",
    "gage_http_file_link = ''\n",
    "destination_directory = './gage_data'   # directory where the files will be downloaded to (default is the current directory/gage_data)\n",
    "token_path = '.'                        # directory where the token will be stored (default is the current directory)\n",
    "\n",
    "\n",
    "# ---------------------- Do not update code below ---------------------\n",
    "download_file_from_archive(url=gage_http_file_link, \n",
    "                           dest_dir=destination_directory)\n",
    "\n",
    "file_name = os.path.basename(gage_http_file_link)\n",
    "site_class = import_site(os.path.join(destination_directory, file_name))\n",
    "print(json.dumps(site_class.site, indent=2))"
   ]
  },
  {
   "cell_type": "markdown",
   "id": "fc62bcbe",
   "metadata": {},
   "source": [
    "## **Optional site additions and updates**\n",
    "***\n",
    "Below are optional additions and updates you can make to the site metadata file. You do not need to go in order to update the file. Options include..\n",
    "* Required site specific metadata\n",
    "   * Benchmarks \n",
    "   * Transponders\n",
    "* Campaign Data\n",
    "   * Basic campaign information\n",
    "   * Surveys\n",
    "* Other site data\n",
    "   * Reference Frames\n",
    "\n",
    "#### **Instructions**\n",
    "1. Input values in __*Update these Values*__ section\n",
    "   * For a new section, enter all known values, including a start and end date. If a start and end date is not changed from \"1900\", then it will not be added into the json\n",
    "   * For updating an existing section, update only the values you wish to change. Leave all other fields empty or as they are.\n",
    "2. Run the cell and check the printed JSON input is correct.\n",
    "3. Use the buttons provided to add or update the campaign.\n",
    "\n",
    "If you need to see the site class object at any time in the process, scroll to the **Write out JSON file** section at the bottom and run the cell that checks the output. \n"
   ]
  },
  {
   "cell_type": "code",
   "execution_count": null,
   "id": "c48e8501",
   "metadata": {},
   "outputs": [],
   "source": [
    "# View current Site file\n",
    "\n",
    "print(json.dumps(site_class.to_dict(), indent=2))"
   ]
  },
  {
   "cell_type": "markdown",
   "id": "1d4af6b5",
   "metadata": {},
   "source": [
    "\n",
    "## **Required site specific metadata**\n",
    "***"
   ]
  },
  {
   "cell_type": "markdown",
   "id": "8bf012ec",
   "metadata": {},
   "source": [
    "### Benchmarks\n",
    "Adding multiple benchmarks\n",
    "1. Add first benchmark by inputing benchmark information\n",
    "2. Run cell and click \"Add New Benchmark\" and confirm by viewing the output\n",
    "3. Enter second benchmark information and rerun the cell to generate widgets\n",
    "4. Click \"Add New Benchmark\"\n",
    "5. Repeat as needed"
   ]
  },
  {
   "cell_type": "code",
   "execution_count": null,
   "id": "12c528a8",
   "metadata": {},
   "outputs": [],
   "source": [
    "benchmark = {'dropPointLocation': {}, 'aPrioriLocation': {}}\n",
    "# ----------------------- Update these values ----------------------- \n",
    "# Benchmark information\n",
    "benchmark_name = \"IVB1-2\"                 # \"IVB1-1\" - REQUIRED\n",
    "benchmark['benchmarkID'] = \"\"          # stamped on name\n",
    "\n",
    "# Enter start and end of benchmark, if only a start date, do not update the end date\n",
    "benchmark_start = '1900-01-01T00:00:00'\n",
    "benchmark_end = '1900-01-01T00:00:00'\n",
    "\n",
    "# Drop points\n",
    "benchmark['dropPointLocation']['latitude'] = \"\"         # latitude of benchmark drop point\n",
    "benchmark['dropPointLocation']['longitude'] = \"\"        # longitude of benchmark drop point\n",
    "benchmark['dropPointLocation']['elevation'] = \"\"        # elevation of benchmark drop point\n",
    "\n",
    "# Apriori locations  # todo this is a list.. should it be?\n",
    "benchmark['aPrioriLocation']['latitude'] = \"\"          # latitude of benchmark drop point\n",
    "benchmark['aPrioriLocation']['longitude']  = \"\"        # longitude of benchmark drop point\n",
    "benchmark['aPrioriLocation']['elevation']  = \"\"        # elevation of benchmark drop point\n",
    "\n",
    "# **todo should there be a start and end apriori\n",
    "\n",
    "# ----------------------- Do not update code below ----------------------- \n",
    "benchmark = start_and_end_dates(start_date=benchmark_start, end_date=benchmark_end, dict_to_update=benchmark)\n",
    "\n",
    "# Button actions\n",
    "bench_output = widgets.Output()\n",
    "display(widgets.HBox([buttons['new_benchmark'], buttons['existing_benchmark'], buttons['delete_benchmark']]), bench_output)\n",
    "buttons['new_benchmark'].on_click(functools.partial(site_class.new_benchmark, benchmark_name, benchmark, bench_output))\n",
    "buttons['existing_benchmark'].on_click(functools.partial(site_class.update_existing_benchmark, benchmark_name, benchmark, bench_output))\n",
    "buttons['delete_benchmark'].on_click(functools.partial(site_class.delete_benchmark, benchmark_name, bench_output))"
   ]
  },
  {
   "cell_type": "markdown",
   "id": "d68b8b6d",
   "metadata": {},
   "source": [
    "### Benchmark transponder\n",
    "\n",
    "This section defaults to use the previous benchmark input, if you wish to add the transponder information to a different benchmark, change the default `transponder_benchmark_name`\n",
    "\n",
    "[Optional]: Add associated battery voltage or extra sensor by changing the `add_sensor` or `add_battery_voltage` booleans to `true`"
   ]
  },
  {
   "cell_type": "code",
   "execution_count": null,
   "id": "f3ea2551",
   "metadata": {},
   "outputs": [],
   "source": [
    "transponder = {}\n",
    "# ----------------------- Update these values ----------------------- \n",
    "# Change this if you didn't previously add a benchmark or wish to add to a different benchmark\n",
    "transponder_benchmark_name = benchmark_name\n",
    "transponder_address = \"\"                      # e.g 5209 - REQUIRED\n",
    "\n",
    "# Other transponder information\n",
    "transponder['uid'] = \"\"                       # UID of transponder\n",
    "transponder['model'] = \"\"                     # transponder model number\n",
    "transponder['serialNumber'] = \"\"              # transponder serial number\n",
    "transponder['batteryCapacity'] = \"\"           # e.g 4 Ah\n",
    "transponder['tat'] = \"\"                       # TAT in ms\n",
    "\n",
    "# Optional: Add the start and end dates\n",
    "transponder_start = '2021-01-01T00:00:00'\n",
    "transponder_end = '1900-01-01T00:00:00'\n",
    "\n",
    "# Optional: Add any notable events if applicable\n",
    "notes = \"\"\n",
    "\n",
    "# Optional:  Add battery voltage # TODO can these be added more than once? SHould we just take it out?\n",
    "add_battery_voltage = False          # set to True if adding a voltage \n",
    "voltage_date = '1900-01-01T00:00:00'\n",
    "voltage_value = 0                    # e.g 12.0\n",
    "\n",
    "# Optional: Add extra sensor\n",
    "add_sensor = False                  # set to True if adding a sensor\n",
    "sensor_type = \"\"                     # e.g \"pressure\"\n",
    "sensor_model_number = \"\"             # pressure sensor model number\n",
    "sensor_serial_number = \"\"            # pressure sensor serial number\n",
    "\n",
    "# ----------------------- Do not update code below ----------------------- \n",
    "if add_battery_voltage:\n",
    "    print(\"adding battery voltage\")\n",
    "    transponder['batteryVoltage'] = [{}]\n",
    "    transponder['batteryVoltage'][0]['date'] = voltage_date.strftime('%Y-%m-%dT%H:%M:%S')\n",
    "    transponder['batteryVoltage'][0]['voltage'] = voltage_value\n",
    "    \n",
    "if add_sensor:\n",
    "    print(\"adding sensor\")\n",
    "    transponder['extraSensors'] = [{}]\n",
    "    transponder['extraSensors'][0]['type'] = sensor_type\n",
    "    transponder['extraSensors'][0]['model'] = sensor_model_number\n",
    "    transponder['extraSensors'][0]['serialNumber'] = sensor_serial_number\n",
    "\n",
    "transponder = start_and_end_dates(start_date=transponder_start, end_date=transponder_end,  dict_to_update=transponder)\n",
    "\n",
    "# Button actions\n",
    "tran_output = widgets.Output()\n",
    "display(widgets.HBox([buttons['new_transponder'], buttons['existing_transponder'], buttons['delete_transponder']]), tran_output)\n",
    "buttons['new_transponder'].on_click(functools.partial(site_class.new_transponder, transponder_benchmark_name, transponder_address, transponder, tran_output))\n",
    "buttons['existing_transponder'].on_click(functools.partial(site_class.update_existing_transponder, transponder_benchmark_name, transponder_address, transponder, tran_output))\n",
    "buttons['delete_transponder'].on_click(functools.partial(site_class.delete_transponder, transponder_benchmark_name, transponder_address, tran_output))"
   ]
  },
  {
   "cell_type": "markdown",
   "id": "b703a9c6",
   "metadata": {},
   "source": [
    "## **Campaign Data**\n",
    "***\n",
    "### Campaign information"
   ]
  },
  {
   "cell_type": "code",
   "execution_count": null,
   "id": "d4bdb7a1",
   "metadata": {},
   "outputs": [],
   "source": [
    "campaign = {}\n",
    "# ----------------------- Update these values ----------------------- \n",
    "\n",
    "# Generate the campaign name (Required)\n",
    "campaign_year = \"2024\"              # Year of campaign - eg. 2024\n",
    "campaign_interval = \"a\"          # alphabetical interval of campaign - 1st: a, 2nd: b, etc..\n",
    "vessel_code = \"1234\"                # 4 digit vessel code - references vessel metadata\n",
    "\n",
    "# Enter information known about the people and vessels involved in the campaign\n",
    "campaign['type'] = \"123\"                         # type of campaign: deploy | measure \n",
    "campaign['launchVesselName'] = \"\"             # launch vessel name used in campaign\n",
    "campaign['recoveryVesselName'] = \"\"           # recovery vessel name used in campaign\n",
    "campaign['principalInvestigator'] = \"\"        # PI name \n",
    "campaign['cruiseName'] = \"\"                   # Name of cruise\n",
    "campaign['technicianName'] = \"\"               # technician name\n",
    "campaign['technicianContact'] = \"blah\"            # technician contact information (email/phone)\n",
    "\n",
    "# Enter the start/end date & time of the campaign \n",
    "campaign_start = '1900-01-01T00:00:00'\n",
    "campaign_end = '1900-01-01T00:00:00'\n",
    "\n",
    "# ----------------------- Do not update code below ----------------------- \n",
    "campaign_name, campaign['vesselCode'] = campaign_checks(campaign_year, campaign_interval, vessel_code)\n",
    "campaign = start_and_end_dates(start_date=campaign_start, end_date=campaign_end, dict_to_update=campaign)\n",
    "\n",
    "# Button actions \n",
    "camp_output = widgets.Output()\n",
    "display(widgets.HBox([buttons['new_campaign'], buttons['existing_campaign'], buttons['delete_campaign']]), camp_output)\n",
    "buttons['new_campaign'].on_click(functools.partial(site_class.new_campaign, campaign_name, campaign, camp_output))\n",
    "buttons['existing_campaign'].on_click(functools.partial(site_class.update_existing_campaign, campaign_name, campaign, camp_output))\n",
    "buttons['delete_campaign'].on_click(functools.partial(site_class.delete_campaign, campaign_name, camp_output)) # TODO: not working right"
   ]
  },
  {
   "cell_type": "markdown",
   "id": "573a5f8b",
   "metadata": {},
   "source": [
    "### Campaign Survey\n",
    "\n",
    "The code below assumes the survey was part of an campaign and with a survey vessel entered above. If you wish to add to a different campaign / survey vessel, change the `survey_campaign_name` and `survey['vesselName']` variables from the defaults."
   ]
  },
  {
   "cell_type": "code",
   "execution_count": null,
   "id": "515e9606",
   "metadata": {},
   "outputs": [],
   "source": [
    "survey = {}\n",
    "# ----------------------- Update these values ----------------------- \n",
    " # Change this if you didn't previously add a campaign or wish to add to a different campaign\n",
    "survey_campaign_name = campaign_name       \n",
    "\n",
    "# Only Update this value to the survey ID if you wish to update an existing survey, find the survey ID and input (Fromat YYYY_A_GLDR_1)\n",
    "survey_id = ''                 # campaign_name + interval e.g 2024_A_GLDR_1\n",
    "\n",
    "survey['pattern'] = ''             # e.g cirle drive | fixed point | mixed\n",
    "survey['benchmarkIDs'] = []        # List of benchmark IDs in survey['IVB1-1', 'IVB1-2', 'IVB1-3']\n",
    "\n",
    "# Enter the start and end date/time of the survey\n",
    "survey_start = '1900-01-01T00:00:00'\n",
    "survey_end = '1900-01-01T00:00:00'\n",
    "\n",
    "# Add any notes or commands\n",
    "survey['commands'] = ''                  # log of commands for a given survey\n",
    "survey['notes'] = ''                    # i.e any strange data flags\n",
    "\n",
    "    \n",
    "# ----------------------- Do not update code below -----------------------    \n",
    "survey = start_and_end_dates(start_date=survey_start, end_date=survey_end, dict_to_update=survey)\n",
    "\n",
    "# Button actions\n",
    "survey_output = widgets.Output()\n",
    "display(widgets.HBox([buttons['new_survey'], buttons['existing_survey'], buttons['delete_survey']]), survey_output)\n",
    "buttons['new_survey'].on_click(functools.partial(site_class.new_survey, survey_campaign_name, survey, survey_output))\n",
    "buttons['existing_survey'].on_click(functools.partial(site_class.update_existing_survey, survey_campaign_name, survey_id, survey, survey_utput))\n",
    "buttons['delete_survey'].on_click(functools.partial(site_class.delete_survey, survey_campaign_name, survey_id, survey_output))"
   ]
  },
  {
   "cell_type": "markdown",
   "id": "8b163293",
   "metadata": {},
   "source": [
    "## Other Site Specific Data\n",
    "### Reference frames\n",
    "\n",
    "Add reference frame name and start and end dates used (optional)"
   ]
  },
  {
   "cell_type": "code",
   "execution_count": null,
   "id": "b3d17197",
   "metadata": {},
   "outputs": [],
   "source": [
    "reference_frame = {}\n",
    "# ----------------------- Update these values ----------------------- \n",
    "reference_frame_name = \"ITRF2008\"         # e.g ITRF2008\n",
    "\n",
    "# Enter the start/end date & time of the reference frame in ISO string format\n",
    "ref_start = '1900-01-01T00:00:00'\n",
    "ref_end = '1900-01-01T00:00:00'\n",
    "\n",
    "# ---------------------- Do not update code below ---------------------\n",
    "reference_frame = start_and_end_dates(start_date=ref_start, \n",
    "                                      end_date=ref_end, \n",
    "                                      dict_to_update=reference_frame)\n",
    "# Button actions\n",
    "# Initialize separate output widgets for each button\n",
    "output_new_ref = widgets.Output()\n",
    "output_existing_ref = widgets.Output()\n",
    "output_delete_ref = widgets.Output()\n",
    "\n",
    "ref_output = widgets.Output()\n",
    "display(widgets.HBox([buttons['new_ref'], buttons['existing_ref'], buttons['delete_ref']], ref_output))\n",
    "buttons['new_ref'].on_click(functools.partial(site_class.new_reference_frame, reference_frame_name, reference_frame, ref_output))\n",
    "buttons['existing_ref'].on_click(functools.partial(site_class.update_existing_reference_frame, reference_frame_name, reference_frame, ref_output))\n",
    "buttons['delete_ref'].on_click(functools.partial(site_class.delete_reference_frame, rreference_frame_name, ref_output))"
   ]
  },
  {
   "cell_type": "markdown",
   "id": "99666369",
   "metadata": {},
   "source": [
    "# Write out JSON file\n",
    "***\n",
    "This step can be completed at any time.\n",
    "\n",
    "* First check the contents..."
   ]
  },
  {
   "cell_type": "code",
   "execution_count": null,
   "id": "c3dde637-d315-4a76-824c-794c792de426",
   "metadata": {},
   "outputs": [],
   "source": [
    "print(json.dumps(site_class.to_dict(), indent=2))"
   ]
  },
  {
   "cell_type": "markdown",
   "id": "0159eb31-b567-45e1-b88f-adb6847553a1",
   "metadata": {},
   "source": [
    "## Export Site to file"
   ]
  },
  {
   "cell_type": "code",
   "execution_count": null,
   "id": "ed555100",
   "metadata": {},
   "outputs": [],
   "source": [
    "SITE_4_CHAR_ID = \"\" # 4 char site ID\n",
    "\n",
    "if not SITE_4_CHAR_ID:\n",
    "    raise ValueError(\"Please enter a 4 char site ID\")\n",
    "file_path = f\"./{SITE_4_CHAR_ID}.json\"                            # Export file path you wish to store\n",
    "site_class.export_site(file_path)"
   ]
  }
 ],
 "metadata": {
  "kernelspec": {
   "display_name": "seafloor_geodesy",
   "language": "python",
   "name": "python3"
  },
  "language_info": {
   "codemirror_mode": {
    "name": "ipython",
    "version": 3
   },
   "file_extension": ".py",
   "mimetype": "text/x-python",
   "name": "python",
   "nbconvert_exporter": "python",
   "pygments_lexer": "ipython3",
   "version": "3.11.10"
  }
 },
 "nbformat": 4,
 "nbformat_minor": 5
}
