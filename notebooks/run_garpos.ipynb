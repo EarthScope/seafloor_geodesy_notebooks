{
 "cells": [
  {
   "cell_type": "markdown",
   "id": "da2efe00-6b9a-497f-9faa-725c79ebe605",
   "metadata": {},
   "source": [
    "## This notebook demonstrates how to run the [GARPOS](https://github.com/s-watanabe-jhod/garpos) software in the EarthScope GeoLab cloud environment.  \n",
    "04-29-2025"
   ]
  },
  {
   "cell_type": "markdown",
   "id": "57577d14-992a-4646-8b87-0c58868e2c9d",
   "metadata": {},
   "source": [
    "### GeoLab Basics\n",
    "\n",
    "GeoLab is the name of EarthScope's Jupyter Hub, which allows users to run code via Jupyter notebooks (or in a terminal) on EarthScope resources in AWS.  \n",
    "\n",
    "The `sfg-geolab` image comes pre-loaded with the software needed to process GNSS-A data. Each user has their own home directory `/home/jovyan` that is mounted to \n",
    "the image and any files kept there are accessibile only to that user and remain during future sessions.  \n",
    "\n",
    "### Data \n",
    "For the purposes of this GARPOS demo, we have pre-processed some `cascadia-gorda` data and stored the shot data in an S3 bucket accessible to all users of the GeoLab hub.\n",
    "\n",
    "Raw data is available via authenticated https from [https://data.earthscope.org/archive/seafloor](https://data.earthscope.org/archive/seafloor).  Where pre-processed data is not available, or you want to create your own, you would use the `data_preprocessing.ipynb` notebook first to generate a copy within your user directory on the hub.  \n",
    "\n",
    "### Metadata\n",
    "In order to simplify our interactions with the various metadata formats, we are translating all metadata into `site` and `vessel` json.  Our latest implementation stores these json (and also the sound speed profiles) in a repo called `sfg-metadata` which is pre-installed on this image, although this is still a work in progress."
   ]
  },
  {
   "cell_type": "code",
   "execution_count": 1,
   "id": "9a283b5f-f1ee-4471-b58d-db393a5a00cd",
   "metadata": {},
   "outputs": [],
   "source": [
    "#Load required modules\n",
    "from es_sfgtools.processing.pipeline.data_handler import DataHandler\n",
    "from sfg_metadata import META_DATA,GEOLAB_CATALOG\n",
    "from pathlib import Path"
   ]
  },
  {
   "cell_type": "markdown",
   "id": "777b6139-4d1b-4e3a-bd5d-9fee96515f04",
   "metadata": {},
   "source": [
    "## Select the data you are interested in running through GARPOS\n",
    "Currently we have pre-processed the following campaigns and made shot data available to this environment in a shared S3 bucket.\n",
    "\n",
    "|  | GCC1 | NBR1 | NCC1 |\n",
    "|---|---|---|---|\n",
    "| **2022** |2022_A_1065 |   |   |\n",
    "| **2023** |   | 2023_A_1063 | 2023_A_1063 |\n",
    "| **2024** |   |   | 2024_A_1126 |\n",
    "\n",
    "Unfortunately, we still have a little more work to putting together the metadata for GCC1 and NBR1, so for this demo on 4/30/25 now we only support processing NCC1"
   ]
  },
  {
   "cell_type": "code",
   "execution_count": 2,
   "id": "18c91504-ef95-4386-95b6-523ed09262d9",
   "metadata": {},
   "outputs": [
    {
     "name": "stderr",
     "output_type": "stream",
     "text": [
      "Building directory structure for cascadia-gorda NCC1 2024_A_1126\n",
      "No date range set for cascadia-gorda, NCC1, 2024_A_1126\n",
      "Building TileDB arrays for NCC1\n",
      "Changed working station to cascadia-gorda NCC1\n"
     ]
    }
   ],
   "source": [
    "#Enter the network, station, and campaign of interest\n",
    "network = \"cascadia-gorda\"\n",
    "station = \"NCC1\"\n",
    "#campaign_name = '2023_A_1063'\n",
    "campaign_name = '2024_A_1126'\n",
    "\n",
    "#Initialize a data handler object for the selected campaign, this builds local directory structures and tracks \n",
    "#where data is written\n",
    "main_dir = Path.home()/\"data\"/\"sfg\"\n",
    "dh = DataHandler(directory=main_dir,data_catalog=GEOLAB_CATALOG)\n",
    "dh.change_working_station(network=network, station=station, campaign=campaign_name)"
   ]
  },
  {
   "cell_type": "markdown",
   "id": "0633e6ba-17dc-4591-b002-cdc749edac4a",
   "metadata": {},
   "source": [
    "## Load the metadata for the selected station:\n",
    "The import statement above loads the following required metadata from that repo:\n",
    "- station metadata\n",
    "  - array center\n",
    "  - benchmark/transponder info\n",
    "  - campaign/survey times\n",
    "- vessel metadata\n",
    "  - ATD offset\n",
    "- sound speed data"
   ]
  },
  {
   "cell_type": "code",
   "execution_count": 3,
   "id": "6ef2fc0f-54ef-4d10-b726-eb851f190b24",
   "metadata": {},
   "outputs": [
    {
     "name": "stdout",
     "output_type": "stream",
     "text": [
      "The campaign NCC1 2024_A_1126 contains 6 survey patterns\n",
      "  Survey Name: 2024_A_1126_1\n",
      "     Survey Type: circle drive \n",
      "     2024-09-22 18:30:00 to 2024-09-23 16:35:00\n",
      "  Survey Name: 2024_A_1126_2\n",
      "     Survey Type: center \n",
      "     2024-09-26 17:00:00 to 2024-10-08 15:00:00\n",
      "  Survey Name: 2024_A_1126_3\n",
      "     Survey Type: move around GARPOS 2R\n",
      "     2024-10-09 08:00:00 to 2024-10-10 20:00:00\n",
      "  Survey Name: 2024_A_1126_4\n",
      "     Survey Type: move around GARPOS 1.5R, payload crashed 20:03, back on track where survey cut out at 3:00\n",
      "     2024-10-11 02:30:00 to 2024-10-12 05:16:00\n",
      "  Survey Name: 2024_A_1126_5\n",
      "     Survey Type: move around GARPOS 1R\n",
      "     2024-10-13 00:16:00 to 2024-10-13 21:36:00\n",
      "  Survey Name: 2024_A_1126_6\n",
      "     Survey Type: circle drive \n",
      "     2024-10-14 04:27:00 to 2024-10-14 17:07:00\n"
     ]
    }
   ],
   "source": [
    "#Load the metadata and view what surveys are in the selected campaign\n",
    "station_meta = META_DATA.networks[network].stations[station]\n",
    "for campaign in station_meta.campaigns:\n",
    "    if campaign.name == campaign_name:\n",
    "        surveys = campaign.surveys\n",
    "        print(f\"The campaign {station} {campaign.name} contains {len(surveys)} survey patterns\")\n",
    "        for survey in surveys:\n",
    "            print(f\"  Survey Name: {survey.id}\")\n",
    "            print(f\"     Survey Type: {survey.type} {survey.notes if survey.notes is not None else ''}\")\n",
    "            print(f\"     {survey.start} to {survey.end}\")"
   ]
  },
  {
   "cell_type": "markdown",
   "id": "b4c748ef-5b27-43b3-9b02-c8a189e075d3",
   "metadata": {},
   "source": [
    "## Set up the GARPOS runs\n",
    "\n",
    "This section prepares the input files needed to run GARPOS.  We are batching GARPOS runs by survey, so this step generates a set of files for each of the surveys listed above.\n",
    "\n",
    "Data files (input files and results) will be stored in the locally mounted filesystem under \n",
    "\n",
    "`/home/joyvan/data/sfg/[network]/[station]/GARPOS/[campaign_name]/[survey_name]`"
   ]
  },
  {
   "cell_type": "code",
   "execution_count": 4,
   "id": "59bcf9da-bd34-44bc-a30c-ce47f769ca43",
   "metadata": {},
   "outputs": [
    {
     "name": "stderr",
     "output_type": "stream",
     "text": [
      "Garpos Handler initialized with working directory: /home/jovyan/data/sfg/cascadia-gorda/NCC1/GARPOS\n",
      "Campaign 2024_A_1126 set. Current campaign directory: /home/jovyan/data/sfg/cascadia-gorda/NCC1/GARPOS/2024_A_1126\n"
     ]
    }
   ],
   "source": [
    "#Initialize a garpos handler object, this is used to prep data and run the GARPOS software\n",
    "gp_handler = dh.get_garpos_handler(site_data=station_meta)\n",
    "gp_handler.set_campaign(campaign_name)"
   ]
  },
  {
   "cell_type": "code",
   "execution_count": 5,
   "id": "e05be2cf-52bc-441e-a2fe-a4595b14d67d",
   "metadata": {},
   "outputs": [
    {
     "name": "stderr",
     "output_type": "stream",
     "text": [
      "Preparing shot data\n",
      "Shot data prepared and saved to /home/jovyan/data/sfg/cascadia-gorda/NCC1/GARPOS/2024_A_1126/2024_A_1126_1/2024_A_1126_1_circledrive.csv\n",
      "Preparing shot data\n",
      "Shot data prepared and saved to /home/jovyan/data/sfg/cascadia-gorda/NCC1/GARPOS/2024_A_1126/2024_A_1126_2/2024_A_1126_2_center.csv\n",
      "Preparing shot data\n",
      "Shot data prepared and saved to /home/jovyan/data/sfg/cascadia-gorda/NCC1/GARPOS/2024_A_1126/2024_A_1126_3/2024_A_1126_3_movearound.csv\n",
      "Preparing shot data\n",
      "Shot data prepared and saved to /home/jovyan/data/sfg/cascadia-gorda/NCC1/GARPOS/2024_A_1126/2024_A_1126_4/2024_A_1126_4_movearound.csv\n",
      "Preparing shot data\n",
      "Shot data prepared and saved to /home/jovyan/data/sfg/cascadia-gorda/NCC1/GARPOS/2024_A_1126/2024_A_1126_5/2024_A_1126_5_movearound.csv\n"
     ]
    },
    {
     "name": "stdout",
     "output_type": "stream",
     "text": [
      "No transponders found for survey 2024_A_1126_6\n"
     ]
    }
   ],
   "source": [
    "# Load the shot_data from the shared S3 bucket and write out the garpos obs input files\n",
    "gp_handler.prep_shotdata(overwrite=True)\n"
   ]
  },
  {
   "cell_type": "code",
   "execution_count": 6,
   "id": "f3c0bbd8-5c09-4efb-bfb3-b9b8cb95fb50",
   "metadata": {
    "scrolled": true
   },
   "outputs": [
    {
     "name": "stderr",
     "output_type": "stream",
     "text": [
      "Inversion Parameters:\n",
      "  spline_degree : 3\n",
      "  log_lambda : [-2]\n",
      "  log_gradlambda : -1\n",
      "  mu_t : [0.0]\n",
      "  mu_mt : [0.5]\n",
      "  knotint0 : 5\n",
      "  knotint1 : 0\n",
      "  knotint2 : 0\n",
      "  rejectcriteria : 2\n",
      "  inversiontype : InversionType.positions\n",
      "  positionalOffset : [0.0, 0.0, 0.0]\n",
      "  traveltimescale : 0.0001\n",
      "  maxloop : 100\n",
      "  convcriteria : 0.005\n",
      "  deltap : 1e-06\n",
      "  deltab : 1e-06\n",
      "  delta_center_position : \n",
      "    east : 0\n",
      "    north : 0\n",
      "    up : 0\n",
      "    east_sigma : 1.0\n",
      "    north_sigma : 1.0\n",
      "    up_sigma : 0\n",
      "    cov_nu : 0\n",
      "    cov_ue : 0\n",
      "    cov_en : 0\n"
     ]
    }
   ],
   "source": [
    "#View the default GARPOS inversion parameters\n",
    "gp_handler.garpos_fixed.inversion_params.show_params()"
   ]
  },
  {
   "cell_type": "code",
   "execution_count": 7,
   "id": "3c27db0c-8665-4a92-9d33-01496e55220e",
   "metadata": {},
   "outputs": [
    {
     "name": "stderr",
     "output_type": "stream",
     "text": [
      "Inversion Parameters:\n",
      "  spline_degree : 3\n",
      "  log_lambda : [0]\n",
      "  log_gradlambda : -1\n",
      "  mu_t : [0.0]\n",
      "  mu_mt : [0.5]\n",
      "  knotint0 : 5\n",
      "  knotint1 : 0\n",
      "  knotint2 : 0\n",
      "  rejectcriteria : 2.5\n",
      "  inversiontype : InversionType.positions\n",
      "  positionalOffset : [0.0, 0.0, 0.0]\n",
      "  traveltimescale : 0.0001\n",
      "  maxloop : 100\n",
      "  convcriteria : 0.005\n",
      "  deltap : 1e-06\n",
      "  deltab : 1e-06\n",
      "  delta_center_position : \n",
      "    east : 0\n",
      "    north : 0\n",
      "    up : 0\n",
      "    east_sigma : 1.0\n",
      "    north_sigma : 1.0\n",
      "    up_sigma : 0\n",
      "    cov_nu : 0\n",
      "    cov_ue : 0\n",
      "    cov_en : 0\n"
     ]
    }
   ],
   "source": [
    "# Modify GARPOS parameters if desired\n",
    "update_dict = {\n",
    "                \"rejectcriteria\": 2.5,\n",
    "                \"log_lambda\":[0]\n",
    "            }\n",
    "gp_handler.set_inversion_params(update_dict)\n",
    "gp_handler.garpos_fixed.inversion_params.show_params()"
   ]
  },
  {
   "cell_type": "markdown",
   "id": "270dfbc3-3fae-400b-9c8f-cd5a1e00267e",
   "metadata": {},
   "source": [
    "## Run GARPOS\n",
    "This will loop through all the surveys in the campaign and run GARPOS on each.  \n",
    "\n",
    "You can change the above inversion parameters and run again to compare results, but make sure to increment run_id so that the results are stored in a new directory."
   ]
  },
  {
   "cell_type": "code",
   "execution_count": null,
   "id": "b1e6c51c-19c5-4ea7-bdd1-763799033d47",
   "metadata": {},
   "outputs": [
    {
     "name": "stderr",
     "output_type": "stream",
     "text": [
      "Running GARPOS model. Run ID: 0\n",
      "Current survey set to: 2024_A_1126_1\n",
      "Running GARPOS model for NCC1, 2024_A_1126_1. Run ID: 0\n"
     ]
    },
    {
     "name": "stdout",
     "output_type": "stream",
     "text": [
      "            suffix  lamb0  lgrad  mu_t  mu_m\n",
      "0  2024_A_1126_1_0    1.0    0.1   0.0   0.5\n",
      "Inversion loop 001, RMS(TT) =  27.783356 ms, used_shot =  98.8%, reject =   61, Max(dX) =    10.0000, Hgt =   -980.985\n",
      "Inversion loop 002, RMS(TT) =  27.504130 ms, used_shot =  98.6%, reject =   69, Max(dX) =    10.0000, Hgt =   -980.985\n",
      "Inversion loop 003, RMS(TT) =  27.224894 ms, used_shot =  98.6%, reject =   72, Max(dX) =    10.0000, Hgt =   -980.985\n",
      "Inversion loop 004, RMS(TT) =  26.943528 ms, used_shot =  98.5%, reject =   74, Max(dX) =    10.0000, Hgt =   -980.985\n"
     ]
    }
   ],
   "source": [
    "run_id = 0\n",
    "for survey in surveys:\n",
    "    gp_handler.run_garpos(campaign_id=campaign_name,survey_id=survey.id,run_id=run_id,override=True)"
   ]
  },
  {
   "cell_type": "markdown",
   "id": "0ffb7a6c-89f6-4f62-89b5-4dca99ddf7e7",
   "metadata": {},
   "source": [
    "## Plot results"
   ]
  },
  {
   "cell_type": "code",
   "execution_count": null,
   "id": "3d3a32f5-51b2-4848-9790-12b56984b774",
   "metadata": {},
   "outputs": [],
   "source": [
    "%matplotlib widget\n",
    "survey_name = surveys[0].id\n",
    "gp_handler.plot_ts_results(campaign_name=campaign_name,survey_id=survey_name,run_id=0)"
   ]
  },
  {
   "cell_type": "code",
   "execution_count": null,
   "id": "b136c9a9-7c19-4cba-b3d5-599d9999ab26",
   "metadata": {},
   "outputs": [],
   "source": []
  }
 ],
 "metadata": {
  "kernelspec": {
   "display_name": "Python 3 (ipykernel)",
   "language": "python",
   "name": "python3"
  },
  "language_info": {
   "codemirror_mode": {
    "name": "ipython",
    "version": 3
   },
   "file_extension": ".py",
   "mimetype": "text/x-python",
   "name": "python",
   "nbconvert_exporter": "python",
   "pygments_lexer": "ipython3",
   "version": "3.11.12"
  }
 },
 "nbformat": 4,
 "nbformat_minor": 5
}
