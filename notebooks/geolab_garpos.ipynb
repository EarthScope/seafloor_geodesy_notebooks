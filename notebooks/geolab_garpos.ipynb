{
 "cells": [
  {
   "cell_type": "code",
   "execution_count": 15,
   "id": "9a283b5f-f1ee-4471-b58d-db393a5a00cd",
   "metadata": {},
   "outputs": [],
   "source": [
    "from es_sfgtools.processing.pipeline.data_handler import DataHandler\n",
    "from es_sfgtools.utils.loggers import BaseLogger\n",
    "from sfg_metadata import META_DATA,GEOLAB_CATALOG\n",
    "from pathlib import Path\n"
   ]
  },
  {
   "cell_type": "code",
   "execution_count": 2,
   "id": "4be728ae-e1ac-4a47-bad6-4c25f3b7d5c3",
   "metadata": {},
   "outputs": [],
   "source": [
    "main_dir = Path.home()/\"data\"/\"sfg\"\n",
    "dh = DataHandler(main_dir,GEOLAB_CATALOG)"
   ]
  },
  {
   "cell_type": "code",
   "execution_count": 16,
   "id": "488f7d9f-09ba-4cea-bf26-63f69d39db30",
   "metadata": {},
   "outputs": [
    {
     "name": "stderr",
     "output_type": "stream",
     "text": [
      "Building directory structure for cascadia-gorda NCC1 2023_A_1063\n",
      "Building directory structure for cascadia-gorda NCC1 2023_A_1063\n",
      "No date range set for cascadia-gorda, NCC1, 2023_A_1063\n",
      "No date range set for cascadia-gorda, NCC1, 2023_A_1063\n",
      "Building TileDB arrays for NCC1\n",
      "Building TileDB arrays for NCC1\n"
     ]
    },
    {
     "name": "stdout",
     "output_type": "stream",
     "text": [
      "Consolidated TBD Array to None\n",
      "Consolidated GNSS Data to None\n",
      "Consolidated TBD Array to None\n",
      "Consolidated Shot Data to None\n"
     ]
    },
    {
     "name": "stderr",
     "output_type": "stream",
     "text": [
      "Changed working station to cascadia-gorda NCC1\n",
      "Changed working station to cascadia-gorda NCC1\n"
     ]
    },
    {
     "name": "stdout",
     "output_type": "stream",
     "text": [
      "Consolidated TBD Array to None\n"
     ]
    }
   ],
   "source": [
    "network = \"cascadia-gorda\"\n",
    "station = \"NCC1\"\n",
    "campaign = '2023_A_1063'\n",
    "NCC1 = META_DATA.networks[network].stations[station]\n",
    "\n",
    "dh.change_working_station(network=network, station=station, campaign=campaign)\n",
    "gp_handler_ncc1 = dh.get_garpos_handler(site_data=NCC1)"
   ]
  },
  {
   "cell_type": "code",
   "execution_count": 18,
   "id": "2f4074f2-5078-402e-a1c8-71249b8a597c",
   "metadata": {},
   "outputs": [],
   "source": [
    "gp_handler_ncc1.set_campaign(campaign)\n",
    "\n",
    "gp_handler_ncc1.prep_shotdata(overwrite=False)\n",
    "\n",
    "update_dict = {\"rejectcriteria\": 2.5,\"log_lambda\":[0]}\n",
    "\n",
    "gp_handler_ncc1.set_inversion_params(update_dict)"
   ]
  },
  {
   "cell_type": "code",
   "execution_count": null,
   "id": "b1e6c51c-19c5-4ea7-bdd1-763799033d47",
   "metadata": {},
   "outputs": [
    {
     "name": "stderr",
     "output_type": "stream",
     "text": [
      "Running GARPOS model for date(s) provided. Run ID: 0\n",
      "Running GARPOS model for date(s) provided. Run ID: 0\n",
      "Running GARPOS model for 2023_A_1063, . Run ID: 0\n",
      "Running GARPOS model for 2023_A_1063, . Run ID: 0\n"
     ]
    },
    {
     "name": "stdout",
     "output_type": "stream",
     "text": [
      "Running GARPOS for 2023_A_1063, \n",
      "           suffix  lamb0  lgrad  mu_t  mu_m\n",
      "0  2023_A_1063__0    1.0    0.1   0.0   0.5\n",
      "Inversion loop 001, RMS(TT) =  21.319140 ms, used_shot = 100.0%, reject =    0, Max(dX) =    10.0000, Hgt =   -982.693\n",
      "Inversion loop 002, RMS(TT) =  20.610642 ms, used_shot = 100.0%, reject =    0, Max(dX) =    10.0000, Hgt =   -982.693\n",
      "Inversion loop 003, RMS(TT) =  19.903381 ms, used_shot = 100.0%, reject =    2, Max(dX) =    10.0000, Hgt =   -982.693\n",
      "Inversion loop 004, RMS(TT) =  19.194160 ms, used_shot =  99.9%, reject =    8, Max(dX) =    10.0000, Hgt =   -982.693\n",
      "Inversion loop 005, RMS(TT) =  18.479824 ms, used_shot =  99.8%, reject =   20, Max(dX) =    10.0000, Hgt =   -982.693\n",
      "Inversion loop 006, RMS(TT) =  17.778495 ms, used_shot =  99.7%, reject =   30, Max(dX) =    10.0000, Hgt =   -982.693\n",
      "Inversion loop 007, RMS(TT) =  17.088735 ms, used_shot =  99.6%, reject =   39, Max(dX) =    10.0000, Hgt =   -982.693\n",
      "Inversion loop 008, RMS(TT) =  16.410281 ms, used_shot =  99.5%, reject =   48, Max(dX) =    10.0000, Hgt =   -982.693\n",
      "Inversion loop 009, RMS(TT) =  15.740477 ms, used_shot =  99.4%, reject =   58, Max(dX) =    10.0000, Hgt =   -982.693\n",
      "Inversion loop 010, RMS(TT) =  15.093515 ms, used_shot =  99.4%, reject =   62, Max(dX) =    10.0000, Hgt =   -982.693\n",
      "Inversion loop 011, RMS(TT) =  14.458043 ms, used_shot =  99.3%, reject =   67, Max(dX) =    10.0000, Hgt =   -982.693\n",
      "Inversion loop 012, RMS(TT) =  13.832264 ms, used_shot =  99.2%, reject =   75, Max(dX) =    10.0000, Hgt =   -982.693\n",
      "Inversion loop 013, RMS(TT) =  13.231280 ms, used_shot =  99.2%, reject =   79, Max(dX) =    10.0000, Hgt =   -982.693\n",
      "Inversion loop 014, RMS(TT) =  12.634901 ms, used_shot =  99.1%, reject =   91, Max(dX) =    10.0000, Hgt =   -982.693\n",
      "Inversion loop 015, RMS(TT) =  12.062578 ms, used_shot =  99.0%, reject =  101, Max(dX) =    10.0000, Hgt =   -982.693\n",
      "Inversion loop 016, RMS(TT) =  11.519735 ms, used_shot =  98.9%, reject =  109, Max(dX) =    10.0000, Hgt =   -982.693\n",
      "Inversion loop 017, RMS(TT) =  11.012635 ms, used_shot =  98.8%, reject =  113, Max(dX) =    10.0000, Hgt =   -982.693\n",
      "Inversion loop 018, RMS(TT) =  10.535468 ms, used_shot =  98.8%, reject =  118, Max(dX) =    10.0000, Hgt =   -982.693\n",
      "Inversion loop 019, RMS(TT) =  10.095416 ms, used_shot =  98.7%, reject =  123, Max(dX) =    10.0000, Hgt =   -982.693\n",
      "Inversion loop 020, RMS(TT) =   9.691507 ms, used_shot =  98.7%, reject =  130, Max(dX) =    10.0000, Hgt =   -982.693\n",
      "Inversion loop 021, RMS(TT) =   9.325466 ms, used_shot =  98.6%, reject =  142, Max(dX) =    10.0000, Hgt =   -982.693\n",
      "Inversion loop 022, RMS(TT) =   9.017514 ms, used_shot =  98.5%, reject =  151, Max(dX) =    10.0000, Hgt =   -982.693\n",
      "Inversion loop 023, RMS(TT) =   8.740486 ms, used_shot =  98.2%, reject =  173, Max(dX) =    10.0000, Hgt =   -982.693\n",
      "Inversion loop 024, RMS(TT) =   8.524538 ms, used_shot =  98.0%, reject =  196, Max(dX) =    10.0000, Hgt =   -982.693\n",
      "Inversion loop 025, RMS(TT) =   8.374242 ms, used_shot =  97.8%, reject =  217, Max(dX) =    10.0000, Hgt =   -982.693\n",
      "Inversion loop 026, RMS(TT) =   8.269351 ms, used_shot =  97.5%, reject =  249, Max(dX) =    10.0000, Hgt =   -982.693\n",
      "Inversion loop 027, RMS(TT) =   8.230737 ms, used_shot =  97.3%, reject =  268, Max(dX) =    10.0000, Hgt =   -982.693\n",
      "Inversion loop 028, RMS(TT) =   8.204316 ms, used_shot =  97.1%, reject =  282, Max(dX) =    10.0000, Hgt =   -982.693\n",
      "Inversion loop 029, RMS(TT) =   8.184813 ms, used_shot =  97.0%, reject =  293, Max(dX) =     4.9090, Hgt =   -982.693\n",
      "Inversion loop 030, RMS(TT) =   8.181453 ms, used_shot =  97.0%, reject =  295, Max(dX) =     3.5199, Hgt =   -982.693\n",
      "Inversion loop 031, RMS(TT) =   8.180053 ms, used_shot =  97.0%, reject =  296, Max(dX) =     1.4065, Hgt =   -982.693\n",
      "Inversion loop 032, RMS(TT) =   8.178348 ms, used_shot =  97.0%, reject =  297, Max(dX) =     1.4753, Hgt =   -982.693\n",
      "Inversion loop 033, RMS(TT) =   8.178310 ms, used_shot =  97.0%, reject =  297, Max(dX) =     1.1650, Hgt =   -982.693\n",
      "Inversion loop 034, RMS(TT) =   8.178310 ms, used_shot =  97.0%, reject =  297, Max(dX) =     0.0012, Hgt =   -982.693\n",
      "Inversion loop 035, RMS(TT) =   8.178310 ms, used_shot =  97.0%, reject =  297, Max(dX) =     0.0006, Hgt =   -982.693\n",
      " ABIC =      163465.026701  misfit =  505.655 2023_A_1063__0\n",
      "/home/jovyan/data/sfg/cascadia-gorda/NCC1/GARPOS/2023_A_1063/2023_A_1063_1/results/NCC1.2023_A_10632023_A_1063__0-res.dat\n"
     ]
    },
    {
     "name": "stderr",
     "output_type": "stream",
     "text": [
      "Processing GARPOS results\n",
      "Processing GARPOS results\n",
      "GARPOS results processed, returning results tuple\n",
      "GARPOS results processed, returning results tuple\n",
      "Running GARPOS model for 2023_A_1063, . Run ID: 0\n",
      "Running GARPOS model for 2023_A_1063, . Run ID: 0\n"
     ]
    },
    {
     "name": "stdout",
     "output_type": "stream",
     "text": [
      "Running GARPOS for 2023_A_1063, \n",
      "           suffix  lamb0  lgrad  mu_t  mu_m\n",
      "0  2023_A_1063__0    1.0    0.1   0.0   0.5\n"
     ]
    }
   ],
   "source": [
    "gp_handler_ncc1.run_garpos(campaign_id=campaign,run_id=0,override=True)"
   ]
  },
  {
   "cell_type": "code",
   "execution_count": null,
   "id": "9666d463-b722-4428-9833-94d2de90bfa4",
   "metadata": {},
   "outputs": [],
   "source": []
  }
 ],
 "metadata": {
  "kernelspec": {
   "display_name": "Python 3 (ipykernel)",
   "language": "python",
   "name": "python3"
  },
  "language_info": {
   "codemirror_mode": {
    "name": "ipython",
    "version": 3
   },
   "file_extension": ".py",
   "mimetype": "text/x-python",
   "name": "python",
   "nbconvert_exporter": "python",
   "pygments_lexer": "ipython3",
   "version": "3.11.12"
  }
 },
 "nbformat": 4,
 "nbformat_minor": 5
}
