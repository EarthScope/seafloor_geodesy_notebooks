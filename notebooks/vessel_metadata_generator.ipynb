{
 "cells": [
  {
   "cell_type": "markdown",
   "metadata": {},
   "source": [
    "# **Create or update Vessel Metadata File**\n",
    "\n",
    "This notebook goes through the steps necessary to update or create a new vessel metadata file."
   ]
  },
  {
   "cell_type": "markdown",
   "metadata": {},
   "source": [
    "***\n",
    "## **1. Import packages**"
   ]
  },
  {
   "cell_type": "code",
   "execution_count": null,
   "metadata": {},
   "outputs": [],
   "source": [
    "from datetime import datetime\n",
    "import json\n",
    "import ipywidgets as widgets\n",
    "from IPython.display import display\n",
    "import functools\n",
    "import os\n",
    "\n",
    "from es_sfgtools.utils.metadata.vessel import Vessel, import_vessel\n",
    "from es_sfgtools.utils.archive_pull import download_file_from_archive"
   ]
  },
  {
   "cell_type": "markdown",
   "metadata": {},
   "source": [
    "***\n",
    "## **2. Choosing the appropriate vessel metadata file**\n",
    "\n",
    "Using the options below, you may either `create` or `update` a vessel metadata file. If the vessel already exists in the earthscope archive, the metadata file should be accessible on https://gage-data.earthscope.org/archive/seafloor. \n",
    "\n",
    "Only choose 1 of the 3 options.\n",
    "\n",
    "### **Option 1:** Create a new vessel file "
   ]
  },
  {
   "cell_type": "code",
   "execution_count": null,
   "metadata": {},
   "outputs": [],
   "source": [
    "# ----------------------- Update these values ----------------------- \n",
    "# Required\n",
    "vessel_name = ''                        # 4 character name used for the vessel\n",
    "vessel_type = ''                        # ex. waveglider\n",
    "model = ''                              # waveglider model number, ex. SV3\n",
    "serial_number = ''                      # waveglider serial number\n",
    "\n",
    "# Optional: Enter the start and end date/time of the survey vessel\n",
    "start_date = ''                         # format: '1900-01-01T00:00:00'\n",
    "end_date = ''                           # format: '1900-01-01T00:00:00'    # TODO Fix this\n",
    "\n",
    "# ---------------------- Do not update code below ---------------------\n",
    "# Create vessel object\n",
    "vessel_class = Vessel(name=vessel_name, type=vessel_type, model=model, serialNumber=serial_number, \n",
    "start=start_date if start_date else None, end=end_date if end_date else None)\n",
    "print(\"Created vessel object\")\n",
    "vessel_class.print_json()"
   ]
  },
  {
   "cell_type": "markdown",
   "metadata": {},
   "source": [
    "### **Option 2:** Pull existing vessel metadata from local file path\n",
    "Use the cell below to load an existing vessel metadata file to update"
   ]
  },
  {
   "cell_type": "code",
   "execution_count": null,
   "metadata": {},
   "outputs": [],
   "source": [
    "# Pull in vessel metadata from json file\n",
    "# ----------------------- Update these values -----------------------\n",
    "json_file_path = 'VESSEL.json'        # JSON file path\n",
    "\n",
    "# ---------------------- Do not update code below ---------------------\n",
    "vessel_class = import_vessel(json_file_path)\n",
    "vessel_class.print_json()"
   ]
  },
  {
   "cell_type": "markdown",
   "metadata": {},
   "source": [
    "### **Option 3:** Pull existing vessel metadata directly from GAGE data\n",
    "Use the cell below to load an existing vessel metadata file from the GAGE data archive"
   ]
  },
  {
   "cell_type": "code",
   "execution_count": null,
   "metadata": {},
   "outputs": [],
   "source": [
    "# ----------------------- Update these values -----------------------\n",
    "gage_http_file_link = ''\n",
    "destination_directory = './gage_data'   # directory where the files will be downloaded to (default is the current directory/gage_data)\n",
    "token_path = '.'                        # directory where the token will be stored (default is the current directory)\n",
    "\n",
    "\n",
    "# ---------------------- Do not update code below ---------------------\n",
    "get_file_from_gage_data(url=gage_http_file_link, \n",
    "                        dest_dir=destination_directory)\n",
    "\n",
    "file_name = os.path.basename(gage_http_file_link)\n",
    "vessel_class = import_vessel(os.path.join(destination_directory, file_name))\n",
    "print(json.dumps(vessel_class.to_dict(), indent=2))"
   ]
  },
  {
   "cell_type": "markdown",
   "metadata": {},
   "source": [
    "## **Optional vessel additions and updates**\n",
    "***\n",
    "Below are optional additions and updates you can make to the vessel metadata file. You do not need to go in order to update the file. Options include..\n",
    "* Primary vessel (waveglider) \n",
    "* Equipment\n",
    "   * INS Payloads\n",
    "   * GNSS Receviers\n",
    "   * GNSS Antennas\n",
    "   * Acoustic Transducer\n",
    "   * Acoustisc Transceiver\n",
    "   * ATD offsets\n",
    "   * IMU Sensors\n",
    "\n",
    "\n",
    "#### **Instructions**\n",
    "1. Input values in __*Update these Values*__ section\n",
    "   * For a new section, enter all known values, including a start and end date. If a start and end date is not changed from \"1900\", then it will not be added into the json\n",
    "   * For updating an existing section, update only the values you wish to change. Leave all other fields empty or as they are.\n",
    "2. Run the cell and check the printed JSON input is correct.\n",
    "3. Use the cell below to add, update or delete.\n",
    "\n",
    "If you need to see the vessel class object at any time in the process, scroll to the **Write out JSON file** section at the bottom and run the cell that checks the output. \n"
   ]
  },
  {
   "cell_type": "markdown",
   "metadata": {},
   "source": [
    "### **Come back and view the full vessel output at any time using the cell below**"
   ]
  },
  {
   "cell_type": "code",
   "execution_count": null,
   "metadata": {},
   "outputs": [],
   "source": [
    "vessel_class.print_json()"
   ]
  },
  {
   "cell_type": "markdown",
   "metadata": {},
   "source": [
    "## **3. Add Vessel Equipment**\n",
    "### IMU Sensor"
   ]
  },
  {
   "cell_type": "code",
   "execution_count": null,
   "metadata": {},
   "outputs": [],
   "source": [
    "imu_sensor = {}\n",
    "# ----------------------- Update these values ----------------------- \n",
    "\n",
    "# -- Required information -- \n",
    "sensor_serial_number = ''               # imu serial number - REQUIRED\n",
    "imu_sensor['type'] = ''                 # type of imu\n",
    "\n",
    "# -- Optional information --\n",
    "imu_sensor['model'] = ''                # imu model number\n",
    "imu_sensor['start'] = ''                # IMU sensor start date, Format: '1900-01-01T00:00:00'\n",
    "imu_sensor['end'] = ''                  # IMU sensor end date, Format: '1900-01-01T00:00:00'\n",
    "\n",
    "# ----------------------- Do not update code below -----------------------     \n",
    "print(json.dumps(imu_sensor, indent=2))"
   ]
  },
  {
   "cell_type": "markdown",
   "metadata": {},
   "source": [
    "#### Choose whether to add new, update, or delete the IMU Sensor you defined above"
   ]
  },
  {
   "cell_type": "code",
   "execution_count": null,
   "metadata": {},
   "outputs": [],
   "source": [
    "# Set only one of the following to True\n",
    "ADD_NEW_SENSOR = True\n",
    "UPDATE_SENSOR = False\n",
    "DELETE_SENSOR = False\n",
    "\n",
    "# ----------------------- Do not update code below -----------------------\n",
    "vessel_class.run_equipment(serial_number=sensor_serial_number, equipment_type=\"imuSensors\", equipment_data=imu_sensor, \n",
    "                            add_new=ADD_NEW_SENSOR, update=UPDATE_SENSOR, delete=DELETE_SENSOR)"
   ]
  },
  {
   "cell_type": "markdown",
   "metadata": {},
   "source": [
    "***\n",
    "### GNSS Receivers"
   ]
  },
  {
   "cell_type": "code",
   "execution_count": null,
   "metadata": {},
   "outputs": [],
   "source": [
    "gnss_receiver = {}\n",
    "# ----------------------- Update these values ----------------------- \n",
    "\n",
    "# -- Required Information --  \n",
    "receiver_serial_number = ''\n",
    "gnss_receiver['type'] = ''                  # type of gnss receiver e.g \"trimble netrs\"\n",
    "\n",
    "# -- Optional Information -- \n",
    "gnss_receiver['model'] = ''                 # receiver model number\n",
    "gnss_receiver['firmwareVersion'] = ''       # receiver firmware version\n",
    "gnss_receiver['start'] = ''                 # Start date, format: '1900-01-01T00:00:00'\n",
    "gnss_receiver['end'] = ''                   # End date, format '1900-01-01T00:00:00'\n",
    "\n",
    "# ----------------------- Do not update code below -----------------------  \n",
    "print(json.dumps(gnss_receiver, indent=2))"
   ]
  },
  {
   "cell_type": "markdown",
   "metadata": {},
   "source": [
    "#### Choose whether to add new, update, or delete the GNSS Receiver you defined above"
   ]
  },
  {
   "cell_type": "code",
   "execution_count": null,
   "metadata": {},
   "outputs": [],
   "source": [
    "# Set only one of the following to True\n",
    "ADD_NEW_RECEIVER = True\n",
    "UPDATE_RECEIVER = False\n",
    "DELETE_RECEIVER = False\n",
    "\n",
    "# ----------------------- Do not update code below -----------------------\n",
    "vessel_class.run_equipment(serial_number=receiver_serial_number, equipment_type=\"gnssReceivers\", equipment_data=gnss_receiver, \n",
    "                            add_new=ADD_NEW_RECEIVER, update=UPDATE_RECEIVER, delete=DELETE_RECEIVER)"
   ]
  },
  {
   "cell_type": "markdown",
   "metadata": {},
   "source": [
    "***\n",
    "### GNSS Antennas"
   ]
  },
  {
   "cell_type": "code",
   "execution_count": null,
   "metadata": {},
   "outputs": [],
   "source": [
    "gnss_antenna = {}\n",
    "# ----------------------- Update these values -----------------------  \n",
    "# -- Required Information --  \n",
    "antenna_serial_number = ''                  # gnss antenna serial number\n",
    "gnss_antenna['type'] = ''                   # type of gnss antenna e.g \"trimble\"\n",
    "\n",
    "# -- Optional Information -- \n",
    "gnss_antenna['order']= ''                   # primary | secondary\n",
    "gnss_antenna['model'] = ''                  # antenna model number\n",
    "gnss_antenna['radomeSerialNumber'] = ''     # antenna radome serial number\n",
    "gnss_antenna['start'] = ''                  # Start date, format: '1900-01-01T00:00:00'\n",
    "gnss_antenna['end'] = ''                    # End date, format '1900-01-01T00:00:00'\n",
    "\n",
    "\n",
    "# ----------------------- Do not update code below -----------------------     \n",
    "print(json.dumps(gnss_antenna, indent=2))"
   ]
  },
  {
   "cell_type": "markdown",
   "metadata": {},
   "source": [
    "#### Choose whether to add new, update, or delete the GNSS Antenna you defined above"
   ]
  },
  {
   "cell_type": "code",
   "execution_count": null,
   "metadata": {},
   "outputs": [],
   "source": [
    "# Set only one of the following to True\n",
    "ADD_NEW_ANTENNA = True\n",
    "UPDATE_ANTENNA = False\n",
    "DELETE_ANTENNA = False \n",
    "\n",
    "# ----------------------- Do not update code below -----------------------\n",
    "vessel_class.run_equipment(serial_number=antenna_serial_number, equipment_type=\"gnssAntennas\", equipment_data=gnss_antenna, \n",
    "                            add_new=ADD_NEW_ANTENNA, update=UPDATE_ANTENNA, delete=DELETE_ANTENNA)"
   ]
  },
  {
   "cell_type": "markdown",
   "metadata": {},
   "source": [
    "***\n",
    "### Acoustic Transducers"
   ]
  },
  {
   "cell_type": "code",
   "execution_count": null,
   "metadata": {},
   "outputs": [],
   "source": [
    "transducer = {}\n",
    "# ----------------------- Update these values -----------------------  \n",
    "# -- Required Information --  \n",
    "transducer_serial_number = ''           # transducer serial number\n",
    "transducer['type'] = ''                 # transducer model number\n",
    "transducer['frequency'] = ''            # frequency e.g MF/LMF\n",
    "\n",
    "# -- Optional Information -- \n",
    "transducer['start'] = ''                   # Start date, format: '1900-01-01T00:00:00'\n",
    "transducer['end'] = ''                     # End date, format '1900-01-01T00:00:00'\n",
    "\n",
    "\n",
    "# ----------------------- Do not update code below ----------------------- \n",
    "print(json.dumps(transducer, indent=2))"
   ]
  },
  {
   "cell_type": "markdown",
   "metadata": {},
   "source": [
    "#### Choose whether to add new, update, or delete the Acoustic Transducer you defined above"
   ]
  },
  {
   "cell_type": "code",
   "execution_count": null,
   "metadata": {},
   "outputs": [],
   "source": [
    "# Set only one of the following to True\n",
    "ADD_NEW_TRANSDUCER = True\n",
    "UPDATE_TRANSDUCER = False\n",
    "DELETE_TRANSDUCER = False\n",
    "\n",
    "# ----------------------- Do not update code below -----------------------\n",
    "vessel_class.run_equipment(serial_number=transducer_serial_number, equipment_type=\"acousticTransducer\", equipment_data=transducer, \n",
    "                            add_new=ADD_NEW_TRANSDUCER, update=UPDATE_TRANSDUCER, delete=DELETE_TRANSDUCER)"
   ]
  },
  {
   "cell_type": "markdown",
   "metadata": {},
   "source": [
    "***\n",
    "### Acoustic Transceivers"
   ]
  },
  {
   "cell_type": "code",
   "execution_count": null,
   "metadata": {},
   "outputs": [],
   "source": [
    "transceiver = {}\n",
    "# ----------------------- Update these values -----------------------  \n",
    "# -- Required Information --  \n",
    "transceiver_serial_number = ''                  # transceiver serial number\n",
    "transceiver['type'] = ''                        # transceiver model number\n",
    "transceiver['frequency'] = ''                   # frequency e.g MF/LMF\n",
    "\n",
    "\n",
    "# -- Optional Information -- \n",
    "transceiver['triggerDelay'] = ''                # Trigger delay (seconds)\n",
    "transceiver['delayIncludedInTWTT'] = ''         # is delay included in two way travel time (True/False)\n",
    "transceiver['start'] = ''                       # Start date, format: '1900-01-01T00:00:00'\n",
    "transceiver['end'] = ''                         # End date, format '1900-01-01T00:00:00'\n",
    "\n",
    "# ----------------------- Do not update code below -----------------------  \n",
    "print(json.dumps(transceiver, indent=2))"
   ]
  },
  {
   "cell_type": "markdown",
   "metadata": {},
   "source": [
    "#### Choose whether to add new, update, or delete the Acoustic Transceiver you defined above"
   ]
  },
  {
   "cell_type": "code",
   "execution_count": null,
   "metadata": {},
   "outputs": [],
   "source": [
    "# Set only one of the following to True\n",
    "ADD_NEW_TRANSCEIVER = True\n",
    "UPDATE_TRANSCEIVER = False\n",
    "DELETE_TRANSCEIVER = False\n",
    "\n",
    "# ----------------------- Do not update code below -----------------------\n",
    "vessel_class.run_equipment(serial_number=transceiver_serial_number, equipment_type=\"acousticTransceiver\", equipment_data=transceiver, \n",
    "                            add_new=ADD_NEW_TRANSCEIVER, update=UPDATE_TRANSCEIVER, delete=DELETE_TRANSCEIVER)"
   ]
  },
  {
   "cell_type": "markdown",
   "metadata": {},
   "source": [
    "***\n",
    "### Antenna to Transducer Offsets"
   ]
  },
  {
   "cell_type": "code",
   "execution_count": null,
   "metadata": {},
   "outputs": [],
   "source": [
    "atd = {}\n",
    "# ----------------------- Update these values -----------------------  \n",
    "\n",
    "# -- Required fields --\n",
    "transducer_serial_number= ''                # transducer serial number to attach ATD offset to\n",
    "atd['x'] = ''\n",
    "atd['y'] = ''\n",
    "atd['z'] = ''\n",
    "\n",
    "# ----------------------- Do not update code below -----------------------  \n",
    "print(json.dumps(atd, indent=2))"
   ]
  },
  {
   "cell_type": "markdown",
   "metadata": {},
   "source": [
    "#### Choose whether to add new, update, or delete the ATD offsets you defined above"
   ]
  },
  {
   "cell_type": "code",
   "execution_count": null,
   "metadata": {},
   "outputs": [],
   "source": [
    "# Set only one of the following to True\n",
    "ADD_NEW_ATD= True\n",
    "UPDATE_ATD = False\n",
    "DELETE_ATD = False\n",
    "\n",
    "# ----------------------- Do not update code below -----------------------\n",
    "vessel_class.run_equipment(serial_number=transducer_serial_number, equipment_type=\"atdOffsets\", equipment_data=atd, \n",
    "                        add_new=ADD_NEW_ATD, update=UPDATE_ATD, delete=DELETE_ATD)"
   ]
  },
  {
   "cell_type": "markdown",
   "metadata": {},
   "source": [
    "## **4. Write out JSON file**\n",
    "***\n",
    "This step can be completed at any time.\n",
    "\n",
    "* First check the contents..."
   ]
  },
  {
   "cell_type": "code",
   "execution_count": null,
   "metadata": {},
   "outputs": [],
   "source": [
    "vessel_class.print_json()"
   ]
  },
  {
   "cell_type": "markdown",
   "metadata": {},
   "source": [
    "## Export Site to file"
   ]
  },
  {
   "cell_type": "code",
   "execution_count": null,
   "metadata": {},
   "outputs": [],
   "source": [
    "VESSEL_NAME = \"\" # Vessel name\n",
    "\n",
    "if not VESSEL_NAME:\n",
    "    raise ValueError(\"Please enter a vessel name\")\n",
    "file_path = f\"./{VESSEL_NAME}.json\"                            # Export file path you wish to store\n",
    "vessel_class.export_vessel(file_path)"
   ]
  }
 ],
 "metadata": {
  "kernelspec": {
   "display_name": "seafloor_geodesy",
   "language": "python",
   "name": "python3"
  },
  "language_info": {
   "codemirror_mode": {
    "name": "ipython",
    "version": 3
   },
   "file_extension": ".py",
   "mimetype": "text/x-python",
   "name": "python",
   "nbconvert_exporter": "python",
   "pygments_lexer": "ipython3",
   "version": "3.11.10"
  }
 },
 "nbformat": 4,
 "nbformat_minor": 2
}
