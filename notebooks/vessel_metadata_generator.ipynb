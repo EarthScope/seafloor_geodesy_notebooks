{
 "cells": [
  {
   "cell_type": "markdown",
   "metadata": {},
   "source": [
    "# **Create or update Vessel Metadata File**\n",
    "\n",
    "This notebook goes through the steps necessary to update or create a new vessel metadata file."
   ]
  },
  {
   "cell_type": "markdown",
   "metadata": {},
   "source": [
    "***\n",
    "## **Import packages**"
   ]
  },
  {
   "cell_type": "code",
   "execution_count": 1,
   "metadata": {},
   "outputs": [
    {
     "ename": "ModuleNotFoundError",
     "evalue": "No module named 'es_sfgtools.utils.gage_data'",
     "output_type": "error",
     "traceback": [
      "\u001b[0;31m---------------------------------------------------------------------------\u001b[0m",
      "\u001b[0;31mModuleNotFoundError\u001b[0m                       Traceback (most recent call last)",
      "Cell \u001b[0;32mIn[1], line 9\u001b[0m\n\u001b[1;32m      6\u001b[0m \u001b[38;5;28;01mimport\u001b[39;00m \u001b[38;5;21;01mos\u001b[39;00m\n\u001b[1;32m      8\u001b[0m \u001b[38;5;28;01mfrom\u001b[39;00m \u001b[38;5;21;01mes_sfgtools\u001b[39;00m\u001b[38;5;21;01m.\u001b[39;00m\u001b[38;5;21;01mutils\u001b[39;00m\u001b[38;5;21;01m.\u001b[39;00m\u001b[38;5;21;01mmetadata_generator\u001b[39;00m \u001b[38;5;28;01mimport\u001b[39;00m Vessel, start_and_end_dates, buttons, import_vessel\n\u001b[0;32m----> 9\u001b[0m \u001b[38;5;28;01mfrom\u001b[39;00m \u001b[38;5;21;01mes_sfgtools\u001b[39;00m\u001b[38;5;21;01m.\u001b[39;00m\u001b[38;5;21;01mutils\u001b[39;00m\u001b[38;5;21;01m.\u001b[39;00m\u001b[38;5;21;01mgage_data\u001b[39;00m \u001b[38;5;28;01mimport\u001b[39;00m get_file_from_gage_data\n",
      "\u001b[0;31mModuleNotFoundError\u001b[0m: No module named 'es_sfgtools.utils.gage_data'"
     ]
    }
   ],
   "source": [
    "from datetime import datetime\n",
    "import json\n",
    "import ipywidgets as widgets\n",
    "from IPython.display import display\n",
    "import functools\n",
    "import os\n",
    "\n",
    "from es_sfgtools.utils.metadata_generator import Vessel, start_and_end_dates, buttons, import_vessel\n",
    "from es_sfgtools.utils.archive_pull import download_file_from_archive"
   ]
  },
  {
   "cell_type": "markdown",
   "metadata": {},
   "source": [
    "***\n",
    "## **Choosing the appropriate vessel metadata file**\n",
    "\n",
    "Using the options below, you may either `create` or `update` a vessel metadata file. If the vessel already exists in the earthscope archive, the metadata file should be accessible on https://gage-data.earthscope.org/archive/seafloor. \n",
    "\n",
    "Only choose 1 of the 3 options.\n",
    "\n",
    "### **Option 1:** Create a new vessel file "
   ]
  },
  {
   "cell_type": "code",
   "execution_count": null,
   "metadata": {},
   "outputs": [],
   "source": [
    "# ----------------------- Update these values ----------------------- \n",
    "vessel_name = 'AAAA'                 # Name used for the vessel\n",
    "\n",
    "# ---------------------- Do not update code below ---------------------\n",
    "# Create vessel object\n",
    "global vessel_class\n",
    "vessel_class = Vessel(name=vessel_name)\n",
    "print(\"Created vesse; object\")\n",
    "print(json.dumps(vessel_class.vessel, indent=2))"
   ]
  },
  {
   "cell_type": "markdown",
   "metadata": {},
   "source": [
    "### **Option 2:** Pull existing vessel metadata from local file path\n",
    "Use the cell below to load an existing vessel metadata file to update"
   ]
  },
  {
   "cell_type": "code",
   "execution_count": null,
   "metadata": {},
   "outputs": [],
   "source": [
    "# Pull in vessel metadata from json file\n",
    "# ----------------------- Update these values -----------------------\n",
    "json_file_path = 'vessel_name.json'        # JSON file path\n",
    "\n",
    "# ---------------------- Do not update code below ---------------------\n",
    "vessel_class = import_vessel(json_file_path)\n",
    "print(json.dumps(vessel_class.vessel, indent=2))"
   ]
  },
  {
   "cell_type": "markdown",
   "metadata": {},
   "source": [
    "### **Option 3:** Pull existing vessel metadata directly from GAGE data\n",
    "Use the cell below to load an existing vessel metadata file from the GAGE data archive"
   ]
  },
  {
   "cell_type": "code",
   "execution_count": null,
   "metadata": {},
   "outputs": [],
   "source": [
    "# ----------------------- Update these values -----------------------\n",
    "gage_http_file_link = ''\n",
    "destination_directory = './gage_data'   # directory where the files will be downloaded to (default is the current directory/gage_data)\n",
    "token_path = '.'                        # directory where the token will be stored (default is the current directory)\n",
    "\n",
    "\n",
    "# ---------------------- Do not update code below ---------------------\n",
    "get_file_from_gage_data(url=gage_http_file_link, \n",
    "                        dest_dir=destination_directory)\n",
    "\n",
    "file_name = os.path.basename(gage_http_file_link)\n",
    "vessel_class = import_vessel(os.path.join(destination_directory, file_name))\n",
    "print(json.dumps(vessel_class.vessel, indent=2))"
   ]
  },
  {
   "cell_type": "markdown",
   "metadata": {},
   "source": [
    "## **Optional vessel additions and updates**\n",
    "***\n",
    "Below are optional additions and updates you can make to the vessel metadata file. You do not need to go in order to update the file. Options include..\n",
    "* Primary vessel (waveglider) \n",
    "* Equipment\n",
    "   * INS Payloads\n",
    "   * GNSS Receviers\n",
    "   * GNSS Antennas\n",
    "   * Acoustic Transducer\n",
    "   * Acoustisc Transceiver\n",
    "   * ATD offsets\n",
    "   * IMU Sensors\n",
    "\n",
    "\n",
    "#### **Instructions**\n",
    "1. Input values in __*Update these Values*__ section\n",
    "   * For a new section, enter all known values, including a start and end date. If a start and end date is not changed from \"1900\", then it will not be added into the json\n",
    "   * For updating an existing section, update only the values you wish to change. Leave all other fields empty or as they are.\n",
    "2. Run the cell and check the printed JSON input is correct.\n",
    "3. Use the buttons provided to add or update the campaign.\n",
    "\n",
    "If you need to see the vessel class object at any time in the process, scroll to the **Write out JSON file** section at the bottom and run the cell that checks the output. \n"
   ]
  },
  {
   "cell_type": "markdown",
   "metadata": {},
   "source": [
    "## **Add Survey Vessels**\n",
    "***\n",
    "Add the primary suvey vessel (e.g waveglider, boat, etc..). If the survey vessel already exists but is being used in a new survey, the ID will be updated.\n",
    "\n",
    "### Primary Vessel"
   ]
  },
  {
   "cell_type": "code",
   "execution_count": null,
   "metadata": {},
   "outputs": [],
   "source": [
    "survey_vessel = {}\n",
    "# ----------------------- Update these values ----------------------- \n",
    "\n",
    "survey_vessel[\"type\"] = ''                 # waveglider\n",
    "survey_vessel[\"name\"] = ''                 # e.g GLDR\n",
    "survey_vessel['model'] = ''                # waveglider model number\n",
    "survey_vessel['serialNumber'] = ''         # waveglider serial number\n",
    "\n",
    "# Optional: Enter the start and end date/time of the survey vessel\n",
    "vessel_start = datetime(year=1900, month=1, day=1, \n",
    "                        hour=0, minute=0, second=0)\n",
    "vessel_end = datetime(year=1900, month=1, day=1, \n",
    "                        hour=0, minute=0, second=0)\n",
    "    \n",
    "# ----------------------- Do not update code below ----------------------- \n",
    "\n",
    "survey_vessel = start_and_end_dates(start_date=vessel_start,\n",
    "                                    end_date=vessel_end,\n",
    "                                    dict_to_update=survey_vessel)\n",
    "\n",
    "output = widgets.Output()\n",
    "display(widgets.HBox([buttons['new_survey_vessel'], buttons['existing_survey_vessel']]), output)\n",
    "buttons['new_survey_vessel'].on_click(functools.partial(vessel_class.add_primary_survey_vessel, survey_vessel, output))\n",
    "buttons['existing_survey_vessel'].on_click(functools.partial(vessel_class.existing_survey_vessel, survey_vessel[\"name\"], survey_vessel, output))"
   ]
  },
  {
   "cell_type": "markdown",
   "metadata": {},
   "source": [
    "## Add Vessel Equipment to Primary Vessel\n",
    "### IMU Sensor"
   ]
  },
  {
   "cell_type": "code",
   "execution_count": null,
   "metadata": {},
   "outputs": [],
   "source": [
    "imu_sensor = {}\n",
    "# ----------------------- Update these values ----------------------- \n",
    " # Change this if you didn't previously add a survey vessel or wish to add to a different vessel\n",
    "imu_sensor_survey_vessel = survey_vessel['name']\n",
    "\n",
    "imu_sensor['type'] = ''                 # type of imu\n",
    "imu_sensor['model'] = ''                # imu model number\n",
    "imu_sensor['serialNumber'] = ''         # imu serial number - Required if updating an existing imu sensor\n",
    "\n",
    "\n",
    "# Optional: Enter the start and end date/time of the ins payload\n",
    "ins_start = datetime(year=1900, month=1, day=1, \n",
    "                        hour=0, minute=0, second=0)\n",
    "ins_end = datetime(year=1900, month=1, day=1, \n",
    "                        hour=0, minute=0, second=0)\n",
    "\n",
    "\n",
    "# ----------------------- Do not update code below -----------------------     \n",
    "imu_sensor = start_and_end_dates(start_date=ins_start, \n",
    "                                   end_date=ins_end, \n",
    "                                   dict_to_update=imu_sensor)\n",
    "\n",
    "output = widgets.Output()\n",
    "display(widgets.HBox([buttons['new_imu_sensor'], buttons['existing_imu_sensor'] ]),  output)\n",
    "buttons['new_imu_sensor'].on_click(functools.partial(vessel_class.add_survey_vessel_equipment, imu_sensor_survey_vessel, \"imuSensors\", imu_sensor, output))\n",
    "buttons['existing_imu_sensor'].on_click(functools.partial(vessel_class.existing_vessel_equipment, imu_sensor_survey_vessel, \"imuSensors\", imu_sensor, output))"
   ]
  },
  {
   "cell_type": "markdown",
   "metadata": {},
   "source": [
    "### GNSS receiver"
   ]
  },
  {
   "cell_type": "code",
   "execution_count": null,
   "metadata": {},
   "outputs": [],
   "source": [
    "gnss_receiver = {}\n",
    "# ----------------------- Update these values -----------------------  \n",
    "# Change this if you didn't previously add a survey vessel OR wish to add to a different vessel\n",
    "gnss_survey_vessel = survey_vessel['name']\n",
    "\n",
    "gnss_receiver['type'] = ''                  # type of gnss receiver e.g \"trimble netrs\"\n",
    "gnss_receiver['model'] = ''                 # receiver model number\n",
    "gnss_receiver['serialNumber' ] = ''         # receiver serial number - Required if updating an existing INS payload\n",
    "gnss_receiver['firmwareVersion'] = ''       # receiver firmware version\n",
    "\n",
    "# Optional: Enter the start and end date/time of the gnss receiver\n",
    "receiver_start = datetime(year=1900, month=1, day=1, \n",
    "                        hour=0, minute=0, second=0)\n",
    "receiver_end = datetime(year=1900, month=1, day=1, \n",
    "                        hour=0, minute=0, second=0)\n",
    "\n",
    "\n",
    "# ----------------------- Do not update code below -----------------------  \n",
    "gnss_receiver = start_and_end_dates(start_date=receiver_start, \n",
    "                                   end_date=receiver_end, \n",
    "                                   dict_to_update=gnss_receiver)\n",
    "\n",
    "# Button actions\n",
    "output = widgets.Output()\n",
    "display(widgets.HBox([buttons['new_receiver'], buttons['existing_receiver']]), output)\n",
    "buttons['new_receiver'].on_click(functools.partial(vessel_class.add_survey_vessel_equipment, gnss_survey_vessel, \"gnssReceivers\", gnss_receiver, output))\n",
    "buttons['existing_receiver'].on_click(functools.partial(vessel_class.existing_vessel_equipment, gnss_survey_vessel, \"gnssReceivers\", gnss_receiver, output))"
   ]
  },
  {
   "cell_type": "markdown",
   "metadata": {},
   "source": [
    "### GNSS antenna"
   ]
  },
  {
   "cell_type": "code",
   "execution_count": null,
   "metadata": {},
   "outputs": [],
   "source": [
    "gnss_antenna = {}\n",
    "# ----------------------- Update these values -----------------------  \n",
    "# Change this if you didn't previously add a survey vessel or wish to add to a different vessel\n",
    "gnss_antenna_vessel = survey_vessel['name']\n",
    "\n",
    "gnss_antenna['order']= ''                  # primary | secondary\n",
    "gnss_antenna['type'] = ''                  # type of gnss antenna e.g \"trimble\"\n",
    "gnss_antenna['model'] = ''                 # antenna model number\n",
    "gnss_antenna['serialNumber' ] = ''         # antenna serial number - Required if updating an existing gns antenna\n",
    "gnss_antenna['radomeSerialNumber'] = ''    # antenna radome serial number\n",
    "\n",
    "# Optional: Enter the start and end date/time of the gnss antenna\n",
    "antenna_start = datetime(year=1900, month=1, day=1, \n",
    "                        hour=0, minute=0, second=0)\n",
    "antenna_end = datetime(year=1900, month=1, day=1, \n",
    "                        hour=0, minute=0, second=0)\n",
    "\n",
    "\n",
    "# ----------------------- Do not update code below -----------------------     \n",
    "gnss_antenna = start_and_end_dates(start_date=antenna_start, \n",
    "                                   end_date=antenna_end, \n",
    "                                   dict_to_update=gnss_antenna)\n",
    "    \n",
    "# Button actions\n",
    "output = widgets.Output()\n",
    "display(widgets.HBox([buttons['new_antenna'], buttons['existing_antenna']]), output)\n",
    "buttons['new_antenna'].on_click(functools.partial(vessel_class.add_survey_vessel_equipment, gnss_antenna_vessel, \"gnssAntennas\", gnss_antenna, output))\n",
    "buttons['existing_antenna'].on_click(functools.partial(vessel_class.existing_vessel_equipment, gnss_antenna_vessel, \"gnssAntennas\", gnss_antenna, output))\n"
   ]
  },
  {
   "cell_type": "markdown",
   "metadata": {},
   "source": [
    "### Acoustic Transducer"
   ]
  },
  {
   "cell_type": "code",
   "execution_count": null,
   "metadata": {},
   "outputs": [],
   "source": [
    "transducer = {}\n",
    "# ----------------------- Update these values -----------------------  \n",
    "# Change this if you didn't previously add a survey vessel or wish to add to a different vessel\n",
    "transducer_survey_vessel = survey_vessel['name']\n",
    "\n",
    "transducer['type'] = ''                 # transducer model number\n",
    "transducer['serialNumber'] = ''         # transducer serial number - Required if updating an existing transducer\n",
    "transducer['frequency'] = ''            # frequency e.g MF/LMF\n",
    "\n",
    "# Optional: Enter the start/end date & time of the transducer\n",
    "transducer_start = datetime(year=1900, month=1, day=1, \n",
    "                          hour=0, minute=0, second=0)\n",
    "transducer_end = datetime(year=1900, month=1, day=1, \n",
    "                        hour=0, minute=0, second=0)\n",
    "\n",
    "\n",
    "# ----------------------- Do not update code below ----------------------- \n",
    "transducer = start_and_end_dates(start_date=transducer_start, \n",
    "                               end_date=transducer_end, \n",
    "                               dict_to_update=transducer)\n",
    "    \n",
    "# Button actions\n",
    "output = widgets.Output()\n",
    "display(widgets.HBox([buttons['new_transducer'], buttons['existing_transducer']]), output)\n",
    "buttons['new_transducer'].on_click(functools.partial(vessel_class.add_survey_vessel_equipment, transducer_survey_vessel, \"acousticTransducer\", transducer, output))\n",
    "buttons['existing_transducer'].on_click(functools.partial(vessel_class.existing_vessel_equipment, transducer_survey_vessel, \"acousticTransducer\", transducer, output))"
   ]
  },
  {
   "cell_type": "markdown",
   "metadata": {},
   "source": [
    "### Acoustic Transceiver"
   ]
  },
  {
   "cell_type": "code",
   "execution_count": null,
   "metadata": {},
   "outputs": [],
   "source": [
    "transceiver = {}\n",
    "# ----------------------- Update these values -----------------------  \n",
    "# Change this if you didn't previously add a survey vessel or wish to add to a different vessel\n",
    "transceiver_survey_vessel = survey_vessel['name']\n",
    "\n",
    "transceiver['type'] = ''                      # transceiver model number\n",
    "transceiver['serialNumber'] = ''              # transceiver serial number - Required if updating an existing transceiver\n",
    "transceiver['frequency'] = ''                 # frequency e.g MF/LMF\n",
    "transceiver['triggerDelay'] = ''              # delay seconds\n",
    "transceiver['delayIncludedInTWTT'] = 'false'  # transceiver frequency e.g MF/LMF\n",
    "\n",
    "# Optional: Enter the start/end date & time of the transceiver\n",
    "transceiver_start = datetime(year=1900, month=1, day=1, \n",
    "                          hour=0, minute=0, second=0)\n",
    "transceiver_end = datetime(year=1900, month=1, day=1, \n",
    "                        hour=0, minute=0, second=0)\n",
    "\n",
    "\n",
    "# ----------------------- Do not update code below -----------------------  \n",
    "transceiver = start_and_end_dates(start_date=transceiver_start, \n",
    "                               end_date=transceiver_end, \n",
    "                               dict_to_update=transceiver)\n",
    "    \n",
    "# Button actions\n",
    "output = widgets.Output()\n",
    "display(widgets.HBox([buttons['new_transceiver'], buttons['existing_transceiver']]), output)\n",
    "buttons['new_transceiver'].on_click(functools.partial(vessel_class.add_survey_vessel_equipment, transceiver_survey_vessel, \"acousticTransceiver\", transceiver, output))\n",
    "buttons['existing_transceiver'].on_click(functools.partial(vessel_class.existing_vessel_equipment, transceiver_survey_vessel, \"acousticTransceiver\", transceiver, output))"
   ]
  },
  {
   "cell_type": "markdown",
   "metadata": {},
   "source": [
    "### Acoustic to Transducer Offsets"
   ]
  },
  {
   "cell_type": "code",
   "execution_count": null,
   "metadata": {},
   "outputs": [],
   "source": [
    "atd = {}\n",
    "# ----------------------- Update these values -----------------------  \n",
    "# Change this if you didn't previously add a survey vessel or wish to add to a different vessel\n",
    "atd_survey_vessel = survey_vessel['name']      \n",
    "\n",
    "atd['x'] = ''\n",
    "atd['y'] = ''\n",
    "atd['z'] = ''\n",
    "\n",
    "# Optional: Enter the start/end date & time of the transceiver\n",
    "atd_start = datetime(year=1900, month=1, day=1, \n",
    "                          hour=0, minute=0, second=0)\n",
    "atd_end = datetime(year=1900, month=1, day=1, \n",
    "                        hour=0, minute=0, second=0)\n",
    "\n",
    "# ----------------------- Do not update code below -----------------------  \n",
    "atd = start_and_end_dates(start_date=atd_start, \n",
    "                          end_date=atd_end, \n",
    "                          dict_to_update=atd)    \n",
    "# Button actions\n",
    "output = widgets.Output()\n",
    "display(widgets.HBox([buttons['new_atd']]), output)\n",
    "buttons['new_atd'].on_click(functools.partial(vessel_class.add_atd_offsets, atd_survey_vessel, atd, output))\n",
    "# todo how to update these values (no unique identifier)"
   ]
  },
  {
   "cell_type": "markdown",
   "metadata": {},
   "source": [
    "# Write out JSON file\n",
    "***\n",
    "This step can be completed at any time.\n",
    "\n",
    "* First check the contents..."
   ]
  },
  {
   "cell_type": "code",
   "execution_count": null,
   "metadata": {},
   "outputs": [],
   "source": [
    "print(json.dumps(vessel_class.vessel, indent=2))"
   ]
  },
  {
   "cell_type": "markdown",
   "metadata": {},
   "source": [
    "## Export Site to file"
   ]
  },
  {
   "cell_type": "code",
   "execution_count": null,
   "metadata": {},
   "outputs": [],
   "source": [
    "VESSEL_NAME = \"\" # Vessel name\n",
    "\n",
    "if not VESSEL_NAME:\n",
    "    raise ValueError(\"Please enter a vessel name\")\n",
    "file_path = f\"./{VESSEL_NAME}.json\"                            # Export file path you wish to store\n",
    "vessel_class.export_vessel(file_path)"
   ]
  }
 ],
 "metadata": {
  "kernelspec": {
   "display_name": "seafloor_geodesy",
   "language": "python",
   "name": "python3"
  },
  "language_info": {
   "codemirror_mode": {
    "name": "ipython",
    "version": 3
   },
   "file_extension": ".py",
   "mimetype": "text/x-python",
   "name": "python",
   "nbconvert_exporter": "python",
   "pygments_lexer": "ipython3",
   "version": "3.11.10"
  }
 },
 "nbformat": 4,
 "nbformat_minor": 2
}
