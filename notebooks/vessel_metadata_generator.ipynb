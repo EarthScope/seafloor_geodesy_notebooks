{
 "cells": [
  {
   "cell_type": "markdown",
   "metadata": {},
   "source": [
    "# **Create or update Vessel Metadata File**\n",
    "\n",
    "This notebook goes through the steps necessary to update or create a new vessel metadata file."
   ]
  },
  {
   "cell_type": "markdown",
   "metadata": {},
   "source": [
    "***\n",
    "## **Import packages**"
   ]
  },
  {
   "cell_type": "code",
   "execution_count": 1,
   "metadata": {},
   "outputs": [],
   "source": [
    "from datetime import datetime\n",
    "import json\n",
    "import ipywidgets as widgets\n",
    "from IPython.display import display\n",
    "import functools\n",
    "import os\n",
    "\n",
    "from es_sfgtools.utils.metadata.vessel import Vessel, buttons, import_vessel\n",
    "from es_sfgtools.utils.metadata.utils import start_and_end_dates\n",
    "from es_sfgtools.utils.archive_pull import download_file_from_archive"
   ]
  },
  {
   "cell_type": "markdown",
   "metadata": {},
   "source": [
    "***\n",
    "## **Choosing the appropriate vessel metadata file**\n",
    "\n",
    "Using the options below, you may either `create` or `update` a vessel metadata file. If the vessel already exists in the earthscope archive, the metadata file should be accessible on https://gage-data.earthscope.org/archive/seafloor. \n",
    "\n",
    "Only choose 1 of the 3 options.\n",
    "\n",
    "### **Option 1:** Create a new vessel file "
   ]
  },
  {
   "cell_type": "code",
   "execution_count": null,
   "metadata": {},
   "outputs": [],
   "source": [
    "# ----------------------- Update these values ----------------------- \n",
    "vessel_name = 'AAAA'                    # Name used for the vessel\n",
    "vessel_type = ''                        # waveglider\n",
    "model = ''                              # waveglider model number\n",
    "serial_number = ''                      # waveglider serial number\n",
    "\n",
    "# Optional: Enter the start and end date/time of the survey vessel\n",
    "start_date = '1900-01-01T00:00:00'\n",
    "end_date = '1900-01-01T00:00:00'\n",
    "\n",
    "# ---------------------- Do not update code below ---------------------\n",
    "# Create vessel object\n",
    "vessel_class = Vessel(name=vessel_name, type=vessel_type, model=model, serial_number=serial_number, start=start_date, end=end_date)\n",
    "print(\"Created vessel object\")\n",
    "print(json.dumps(vessel_class.to_dict(), indent=2))"
   ]
  },
  {
   "cell_type": "markdown",
   "metadata": {},
   "source": [
    "### **Option 2:** Pull existing vessel metadata from local file path\n",
    "Use the cell below to load an existing vessel metadata file to update"
   ]
  },
  {
   "cell_type": "code",
   "execution_count": null,
   "metadata": {},
   "outputs": [],
   "source": [
    "# Pull in vessel metadata from json file\n",
    "# ----------------------- Update these values -----------------------\n",
    "json_file_path = '1126.json'        # JSON file path\n",
    "\n",
    "# ---------------------- Do not update code below ---------------------\n",
    "vessel_class = import_vessel(json_file_path)\n",
    "print(json.dumps(vessel_class.to_dict(), indent=2))"
   ]
  },
  {
   "cell_type": "markdown",
   "metadata": {},
   "source": [
    "### **Option 3:** Pull existing vessel metadata directly from GAGE data\n",
    "Use the cell below to load an existing vessel metadata file from the GAGE data archive"
   ]
  },
  {
   "cell_type": "code",
   "execution_count": null,
   "metadata": {},
   "outputs": [],
   "source": [
    "# ----------------------- Update these values -----------------------\n",
    "gage_http_file_link = ''\n",
    "destination_directory = './gage_data'   # directory where the files will be downloaded to (default is the current directory/gage_data)\n",
    "token_path = '.'                        # directory where the token will be stored (default is the current directory)\n",
    "\n",
    "\n",
    "# ---------------------- Do not update code below ---------------------\n",
    "get_file_from_gage_data(url=gage_http_file_link, \n",
    "                        dest_dir=destination_directory)\n",
    "\n",
    "file_name = os.path.basename(gage_http_file_link)\n",
    "vessel_class = import_vessel(os.path.join(destination_directory, file_name))\n",
    "print(json.dumps(vessel_class.to_dict(), indent=2))"
   ]
  },
  {
   "cell_type": "markdown",
   "metadata": {},
   "source": [
    "## **Optional vessel additions and updates**\n",
    "***\n",
    "Below are optional additions and updates you can make to the vessel metadata file. You do not need to go in order to update the file. Options include..\n",
    "* Primary vessel (waveglider) \n",
    "* Equipment\n",
    "   * INS Payloads\n",
    "   * GNSS Receviers\n",
    "   * GNSS Antennas\n",
    "   * Acoustic Transducer\n",
    "   * Acoustisc Transceiver\n",
    "   * ATD offsets\n",
    "   * IMU Sensors\n",
    "\n",
    "\n",
    "#### **Instructions**\n",
    "1. Input values in __*Update these Values*__ section\n",
    "   * For a new section, enter all known values, including a start and end date. If a start and end date is not changed from \"1900\", then it will not be added into the json\n",
    "   * For updating an existing section, update only the values you wish to change. Leave all other fields empty or as they are.\n",
    "2. Run the cell and check the printed JSON input is correct.\n",
    "3. Use the buttons provided to add or update the campaign.\n",
    "\n",
    "If you need to see the vessel class object at any time in the process, scroll to the **Write out JSON file** section at the bottom and run the cell that checks the output. \n"
   ]
  },
  {
   "cell_type": "code",
   "execution_count": null,
   "metadata": {},
   "outputs": [],
   "source": [
    "vessel_class.to_dict()"
   ]
  },
  {
   "cell_type": "markdown",
   "metadata": {},
   "source": [
    "## Add Vessel Equipment\n",
    "### IMU Sensor"
   ]
  },
  {
   "cell_type": "code",
   "execution_count": null,
   "metadata": {},
   "outputs": [],
   "source": [
    "imu_sensor = {}\n",
    "# ----------------------- Update these values ----------------------- \n",
    "\n",
    "sensor_serial_number = '123'         # imu serial number - REQUIRED\n",
    "imu_sensor['type'] = ''                 # type of imu\n",
    "imu_sensor['model'] = ''                # imu model number\n",
    "\n",
    "\n",
    "# Optional: Enter the start and end date/time of the ins payload\n",
    "ins_start = '1900-01-01T00:00:00'\n",
    "ins_end = '1900-01-01T00:00:00'\n",
    "\n",
    "\n",
    "# ----------------------- Do not update code below -----------------------     \n",
    "imu_sensor = start_and_end_dates(start_date=ins_start, end_date=ins_end, dict_to_update=imu_sensor)\n",
    "\n",
    "output = widgets.Output()\n",
    "display(widgets.HBox([buttons['new_imu_sensor'], buttons['existing_imu_sensor'], buttons['delete_imu_sensor'] ]),  output)\n",
    "buttons['new_imu_sensor'].on_click(functools.partial(vessel_class.new_equipment, sensor_serial_number, \"imuSensors\", imu_sensor, output))\n",
    "buttons['existing_imu_sensor'].on_click(functools.partial(vessel_class.update_equipment, sensor_serial_number, \"imuSensors\", imu_sensor, output))\n",
    "buttons['delete_imu_sensor'].on_click(functools.partial(vessel_class.delete_equipment, sensor_serial_number, \"imuSensors\", output))\n"
   ]
  },
  {
   "cell_type": "markdown",
   "metadata": {},
   "source": [
    "### GNSS receiver"
   ]
  },
  {
   "cell_type": "code",
   "execution_count": null,
   "metadata": {},
   "outputs": [],
   "source": [
    "gnss_receiver = {}\n",
    "# ----------------------- Update these values -----------------------  \n",
    "receiver_serial_number = '123'\n",
    "gnss_receiver['type'] = ''                  # type of gnss receiver e.g \"trimble netrs\"\n",
    "gnss_receiver['model'] = ''                 # receiver model number\n",
    "gnss_receiver['firmwareVersion'] = ''       # receiver firmware version\n",
    "\n",
    "# Optional: Enter the start and end date/time of the gnss receiver\n",
    "receiver_start = '1900-01-01T00:00:00'\n",
    "receiver_end = '1900-01-01T00:00:00'\n",
    "\n",
    "\n",
    "# ----------------------- Do not update code below -----------------------  \n",
    "gnss_receiver = start_and_end_dates(start_date=receiver_start, \n",
    "                                   end_date=receiver_end, \n",
    "                                   dict_to_update=gnss_receiver)\n",
    "\n",
    "# Button actions\n",
    "output = widgets.Output()\n",
    "display(widgets.HBox([buttons['new_receiver'], buttons['existing_receiver'], buttons['delete_receiver']]), output)\n",
    "buttons['new_receiver'].on_click(functools.partial(vessel_class.new_equipment,  receiver_serial_number, \"gnssReceivers\", gnss_receiver, output))\n",
    "buttons['existing_receiver'].on_click(functools.partial(vessel_class.update_equipment, receiver_serial_number, \"gnssReceivers\", gnss_receiver, output))\n",
    "buttons['delete_receiver'].on_click(functools.partial(vessel_class.delete_equipment, receiver_serial_number, \"gnssReceivers\", output))"
   ]
  },
  {
   "cell_type": "markdown",
   "metadata": {},
   "source": [
    "### GNSS antenna"
   ]
  },
  {
   "cell_type": "code",
   "execution_count": null,
   "metadata": {},
   "outputs": [],
   "source": [
    "gnss_antenna = {}\n",
    "# ----------------------- Update these values -----------------------  \n",
    "antenna_serial_number = '123'               # gnss antenna serial number - REQUIRED\n",
    "\n",
    "gnss_antenna['order']= ''                  # primary | secondary\n",
    "gnss_antenna['type'] = ''                  # type of gnss antenna e.g \"trimble\"\n",
    "gnss_antenna['model'] = ''                 # antenna model number\n",
    "gnss_antenna['radomeSerialNumber'] = ''    # antenna radome serial number\n",
    "\n",
    "# Optional: Enter the start and end date/time of the gnss antenna\n",
    "antenna_start = '1900-01-01T00:00:00'\n",
    "antenna_end = '1900-01-01T00:00:00'\n",
    "\n",
    "\n",
    "# ----------------------- Do not update code below -----------------------     \n",
    "gnss_antenna = start_and_end_dates(start_date=antenna_start, end_date=antenna_end, dict_to_update=gnss_antenna)\n",
    "    \n",
    "# Button actions\n",
    "output = widgets.Output()\n",
    "display(widgets.HBox([buttons['new_antenna'], buttons['existing_antenna'], buttons['delete_antenna']]), output)\n",
    "buttons['new_antenna'].on_click(functools.partial(vessel_class.new_equipment, antenna_serial_number, \"gnssAntennas\", gnss_antenna, output))\n",
    "buttons['existing_antenna'].on_click(functools.partial(vessel_class.update_equipment, antenna_serial_number, \"gnssAntennas\", gnss_antenna, output))\n",
    "buttons['delete_antenna'].on_click(functools.partial(vessel_class.delete_equipment, antenna_serial_number, \"gnssAntennas\", output))"
   ]
  },
  {
   "cell_type": "markdown",
   "metadata": {},
   "source": [
    "### Acoustic Transducer"
   ]
  },
  {
   "cell_type": "code",
   "execution_count": null,
   "metadata": {},
   "outputs": [],
   "source": [
    "transducer = {}\n",
    "# ----------------------- Update these values -----------------------  \n",
    "\n",
    "transducer_serial_number = '123'        # transducer serial number - REQUIRED\n",
    "transducer['type'] = ''                 # transducer model number\n",
    "transducer['frequency'] = ''            # frequency e.g MF/LMF\n",
    "\n",
    "# Optional: Enter the start/end date & time of the transducer\n",
    "transducer_start = '1900-01-01T00:00:00'\n",
    "transducer_end = '1900-01-01T00:00:00'\n",
    "\n",
    "\n",
    "# ----------------------- Do not update code below ----------------------- \n",
    "transducer = start_and_end_dates(start_date=transducer_start, end_date=transducer_end,  dict_to_update=transducer)\n",
    "# Button actions\n",
    "output = widgets.Output()\n",
    "display(widgets.HBox([buttons['new_transducer'], buttons['existing_transducer'], buttons['delete_transducer']]), output)\n",
    "buttons['new_transducer'].on_click(functools.partial(vessel_class.new_equipment, transducer_serial_number, \"acousticTransducer\", transducer, output))\n",
    "buttons['existing_transducer'].on_click(functools.partial(vessel_class.update_equipment, transducer_serial_number, \"acousticTransducer\", transducer, output))\n",
    "buttons['delete_transducer'].on_click(functools.partial(vessel_class.delete_equipment, transducer_serial_number, \"acousticTransducer\", output))"
   ]
  },
  {
   "cell_type": "markdown",
   "metadata": {},
   "source": [
    "### Acoustic Transceiver"
   ]
  },
  {
   "cell_type": "code",
   "execution_count": null,
   "metadata": {},
   "outputs": [],
   "source": [
    "transceiver = {}\n",
    "# ----------------------- Update these values -----------------------  \n",
    "transceiver_serial_number = '123'             # transceiver serial number - REQUIRED\n",
    "\n",
    "transceiver['type'] = ''                      # transceiver model number\n",
    "transceiver['frequency'] = ''                 # frequency e.g MF/LMF\n",
    "transceiver['triggerDelay'] = ''              # delay seconds\n",
    "transceiver['delayIncludedInTWTT'] = 'false'  # transceiver frequency e.g MF/LMF\n",
    "\n",
    "# Optional: Enter the start/end date & time of the transceiver\n",
    "transceiver_start = '1900-01-01T00:00:00'\n",
    "transceiver_end = '1900-01-01T00:00:00'\n",
    "\n",
    "\n",
    "# ----------------------- Do not update code below -----------------------  \n",
    "transceiver = start_and_end_dates(start_date=transceiver_start, end_date=transceiver_end, dict_to_update=transceiver)\n",
    "    \n",
    "# Button actions\n",
    "output = widgets.Output()\n",
    "display(widgets.HBox([buttons['new_transceiver'], buttons['existing_transceiver'], buttons['delete_transceiver']]), output)\n",
    "buttons['new_transceiver'].on_click(functools.partial(vessel_class.new_equipment, transceiver_serial_number, \"acousticTransceiver\", transceiver, output))\n",
    "buttons['existing_transceiver'].on_click(functools.partial(vessel_class.update_equipment, transceiver_serial_number, \"acousticTransceiver\", transceiver, output))\n",
    "buttons['delete_transceiver'].on_click(functools.partial(vessel_class.delete_equipment, transceiver_serial_number, \"acousticTransceiver\", output))"
   ]
  },
  {
   "cell_type": "markdown",
   "metadata": {},
   "source": [
    "### Acoustic to Transducer Offsets"
   ]
  },
  {
   "cell_type": "code",
   "execution_count": null,
   "metadata": {},
   "outputs": [],
   "source": [
    "atd = {}\n",
    "# ----------------------- Update these values -----------------------  \n",
    "\n",
    "atd['x'] = ''\n",
    "atd['y'] = ''\n",
    "atd['z'] = ''\n",
    "\n",
    "# Optional: Enter the start/end date & time of the transceiver\n",
    "atd_start = '1900-01-01T00:00:00'\n",
    "atd_end = '1900-01-01T00:00:00'\n",
    "\n",
    "# ----------------------- Do not update code below -----------------------  \n",
    "atd = start_and_end_dates(start_date=atd_start, end_date=atd_end,  dict_to_update=atd)    \n",
    "# Button actions\n",
    "output = widgets.Output()\n",
    "display(widgets.HBox([buttons['new_atd']]), output)\n",
    "buttons['new_atd'].on_click(functools.partial(vessel_class.add_atd_offsets, atd_survey_vessel, atd, output))\n",
    "# TODO how to update these values (no unique identifier)"
   ]
  },
  {
   "cell_type": "markdown",
   "metadata": {},
   "source": [
    "# Write out JSON file\n",
    "***\n",
    "This step can be completed at any time.\n",
    "\n",
    "* First check the contents..."
   ]
  },
  {
   "cell_type": "code",
   "execution_count": null,
   "metadata": {},
   "outputs": [],
   "source": [
    "print(json.dumps(vessel_class.to_dict(), indent=2))"
   ]
  },
  {
   "cell_type": "markdown",
   "metadata": {},
   "source": [
    "## Export Site to file"
   ]
  },
  {
   "cell_type": "code",
   "execution_count": null,
   "metadata": {},
   "outputs": [],
   "source": [
    "VESSEL_NAME = \"\" # Vessel name\n",
    "\n",
    "if not VESSEL_NAME:\n",
    "    raise ValueError(\"Please enter a vessel name\")\n",
    "file_path = f\"./{VESSEL_NAME}.json\"                            # Export file path you wish to store\n",
    "vessel_class.export_vessel(file_path)"
   ]
  }
 ],
 "metadata": {
  "kernelspec": {
   "display_name": "seafloor_geodesy",
   "language": "python",
   "name": "python3"
  },
  "language_info": {
   "codemirror_mode": {
    "name": "ipython",
    "version": 3
   },
   "file_extension": ".py",
   "mimetype": "text/x-python",
   "name": "python",
   "nbconvert_exporter": "python",
   "pygments_lexer": "ipython3",
   "version": "3.11.10"
  }
 },
 "nbformat": 4,
 "nbformat_minor": 2
}
