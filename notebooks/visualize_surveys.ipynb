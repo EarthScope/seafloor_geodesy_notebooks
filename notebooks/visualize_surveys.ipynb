{
 "cells": [
  {
   "cell_type": "markdown",
   "metadata": {},
   "source": [
    "# Survey Visualizatoin\n",
    "This notebook helps a user locate the start and stop times of different surveys patterns\n",
    "\n",
    "## Import Packages"
   ]
  },
  {
   "cell_type": "code",
   "execution_count": null,
   "metadata": {},
   "outputs": [],
   "source": [
    "import os\n",
    "import sys\n",
    "from pathlib import Path\n",
    "import json\n",
    "import pandas as pd\n",
    "from datetime import datetime, timedelta\n",
    "import tiledb\n",
    "import numpy as np\n",
    "from matplotlib import pyplot as plt\n",
    "from matplotlib.colors import Normalize\n",
    "import matplotlib.cm as cm\n",
    "import matplotlib.dates as mdates\n",
    "\n",
    "from es_sfgtools.processing.pipeline import DataHandler\n",
    "from es_sfgtools.utils.archive_pull import list_survey_files\n",
    "\n",
    "from es_sfgtools.utils.loggers import set_all_logger_levels, GNSSLogger, ProcessLogger\n",
    "from es_sfgtools.utils.metadata.site import import_site\n"
   ]
  },
  {
   "cell_type": "markdown",
   "metadata": {},
   "source": [
    "## Set Survey parameters"
   ]
  },
  {
   "cell_type": "code",
   "execution_count": null,
   "metadata": {},
   "outputs": [],
   "source": [
    "# Input survey parameters\n",
    "network='cascadia-gorda'\n",
    "site='GCC1'\n",
    "campaign_name='2024_A_1126'\n",
    "vessel_type = 'SV3'"
   ]
  },
  {
   "cell_type": "markdown",
   "metadata": {},
   "source": [
    "## Load and Inspect Existing Metadata"
   ]
  },
  {
   "cell_type": "code",
   "execution_count": null,
   "metadata": {},
   "outputs": [],
   "source": [
    "# Path to the metadata file\n",
    "metadata_uri = \"./site_vessels/GCC1.2025-03-19.json\"\n",
    "\n",
    "# Load and inspect existing metadata\n",
    "print(f\"Loading metadata from {metadata_uri} ... \\n Contains the following campaigns and surveys:\")\n",
    "site_meta = import_site(metadata_uri)\n",
    "\n",
    "for campaign in site_meta.campaigns:\n",
    "    if campaign.name == campaign_name:\n",
    "        start = campaign.start\n",
    "        end = campaign.end\n",
    "        print(f\"  Campaign: {campaign.name} \\n   Start: {start} \\n    End: {end}\")\n",
    "\n",
    "        for survey in campaign.surveys:\n",
    "            print(f\"  Survey: {survey.id} \\n   Start: {survey.start} \\n    End: {survey.end}\")"
   ]
  },
  {
   "cell_type": "markdown",
   "metadata": {},
   "source": [
    "## Set & create the data directory"
   ]
  },
  {
   "cell_type": "code",
   "execution_count": null,
   "metadata": {},
   "outputs": [],
   "source": [
    "\n",
    "# Set data directory path for local environment\n",
    "directory = './data/sfg'\n",
    "\n",
    "# Create data directory if it doesn't exist\n",
    "data_dir = Path(f\"{os.path.expanduser(directory)}\")\n",
    "os.makedirs(data_dir, exist_ok=True)\n",
    "\n",
    "#### USE THE FOLLOWING DEFAULTS UNLESS DESIRED ####\n",
    "data_handler = DataHandler(directory=data_dir)\n",
    "data_handler.change_working_station(network=network, \n",
    "                                    station=site, \n",
    "                                    campaign=campaign_name, \n",
    "                                    start_date=start.date(), \n",
    "                                    end_date=end.date())\n",
    "\n",
    "if vessel_type == 'SV3':\n",
    "    pipeline, config = data_handler.get_pipeline_sv3()\n",
    "elif vessel_type == 'SV2':\n",
    "    pipeline, config = data_handler.get_pipeline_sv2()\n",
    "else:\n",
    "    raise ValueError(f\"Vessel type {vessel_type} not recognized\")\n",
    "\n",
    "shotdata_uri = f\"{directory}{network}/{site}/TileDB/shotdata_db.tdb\""
   ]
  },
  {
   "cell_type": "markdown",
   "metadata": {},
   "source": [
    "# Get the acoustic (DFOP00) files from the archive"
   ]
  },
  {
   "cell_type": "code",
   "execution_count": null,
   "metadata": {},
   "outputs": [],
   "source": [
    "# Get DFOP00 file list from the archive\n",
    "remote_filepaths = list_survey_files(network=network, station=site, survey=campaign_name)\n",
    "\n",
    "# Add the data to the data handler\n",
    "data_handler.add_data_remote(remote_filepaths=remote_filepaths)\n",
    "\n",
    "# Download the data\n",
    "data_handler.download_data(file_types='dfop00', override=False)"
   ]
  },
  {
   "cell_type": "markdown",
   "metadata": {},
   "source": [
    "## Read DFOP00 files into shotdata array"
   ]
  },
  {
   "cell_type": "code",
   "execution_count": null,
   "metadata": {},
   "outputs": [],
   "source": [
    "# Read DFOP00 files into shotdata array\n",
    "config.dfop00_config.override=True\n",
    "pipeline.config = config\n",
    "pipeline.process_dfop00()"
   ]
  },
  {
   "cell_type": "code",
   "execution_count": null,
   "metadata": {},
   "outputs": [],
   "source": [
    "def read_df(uri, start: datetime, end: datetime = None, **kwargs) -> pd.DataFrame:\n",
    "    \"\"\" \n",
    "    Read a dataframe from the array between the start and end dates \n",
    "    \n",
    "    Args:\n",
    "        start (datetime.datetime): The start date\n",
    "        end (datetime.datetime, optional): The end date. Defaults to None.\n",
    "    \n",
    "    Returns:\n",
    "        pd.DataFrame: dataframe\n",
    "    \"\"\" \n",
    "\n",
    "    print(f\"Reading dataframe from {uri} for {start} to {end}\")\n",
    "    # TODO slice array by start and end and return the dataframe\n",
    "    if end is None:\n",
    "        end = start + timedelta(days=1)\n",
    "    with tiledb.open(str(uri), mode=\"r\") as array:\n",
    "        try:\n",
    "            df = array.df[slice(np.datetime64(start), np.datetime64(end)),:]\n",
    "        except IndexError as e:\n",
    "            print(e)\n",
    "            return None\n",
    "    # self.dataframe_schema.validate(df, lazy=True)\n",
    "    return df\n",
    "\n",
    "# Get the start and end dates of the campaign\n",
    "campaign_start = data_handler.date_range[0]\n",
    "campaign_end = data_handler.date_range[1]\n",
    "\n",
    "# Read the dataframe\n",
    "df = read_df(shotdata_uri, start=campaign_start, end=campaign_end)\n",
    "\n",
    "# Show the dataframe\n",
    "df"
   ]
  },
  {
   "cell_type": "markdown",
   "metadata": {},
   "source": [
    "## Plot waveglider locations"
   ]
  },
  {
   "cell_type": "code",
   "execution_count": null,
   "metadata": {},
   "outputs": [],
   "source": [
    "#start with no surveys, or load some from the metadata if exists\n",
    "\n",
    "surveys = []\n",
    "\n",
    "#meta = json.loads(Path(metadata_uri).read_text())\n",
    "#surveys = meta['campaigns'][0]['surveys']\n",
    "\n",
    "surveys"
   ]
  },
  {
   "cell_type": "code",
   "execution_count": null,
   "metadata": {},
   "outputs": [],
   "source": [
    "def plot_en(df, surveys, save_as=None):\n",
    "    fig, axs = plt.subplots(nrows=2, figsize=(16,10))  \n",
    "    #title = f\"{survey_name} {survey_type}\"\n",
    "    #save_as = f\"{survey_name}_{survey_type}_en.png\"\n",
    "    #fig.suptitle(title)\n",
    "    axs[0].set_ylabel(\"East (m)\")\n",
    "    axs[1].set_ylabel(\"North (m)\")\n",
    "    # colormap_times = df[\"triggerTime\"].apply(lambda x:x.timestamp()).to_numpy()\n",
    "    # colormap_times_scaled = (colormap_times - colormap_times.min())/3600\n",
    "    # norm = Normalize(\n",
    "    #     vmin=0,\n",
    "    #     vmax=(colormap_times.max() - colormap_times.min()) / 3600,\n",
    "    # )\n",
    "    sc0 = axs[0].scatter(\n",
    "        df[\"triggerTime\"],\n",
    "        df[\"east0\"],\n",
    "        # c=colormap_times_scaled,\n",
    "        # cmap=\"viridis\",\n",
    "        # norm=norm,\n",
    "        alpha=0.25\n",
    "    )\n",
    "    sc1 = axs[1].scatter(\n",
    "        df[\"triggerTime\"],\n",
    "        df[\"north0\"],\n",
    "        # c=colormap_times_scaled,\n",
    "        # cmap=\"viridis\",\n",
    "        # norm=norm,\n",
    "        alpha=0.25\n",
    "    )\n",
    "\n",
    "    survey_colors = cm.rainbow(np.linspace(0, 1, len(surveys)))\n",
    "    for ax in axs:\n",
    "        for i, survey in enumerate(surveys):\n",
    "            start = survey['start']\n",
    "            end = survey['end']\n",
    "            label = survey['type'] + \" \" + survey.get('notes',\"\")\n",
    "            ax.axvspan(pd.to_datetime(start),pd.to_datetime(end), color=survey_colors[i], alpha=0.3, label=label)\n",
    "            #ax.axvline(x=pd.to_datetime(end), color='r', linestyle='--')\n",
    "        # Make ticks on occurrences of each month:\n",
    "        ax.xaxis.set_major_locator(mdates.DayLocator())\n",
    "        # Get only the month to show in the x-axis:\n",
    "        ax.xaxis.set_major_formatter(mdates.DateFormatter('%m-%d'))\n",
    "        \n",
    "    plt.xticks(rotation=90)\n",
    "    axs[0].legend()\n",
    "    if save_as is not None:\n",
    "        plt.savefig(save_as)\n",
    "\n",
    "def plot_wg_position(df, survey_name, survey_type, start, end):\n",
    "    \n",
    "    temp_df = df[df['triggerTime']>=start]\n",
    "    temp_df = temp_df[df['triggerTime']<=end]\n",
    "    fig, ax = plt.subplots(figsize=(16,10))\n",
    "    title = f\"{survey_name} {survey_type} from {start.isoformat()} to {end.isoformat()}\"\n",
    "    save_as = f\"{survey_name}_{survey_type}.png\"\n",
    "    fig.suptitle(title)\n",
    "    ax.set_xlabel(\"East (m)\")\n",
    "    ax.set_ylabel(\"North (m)\")\n",
    "    #ax.scatter(0,0,label=\"Origin\",color=\"magenta\",s=100)\n",
    "    colormap_times = temp_df[\"triggerTime\"].apply(lambda x:x.timestamp()).to_numpy()\n",
    "    colormap_times_scaled = (colormap_times - colormap_times.min())/3600\n",
    "\n",
    "    norm = Normalize(\n",
    "        vmin=0,\n",
    "        vmax=(colormap_times.max() - colormap_times.min()) / 3600,\n",
    "    )\n",
    "    sc = ax.scatter(\n",
    "        temp_df[\"east0\"],\n",
    "        temp_df[\"north0\"],\n",
    "        c=colormap_times_scaled,\n",
    "        cmap=\"viridis\",\n",
    "        label=\"Antenna Position\",\n",
    "        norm=norm,\n",
    "        alpha=0.25\n",
    "    )\n",
    "    cbar = plt.colorbar(sc,label=\"Time (hr)\",norm=norm)\n",
    "    ax.legend()\n",
    "    plt.savefig(save_as)\n",
    "    print(temp_df.triggerTime.iloc[0].isoformat(), temp_df.triggerTime.iloc[-1].isoformat())\n"
   ]
  },
  {
   "cell_type": "code",
   "execution_count": null,
   "metadata": {},
   "outputs": [],
   "source": [
    "#adjust to remove any junk data at beginning or end if needed\n",
    "start = df.triggerTime.iloc[0] + timedelta(hours=0)\n",
    "end = df.triggerTime.iloc[-1]\n",
    "temp_df = df[df['triggerTime']>=start]\n",
    "temp_df = temp_df[df['triggerTime']<=end]\n",
    "\n",
    "plot_en(temp_df, surveys)\n",
    "plot_wg_position(df, f\"{site}_{campaign}\", \"all\", start, end)"
   ]
  },
  {
   "cell_type": "code",
   "execution_count": null,
   "metadata": {},
   "outputs": [],
   "source": [
    "##Update these for the survey you want to plot\n",
    "survey_name = f\"{site}_{campaign}_4\"\n",
    "survey_type = \"fixed\"\n",
    "start = datetime.fromisoformat(\"2022-05-04T22:00:00\")\n",
    "end = datetime.fromisoformat(\"2022-05-10T12:17:00\")\n",
    "\n",
    "##if you already have a survey in the metadata, you can load it and adjust from there\n",
    "#start = datetime.fromisoformat(survey['start'])\n",
    "#end = datetime.fromisoformat(survey['end'])\n",
    "# start += timedelta(hours=0)\n",
    "# end -= timedelta(hours=6)\n",
    "\n",
    "print(start.isoformat(), end.isoformat())\n",
    "\n",
    "survey = {\n",
    "    'start': start.isoformat(),\n",
    "    'end': end.isoformat(),\n",
    "    'type': survey_type,\n",
    "    'name': survey_name\n",
    "}\n",
    "plot_en(temp_df, [survey])\n",
    "plot_wg_position(df, survey_name, survey_type, start, end)"
   ]
  },
  {
   "cell_type": "code",
   "execution_count": null,
   "metadata": {},
   "outputs": [],
   "source": [
    "#use library tools to add survey to metadata\n",
    "# not yet implemented"
   ]
  },
  {
   "cell_type": "code",
   "execution_count": null,
   "metadata": {},
   "outputs": [],
   "source": [
    "#before running this cell, update the json file with the new surveys\n",
    "\n",
    "meta = json.loads(Path(metadata_uri).read_text())\n",
    "for campaign_meta in meta['campaigns']:\n",
    "    if campaign_meta['name'] == campaign:   \n",
    "        surveys = campaign_meta['surveys']\n",
    "\n",
    "plot_en(temp_df, surveys, save_as=f\"{site}_{campaign}_surveys.png\")"
   ]
  },
  {
   "cell_type": "code",
   "execution_count": null,
   "metadata": {},
   "outputs": [],
   "source": [
    "survey=surveys[4]\n",
    "survey_name = f\"{site}_{survey['id']}\"\n",
    "survey_type = survey['type']\n",
    "start = datetime.fromisoformat(survey['start'])\n",
    "end = datetime.fromisoformat(survey['end'])\n",
    "plot_wg_position(df, survey_name, survey_type, start, end)\n",
    "print(start.isoformat(), end.isoformat())"
   ]
  },
  {
   "cell_type": "code",
   "execution_count": null,
   "metadata": {},
   "outputs": [],
   "source": [
    "campaign"
   ]
  },
  {
   "cell_type": "code",
   "execution_count": null,
   "metadata": {},
   "outputs": [],
   "source": [
    "for survey in surveys:\n",
    "    survey_name = f\"{site}_{survey['id']}\"\n",
    "    survey_type = survey['type']\n",
    "    start = datetime.fromisoformat(survey['start'])\n",
    "    end = datetime.fromisoformat(survey['end'])\n",
    "    plot_wg_position(df, survey_name, survey_type, start, end)"
   ]
  },
  {
   "cell_type": "code",
   "execution_count": null,
   "metadata": {},
   "outputs": [],
   "source": []
  }
 ],
 "metadata": {
  "kernelspec": {
   "display_name": "seafloor_geodesy_mac",
   "language": "python",
   "name": "python3"
  },
  "language_info": {
   "codemirror_mode": {
    "name": "ipython",
    "version": 3
   },
   "file_extension": ".py",
   "mimetype": "text/x-python",
   "name": "python",
   "nbconvert_exporter": "python",
   "pygments_lexer": "ipython3",
   "version": "3.11.9"
  }
 },
 "nbformat": 4,
 "nbformat_minor": 2
}
