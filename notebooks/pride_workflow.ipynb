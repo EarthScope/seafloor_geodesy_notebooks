{
 "cells": [
  {
   "cell_type": "markdown",
   "metadata": {},
   "source": [
    "# Pride Workflow\n",
    "This notebook is used to develop and test the steps to generate PPP solutions efficiently"
   ]
  },
  {
   "cell_type": "code",
   "execution_count": 1,
   "metadata": {},
   "outputs": [],
   "source": [
    "import os\n",
    "from pathlib import Path\n",
    "import pandas as pd\n",
    "\n",
    "from es_sfgtools.pipeline import DataHandler\n",
    "from es_sfgtools.utils.archive_pull import (\n",
    "    list_survey_files\n",
    "    )"
   ]
  },
  {
   "cell_type": "markdown",
   "metadata": {},
   "source": [
    "## Step 1. Initial Setup\n"
   ]
  },
  {
   "cell_type": "markdown",
   "metadata": {},
   "source": [
    "#### Browse available surveys from the community archive and select target\n",
    "- Locate the survey of interest in https://gage-data.earthscope.org/archive/seafloor, and note the `network`, `station`, and `survey` names, which will be input in the cell below.\n",
    "- In order to use this notebook to process new surveys, the data must first be submitted and made available from the community archive "
   ]
  },
  {
   "cell_type": "markdown",
   "metadata": {},
   "source": [
    "# Step 2. Inventory available data and its location"
   ]
  },
  {
   "cell_type": "code",
   "execution_count": 2,
   "metadata": {},
   "outputs": [
    {
     "name": "stdout",
     "output_type": "stream",
     "text": [
      "Data Handler initialized, data will be stored in /Users/gottlieb/working/GIT/seafloor_geodesy_notebooks/notebooks/data/aleutian/SEM1/2022_A_1049\n"
     ]
    }
   ],
   "source": [
    "network='aleutian'\n",
    "\n",
    "#SV2 test \n",
    "# site='SPT1'\n",
    "# survey='2020_A_UOH1'\n",
    "\n",
    "#SV3 test\n",
    "site='SEM1'\n",
    "survey='2022_A_1049'\n",
    "\n",
    "#### USE THE FOLLOWING DEFAULTS UNLESS DESIRED####\n",
    "\n",
    "# Set data directory\n",
    "data_dir = Path(f\"{os.getcwd()}/data\")\n",
    "\n",
    "data_handler = DataHandler(network=network, station=site, survey=survey, data_dir=data_dir)"
   ]
  },
  {
   "cell_type": "code",
   "execution_count": 3,
   "metadata": {},
   "outputs": [
    {
     "name": "stdout",
     "output_type": "stream",
     "text": [
      "Found under https://gage-data.earthscope.org/archive/seafloor/aleutian/SEM1/2022_A_1049/raw:\n",
      "    132 novatel000 file(s)\n",
      "    54 novatel770 file(s)\n",
      "    9 dfop00 file(s)\n",
      "    1 master file(s)\n",
      "    1 lever_arms file(s)\n",
      "    2 ctd file(s)\n",
      "CPU times: user 14.6 ms, sys: 7.1 ms, total: 21.7 ms\n",
      "Wall time: 1.71 s\n"
     ]
    }
   ],
   "source": [
    "%%time\n",
    "# Generate a list of files available from remote archive\n",
    "#TODO: implement options for raw vs intermediate vs processed \n",
    "remote_filepaths = list_survey_files(network=network, station=site, survey=survey, show_details=True)"
   ]
  },
  {
   "cell_type": "code",
   "execution_count": 4,
   "metadata": {},
   "outputs": [
    {
     "name": "stdout",
     "output_type": "stream",
     "text": [
      "Local data directory contains the following:\n",
      "    novatel770: 54\n",
      "    rinex: 54\n"
     ]
    }
   ],
   "source": [
    "# See what files exist locally\n",
    "data_type_counts = data_handler.get_dtype_counts()\n",
    "print(f\"Local data directory contains the following:\")\n",
    "for item in data_type_counts.items():\n",
    "    print(f\"    {item[0]}: {item[1]}\")"
   ]
  },
  {
   "cell_type": "markdown",
   "metadata": {},
   "source": [
    "## Step 3. Pull data from remote archive"
   ]
  },
  {
   "cell_type": "code",
   "execution_count": 5,
   "metadata": {},
   "outputs": [
    {
     "name": "stdout",
     "output_type": "stream",
     "text": [
      "Total remote files found 66\n",
      "Total files tracked in catalog 120\n",
      "No new files found to add\n"
     ]
    }
   ],
   "source": [
    "#Add found remote files to the local catalog.  Note this builds an inventory, \n",
    "#but does not do the downloading until a later step.\n",
    "# TODO: Detail counts of files local vs only remote\n",
    "data_handler.add_data_remote(remote_filepaths=remote_filepaths)\n"
   ]
  },
  {
   "cell_type": "code",
   "execution_count": 6,
   "metadata": {},
   "outputs": [
    {
     "name": "stdout",
     "output_type": "stream",
     "text": [
      "No new files of type novatel770 to download\n"
     ]
    }
   ],
   "source": [
    "# Download the files by type\n",
    "#data_handler.download_data(file_type='novatel', show_details=False)\n",
    "data_handler.download_data(file_type='novatel770', show_details=False)\n"
   ]
  },
  {
   "cell_type": "code",
   "execution_count": 7,
   "metadata": {},
   "outputs": [
    {
     "name": "stdout",
     "output_type": "stream",
     "text": [
      "No unprocessed data found in catalog for types ['pin']\n",
      "Processing 54 Parent Files to rinex Data\n",
      "/Users/gottlieb/working/GIT/seafloor_geodesy_notebooks/notebooks/data/aleutian/SEM1/2022_A_1049/raw/329653_001_20220708_031933_00204_NOV770.raw\n",
      "/Users/gottlieb/working/GIT/seafloor_geodesy_notebooks/notebooks/data/aleutian/SEM1/2022_A_1049/raw/329653_001_20220708_064617_00204_NOV770.raw\n",
      "/Users/gottlieb/working/GIT/seafloor_geodesy_notebooks/notebooks/data/aleutian/SEM1/2022_A_1049/raw/329653_001_20220708_101847_00204_NOV770.raw\n",
      "/Users/gottlieb/working/GIT/seafloor_geodesy_notebooks/notebooks/data/aleutian/SEM1/2022_A_1049/raw/329653_001_20220708_134658_00204_NOV770.raw\n",
      "/Users/gottlieb/working/GIT/seafloor_geodesy_notebooks/notebooks/data/aleutian/SEM1/2022_A_1049/raw/329653_001_20220708_172439_00204_NOV770.raw\n",
      "/Users/gottlieb/working/GIT/seafloor_geodesy_notebooks/notebooks/data/aleutian/SEM1/2022_A_1049/raw/329653_001_20220708_210146_00204_NOV770.raw\n",
      "/Users/gottlieb/working/GIT/seafloor_geodesy_notebooks/notebooks/data/aleutian/SEM1/2022_A_1049/raw/329653_001_20220709_004026_00204_NOV770.raw\n",
      "/Users/gottlieb/working/GIT/seafloor_geodesy_notebooks/notebooks/data/aleutian/SEM1/2022_A_1049/raw/329653_001_20220709_031916_00205_NOV770.raw\n",
      "/Users/gottlieb/working/GIT/seafloor_geodesy_notebooks/notebooks/data/aleutian/SEM1/2022_A_1049/raw/329653_001_20220709_063658_00205_NOV770.raw\n",
      "/Users/gottlieb/working/GIT/seafloor_geodesy_notebooks/notebooks/data/aleutian/SEM1/2022_A_1049/raw/329653_001_20220709_101029_00205_NOV770.raw\n",
      "/Users/gottlieb/working/GIT/seafloor_geodesy_notebooks/notebooks/data/aleutian/SEM1/2022_A_1049/raw/329653_001_20220709_134352_00205_NOV770.raw\n",
      "/Users/gottlieb/working/GIT/seafloor_geodesy_notebooks/notebooks/data/aleutian/SEM1/2022_A_1049/raw/329653_001_20220709_172224_00205_NOV770.raw\n",
      "/Users/gottlieb/working/GIT/seafloor_geodesy_notebooks/notebooks/data/aleutian/SEM1/2022_A_1049/raw/329653_001_20220709_205311_00205_NOV770.raw\n",
      "/Users/gottlieb/working/GIT/seafloor_geodesy_notebooks/notebooks/data/aleutian/SEM1/2022_A_1049/raw/329653_001_20220710_003743_00205_NOV770.raw\n",
      "/Users/gottlieb/working/GIT/seafloor_geodesy_notebooks/notebooks/data/aleutian/SEM1/2022_A_1049/raw/329653_001_20220710_031916_00206_NOV770.raw\n",
      "/Users/gottlieb/working/GIT/seafloor_geodesy_notebooks/notebooks/data/aleutian/SEM1/2022_A_1049/raw/329653_001_20220710_063805_00206_NOV770.raw\n",
      "/Users/gottlieb/working/GIT/seafloor_geodesy_notebooks/notebooks/data/aleutian/SEM1/2022_A_1049/raw/329653_001_20220710_101100_00206_NOV770.raw\n",
      "/Users/gottlieb/working/GIT/seafloor_geodesy_notebooks/notebooks/data/aleutian/SEM1/2022_A_1049/raw/329653_001_20220710_134624_00206_NOV770.raw\n",
      "/Users/gottlieb/working/GIT/seafloor_geodesy_notebooks/notebooks/data/aleutian/SEM1/2022_A_1049/raw/329653_001_20220710_170104_00207_NOV770.raw\n",
      "/Users/gottlieb/working/GIT/seafloor_geodesy_notebooks/notebooks/data/aleutian/SEM1/2022_A_1049/raw/329653_001_20220710_204026_00207_NOV770.raw\n",
      "/Users/gottlieb/working/GIT/seafloor_geodesy_notebooks/notebooks/data/aleutian/SEM1/2022_A_1049/raw/329653_001_20220711_001440_00207_NOV770.raw\n",
      "/Users/gottlieb/working/GIT/seafloor_geodesy_notebooks/notebooks/data/aleutian/SEM1/2022_A_1049/raw/329653_001_20220711_034147_00207_NOV770.raw\n",
      "/Users/gottlieb/working/GIT/seafloor_geodesy_notebooks/notebooks/data/aleutian/SEM1/2022_A_1049/raw/329653_001_20220711_070539_00207_NOV770.raw\n",
      "/Users/gottlieb/working/GIT/seafloor_geodesy_notebooks/notebooks/data/aleutian/SEM1/2022_A_1049/raw/329653_001_20220711_105217_00207_NOV770.raw\n",
      "/Users/gottlieb/working/GIT/seafloor_geodesy_notebooks/notebooks/data/aleutian/SEM1/2022_A_1049/raw/329653_001_20220711_142207_00207_NOV770.raw\n",
      "/Users/gottlieb/working/GIT/seafloor_geodesy_notebooks/notebooks/data/aleutian/SEM1/2022_A_1049/raw/329653_001_20220711_170049_00208_NOV770.raw\n",
      "/Users/gottlieb/working/GIT/seafloor_geodesy_notebooks/notebooks/data/aleutian/SEM1/2022_A_1049/raw/329653_001_20220711_204345_00208_NOV770.raw\n",
      "/Users/gottlieb/working/GIT/seafloor_geodesy_notebooks/notebooks/data/aleutian/SEM1/2022_A_1049/raw/329653_001_20220712_001346_00208_NOV770.raw\n",
      "/Users/gottlieb/working/GIT/seafloor_geodesy_notebooks/notebooks/data/aleutian/SEM1/2022_A_1049/raw/329653_001_20220712_034038_00208_NOV770.raw\n",
      "/Users/gottlieb/working/GIT/seafloor_geodesy_notebooks/notebooks/data/aleutian/SEM1/2022_A_1049/raw/329653_001_20220712_070924_00208_NOV770.raw\n",
      "/Users/gottlieb/working/GIT/seafloor_geodesy_notebooks/notebooks/data/aleutian/SEM1/2022_A_1049/raw/329653_001_20220712_105838_00208_NOV770.raw\n",
      "/Users/gottlieb/working/GIT/seafloor_geodesy_notebooks/notebooks/data/aleutian/SEM1/2022_A_1049/raw/329653_001_20220712_143246_00208_NOV770.raw\n",
      "/Users/gottlieb/working/GIT/seafloor_geodesy_notebooks/notebooks/data/aleutian/SEM1/2022_A_1049/raw/329653_001_20220712_170047_00209_NOV770.raw\n",
      "/Users/gottlieb/working/GIT/seafloor_geodesy_notebooks/notebooks/data/aleutian/SEM1/2022_A_1049/raw/329653_001_20220712_203839_00209_NOV770.raw\n",
      "/Users/gottlieb/working/GIT/seafloor_geodesy_notebooks/notebooks/data/aleutian/SEM1/2022_A_1049/raw/329653_001_20220713_000510_00209_NOV770.raw\n",
      "/Users/gottlieb/working/GIT/seafloor_geodesy_notebooks/notebooks/data/aleutian/SEM1/2022_A_1049/raw/329653_001_20220713_033722_00209_NOV770.raw\n",
      "/Users/gottlieb/working/GIT/seafloor_geodesy_notebooks/notebooks/data/aleutian/SEM1/2022_A_1049/raw/329653_001_20220713_071159_00209_NOV770.raw\n",
      "/Users/gottlieb/working/GIT/seafloor_geodesy_notebooks/notebooks/data/aleutian/SEM1/2022_A_1049/raw/329653_001_20220713_105528_00209_NOV770.raw\n",
      "/Users/gottlieb/working/GIT/seafloor_geodesy_notebooks/notebooks/data/aleutian/SEM1/2022_A_1049/raw/329653_001_20220713_143256_00209_NOV770.raw\n",
      "/Users/gottlieb/working/GIT/seafloor_geodesy_notebooks/notebooks/data/aleutian/SEM1/2022_A_1049/raw/329653_001_20220713_170046_00210_NOV770.raw\n",
      "/Users/gottlieb/working/GIT/seafloor_geodesy_notebooks/notebooks/data/aleutian/SEM1/2022_A_1049/raw/329653_001_20220713_203459_00210_NOV770.raw\n",
      "/Users/gottlieb/working/GIT/seafloor_geodesy_notebooks/notebooks/data/aleutian/SEM1/2022_A_1049/raw/329653_001_20220714_001129_00210_NOV770.raw\n",
      "/Users/gottlieb/working/GIT/seafloor_geodesy_notebooks/notebooks/data/aleutian/SEM1/2022_A_1049/raw/329653_001_20220714_034656_00210_NOV770.raw\n",
      "/Users/gottlieb/working/GIT/seafloor_geodesy_notebooks/notebooks/data/aleutian/SEM1/2022_A_1049/raw/329653_001_20220714_072325_00210_NOV770.raw\n",
      "/Users/gottlieb/working/GIT/seafloor_geodesy_notebooks/notebooks/data/aleutian/SEM1/2022_A_1049/raw/329653_001_20220714_110732_00210_NOV770.raw\n",
      "/Users/gottlieb/working/GIT/seafloor_geodesy_notebooks/notebooks/data/aleutian/SEM1/2022_A_1049/raw/329653_001_20220714_143842_00210_NOV770.raw\n",
      "/Users/gottlieb/working/GIT/seafloor_geodesy_notebooks/notebooks/data/aleutian/SEM1/2022_A_1049/raw/329653_001_20220714_170045_00211_NOV770.raw\n",
      "/Users/gottlieb/working/GIT/seafloor_geodesy_notebooks/notebooks/data/aleutian/SEM1/2022_A_1049/raw/329653_001_20220714_204511_00211_NOV770.raw\n",
      "/Users/gottlieb/working/GIT/seafloor_geodesy_notebooks/notebooks/data/aleutian/SEM1/2022_A_1049/raw/329653_001_20220715_001806_00211_NOV770.raw\n",
      "/Users/gottlieb/working/GIT/seafloor_geodesy_notebooks/notebooks/data/aleutian/SEM1/2022_A_1049/raw/329653_001_20220715_040027_00211_NOV770.raw\n",
      "/Users/gottlieb/working/GIT/seafloor_geodesy_notebooks/notebooks/data/aleutian/SEM1/2022_A_1049/raw/329653_001_20220715_072929_00211_NOV770.raw\n",
      "/Users/gottlieb/working/GIT/seafloor_geodesy_notebooks/notebooks/data/aleutian/SEM1/2022_A_1049/raw/329653_001_20220715_111847_00211_NOV770.raw\n",
      "/Users/gottlieb/working/GIT/seafloor_geodesy_notebooks/notebooks/data/aleutian/SEM1/2022_A_1049/raw/329653_001_20220715_144540_00211_NOV770.raw\n",
      "/Users/gottlieb/working/GIT/seafloor_geodesy_notebooks/notebooks/data/aleutian/SEM1/2022_A_1049/raw/329653_001_20220715_170044_00212_NOV770.raw\n"
     ]
    },
    {
     "data": {
      "application/vnd.jupyter.widget-view+json": {
       "model_id": "fe4a2cf7488240b5ab6850c4235e15e9",
       "version_major": 2,
       "version_minor": 0
      },
      "text/plain": [
       "Processing novatel770 To rinex:   0%|          | 0/54 [00:00<?, ?it/s]"
      ]
     },
     "metadata": {},
     "output_type": "display_data"
    },
    {
     "name": "stdout",
     "output_type": "stream",
     "text": [
      "{'id': 216, 'network': 'aleutian', 'station': 'SEM1', 'survey': '2022_A_1049', 'remote_path': 'https://gage-data.earthscope.org/archive/seafloor/aleutian/SEM1/2022_A_1049/raw/329653_001_20220708_031933_00204_NOV770.raw', 'remote_type': 'http', 'local_path': '/Users/gottlieb/working/GIT/seafloor_geodesy_notebooks/notebooks/data/aleutian/SEM1/2022_A_1049/raw/329653_001_20220708_031933_00204_NOV770.raw', 'type': 'novatel770', 'timestamp_data_start': datetime.datetime(2022, 7, 8, 3, 20, 7), 'timestamp_data_end': datetime.datetime(2022, 7, 8, 6, 46, 34), 'timestamp_created': datetime.datetime(2024, 9, 16, 12, 55, 16, 734065), 'parent_id': None}\n",
      "{'network': 'aleutian', 'station': 'SEM1', 'survey': '2022_A_1049', 'local_path': '/Users/gottlieb/working/GIT/seafloor_geodesy_notebooks/notebooks/data/aleutian/SEM1/2022_A_1049/intermediate/SEM1_20220708031933.rinex', 'type': 'rinex', 'timestamp_data_start': datetime.datetime(2022, 7, 8, 3, 20, 7), 'timestamp_data_end': datetime.datetime(2022, 7, 8, 6, 46, 34), 'parent_id': 216}\n",
      "{'id': 218, 'network': 'aleutian', 'station': 'SEM1', 'survey': '2022_A_1049', 'remote_path': 'https://gage-data.earthscope.org/archive/seafloor/aleutian/SEM1/2022_A_1049/raw/329653_001_20220708_064617_00204_NOV770.raw', 'remote_type': 'http', 'local_path': '/Users/gottlieb/working/GIT/seafloor_geodesy_notebooks/notebooks/data/aleutian/SEM1/2022_A_1049/raw/329653_001_20220708_064617_00204_NOV770.raw', 'type': 'novatel770', 'timestamp_data_start': datetime.datetime(2022, 7, 8, 6, 46, 35), 'timestamp_data_end': datetime.datetime(2022, 7, 8, 10, 19, 5), 'timestamp_created': datetime.datetime(2024, 9, 16, 12, 55, 16, 734278), 'parent_id': None}\n",
      "{'network': 'aleutian', 'station': 'SEM1', 'survey': '2022_A_1049', 'local_path': '/Users/gottlieb/working/GIT/seafloor_geodesy_notebooks/notebooks/data/aleutian/SEM1/2022_A_1049/intermediate/SEM1_20220708064617.rinex', 'type': 'rinex', 'timestamp_data_start': datetime.datetime(2022, 7, 8, 6, 46, 35), 'timestamp_data_end': datetime.datetime(2022, 7, 8, 10, 19, 5), 'parent_id': 218}\n",
      "{'id': 219, 'network': 'aleutian', 'station': 'SEM1', 'survey': '2022_A_1049', 'remote_path': 'https://gage-data.earthscope.org/archive/seafloor/aleutian/SEM1/2022_A_1049/raw/329653_001_20220708_101847_00204_NOV770.raw', 'remote_type': 'http', 'local_path': '/Users/gottlieb/working/GIT/seafloor_geodesy_notebooks/notebooks/data/aleutian/SEM1/2022_A_1049/raw/329653_001_20220708_101847_00204_NOV770.raw', 'type': 'novatel770', 'timestamp_data_start': datetime.datetime(2022, 7, 8, 10, 19, 5), 'timestamp_data_end': datetime.datetime(2022, 7, 8, 13, 47, 16), 'timestamp_created': datetime.datetime(2024, 9, 16, 12, 55, 16, 734382), 'parent_id': None}\n",
      "{'network': 'aleutian', 'station': 'SEM1', 'survey': '2022_A_1049', 'local_path': '/Users/gottlieb/working/GIT/seafloor_geodesy_notebooks/notebooks/data/aleutian/SEM1/2022_A_1049/intermediate/SEM1_20220708101847.rinex', 'type': 'rinex', 'timestamp_data_start': datetime.datetime(2022, 7, 8, 10, 19, 5), 'timestamp_data_end': datetime.datetime(2022, 7, 8, 13, 47, 16), 'parent_id': 219}\n",
      "{'id': 220, 'network': 'aleutian', 'station': 'SEM1', 'survey': '2022_A_1049', 'remote_path': 'https://gage-data.earthscope.org/archive/seafloor/aleutian/SEM1/2022_A_1049/raw/329653_001_20220708_134658_00204_NOV770.raw', 'remote_type': 'http', 'local_path': '/Users/gottlieb/working/GIT/seafloor_geodesy_notebooks/notebooks/data/aleutian/SEM1/2022_A_1049/raw/329653_001_20220708_134658_00204_NOV770.raw', 'type': 'novatel770', 'timestamp_data_start': datetime.datetime(2022, 7, 8, 13, 47, 16), 'timestamp_data_end': datetime.datetime(2022, 7, 8, 17, 24, 57), 'timestamp_created': datetime.datetime(2024, 9, 16, 12, 55, 16, 734701), 'parent_id': None}\n",
      "{'network': 'aleutian', 'station': 'SEM1', 'survey': '2022_A_1049', 'local_path': '/Users/gottlieb/working/GIT/seafloor_geodesy_notebooks/notebooks/data/aleutian/SEM1/2022_A_1049/intermediate/SEM1_20220708134658.rinex', 'type': 'rinex', 'timestamp_data_start': datetime.datetime(2022, 7, 8, 13, 47, 16), 'timestamp_data_end': datetime.datetime(2022, 7, 8, 17, 24, 57), 'parent_id': 220}\n",
      "{'id': 221, 'network': 'aleutian', 'station': 'SEM1', 'survey': '2022_A_1049', 'remote_path': 'https://gage-data.earthscope.org/archive/seafloor/aleutian/SEM1/2022_A_1049/raw/329653_001_20220708_172439_00204_NOV770.raw', 'remote_type': 'http', 'local_path': '/Users/gottlieb/working/GIT/seafloor_geodesy_notebooks/notebooks/data/aleutian/SEM1/2022_A_1049/raw/329653_001_20220708_172439_00204_NOV770.raw', 'type': 'novatel770', 'timestamp_data_start': datetime.datetime(2022, 7, 8, 17, 24, 57), 'timestamp_data_end': datetime.datetime(2022, 7, 8, 21, 2, 4), 'timestamp_created': datetime.datetime(2024, 9, 16, 12, 55, 16, 735198), 'parent_id': None}\n",
      "{'network': 'aleutian', 'station': 'SEM1', 'survey': '2022_A_1049', 'local_path': '/Users/gottlieb/working/GIT/seafloor_geodesy_notebooks/notebooks/data/aleutian/SEM1/2022_A_1049/intermediate/SEM1_20220708172439.rinex', 'type': 'rinex', 'timestamp_data_start': datetime.datetime(2022, 7, 8, 17, 24, 57), 'timestamp_data_end': datetime.datetime(2022, 7, 8, 21, 2, 4), 'parent_id': 221}\n",
      "{'id': 222, 'network': 'aleutian', 'station': 'SEM1', 'survey': '2022_A_1049', 'remote_path': 'https://gage-data.earthscope.org/archive/seafloor/aleutian/SEM1/2022_A_1049/raw/329653_001_20220708_210146_00204_NOV770.raw', 'remote_type': 'http', 'local_path': '/Users/gottlieb/working/GIT/seafloor_geodesy_notebooks/notebooks/data/aleutian/SEM1/2022_A_1049/raw/329653_001_20220708_210146_00204_NOV770.raw', 'type': 'novatel770', 'timestamp_data_start': datetime.datetime(2022, 7, 8, 21, 2, 4), 'timestamp_data_end': datetime.datetime(2022, 7, 9, 0, 40, 44), 'timestamp_created': datetime.datetime(2024, 9, 16, 12, 55, 16, 735513), 'parent_id': None}\n",
      "{'network': 'aleutian', 'station': 'SEM1', 'survey': '2022_A_1049', 'local_path': '/Users/gottlieb/working/GIT/seafloor_geodesy_notebooks/notebooks/data/aleutian/SEM1/2022_A_1049/intermediate/SEM1_20220708210146.rinex', 'type': 'rinex', 'timestamp_data_start': datetime.datetime(2022, 7, 8, 21, 2, 4), 'timestamp_data_end': datetime.datetime(2022, 7, 9, 0, 40, 44), 'parent_id': 222}\n",
      "{'id': 223, 'network': 'aleutian', 'station': 'SEM1', 'survey': '2022_A_1049', 'remote_path': 'https://gage-data.earthscope.org/archive/seafloor/aleutian/SEM1/2022_A_1049/raw/329653_001_20220709_004026_00204_NOV770.raw', 'remote_type': 'http', 'local_path': '/Users/gottlieb/working/GIT/seafloor_geodesy_notebooks/notebooks/data/aleutian/SEM1/2022_A_1049/raw/329653_001_20220709_004026_00204_NOV770.raw', 'type': 'novatel770', 'timestamp_data_start': datetime.datetime(2022, 7, 9, 0, 40, 44), 'timestamp_data_end': datetime.datetime(2022, 7, 9, 3, 19, 34), 'timestamp_created': datetime.datetime(2024, 9, 16, 12, 55, 16, 735925), 'parent_id': None}\n",
      "{'network': 'aleutian', 'station': 'SEM1', 'survey': '2022_A_1049', 'local_path': '/Users/gottlieb/working/GIT/seafloor_geodesy_notebooks/notebooks/data/aleutian/SEM1/2022_A_1049/intermediate/SEM1_20220709004026.rinex', 'type': 'rinex', 'timestamp_data_start': datetime.datetime(2022, 7, 9, 0, 40, 44), 'timestamp_data_end': datetime.datetime(2022, 7, 9, 3, 19, 34), 'parent_id': 223}\n",
      "{'id': 224, 'network': 'aleutian', 'station': 'SEM1', 'survey': '2022_A_1049', 'remote_path': 'https://gage-data.earthscope.org/archive/seafloor/aleutian/SEM1/2022_A_1049/raw/329653_001_20220709_031916_00205_NOV770.raw', 'remote_type': 'http', 'local_path': '/Users/gottlieb/working/GIT/seafloor_geodesy_notebooks/notebooks/data/aleutian/SEM1/2022_A_1049/raw/329653_001_20220709_031916_00205_NOV770.raw', 'type': 'novatel770', 'timestamp_data_start': datetime.datetime(2022, 7, 9, 3, 19, 34), 'timestamp_data_end': datetime.datetime(2022, 7, 9, 6, 37, 16), 'timestamp_created': datetime.datetime(2024, 9, 16, 12, 55, 16, 736206), 'parent_id': None}\n",
      "{'network': 'aleutian', 'station': 'SEM1', 'survey': '2022_A_1049', 'local_path': '/Users/gottlieb/working/GIT/seafloor_geodesy_notebooks/notebooks/data/aleutian/SEM1/2022_A_1049/intermediate/SEM1_20220709031916.rinex', 'type': 'rinex', 'timestamp_data_start': datetime.datetime(2022, 7, 9, 3, 19, 34), 'timestamp_data_end': datetime.datetime(2022, 7, 9, 6, 37, 16), 'parent_id': 224}\n",
      "{'id': 226, 'network': 'aleutian', 'station': 'SEM1', 'survey': '2022_A_1049', 'remote_path': 'https://gage-data.earthscope.org/archive/seafloor/aleutian/SEM1/2022_A_1049/raw/329653_001_20220709_063658_00205_NOV770.raw', 'remote_type': 'http', 'local_path': '/Users/gottlieb/working/GIT/seafloor_geodesy_notebooks/notebooks/data/aleutian/SEM1/2022_A_1049/raw/329653_001_20220709_063658_00205_NOV770.raw', 'type': 'novatel770', 'timestamp_data_start': datetime.datetime(2022, 7, 9, 6, 37, 16), 'timestamp_data_end': datetime.datetime(2022, 7, 9, 10, 10, 47), 'timestamp_created': datetime.datetime(2024, 9, 16, 12, 55, 16, 736381), 'parent_id': None}\n",
      "{'network': 'aleutian', 'station': 'SEM1', 'survey': '2022_A_1049', 'local_path': '/Users/gottlieb/working/GIT/seafloor_geodesy_notebooks/notebooks/data/aleutian/SEM1/2022_A_1049/intermediate/SEM1_20220709063658.rinex', 'type': 'rinex', 'timestamp_data_start': datetime.datetime(2022, 7, 9, 6, 37, 16), 'timestamp_data_end': datetime.datetime(2022, 7, 9, 10, 10, 47), 'parent_id': 226}\n",
      "{'id': 227, 'network': 'aleutian', 'station': 'SEM1', 'survey': '2022_A_1049', 'remote_path': 'https://gage-data.earthscope.org/archive/seafloor/aleutian/SEM1/2022_A_1049/raw/329653_001_20220709_101029_00205_NOV770.raw', 'remote_type': 'http', 'local_path': '/Users/gottlieb/working/GIT/seafloor_geodesy_notebooks/notebooks/data/aleutian/SEM1/2022_A_1049/raw/329653_001_20220709_101029_00205_NOV770.raw', 'type': 'novatel770', 'timestamp_data_start': datetime.datetime(2022, 7, 9, 10, 10, 47), 'timestamp_data_end': datetime.datetime(2022, 7, 9, 13, 44, 10), 'timestamp_created': datetime.datetime(2024, 9, 16, 12, 55, 16, 736478), 'parent_id': None}\n",
      "{'network': 'aleutian', 'station': 'SEM1', 'survey': '2022_A_1049', 'local_path': '/Users/gottlieb/working/GIT/seafloor_geodesy_notebooks/notebooks/data/aleutian/SEM1/2022_A_1049/intermediate/SEM1_20220709101029.rinex', 'type': 'rinex', 'timestamp_data_start': datetime.datetime(2022, 7, 9, 10, 10, 47), 'timestamp_data_end': datetime.datetime(2022, 7, 9, 13, 44, 10), 'parent_id': 227}\n",
      "{'id': 228, 'network': 'aleutian', 'station': 'SEM1', 'survey': '2022_A_1049', 'remote_path': 'https://gage-data.earthscope.org/archive/seafloor/aleutian/SEM1/2022_A_1049/raw/329653_001_20220709_134352_00205_NOV770.raw', 'remote_type': 'http', 'local_path': '/Users/gottlieb/working/GIT/seafloor_geodesy_notebooks/notebooks/data/aleutian/SEM1/2022_A_1049/raw/329653_001_20220709_134352_00205_NOV770.raw', 'type': 'novatel770', 'timestamp_data_start': datetime.datetime(2022, 7, 9, 13, 44, 10), 'timestamp_data_end': datetime.datetime(2022, 7, 9, 17, 22, 42), 'timestamp_created': datetime.datetime(2024, 9, 16, 12, 55, 16, 736639), 'parent_id': None}\n",
      "{'network': 'aleutian', 'station': 'SEM1', 'survey': '2022_A_1049', 'local_path': '/Users/gottlieb/working/GIT/seafloor_geodesy_notebooks/notebooks/data/aleutian/SEM1/2022_A_1049/intermediate/SEM1_20220709134352.rinex', 'type': 'rinex', 'timestamp_data_start': datetime.datetime(2022, 7, 9, 13, 44, 10), 'timestamp_data_end': datetime.datetime(2022, 7, 9, 17, 22, 42), 'parent_id': 228}\n",
      "{'id': 229, 'network': 'aleutian', 'station': 'SEM1', 'survey': '2022_A_1049', 'remote_path': 'https://gage-data.earthscope.org/archive/seafloor/aleutian/SEM1/2022_A_1049/raw/329653_001_20220709_172224_00205_NOV770.raw', 'remote_type': 'http', 'local_path': '/Users/gottlieb/working/GIT/seafloor_geodesy_notebooks/notebooks/data/aleutian/SEM1/2022_A_1049/raw/329653_001_20220709_172224_00205_NOV770.raw', 'type': 'novatel770', 'timestamp_data_start': datetime.datetime(2022, 7, 9, 17, 22, 42), 'timestamp_data_end': datetime.datetime(2022, 7, 9, 20, 53, 29), 'timestamp_created': datetime.datetime(2024, 9, 16, 12, 55, 16, 736741), 'parent_id': None}\n",
      "{'network': 'aleutian', 'station': 'SEM1', 'survey': '2022_A_1049', 'local_path': '/Users/gottlieb/working/GIT/seafloor_geodesy_notebooks/notebooks/data/aleutian/SEM1/2022_A_1049/intermediate/SEM1_20220709172224.rinex', 'type': 'rinex', 'timestamp_data_start': datetime.datetime(2022, 7, 9, 17, 22, 42), 'timestamp_data_end': datetime.datetime(2022, 7, 9, 20, 53, 29), 'parent_id': 229}\n",
      "{'id': 230, 'network': 'aleutian', 'station': 'SEM1', 'survey': '2022_A_1049', 'remote_path': 'https://gage-data.earthscope.org/archive/seafloor/aleutian/SEM1/2022_A_1049/raw/329653_001_20220709_205311_00205_NOV770.raw', 'remote_type': 'http', 'local_path': '/Users/gottlieb/working/GIT/seafloor_geodesy_notebooks/notebooks/data/aleutian/SEM1/2022_A_1049/raw/329653_001_20220709_205311_00205_NOV770.raw', 'type': 'novatel770', 'timestamp_data_start': datetime.datetime(2022, 7, 9, 20, 53, 29), 'timestamp_data_end': datetime.datetime(2022, 7, 10, 0, 38, 1), 'timestamp_created': datetime.datetime(2024, 9, 16, 12, 55, 16, 737176), 'parent_id': None}\n",
      "{'network': 'aleutian', 'station': 'SEM1', 'survey': '2022_A_1049', 'local_path': '/Users/gottlieb/working/GIT/seafloor_geodesy_notebooks/notebooks/data/aleutian/SEM1/2022_A_1049/intermediate/SEM1_20220709205311.rinex', 'type': 'rinex', 'timestamp_data_start': datetime.datetime(2022, 7, 9, 20, 53, 29), 'timestamp_data_end': datetime.datetime(2022, 7, 10, 0, 38, 1), 'parent_id': 230}\n",
      "{'id': 231, 'network': 'aleutian', 'station': 'SEM1', 'survey': '2022_A_1049', 'remote_path': 'https://gage-data.earthscope.org/archive/seafloor/aleutian/SEM1/2022_A_1049/raw/329653_001_20220710_003743_00205_NOV770.raw', 'remote_type': 'http', 'local_path': '/Users/gottlieb/working/GIT/seafloor_geodesy_notebooks/notebooks/data/aleutian/SEM1/2022_A_1049/raw/329653_001_20220710_003743_00205_NOV770.raw', 'type': 'novatel770', 'timestamp_data_start': datetime.datetime(2022, 7, 10, 0, 38, 1), 'timestamp_data_end': datetime.datetime(2022, 7, 10, 3, 19, 33), 'timestamp_created': datetime.datetime(2024, 9, 16, 12, 55, 16, 737351), 'parent_id': None}\n",
      "{'network': 'aleutian', 'station': 'SEM1', 'survey': '2022_A_1049', 'local_path': '/Users/gottlieb/working/GIT/seafloor_geodesy_notebooks/notebooks/data/aleutian/SEM1/2022_A_1049/intermediate/SEM1_20220710003743.rinex', 'type': 'rinex', 'timestamp_data_start': datetime.datetime(2022, 7, 10, 0, 38, 1), 'timestamp_data_end': datetime.datetime(2022, 7, 10, 3, 19, 33), 'parent_id': 231}\n",
      "{'id': 232, 'network': 'aleutian', 'station': 'SEM1', 'survey': '2022_A_1049', 'remote_path': 'https://gage-data.earthscope.org/archive/seafloor/aleutian/SEM1/2022_A_1049/raw/329653_001_20220710_031916_00206_NOV770.raw', 'remote_type': 'http', 'local_path': '/Users/gottlieb/working/GIT/seafloor_geodesy_notebooks/notebooks/data/aleutian/SEM1/2022_A_1049/raw/329653_001_20220710_031916_00206_NOV770.raw', 'type': 'novatel770', 'timestamp_data_start': datetime.datetime(2022, 7, 10, 3, 19, 34), 'timestamp_data_end': datetime.datetime(2022, 7, 10, 6, 38, 23), 'timestamp_created': datetime.datetime(2024, 9, 16, 12, 55, 16, 737695), 'parent_id': None}\n",
      "{'network': 'aleutian', 'station': 'SEM1', 'survey': '2022_A_1049', 'local_path': '/Users/gottlieb/working/GIT/seafloor_geodesy_notebooks/notebooks/data/aleutian/SEM1/2022_A_1049/intermediate/SEM1_20220710031916.rinex', 'type': 'rinex', 'timestamp_data_start': datetime.datetime(2022, 7, 10, 3, 19, 34), 'timestamp_data_end': datetime.datetime(2022, 7, 10, 6, 38, 23), 'parent_id': 232}\n",
      "{'id': 234, 'network': 'aleutian', 'station': 'SEM1', 'survey': '2022_A_1049', 'remote_path': 'https://gage-data.earthscope.org/archive/seafloor/aleutian/SEM1/2022_A_1049/raw/329653_001_20220710_063805_00206_NOV770.raw', 'remote_type': 'http', 'local_path': '/Users/gottlieb/working/GIT/seafloor_geodesy_notebooks/notebooks/data/aleutian/SEM1/2022_A_1049/raw/329653_001_20220710_063805_00206_NOV770.raw', 'type': 'novatel770', 'timestamp_data_start': datetime.datetime(2022, 7, 10, 6, 38, 23), 'timestamp_data_end': datetime.datetime(2022, 7, 10, 10, 11, 18), 'timestamp_created': datetime.datetime(2024, 9, 16, 12, 55, 16, 737918), 'parent_id': None}\n",
      "{'network': 'aleutian', 'station': 'SEM1', 'survey': '2022_A_1049', 'local_path': '/Users/gottlieb/working/GIT/seafloor_geodesy_notebooks/notebooks/data/aleutian/SEM1/2022_A_1049/intermediate/SEM1_20220710063805.rinex', 'type': 'rinex', 'timestamp_data_start': datetime.datetime(2022, 7, 10, 6, 38, 23), 'timestamp_data_end': datetime.datetime(2022, 7, 10, 10, 11, 18), 'parent_id': 234}\n",
      "{'id': 235, 'network': 'aleutian', 'station': 'SEM1', 'survey': '2022_A_1049', 'remote_path': 'https://gage-data.earthscope.org/archive/seafloor/aleutian/SEM1/2022_A_1049/raw/329653_001_20220710_101100_00206_NOV770.raw', 'remote_type': 'http', 'local_path': '/Users/gottlieb/working/GIT/seafloor_geodesy_notebooks/notebooks/data/aleutian/SEM1/2022_A_1049/raw/329653_001_20220710_101100_00206_NOV770.raw', 'type': 'novatel770', 'timestamp_data_start': datetime.datetime(2022, 7, 10, 10, 11, 18), 'timestamp_data_end': datetime.datetime(2022, 7, 10, 13, 46, 42), 'timestamp_created': datetime.datetime(2024, 9, 16, 12, 55, 16, 738034), 'parent_id': None}\n",
      "{'network': 'aleutian', 'station': 'SEM1', 'survey': '2022_A_1049', 'local_path': '/Users/gottlieb/working/GIT/seafloor_geodesy_notebooks/notebooks/data/aleutian/SEM1/2022_A_1049/intermediate/SEM1_20220710101100.rinex', 'type': 'rinex', 'timestamp_data_start': datetime.datetime(2022, 7, 10, 10, 11, 18), 'timestamp_data_end': datetime.datetime(2022, 7, 10, 13, 46, 42), 'parent_id': 235}\n",
      "{'id': 236, 'network': 'aleutian', 'station': 'SEM1', 'survey': '2022_A_1049', 'remote_path': 'https://gage-data.earthscope.org/archive/seafloor/aleutian/SEM1/2022_A_1049/raw/329653_001_20220710_134624_00206_NOV770.raw', 'remote_type': 'http', 'local_path': '/Users/gottlieb/working/GIT/seafloor_geodesy_notebooks/notebooks/data/aleutian/SEM1/2022_A_1049/raw/329653_001_20220710_134624_00206_NOV770.raw', 'type': 'novatel770', 'timestamp_data_start': datetime.datetime(2022, 7, 10, 13, 46, 42), 'timestamp_data_end': datetime.datetime(2022, 7, 10, 16, 50, 12), 'timestamp_created': datetime.datetime(2024, 9, 16, 12, 55, 16, 738295), 'parent_id': None}\n",
      "{'network': 'aleutian', 'station': 'SEM1', 'survey': '2022_A_1049', 'local_path': '/Users/gottlieb/working/GIT/seafloor_geodesy_notebooks/notebooks/data/aleutian/SEM1/2022_A_1049/intermediate/SEM1_20220710134624.rinex', 'type': 'rinex', 'timestamp_data_start': datetime.datetime(2022, 7, 10, 13, 46, 42), 'timestamp_data_end': datetime.datetime(2022, 7, 10, 16, 50, 12), 'parent_id': 236}\n",
      "{'id': 237, 'network': 'aleutian', 'station': 'SEM1', 'survey': '2022_A_1049', 'remote_path': 'https://gage-data.earthscope.org/archive/seafloor/aleutian/SEM1/2022_A_1049/raw/329653_001_20220710_170104_00207_NOV770.raw', 'remote_type': 'http', 'local_path': '/Users/gottlieb/working/GIT/seafloor_geodesy_notebooks/notebooks/data/aleutian/SEM1/2022_A_1049/raw/329653_001_20220710_170104_00207_NOV770.raw', 'type': 'novatel770', 'timestamp_data_start': datetime.datetime(2022, 7, 10, 17, 1, 37), 'timestamp_data_end': datetime.datetime(2022, 7, 10, 20, 40, 44), 'timestamp_created': datetime.datetime(2024, 9, 16, 12, 55, 16, 738717), 'parent_id': None}\n",
      "{'network': 'aleutian', 'station': 'SEM1', 'survey': '2022_A_1049', 'local_path': '/Users/gottlieb/working/GIT/seafloor_geodesy_notebooks/notebooks/data/aleutian/SEM1/2022_A_1049/intermediate/SEM1_20220710170104.rinex', 'type': 'rinex', 'timestamp_data_start': datetime.datetime(2022, 7, 10, 17, 1, 37), 'timestamp_data_end': datetime.datetime(2022, 7, 10, 20, 40, 44), 'parent_id': 237}\n",
      "{'id': 239, 'network': 'aleutian', 'station': 'SEM1', 'survey': '2022_A_1049', 'remote_path': 'https://gage-data.earthscope.org/archive/seafloor/aleutian/SEM1/2022_A_1049/raw/329653_001_20220710_204026_00207_NOV770.raw', 'remote_type': 'http', 'local_path': '/Users/gottlieb/working/GIT/seafloor_geodesy_notebooks/notebooks/data/aleutian/SEM1/2022_A_1049/raw/329653_001_20220710_204026_00207_NOV770.raw', 'type': 'novatel770', 'timestamp_data_start': datetime.datetime(2022, 7, 10, 20, 40, 44), 'timestamp_data_end': datetime.datetime(2022, 7, 11, 0, 14, 57), 'timestamp_created': datetime.datetime(2024, 9, 16, 12, 55, 16, 738937), 'parent_id': None}\n",
      "{'network': 'aleutian', 'station': 'SEM1', 'survey': '2022_A_1049', 'local_path': '/Users/gottlieb/working/GIT/seafloor_geodesy_notebooks/notebooks/data/aleutian/SEM1/2022_A_1049/intermediate/SEM1_20220710204026.rinex', 'type': 'rinex', 'timestamp_data_start': datetime.datetime(2022, 7, 10, 20, 40, 44), 'timestamp_data_end': datetime.datetime(2022, 7, 11, 0, 14, 57), 'parent_id': 239}\n",
      "{'id': 240, 'network': 'aleutian', 'station': 'SEM1', 'survey': '2022_A_1049', 'remote_path': 'https://gage-data.earthscope.org/archive/seafloor/aleutian/SEM1/2022_A_1049/raw/329653_001_20220711_001440_00207_NOV770.raw', 'remote_type': 'http', 'local_path': '/Users/gottlieb/working/GIT/seafloor_geodesy_notebooks/notebooks/data/aleutian/SEM1/2022_A_1049/raw/329653_001_20220711_001440_00207_NOV770.raw', 'type': 'novatel770', 'timestamp_data_start': datetime.datetime(2022, 7, 11, 0, 14, 58), 'timestamp_data_end': datetime.datetime(2022, 7, 11, 3, 42, 5), 'timestamp_created': datetime.datetime(2024, 9, 16, 12, 55, 16, 739067), 'parent_id': None}\n",
      "{'network': 'aleutian', 'station': 'SEM1', 'survey': '2022_A_1049', 'local_path': '/Users/gottlieb/working/GIT/seafloor_geodesy_notebooks/notebooks/data/aleutian/SEM1/2022_A_1049/intermediate/SEM1_20220711001440.rinex', 'type': 'rinex', 'timestamp_data_start': datetime.datetime(2022, 7, 11, 0, 14, 58), 'timestamp_data_end': datetime.datetime(2022, 7, 11, 3, 42, 5), 'parent_id': 240}\n",
      "{'id': 241, 'network': 'aleutian', 'station': 'SEM1', 'survey': '2022_A_1049', 'remote_path': 'https://gage-data.earthscope.org/archive/seafloor/aleutian/SEM1/2022_A_1049/raw/329653_001_20220711_034147_00207_NOV770.raw', 'remote_type': 'http', 'local_path': '/Users/gottlieb/working/GIT/seafloor_geodesy_notebooks/notebooks/data/aleutian/SEM1/2022_A_1049/raw/329653_001_20220711_034147_00207_NOV770.raw', 'type': 'novatel770', 'timestamp_data_start': datetime.datetime(2022, 7, 11, 3, 42, 5), 'timestamp_data_end': datetime.datetime(2022, 7, 11, 7, 5, 57), 'timestamp_created': datetime.datetime(2024, 9, 16, 12, 55, 16, 739342), 'parent_id': None}\n",
      "{'network': 'aleutian', 'station': 'SEM1', 'survey': '2022_A_1049', 'local_path': '/Users/gottlieb/working/GIT/seafloor_geodesy_notebooks/notebooks/data/aleutian/SEM1/2022_A_1049/intermediate/SEM1_20220711034147.rinex', 'type': 'rinex', 'timestamp_data_start': datetime.datetime(2022, 7, 11, 3, 42, 5), 'timestamp_data_end': datetime.datetime(2022, 7, 11, 7, 5, 57), 'parent_id': 241}\n",
      "{'id': 242, 'network': 'aleutian', 'station': 'SEM1', 'survey': '2022_A_1049', 'remote_path': 'https://gage-data.earthscope.org/archive/seafloor/aleutian/SEM1/2022_A_1049/raw/329653_001_20220711_070539_00207_NOV770.raw', 'remote_type': 'http', 'local_path': '/Users/gottlieb/working/GIT/seafloor_geodesy_notebooks/notebooks/data/aleutian/SEM1/2022_A_1049/raw/329653_001_20220711_070539_00207_NOV770.raw', 'type': 'novatel770', 'timestamp_data_start': datetime.datetime(2022, 7, 11, 7, 5, 57), 'timestamp_data_end': datetime.datetime(2022, 7, 11, 10, 52, 35), 'timestamp_created': datetime.datetime(2024, 9, 16, 12, 55, 16, 739466), 'parent_id': None}\n",
      "{'network': 'aleutian', 'station': 'SEM1', 'survey': '2022_A_1049', 'local_path': '/Users/gottlieb/working/GIT/seafloor_geodesy_notebooks/notebooks/data/aleutian/SEM1/2022_A_1049/intermediate/SEM1_20220711070539.rinex', 'type': 'rinex', 'timestamp_data_start': datetime.datetime(2022, 7, 11, 7, 5, 57), 'timestamp_data_end': datetime.datetime(2022, 7, 11, 10, 52, 35), 'parent_id': 242}\n",
      "{'id': 243, 'network': 'aleutian', 'station': 'SEM1', 'survey': '2022_A_1049', 'remote_path': 'https://gage-data.earthscope.org/archive/seafloor/aleutian/SEM1/2022_A_1049/raw/329653_001_20220711_105217_00207_NOV770.raw', 'remote_type': 'http', 'local_path': '/Users/gottlieb/working/GIT/seafloor_geodesy_notebooks/notebooks/data/aleutian/SEM1/2022_A_1049/raw/329653_001_20220711_105217_00207_NOV770.raw', 'type': 'novatel770', 'timestamp_data_start': datetime.datetime(2022, 7, 11, 10, 52, 35), 'timestamp_data_end': datetime.datetime(2022, 7, 11, 14, 22, 25), 'timestamp_created': datetime.datetime(2024, 9, 16, 12, 55, 16, 739629), 'parent_id': None}\n",
      "{'network': 'aleutian', 'station': 'SEM1', 'survey': '2022_A_1049', 'local_path': '/Users/gottlieb/working/GIT/seafloor_geodesy_notebooks/notebooks/data/aleutian/SEM1/2022_A_1049/intermediate/SEM1_20220711105217.rinex', 'type': 'rinex', 'timestamp_data_start': datetime.datetime(2022, 7, 11, 10, 52, 35), 'timestamp_data_end': datetime.datetime(2022, 7, 11, 14, 22, 25), 'parent_id': 243}\n",
      "{'id': 244, 'network': 'aleutian', 'station': 'SEM1', 'survey': '2022_A_1049', 'remote_path': 'https://gage-data.earthscope.org/archive/seafloor/aleutian/SEM1/2022_A_1049/raw/329653_001_20220711_142207_00207_NOV770.raw', 'remote_type': 'http', 'local_path': '/Users/gottlieb/working/GIT/seafloor_geodesy_notebooks/notebooks/data/aleutian/SEM1/2022_A_1049/raw/329653_001_20220711_142207_00207_NOV770.raw', 'type': 'novatel770', 'timestamp_data_start': datetime.datetime(2022, 7, 11, 14, 22, 25), 'timestamp_data_end': datetime.datetime(2022, 7, 11, 17, 1, 7), 'timestamp_created': datetime.datetime(2024, 9, 16, 12, 55, 16, 739798), 'parent_id': None}\n",
      "{'network': 'aleutian', 'station': 'SEM1', 'survey': '2022_A_1049', 'local_path': '/Users/gottlieb/working/GIT/seafloor_geodesy_notebooks/notebooks/data/aleutian/SEM1/2022_A_1049/intermediate/SEM1_20220711142207.rinex', 'type': 'rinex', 'timestamp_data_start': datetime.datetime(2022, 7, 11, 14, 22, 25), 'timestamp_data_end': datetime.datetime(2022, 7, 11, 17, 1, 7), 'parent_id': 244}\n",
      "{'id': 246, 'network': 'aleutian', 'station': 'SEM1', 'survey': '2022_A_1049', 'remote_path': 'https://gage-data.earthscope.org/archive/seafloor/aleutian/SEM1/2022_A_1049/raw/329653_001_20220711_170049_00208_NOV770.raw', 'remote_type': 'http', 'local_path': '/Users/gottlieb/working/GIT/seafloor_geodesy_notebooks/notebooks/data/aleutian/SEM1/2022_A_1049/raw/329653_001_20220711_170049_00208_NOV770.raw', 'type': 'novatel770', 'timestamp_data_start': datetime.datetime(2022, 7, 11, 17, 1, 7), 'timestamp_data_end': datetime.datetime(2022, 7, 11, 20, 44, 3), 'timestamp_created': datetime.datetime(2024, 9, 16, 12, 55, 16, 740008), 'parent_id': None}\n",
      "{'network': 'aleutian', 'station': 'SEM1', 'survey': '2022_A_1049', 'local_path': '/Users/gottlieb/working/GIT/seafloor_geodesy_notebooks/notebooks/data/aleutian/SEM1/2022_A_1049/intermediate/SEM1_20220711170049.rinex', 'type': 'rinex', 'timestamp_data_start': datetime.datetime(2022, 7, 11, 17, 1, 7), 'timestamp_data_end': datetime.datetime(2022, 7, 11, 20, 44, 3), 'parent_id': 246}\n",
      "{'id': 247, 'network': 'aleutian', 'station': 'SEM1', 'survey': '2022_A_1049', 'remote_path': 'https://gage-data.earthscope.org/archive/seafloor/aleutian/SEM1/2022_A_1049/raw/329653_001_20220711_204345_00208_NOV770.raw', 'remote_type': 'http', 'local_path': '/Users/gottlieb/working/GIT/seafloor_geodesy_notebooks/notebooks/data/aleutian/SEM1/2022_A_1049/raw/329653_001_20220711_204345_00208_NOV770.raw', 'type': 'novatel770', 'timestamp_data_start': datetime.datetime(2022, 7, 11, 20, 44, 3), 'timestamp_data_end': datetime.datetime(2022, 7, 12, 0, 14, 4), 'timestamp_created': datetime.datetime(2024, 9, 16, 12, 55, 16, 740146), 'parent_id': None}\n",
      "{'network': 'aleutian', 'station': 'SEM1', 'survey': '2022_A_1049', 'local_path': '/Users/gottlieb/working/GIT/seafloor_geodesy_notebooks/notebooks/data/aleutian/SEM1/2022_A_1049/intermediate/SEM1_20220711204345.rinex', 'type': 'rinex', 'timestamp_data_start': datetime.datetime(2022, 7, 11, 20, 44, 3), 'timestamp_data_end': datetime.datetime(2022, 7, 12, 0, 14, 4), 'parent_id': 247}\n",
      "{'id': 248, 'network': 'aleutian', 'station': 'SEM1', 'survey': '2022_A_1049', 'remote_path': 'https://gage-data.earthscope.org/archive/seafloor/aleutian/SEM1/2022_A_1049/raw/329653_001_20220712_001346_00208_NOV770.raw', 'remote_type': 'http', 'local_path': '/Users/gottlieb/working/GIT/seafloor_geodesy_notebooks/notebooks/data/aleutian/SEM1/2022_A_1049/raw/329653_001_20220712_001346_00208_NOV770.raw', 'type': 'novatel770', 'timestamp_data_start': datetime.datetime(2022, 7, 12, 0, 14, 4), 'timestamp_data_end': datetime.datetime(2022, 7, 12, 3, 40, 56), 'timestamp_created': datetime.datetime(2024, 9, 16, 12, 55, 16, 740254), 'parent_id': None}\n",
      "{'network': 'aleutian', 'station': 'SEM1', 'survey': '2022_A_1049', 'local_path': '/Users/gottlieb/working/GIT/seafloor_geodesy_notebooks/notebooks/data/aleutian/SEM1/2022_A_1049/intermediate/SEM1_20220712001346.rinex', 'type': 'rinex', 'timestamp_data_start': datetime.datetime(2022, 7, 12, 0, 14, 4), 'timestamp_data_end': datetime.datetime(2022, 7, 12, 3, 40, 56), 'parent_id': 248}\n",
      "{'id': 249, 'network': 'aleutian', 'station': 'SEM1', 'survey': '2022_A_1049', 'remote_path': 'https://gage-data.earthscope.org/archive/seafloor/aleutian/SEM1/2022_A_1049/raw/329653_001_20220712_034038_00208_NOV770.raw', 'remote_type': 'http', 'local_path': '/Users/gottlieb/working/GIT/seafloor_geodesy_notebooks/notebooks/data/aleutian/SEM1/2022_A_1049/raw/329653_001_20220712_034038_00208_NOV770.raw', 'type': 'novatel770', 'timestamp_data_start': datetime.datetime(2022, 7, 12, 3, 40, 56), 'timestamp_data_end': datetime.datetime(2022, 7, 12, 7, 9, 42), 'timestamp_created': datetime.datetime(2024, 9, 16, 12, 55, 16, 740439), 'parent_id': None}\n",
      "{'network': 'aleutian', 'station': 'SEM1', 'survey': '2022_A_1049', 'local_path': '/Users/gottlieb/working/GIT/seafloor_geodesy_notebooks/notebooks/data/aleutian/SEM1/2022_A_1049/intermediate/SEM1_20220712034038.rinex', 'type': 'rinex', 'timestamp_data_start': datetime.datetime(2022, 7, 12, 3, 40, 56), 'timestamp_data_end': datetime.datetime(2022, 7, 12, 7, 9, 42), 'parent_id': 249}\n",
      "{'id': 250, 'network': 'aleutian', 'station': 'SEM1', 'survey': '2022_A_1049', 'remote_path': 'https://gage-data.earthscope.org/archive/seafloor/aleutian/SEM1/2022_A_1049/raw/329653_001_20220712_070924_00208_NOV770.raw', 'remote_type': 'http', 'local_path': '/Users/gottlieb/working/GIT/seafloor_geodesy_notebooks/notebooks/data/aleutian/SEM1/2022_A_1049/raw/329653_001_20220712_070924_00208_NOV770.raw', 'type': 'novatel770', 'timestamp_data_start': datetime.datetime(2022, 7, 12, 7, 9, 42), 'timestamp_data_end': datetime.datetime(2022, 7, 12, 10, 58, 56), 'timestamp_created': datetime.datetime(2024, 9, 16, 12, 55, 16, 740598), 'parent_id': None}\n",
      "{'network': 'aleutian', 'station': 'SEM1', 'survey': '2022_A_1049', 'local_path': '/Users/gottlieb/working/GIT/seafloor_geodesy_notebooks/notebooks/data/aleutian/SEM1/2022_A_1049/intermediate/SEM1_20220712070924.rinex', 'type': 'rinex', 'timestamp_data_start': datetime.datetime(2022, 7, 12, 7, 9, 42), 'timestamp_data_end': datetime.datetime(2022, 7, 12, 10, 58, 56), 'parent_id': 250}\n",
      "{'id': 251, 'network': 'aleutian', 'station': 'SEM1', 'survey': '2022_A_1049', 'remote_path': 'https://gage-data.earthscope.org/archive/seafloor/aleutian/SEM1/2022_A_1049/raw/329653_001_20220712_105838_00208_NOV770.raw', 'remote_type': 'http', 'local_path': '/Users/gottlieb/working/GIT/seafloor_geodesy_notebooks/notebooks/data/aleutian/SEM1/2022_A_1049/raw/329653_001_20220712_105838_00208_NOV770.raw', 'type': 'novatel770', 'timestamp_data_start': datetime.datetime(2022, 7, 12, 10, 58, 56), 'timestamp_data_end': datetime.datetime(2022, 7, 12, 14, 33, 4), 'timestamp_created': datetime.datetime(2024, 9, 16, 12, 55, 16, 740769), 'parent_id': None}\n",
      "{'network': 'aleutian', 'station': 'SEM1', 'survey': '2022_A_1049', 'local_path': '/Users/gottlieb/working/GIT/seafloor_geodesy_notebooks/notebooks/data/aleutian/SEM1/2022_A_1049/intermediate/SEM1_20220712105838.rinex', 'type': 'rinex', 'timestamp_data_start': datetime.datetime(2022, 7, 12, 10, 58, 56), 'timestamp_data_end': datetime.datetime(2022, 7, 12, 14, 33, 4), 'parent_id': 251}\n",
      "{'id': 252, 'network': 'aleutian', 'station': 'SEM1', 'survey': '2022_A_1049', 'remote_path': 'https://gage-data.earthscope.org/archive/seafloor/aleutian/SEM1/2022_A_1049/raw/329653_001_20220712_143246_00208_NOV770.raw', 'remote_type': 'http', 'local_path': '/Users/gottlieb/working/GIT/seafloor_geodesy_notebooks/notebooks/data/aleutian/SEM1/2022_A_1049/raw/329653_001_20220712_143246_00208_NOV770.raw', 'type': 'novatel770', 'timestamp_data_start': datetime.datetime(2022, 7, 12, 14, 33, 4), 'timestamp_data_end': datetime.datetime(2022, 7, 12, 17, 1, 5), 'timestamp_created': datetime.datetime(2024, 9, 16, 12, 55, 16, 740876), 'parent_id': None}\n",
      "{'network': 'aleutian', 'station': 'SEM1', 'survey': '2022_A_1049', 'local_path': '/Users/gottlieb/working/GIT/seafloor_geodesy_notebooks/notebooks/data/aleutian/SEM1/2022_A_1049/intermediate/SEM1_20220712143246.rinex', 'type': 'rinex', 'timestamp_data_start': datetime.datetime(2022, 7, 12, 14, 33, 4), 'timestamp_data_end': datetime.datetime(2022, 7, 12, 17, 1, 5), 'parent_id': 252}\n",
      "{'id': 253, 'network': 'aleutian', 'station': 'SEM1', 'survey': '2022_A_1049', 'remote_path': 'https://gage-data.earthscope.org/archive/seafloor/aleutian/SEM1/2022_A_1049/raw/329653_001_20220712_170047_00209_NOV770.raw', 'remote_type': 'http', 'local_path': '/Users/gottlieb/working/GIT/seafloor_geodesy_notebooks/notebooks/data/aleutian/SEM1/2022_A_1049/raw/329653_001_20220712_170047_00209_NOV770.raw', 'type': 'novatel770', 'timestamp_data_start': datetime.datetime(2022, 7, 12, 17, 1, 5), 'timestamp_data_end': datetime.datetime(2022, 7, 12, 20, 38, 56), 'timestamp_created': datetime.datetime(2024, 9, 16, 12, 55, 16, 741275), 'parent_id': None}\n",
      "{'network': 'aleutian', 'station': 'SEM1', 'survey': '2022_A_1049', 'local_path': '/Users/gottlieb/working/GIT/seafloor_geodesy_notebooks/notebooks/data/aleutian/SEM1/2022_A_1049/intermediate/SEM1_20220712170047.rinex', 'type': 'rinex', 'timestamp_data_start': datetime.datetime(2022, 7, 12, 17, 1, 5), 'timestamp_data_end': datetime.datetime(2022, 7, 12, 20, 38, 56), 'parent_id': 253}\n",
      "{'id': 255, 'network': 'aleutian', 'station': 'SEM1', 'survey': '2022_A_1049', 'remote_path': 'https://gage-data.earthscope.org/archive/seafloor/aleutian/SEM1/2022_A_1049/raw/329653_001_20220712_203839_00209_NOV770.raw', 'remote_type': 'http', 'local_path': '/Users/gottlieb/working/GIT/seafloor_geodesy_notebooks/notebooks/data/aleutian/SEM1/2022_A_1049/raw/329653_001_20220712_203839_00209_NOV770.raw', 'type': 'novatel770', 'timestamp_data_start': datetime.datetime(2022, 7, 12, 20, 38, 57), 'timestamp_data_end': datetime.datetime(2022, 7, 13, 0, 5, 28), 'timestamp_created': datetime.datetime(2024, 9, 16, 12, 55, 16, 741657), 'parent_id': None}\n",
      "{'network': 'aleutian', 'station': 'SEM1', 'survey': '2022_A_1049', 'local_path': '/Users/gottlieb/working/GIT/seafloor_geodesy_notebooks/notebooks/data/aleutian/SEM1/2022_A_1049/intermediate/SEM1_20220712203839.rinex', 'type': 'rinex', 'timestamp_data_start': datetime.datetime(2022, 7, 12, 20, 38, 57), 'timestamp_data_end': datetime.datetime(2022, 7, 13, 0, 5, 28), 'parent_id': 255}\n",
      "{'id': 256, 'network': 'aleutian', 'station': 'SEM1', 'survey': '2022_A_1049', 'remote_path': 'https://gage-data.earthscope.org/archive/seafloor/aleutian/SEM1/2022_A_1049/raw/329653_001_20220713_000510_00209_NOV770.raw', 'remote_type': 'http', 'local_path': '/Users/gottlieb/working/GIT/seafloor_geodesy_notebooks/notebooks/data/aleutian/SEM1/2022_A_1049/raw/329653_001_20220713_000510_00209_NOV770.raw', 'type': 'novatel770', 'timestamp_data_start': datetime.datetime(2022, 7, 13, 0, 5, 28), 'timestamp_data_end': datetime.datetime(2022, 7, 13, 3, 37, 40), 'timestamp_created': datetime.datetime(2024, 9, 16, 12, 55, 16, 741778), 'parent_id': None}\n",
      "{'network': 'aleutian', 'station': 'SEM1', 'survey': '2022_A_1049', 'local_path': '/Users/gottlieb/working/GIT/seafloor_geodesy_notebooks/notebooks/data/aleutian/SEM1/2022_A_1049/intermediate/SEM1_20220713000510.rinex', 'type': 'rinex', 'timestamp_data_start': datetime.datetime(2022, 7, 13, 0, 5, 28), 'timestamp_data_end': datetime.datetime(2022, 7, 13, 3, 37, 40), 'parent_id': 256}\n",
      "{'id': 257, 'network': 'aleutian', 'station': 'SEM1', 'survey': '2022_A_1049', 'remote_path': 'https://gage-data.earthscope.org/archive/seafloor/aleutian/SEM1/2022_A_1049/raw/329653_001_20220713_033722_00209_NOV770.raw', 'remote_type': 'http', 'local_path': '/Users/gottlieb/working/GIT/seafloor_geodesy_notebooks/notebooks/data/aleutian/SEM1/2022_A_1049/raw/329653_001_20220713_033722_00209_NOV770.raw', 'type': 'novatel770', 'timestamp_data_start': datetime.datetime(2022, 7, 13, 3, 37, 40), 'timestamp_data_end': datetime.datetime(2022, 7, 13, 7, 12, 17), 'timestamp_created': datetime.datetime(2024, 9, 16, 12, 55, 16, 742014), 'parent_id': None}\n",
      "{'network': 'aleutian', 'station': 'SEM1', 'survey': '2022_A_1049', 'local_path': '/Users/gottlieb/working/GIT/seafloor_geodesy_notebooks/notebooks/data/aleutian/SEM1/2022_A_1049/intermediate/SEM1_20220713033722.rinex', 'type': 'rinex', 'timestamp_data_start': datetime.datetime(2022, 7, 13, 3, 37, 40), 'timestamp_data_end': datetime.datetime(2022, 7, 13, 7, 12, 17), 'parent_id': 257}\n",
      "{'id': 258, 'network': 'aleutian', 'station': 'SEM1', 'survey': '2022_A_1049', 'remote_path': 'https://gage-data.earthscope.org/archive/seafloor/aleutian/SEM1/2022_A_1049/raw/329653_001_20220713_071159_00209_NOV770.raw', 'remote_type': 'http', 'local_path': '/Users/gottlieb/working/GIT/seafloor_geodesy_notebooks/notebooks/data/aleutian/SEM1/2022_A_1049/raw/329653_001_20220713_071159_00209_NOV770.raw', 'type': 'novatel770', 'timestamp_data_start': datetime.datetime(2022, 7, 13, 7, 12, 17), 'timestamp_data_end': datetime.datetime(2022, 7, 13, 10, 55, 46), 'timestamp_created': datetime.datetime(2024, 9, 16, 12, 55, 16, 742157), 'parent_id': None}\n",
      "{'network': 'aleutian', 'station': 'SEM1', 'survey': '2022_A_1049', 'local_path': '/Users/gottlieb/working/GIT/seafloor_geodesy_notebooks/notebooks/data/aleutian/SEM1/2022_A_1049/intermediate/SEM1_20220713071159.rinex', 'type': 'rinex', 'timestamp_data_start': datetime.datetime(2022, 7, 13, 7, 12, 17), 'timestamp_data_end': datetime.datetime(2022, 7, 13, 10, 55, 46), 'parent_id': 258}\n",
      "{'id': 259, 'network': 'aleutian', 'station': 'SEM1', 'survey': '2022_A_1049', 'remote_path': 'https://gage-data.earthscope.org/archive/seafloor/aleutian/SEM1/2022_A_1049/raw/329653_001_20220713_105528_00209_NOV770.raw', 'remote_type': 'http', 'local_path': '/Users/gottlieb/working/GIT/seafloor_geodesy_notebooks/notebooks/data/aleutian/SEM1/2022_A_1049/raw/329653_001_20220713_105528_00209_NOV770.raw', 'type': 'novatel770', 'timestamp_data_start': datetime.datetime(2022, 7, 13, 10, 55, 46), 'timestamp_data_end': datetime.datetime(2022, 7, 13, 14, 33, 14), 'timestamp_created': datetime.datetime(2024, 9, 16, 12, 55, 16, 742360), 'parent_id': None}\n",
      "{'network': 'aleutian', 'station': 'SEM1', 'survey': '2022_A_1049', 'local_path': '/Users/gottlieb/working/GIT/seafloor_geodesy_notebooks/notebooks/data/aleutian/SEM1/2022_A_1049/intermediate/SEM1_20220713105528.rinex', 'type': 'rinex', 'timestamp_data_start': datetime.datetime(2022, 7, 13, 10, 55, 46), 'timestamp_data_end': datetime.datetime(2022, 7, 13, 14, 33, 14), 'parent_id': 259}\n",
      "{'id': 260, 'network': 'aleutian', 'station': 'SEM1', 'survey': '2022_A_1049', 'remote_path': 'https://gage-data.earthscope.org/archive/seafloor/aleutian/SEM1/2022_A_1049/raw/329653_001_20220713_143256_00209_NOV770.raw', 'remote_type': 'http', 'local_path': '/Users/gottlieb/working/GIT/seafloor_geodesy_notebooks/notebooks/data/aleutian/SEM1/2022_A_1049/raw/329653_001_20220713_143256_00209_NOV770.raw', 'type': 'novatel770', 'timestamp_data_start': datetime.datetime(2022, 7, 13, 14, 33, 14), 'timestamp_data_end': datetime.datetime(2022, 7, 13, 17, 1, 4), 'timestamp_created': datetime.datetime(2024, 9, 16, 12, 55, 16, 742484), 'parent_id': None}\n",
      "{'network': 'aleutian', 'station': 'SEM1', 'survey': '2022_A_1049', 'local_path': '/Users/gottlieb/working/GIT/seafloor_geodesy_notebooks/notebooks/data/aleutian/SEM1/2022_A_1049/intermediate/SEM1_20220713143256.rinex', 'type': 'rinex', 'timestamp_data_start': datetime.datetime(2022, 7, 13, 14, 33, 14), 'timestamp_data_end': datetime.datetime(2022, 7, 13, 17, 1, 4), 'parent_id': 260}\n",
      "{'id': 261, 'network': 'aleutian', 'station': 'SEM1', 'survey': '2022_A_1049', 'remote_path': 'https://gage-data.earthscope.org/archive/seafloor/aleutian/SEM1/2022_A_1049/raw/329653_001_20220713_170046_00210_NOV770.raw', 'remote_type': 'http', 'local_path': '/Users/gottlieb/working/GIT/seafloor_geodesy_notebooks/notebooks/data/aleutian/SEM1/2022_A_1049/raw/329653_001_20220713_170046_00210_NOV770.raw', 'type': 'novatel770', 'timestamp_data_start': datetime.datetime(2022, 7, 13, 17, 1, 4), 'timestamp_data_end': datetime.datetime(2022, 7, 13, 20, 35, 17), 'timestamp_created': datetime.datetime(2024, 9, 16, 12, 55, 16, 742771), 'parent_id': None}\n",
      "{'network': 'aleutian', 'station': 'SEM1', 'survey': '2022_A_1049', 'local_path': '/Users/gottlieb/working/GIT/seafloor_geodesy_notebooks/notebooks/data/aleutian/SEM1/2022_A_1049/intermediate/SEM1_20220713170046.rinex', 'type': 'rinex', 'timestamp_data_start': datetime.datetime(2022, 7, 13, 17, 1, 4), 'timestamp_data_end': datetime.datetime(2022, 7, 13, 20, 35, 17), 'parent_id': 261}\n",
      "{'id': 263, 'network': 'aleutian', 'station': 'SEM1', 'survey': '2022_A_1049', 'remote_path': 'https://gage-data.earthscope.org/archive/seafloor/aleutian/SEM1/2022_A_1049/raw/329653_001_20220713_203459_00210_NOV770.raw', 'remote_type': 'http', 'local_path': '/Users/gottlieb/working/GIT/seafloor_geodesy_notebooks/notebooks/data/aleutian/SEM1/2022_A_1049/raw/329653_001_20220713_203459_00210_NOV770.raw', 'type': 'novatel770', 'timestamp_data_start': datetime.datetime(2022, 7, 13, 20, 35, 17), 'timestamp_data_end': datetime.datetime(2022, 7, 14, 0, 11, 47), 'timestamp_created': datetime.datetime(2024, 9, 16, 12, 55, 16, 742962), 'parent_id': None}\n",
      "{'network': 'aleutian', 'station': 'SEM1', 'survey': '2022_A_1049', 'local_path': '/Users/gottlieb/working/GIT/seafloor_geodesy_notebooks/notebooks/data/aleutian/SEM1/2022_A_1049/intermediate/SEM1_20220713203459.rinex', 'type': 'rinex', 'timestamp_data_start': datetime.datetime(2022, 7, 13, 20, 35, 17), 'timestamp_data_end': datetime.datetime(2022, 7, 14, 0, 11, 47), 'parent_id': 263}\n",
      "{'id': 264, 'network': 'aleutian', 'station': 'SEM1', 'survey': '2022_A_1049', 'remote_path': 'https://gage-data.earthscope.org/archive/seafloor/aleutian/SEM1/2022_A_1049/raw/329653_001_20220714_001129_00210_NOV770.raw', 'remote_type': 'http', 'local_path': '/Users/gottlieb/working/GIT/seafloor_geodesy_notebooks/notebooks/data/aleutian/SEM1/2022_A_1049/raw/329653_001_20220714_001129_00210_NOV770.raw', 'type': 'novatel770', 'timestamp_data_start': datetime.datetime(2022, 7, 14, 0, 11, 47), 'timestamp_data_end': datetime.datetime(2022, 7, 14, 3, 47, 14), 'timestamp_created': datetime.datetime(2024, 9, 16, 12, 55, 16, 743087), 'parent_id': None}\n",
      "{'network': 'aleutian', 'station': 'SEM1', 'survey': '2022_A_1049', 'local_path': '/Users/gottlieb/working/GIT/seafloor_geodesy_notebooks/notebooks/data/aleutian/SEM1/2022_A_1049/intermediate/SEM1_20220714001129.rinex', 'type': 'rinex', 'timestamp_data_start': datetime.datetime(2022, 7, 14, 0, 11, 47), 'timestamp_data_end': datetime.datetime(2022, 7, 14, 3, 47, 14), 'parent_id': 264}\n",
      "{'id': 265, 'network': 'aleutian', 'station': 'SEM1', 'survey': '2022_A_1049', 'remote_path': 'https://gage-data.earthscope.org/archive/seafloor/aleutian/SEM1/2022_A_1049/raw/329653_001_20220714_034656_00210_NOV770.raw', 'remote_type': 'http', 'local_path': '/Users/gottlieb/working/GIT/seafloor_geodesy_notebooks/notebooks/data/aleutian/SEM1/2022_A_1049/raw/329653_001_20220714_034656_00210_NOV770.raw', 'type': 'novatel770', 'timestamp_data_start': datetime.datetime(2022, 7, 14, 3, 47, 14), 'timestamp_data_end': datetime.datetime(2022, 7, 14, 7, 23, 43), 'timestamp_created': datetime.datetime(2024, 9, 16, 12, 55, 16, 743335), 'parent_id': None}\n",
      "{'network': 'aleutian', 'station': 'SEM1', 'survey': '2022_A_1049', 'local_path': '/Users/gottlieb/working/GIT/seafloor_geodesy_notebooks/notebooks/data/aleutian/SEM1/2022_A_1049/intermediate/SEM1_20220714034656.rinex', 'type': 'rinex', 'timestamp_data_start': datetime.datetime(2022, 7, 14, 3, 47, 14), 'timestamp_data_end': datetime.datetime(2022, 7, 14, 7, 23, 43), 'parent_id': 265}\n",
      "{'id': 266, 'network': 'aleutian', 'station': 'SEM1', 'survey': '2022_A_1049', 'remote_path': 'https://gage-data.earthscope.org/archive/seafloor/aleutian/SEM1/2022_A_1049/raw/329653_001_20220714_072325_00210_NOV770.raw', 'remote_type': 'http', 'local_path': '/Users/gottlieb/working/GIT/seafloor_geodesy_notebooks/notebooks/data/aleutian/SEM1/2022_A_1049/raw/329653_001_20220714_072325_00210_NOV770.raw', 'type': 'novatel770', 'timestamp_data_start': datetime.datetime(2022, 7, 14, 7, 23, 43), 'timestamp_data_end': datetime.datetime(2022, 7, 14, 11, 7, 49), 'timestamp_created': datetime.datetime(2024, 9, 16, 12, 55, 16, 743510), 'parent_id': None}\n",
      "{'network': 'aleutian', 'station': 'SEM1', 'survey': '2022_A_1049', 'local_path': '/Users/gottlieb/working/GIT/seafloor_geodesy_notebooks/notebooks/data/aleutian/SEM1/2022_A_1049/intermediate/SEM1_20220714072325.rinex', 'type': 'rinex', 'timestamp_data_start': datetime.datetime(2022, 7, 14, 7, 23, 43), 'timestamp_data_end': datetime.datetime(2022, 7, 14, 11, 7, 49), 'parent_id': 266}\n",
      "{'id': 267, 'network': 'aleutian', 'station': 'SEM1', 'survey': '2022_A_1049', 'remote_path': 'https://gage-data.earthscope.org/archive/seafloor/aleutian/SEM1/2022_A_1049/raw/329653_001_20220714_110732_00210_NOV770.raw', 'remote_type': 'http', 'local_path': '/Users/gottlieb/working/GIT/seafloor_geodesy_notebooks/notebooks/data/aleutian/SEM1/2022_A_1049/raw/329653_001_20220714_110732_00210_NOV770.raw', 'type': 'novatel770', 'timestamp_data_start': datetime.datetime(2022, 7, 14, 11, 7, 50), 'timestamp_data_end': datetime.datetime(2022, 7, 14, 14, 39), 'timestamp_created': datetime.datetime(2024, 9, 16, 12, 55, 16, 743687), 'parent_id': None}\n",
      "{'network': 'aleutian', 'station': 'SEM1', 'survey': '2022_A_1049', 'local_path': '/Users/gottlieb/working/GIT/seafloor_geodesy_notebooks/notebooks/data/aleutian/SEM1/2022_A_1049/intermediate/SEM1_20220714110732.rinex', 'type': 'rinex', 'timestamp_data_start': datetime.datetime(2022, 7, 14, 11, 7, 50), 'timestamp_data_end': datetime.datetime(2022, 7, 14, 14, 39), 'parent_id': 267}\n",
      "{'id': 268, 'network': 'aleutian', 'station': 'SEM1', 'survey': '2022_A_1049', 'remote_path': 'https://gage-data.earthscope.org/archive/seafloor/aleutian/SEM1/2022_A_1049/raw/329653_001_20220714_143842_00210_NOV770.raw', 'remote_type': 'http', 'local_path': '/Users/gottlieb/working/GIT/seafloor_geodesy_notebooks/notebooks/data/aleutian/SEM1/2022_A_1049/raw/329653_001_20220714_143842_00210_NOV770.raw', 'type': 'novatel770', 'timestamp_data_start': datetime.datetime(2022, 7, 14, 14, 39), 'timestamp_data_end': datetime.datetime(2022, 7, 14, 17, 1, 3), 'timestamp_created': datetime.datetime(2024, 9, 16, 12, 55, 16, 743885), 'parent_id': None}\n",
      "{'network': 'aleutian', 'station': 'SEM1', 'survey': '2022_A_1049', 'local_path': '/Users/gottlieb/working/GIT/seafloor_geodesy_notebooks/notebooks/data/aleutian/SEM1/2022_A_1049/intermediate/SEM1_20220714143842.rinex', 'type': 'rinex', 'timestamp_data_start': datetime.datetime(2022, 7, 14, 14, 39), 'timestamp_data_end': datetime.datetime(2022, 7, 14, 17, 1, 3), 'parent_id': 268}\n",
      "{'id': 269, 'network': 'aleutian', 'station': 'SEM1', 'survey': '2022_A_1049', 'remote_path': 'https://gage-data.earthscope.org/archive/seafloor/aleutian/SEM1/2022_A_1049/raw/329653_001_20220714_170045_00211_NOV770.raw', 'remote_type': 'http', 'local_path': '/Users/gottlieb/working/GIT/seafloor_geodesy_notebooks/notebooks/data/aleutian/SEM1/2022_A_1049/raw/329653_001_20220714_170045_00211_NOV770.raw', 'type': 'novatel770', 'timestamp_data_start': datetime.datetime(2022, 7, 14, 17, 1, 3), 'timestamp_data_end': datetime.datetime(2022, 7, 14, 20, 45, 29), 'timestamp_created': datetime.datetime(2024, 9, 16, 12, 55, 16, 744187), 'parent_id': None}\n",
      "{'network': 'aleutian', 'station': 'SEM1', 'survey': '2022_A_1049', 'local_path': '/Users/gottlieb/working/GIT/seafloor_geodesy_notebooks/notebooks/data/aleutian/SEM1/2022_A_1049/intermediate/SEM1_20220714170045.rinex', 'type': 'rinex', 'timestamp_data_start': datetime.datetime(2022, 7, 14, 17, 1, 3), 'timestamp_data_end': datetime.datetime(2022, 7, 14, 20, 45, 29), 'parent_id': 269}\n",
      "{'id': 271, 'network': 'aleutian', 'station': 'SEM1', 'survey': '2022_A_1049', 'remote_path': 'https://gage-data.earthscope.org/archive/seafloor/aleutian/SEM1/2022_A_1049/raw/329653_001_20220714_204511_00211_NOV770.raw', 'remote_type': 'http', 'local_path': '/Users/gottlieb/working/GIT/seafloor_geodesy_notebooks/notebooks/data/aleutian/SEM1/2022_A_1049/raw/329653_001_20220714_204511_00211_NOV770.raw', 'type': 'novatel770', 'timestamp_data_start': datetime.datetime(2022, 7, 14, 20, 45, 29), 'timestamp_data_end': datetime.datetime(2022, 7, 15, 0, 18, 24), 'timestamp_created': datetime.datetime(2024, 9, 16, 12, 55, 16, 744374), 'parent_id': None}\n",
      "{'network': 'aleutian', 'station': 'SEM1', 'survey': '2022_A_1049', 'local_path': '/Users/gottlieb/working/GIT/seafloor_geodesy_notebooks/notebooks/data/aleutian/SEM1/2022_A_1049/intermediate/SEM1_20220714204511.rinex', 'type': 'rinex', 'timestamp_data_start': datetime.datetime(2022, 7, 14, 20, 45, 29), 'timestamp_data_end': datetime.datetime(2022, 7, 15, 0, 18, 24), 'parent_id': 271}\n",
      "{'id': 272, 'network': 'aleutian', 'station': 'SEM1', 'survey': '2022_A_1049', 'remote_path': 'https://gage-data.earthscope.org/archive/seafloor/aleutian/SEM1/2022_A_1049/raw/329653_001_20220715_001806_00211_NOV770.raw', 'remote_type': 'http', 'local_path': '/Users/gottlieb/working/GIT/seafloor_geodesy_notebooks/notebooks/data/aleutian/SEM1/2022_A_1049/raw/329653_001_20220715_001806_00211_NOV770.raw', 'type': 'novatel770', 'timestamp_data_start': datetime.datetime(2022, 7, 15, 0, 18, 24), 'timestamp_data_end': datetime.datetime(2022, 7, 15, 4, 0, 45), 'timestamp_created': datetime.datetime(2024, 9, 16, 12, 55, 16, 744483), 'parent_id': None}\n",
      "{'network': 'aleutian', 'station': 'SEM1', 'survey': '2022_A_1049', 'local_path': '/Users/gottlieb/working/GIT/seafloor_geodesy_notebooks/notebooks/data/aleutian/SEM1/2022_A_1049/intermediate/SEM1_20220715001806.rinex', 'type': 'rinex', 'timestamp_data_start': datetime.datetime(2022, 7, 15, 0, 18, 24), 'timestamp_data_end': datetime.datetime(2022, 7, 15, 4, 0, 45), 'parent_id': 272}\n",
      "{'id': 273, 'network': 'aleutian', 'station': 'SEM1', 'survey': '2022_A_1049', 'remote_path': 'https://gage-data.earthscope.org/archive/seafloor/aleutian/SEM1/2022_A_1049/raw/329653_001_20220715_040027_00211_NOV770.raw', 'remote_type': 'http', 'local_path': '/Users/gottlieb/working/GIT/seafloor_geodesy_notebooks/notebooks/data/aleutian/SEM1/2022_A_1049/raw/329653_001_20220715_040027_00211_NOV770.raw', 'type': 'novatel770', 'timestamp_data_start': datetime.datetime(2022, 7, 15, 4, 0, 45), 'timestamp_data_end': datetime.datetime(2022, 7, 15, 7, 29, 47), 'timestamp_created': datetime.datetime(2024, 9, 16, 12, 55, 16, 744698), 'parent_id': None}\n",
      "{'network': 'aleutian', 'station': 'SEM1', 'survey': '2022_A_1049', 'local_path': '/Users/gottlieb/working/GIT/seafloor_geodesy_notebooks/notebooks/data/aleutian/SEM1/2022_A_1049/intermediate/SEM1_20220715040027.rinex', 'type': 'rinex', 'timestamp_data_start': datetime.datetime(2022, 7, 15, 4, 0, 45), 'timestamp_data_end': datetime.datetime(2022, 7, 15, 7, 29, 47), 'parent_id': 273}\n",
      "{'id': 274, 'network': 'aleutian', 'station': 'SEM1', 'survey': '2022_A_1049', 'remote_path': 'https://gage-data.earthscope.org/archive/seafloor/aleutian/SEM1/2022_A_1049/raw/329653_001_20220715_072929_00211_NOV770.raw', 'remote_type': 'http', 'local_path': '/Users/gottlieb/working/GIT/seafloor_geodesy_notebooks/notebooks/data/aleutian/SEM1/2022_A_1049/raw/329653_001_20220715_072929_00211_NOV770.raw', 'type': 'novatel770', 'timestamp_data_start': datetime.datetime(2022, 7, 15, 7, 29, 47), 'timestamp_data_end': datetime.datetime(2022, 7, 15, 11, 19, 5), 'timestamp_created': datetime.datetime(2024, 9, 16, 12, 55, 16, 744824), 'parent_id': None}\n",
      "{'network': 'aleutian', 'station': 'SEM1', 'survey': '2022_A_1049', 'local_path': '/Users/gottlieb/working/GIT/seafloor_geodesy_notebooks/notebooks/data/aleutian/SEM1/2022_A_1049/intermediate/SEM1_20220715072929.rinex', 'type': 'rinex', 'timestamp_data_start': datetime.datetime(2022, 7, 15, 7, 29, 47), 'timestamp_data_end': datetime.datetime(2022, 7, 15, 11, 19, 5), 'parent_id': 274}\n",
      "{'id': 275, 'network': 'aleutian', 'station': 'SEM1', 'survey': '2022_A_1049', 'remote_path': 'https://gage-data.earthscope.org/archive/seafloor/aleutian/SEM1/2022_A_1049/raw/329653_001_20220715_111847_00211_NOV770.raw', 'remote_type': 'http', 'local_path': '/Users/gottlieb/working/GIT/seafloor_geodesy_notebooks/notebooks/data/aleutian/SEM1/2022_A_1049/raw/329653_001_20220715_111847_00211_NOV770.raw', 'type': 'novatel770', 'timestamp_data_start': datetime.datetime(2022, 7, 15, 11, 19, 5), 'timestamp_data_end': datetime.datetime(2022, 7, 15, 14, 45, 58), 'timestamp_created': datetime.datetime(2024, 9, 16, 12, 55, 16, 744959), 'parent_id': None}\n",
      "{'network': 'aleutian', 'station': 'SEM1', 'survey': '2022_A_1049', 'local_path': '/Users/gottlieb/working/GIT/seafloor_geodesy_notebooks/notebooks/data/aleutian/SEM1/2022_A_1049/intermediate/SEM1_20220715111847.rinex', 'type': 'rinex', 'timestamp_data_start': datetime.datetime(2022, 7, 15, 11, 19, 5), 'timestamp_data_end': datetime.datetime(2022, 7, 15, 14, 45, 58), 'parent_id': 275}\n",
      "{'id': 276, 'network': 'aleutian', 'station': 'SEM1', 'survey': '2022_A_1049', 'remote_path': 'https://gage-data.earthscope.org/archive/seafloor/aleutian/SEM1/2022_A_1049/raw/329653_001_20220715_144540_00211_NOV770.raw', 'remote_type': 'http', 'local_path': '/Users/gottlieb/working/GIT/seafloor_geodesy_notebooks/notebooks/data/aleutian/SEM1/2022_A_1049/raw/329653_001_20220715_144540_00211_NOV770.raw', 'type': 'novatel770', 'timestamp_data_start': datetime.datetime(2022, 7, 15, 14, 45, 58), 'timestamp_data_end': datetime.datetime(2022, 7, 15, 17, 1, 2), 'timestamp_created': datetime.datetime(2024, 9, 16, 12, 55, 16, 745062), 'parent_id': None}\n",
      "{'network': 'aleutian', 'station': 'SEM1', 'survey': '2022_A_1049', 'local_path': '/Users/gottlieb/working/GIT/seafloor_geodesy_notebooks/notebooks/data/aleutian/SEM1/2022_A_1049/intermediate/SEM1_20220715144540.rinex', 'type': 'rinex', 'timestamp_data_start': datetime.datetime(2022, 7, 15, 14, 45, 58), 'timestamp_data_end': datetime.datetime(2022, 7, 15, 17, 1, 2), 'parent_id': 276}\n",
      "{'id': 277, 'network': 'aleutian', 'station': 'SEM1', 'survey': '2022_A_1049', 'remote_path': 'https://gage-data.earthscope.org/archive/seafloor/aleutian/SEM1/2022_A_1049/raw/329653_001_20220715_170044_00212_NOV770.raw', 'remote_type': 'http', 'local_path': '/Users/gottlieb/working/GIT/seafloor_geodesy_notebooks/notebooks/data/aleutian/SEM1/2022_A_1049/raw/329653_001_20220715_170044_00212_NOV770.raw', 'type': 'novatel770', 'timestamp_data_start': datetime.datetime(2022, 7, 15, 17, 1, 2), 'timestamp_data_end': datetime.datetime(2022, 7, 15, 20, 38, 22), 'timestamp_created': datetime.datetime(2024, 9, 16, 12, 55, 16, 745525), 'parent_id': None}\n",
      "{'network': 'aleutian', 'station': 'SEM1', 'survey': '2022_A_1049', 'local_path': '/Users/gottlieb/working/GIT/seafloor_geodesy_notebooks/notebooks/data/aleutian/SEM1/2022_A_1049/intermediate/SEM1_20220715170044.rinex', 'type': 'rinex', 'timestamp_data_start': datetime.datetime(2022, 7, 15, 17, 1, 2), 'timestamp_data_end': datetime.datetime(2022, 7, 15, 20, 38, 22), 'parent_id': 277}\n",
      "Processed 54 Out of 54 For rinex\n",
      "No unprocessed data found in catalog for types ['novatel']\n",
      "No unprocessed data found in catalog for types ['novatelpin']\n"
     ]
    }
   ],
   "source": [
    "# generate 1 rinex file per raw file, had to hack the rinex2 names to add minutesecond \n",
    "# in case there are multiple files starting in the same hour\n",
    "data_handler.process_rinex(override=True, show_details=False)"
   ]
  },
  {
   "cell_type": "code",
   "execution_count": 34,
   "metadata": {},
   "outputs": [
    {
     "ename": "KeyboardInterrupt",
     "evalue": "",
     "output_type": "error",
     "traceback": [
      "\u001b[0;31m---------------------------------------------------------------------------\u001b[0m",
      "\u001b[0;31mKeyboardInterrupt\u001b[0m                         Traceback (most recent call last)",
      "Cell \u001b[0;32mIn[34], line 12\u001b[0m\n\u001b[1;32m      8\u001b[0m \u001b[38;5;28;01mwith\u001b[39;00m subprocess\u001b[38;5;241m.\u001b[39mPopen(cmd, shell\u001b[38;5;241m=\u001b[39m\u001b[38;5;28;01mTrue\u001b[39;00m, cwd\u001b[38;5;241m=\u001b[39mdata_handler\u001b[38;5;241m.\u001b[39minter_dir, stdout\u001b[38;5;241m=\u001b[39msubprocess\u001b[38;5;241m.\u001b[39mPIPE) \u001b[38;5;28;01mas\u001b[39;00m p:\n\u001b[1;32m      9\u001b[0m     \u001b[38;5;28;01mwhile\u001b[39;00m \u001b[38;5;28;01mTrue\u001b[39;00m:\n\u001b[1;32m     10\u001b[0m         \u001b[38;5;66;03m# Use read1() instead of read() or Popen.communicate() as both blocks until EOF\u001b[39;00m\n\u001b[1;32m     11\u001b[0m         \u001b[38;5;66;03m# https://docs.python.org/3/library/io.html#io.BufferedIOBase.read1\u001b[39;00m\n\u001b[0;32m---> 12\u001b[0m         text \u001b[38;5;241m=\u001b[39m \u001b[43mp\u001b[49m\u001b[38;5;241;43m.\u001b[39;49m\u001b[43mstdout\u001b[49m\u001b[38;5;241;43m.\u001b[39;49m\u001b[43mread1\u001b[49m\u001b[43m(\u001b[49m\u001b[43m)\u001b[49m\u001b[38;5;241m.\u001b[39mdecode(\u001b[38;5;124m\"\u001b[39m\u001b[38;5;124mutf-8\u001b[39m\u001b[38;5;124m\"\u001b[39m)\n\u001b[1;32m     13\u001b[0m         \u001b[38;5;28mprint\u001b[39m(text, end\u001b[38;5;241m=\u001b[39m\u001b[38;5;124m'\u001b[39m\u001b[38;5;124m'\u001b[39m, flush\u001b[38;5;241m=\u001b[39m\u001b[38;5;28;01mTrue\u001b[39;00m)\n\u001b[1;32m     15\u001b[0m \u001b[38;5;66;03m# def run_command(cmd):\u001b[39;00m\n\u001b[1;32m     16\u001b[0m \u001b[38;5;66;03m#     process = subprocess.Popen(cmd, stdout=subprocess.PIPE, shell=True, cwd=data_handler.inter_dir)\u001b[39;00m\n\u001b[1;32m     17\u001b[0m \u001b[38;5;66;03m#     while True:\u001b[39;00m\n\u001b[0;32m   (...)\u001b[0m\n\u001b[1;32m     24\u001b[0m \u001b[38;5;66;03m#     return rc\u001b[39;00m\n\u001b[1;32m     25\u001b[0m \u001b[38;5;66;03m# run_command(cmd)\u001b[39;00m\n",
      "\u001b[0;31mKeyboardInterrupt\u001b[0m: "
     ]
    }
   ],
   "source": [
    "# combine into daily rinex files using TEQC\n",
    "#teqc +obs + -tbin 1d IVB1 *.18O\n",
    "import subprocess\n",
    "cmd = [\n",
    "   \"teqc\", \"+obs\", \"+\", \"-tbin\", \"1d\", site, \"*0708*.rinex\"\n",
    "]\n",
    "#result = subprocess.run(cmd, check=True, shell=True, capture_output=True, cwd=data_handler.inter_dir)\n",
    "with subprocess.Popen(cmd, shell=True, cwd=data_handler.inter_dir, stdout=subprocess.PIPE) as p:\n",
    "    while True:\n",
    "        # Use read1() instead of read() or Popen.communicate() as both blocks until EOF\n",
    "        # https://docs.python.org/3/library/io.html#io.BufferedIOBase.read1\n",
    "        text = p.stdout.read1().decode(\"utf-8\")\n",
    "        print(text, end='', flush=True)\n",
    "\n",
    "# def run_command(cmd):\n",
    "#     process = subprocess.Popen(cmd, stdout=subprocess.PIPE, shell=True, cwd=data_handler.inter_dir)\n",
    "#     while True:\n",
    "#         output = process.stdout.readline()\n",
    "#         if output == '' and process.poll() is not None:\n",
    "#             break\n",
    "#         if output:\n",
    "#             print(output.strip())\n",
    "#     rc = process.poll()\n",
    "#     return rc\n",
    "# run_command(cmd)"
   ]
  },
  {
   "cell_type": "code",
   "execution_count": 22,
   "metadata": {},
   "outputs": [
    {
     "data": {
      "text/plain": [
       "\"teqc: ! Error ! cannot fopen argument file '*.rinex' in r(ead) mode ... exiting\\n\""
      ]
     },
     "execution_count": 22,
     "metadata": {},
     "output_type": "execute_result"
    }
   ],
   "source": [
    "result.stderr.decode()"
   ]
  },
  {
   "cell_type": "code",
   "execution_count": 30,
   "metadata": {},
   "outputs": [
    {
     "data": {
      "text/plain": [
       "'/Users/gottlieb/working/GIT/seafloor_geodesy_notebooks/notebooks/data/aleutian/SEM1/2022_A_1049/intermediate'"
      ]
     },
     "execution_count": 30,
     "metadata": {},
     "output_type": "execute_result"
    }
   ],
   "source": [
    "# run pride on daily rinex\\\n",
    "str(data_handler.inter_dir)"
   ]
  },
  {
   "cell_type": "markdown",
   "metadata": {},
   "source": []
  }
 ],
 "metadata": {
  "kernelspec": {
   "display_name": "es_sfgtools_dev",
   "language": "python",
   "name": "es_sfgtools_dev"
  },
  "language_info": {
   "codemirror_mode": {
    "name": "ipython",
    "version": 3
   },
   "file_extension": ".py",
   "mimetype": "text/x-python",
   "name": "python",
   "nbconvert_exporter": "python",
   "pygments_lexer": "ipython3",
   "version": "3.10.14"
  }
 },
 "nbformat": 4,
 "nbformat_minor": 2
}
