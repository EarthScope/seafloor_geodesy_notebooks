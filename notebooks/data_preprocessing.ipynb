{
 "cells": [
  {
   "cell_type": "markdown",
   "metadata": {},
   "source": [
    "# Data Preprocessing\n",
    "\n",
    "This notebook runs a user through the steps to select a survey and preprocess all the raw data into the inputs necessary to run GARPOS.  "
   ]
  },
  {
   "cell_type": "code",
   "execution_count": 2,
   "metadata": {
    "tags": []
   },
   "outputs": [],
   "source": [
    "import os\n",
    "from pathlib import Path\n",
    "\n",
    "from es_sfgtools.processing.pipeline import DataHandler\n",
    "from es_sfgtools.utils.archive_pull import (\n",
    "    list_survey_files\n",
    "    )\n",
    "\n",
    "from es_sfgtools.utils.loggers import BaseLogger\n"
   ]
  },
  {
   "cell_type": "markdown",
   "metadata": {},
   "source": [
    "### Confirm required environment variables are set"
   ]
  },
  {
   "cell_type": "code",
   "execution_count": 3,
   "metadata": {},
   "outputs": [
    {
     "data": {
      "text/plain": [
       "'/Users/gottlieb/miniconda3/envs/seafloor_geodesy_mac/lib'"
      ]
     },
     "execution_count": 3,
     "metadata": {},
     "output_type": "execute_result"
    }
   ],
   "source": [
    "# this must be set correctly for GO executables to translate novatel to rinex\n",
    "\n",
    "#Linux\n",
    "#!echo $LD_LIBRARY_PATH\n",
    "\n",
    "#Mac\n",
    "os.environ['DYLD_LIBRARY_PATH'] = \"/Users/gottlieb/miniconda3/envs/seafloor_geodesy_mac/lib\"\n",
    "os.getenv('DYLD_LIBRARY_PATH')"
   ]
  },
  {
   "cell_type": "code",
   "execution_count": 4,
   "metadata": {},
   "outputs": [
    {
     "name": "stdout",
     "output_type": "stream",
     "text": [
      "/Users/gottlieb/.PRIDE_PPPAR_BIN/pdp3\n"
     ]
    }
   ],
   "source": [
    "# this confirms PRIDE-PPPAR is in the PATH\n",
    "!which pdp3"
   ]
  },
  {
   "cell_type": "markdown",
   "metadata": {},
   "source": [
    "## Step 1. Initial Setup\n"
   ]
  },
  {
   "cell_type": "markdown",
   "metadata": {},
   "source": [
    "#### Browse available surveys from the community archive and select target\n",
    "- Locate the survey of interest in https://gage-data.earthscope.org/archive/seafloor, and note the `network`, `station`, and `survey` names, which will be input in the cell below.  Leave vessel_type as SV3 unless you know you are working with older SV2 data.\n",
    "- In order to use this notebook to process new surveys, the data must first be submitted and made available from the community archive "
   ]
  },
  {
   "cell_type": "code",
   "execution_count": 5,
   "metadata": {
    "tags": []
   },
   "outputs": [
    {
     "name": "stderr",
     "output_type": "stream",
     "text": [
      "Building directory structure for cascadia-gorda NCC1 2023_A_1063\n",
      "No date range set for cascadia-gorda, NCC1, 2023_A_1063\n",
      "Building TileDB arrays for NCC1\n",
      "Changed working station to cascadia-gorda NCC1\n"
     ]
    }
   ],
   "source": [
    "# Input survey parameters\n",
    "network='cascadia-gorda'\n",
    "site='NCC1'\n",
    "#survey='2024_A_1126'\n",
    "survey='2023_A_1063'\n",
    "vessel_type = 'SV3'\n",
    "\n",
    "# Set data directory path for local environment\n",
    "data_dir = Path(f\"{os.path.expanduser('~/data/sfg')}\")\n",
    "os.makedirs(data_dir, exist_ok=True)\n",
    "\n",
    "#### USE THE FOLLOWING DEFAULTS UNLESS DESIRED####\n",
    "data_handler = DataHandler(directory=data_dir)\n",
    "data_handler.change_working_station(network=network, station=site, campaign=survey)\n",
    "BaseLogger.set_dir(data_handler.station_log_dir)\n",
    "\n",
    "if vessel_type == 'SV3':\n",
    "    pipeline, config = data_handler.get_pipeline_sv3()\n",
    "elif vessel_type == 'SV2':\n",
    "    pipeline, config = data_handler.get_pipeline_sv2()\n",
    "else:\n",
    "    raise ValueError(f\"Vessel type {vessel_type} not recognized\")\n",
    "\n"
   ]
  },
  {
   "cell_type": "markdown",
   "metadata": {},
   "source": [
    "# Step 2. Inventory available data and its location"
   ]
  },
  {
   "cell_type": "code",
   "execution_count": 7,
   "metadata": {},
   "outputs": [
    {
     "name": "stderr",
     "output_type": "stream",
     "text": [
      "Listing survey files from url https://gage-data.earthscope.org/archive/seafloor/cascadia-gorda/NCC1/2023_A_1063/raw\n",
      "Found under https://gage-data.earthscope.org/archive/seafloor/cascadia-gorda/NCC1/2023_A_1063/raw:\n",
      "    7 DFOP00 file(s)\n",
      "    90 NOV000 file(s)\n",
      "    38 NOV770 file(s)\n"
     ]
    }
   ],
   "source": [
    "# Generate a list of files available from remote archive\n",
    "#TODO: implement options for raw vs intermediate vs processed \n",
    "remote_filepaths = list_survey_files(network=network, station=site, survey=survey, show_details=True)"
   ]
  },
  {
   "cell_type": "code",
   "execution_count": 8,
   "metadata": {},
   "outputs": [
    {
     "name": "stdout",
     "output_type": "stream",
     "text": [
      "Local data directory contains the following:\n",
      "    dfop00: 7\n",
      "    novatel770: 38\n"
     ]
    }
   ],
   "source": [
    "# See what files exist locally\n",
    "data_type_counts = data_handler.get_dtype_counts()\n",
    "print(f\"Local data directory contains the following:\")\n",
    "for item in data_type_counts.items():\n",
    "    print(f\"    {item[0]}: {item[1]}\")"
   ]
  },
  {
   "cell_type": "markdown",
   "metadata": {},
   "source": [
    "## Step 3. Pull data from remote archive"
   ]
  },
  {
   "cell_type": "code",
   "execution_count": 9,
   "metadata": {},
   "outputs": [
    {
     "name": "stderr",
     "output_type": "stream",
     "text": [
      "21 files not recognized and skipped\n",
      "Added 0 out of 90 files to the catalog\n"
     ]
    }
   ],
   "source": [
    "#Add found remote files to the local catalog.  Note this builds an inventory, \n",
    "#but does not do the downloading until a later step.\n",
    "# TODO: Detail counts of files local vs only remote\n",
    "data_handler.add_data_remote(remote_filepaths=remote_filepaths)\n"
   ]
  },
  {
   "cell_type": "markdown",
   "metadata": {},
   "source": [
    "#### Select files types for downloading\n",
    "Observable file types depend on whether data was collected with an SV2 or SV3 waveglider.  \n",
    "\n",
    "![Alt text](garpos_flow.jpg)"
   ]
  },
  {
   "cell_type": "code",
   "execution_count": 10,
   "metadata": {},
   "outputs": [
    {
     "name": "stderr",
     "output_type": "stream",
     "text": [
      "No new AssetType.DFOP00 files to download\n",
      "No new AssetType.NOVATEL770 files to download\n"
     ]
    }
   ],
   "source": [
    "# Download the files by type\n",
    "# data_handler.download_data(file_type='sonardyne', show_details=False)\n",
    "# data_handler.download_data(file_type='novatel', show_details=False)\n",
    "# data_handler.download_data(file_type='master', show_details=False)\n",
    "# data_handler.download_data(file_type='svpavg', show_details=False)\n",
    "# data_handler.download_data(file_type='leverarm', show_details=False)\n",
    "\n",
    "data_handler.download_data(file_types='dfop00')\n",
    "data_handler.download_data(file_types='novatel770')"
   ]
  },
  {
   "cell_type": "markdown",
   "metadata": {},
   "source": [
    "# Step 4. Parse/Process raw data to processing input schemas\n",
    "\n",
    "- 4.1 Parse acoustic observations into AcousticDataFrames\n",
    "- 4.2 Parse IMU observations into IMUDataFrames\n",
    "- 4.3 Process GNSS observables to generate PositionDataFrames\n",
    "    - Parse RANGE-A novatel messages, build RINEX files\n",
    "    - Run PRIDE-PPP-AR on RINEX, generate Kin files\n",
    "    - Parse Kin files into PositionDataFrames\n",
    "- 4.4 Parse metadata files into SiteConfig"
   ]
  },
  {
   "cell_type": "markdown",
   "metadata": {},
   "source": [
    "### 4.1 Process and read DFOP00 files "
   ]
  },
  {
   "cell_type": "code",
   "execution_count": 11,
   "metadata": {},
   "outputs": [
    {
     "name": "stderr",
     "output_type": "stream",
     "text": [
      "No DFOP00 Files Found to Process for cascadia-gorda NCC1 2023_A_1063\n"
     ]
    }
   ],
   "source": [
    "#config.dfop00_config.override=True\n",
    "#config.dfop00_config.show_details=True\n",
    "#pipeline.config = config\n",
    "pipeline.process_dfop00()"
   ]
  },
  {
   "cell_type": "markdown",
   "metadata": {},
   "source": [
    "pipeline.pre_process_novatel()### 4.3 Take all GNSS parent files and generate GNSS df's"
   ]
  },
  {
   "cell_type": "code",
   "execution_count": 14,
   "metadata": {
    "tags": []
   },
   "outputs": [
    {
     "name": "stderr",
     "output_type": "stream",
     "text": [
      "Processing 38 Novatel 770 files for cascadia-gorda NCC1 2023_A_1063. This may take a few minutes...\n",
      "Running NOVB2TILE on 38 files\n",
      "Added 38 Novatel 770 Entries to the catalog\n",
      "Processing Novatel 000 data for cascadia-gorda NCC1 2023_A_1063\n",
      "No Novatel 000 Files Found to Process for cascadia-gorda NCC1 2023_A_1063\n"
     ]
    }
   ],
   "source": [
    "#config.novatel_config.override=True\n",
    "#pipeline.config = config\n",
    "pipeline.pre_process_novatel()"
   ]
  },
  {
   "cell_type": "code",
   "execution_count": 6,
   "metadata": {},
   "outputs": [
    {
     "name": "stderr",
     "output_type": "stream",
     "text": [
      "Gathering Rinex Files for cascadia-gorda NCC1 2023_A_1063. This may take a few minutes...\n"
     ]
    },
    {
     "name": "stdout",
     "output_type": "stream",
     "text": [
      "Command\n",
      "/Users/gottlieb/GIT/es_sfgtools/src/golangtools/build/tdb2rnx_darwin_arm64 -tdb /Users/gottlieb/data/sfg/cascadia-gorda/NCC1/TileDB/rangea_db.tdb -settings /Users/gottlieb/data/sfg/cascadia-gorda/NCC1/rinex_metav2.json -timeint 1 -year 0\n"
     ]
    },
    {
     "name": "stderr",
     "output_type": "stream",
     "text": [
      "\"Time Range: 2023-09-08 14:26:07.7 +0000 UTC - 2024-09-22 00:00:18.3 +0000 UTC Found At /Users/gottlieb/data/sfg/cascadia-gorda/NCC1/TileDB/rangea_db.tdb\"\n",
      "\"Found 20320 Epochs From Array Within Timespan: {2023-09-08 14:00:00 +0000 UTC 2023-09-08 15:00:00 +0000 UTC}\"\n",
      "\"Generating Daily RINEX File For Year 2023, Month 9, Day 8 To NCC12510.23o\"\n",
      "\"Found 36000 Epochs From Array Within Timespan: {2023-09-08 15:00:00 +0000 UTC 2023-09-08 16:00:00 +0000 UTC}\"\n",
      "\"Found 36000 Epochs From Array Within Timespan: {2023-09-08 16:00:00 +0000 UTC 2023-09-08 17:00:00 +0000 UTC}\"\n",
      "\"Found 36000 Epochs From Array Within Timespan: {2023-09-08 17:00:00 +0000 UTC 2023-09-08 18:00:00 +0000 UTC}\"\n",
      "\"Found 36000 Epochs From Array Within Timespan: {2023-09-08 18:00:00 +0000 UTC 2023-09-08 19:00:00 +0000 UTC}\"\n",
      "\"Found 36000 Epochs From Array Within Timespan: {2023-09-08 19:00:00 +0000 UTC 2023-09-08 20:00:00 +0000 UTC}\"\n",
      "\"Found 36000 Epochs From Array Within Timespan: {2023-09-08 20:00:00 +0000 UTC 2023-09-08 21:00:00 +0000 UTC}\"\n",
      "\"Found 36000 Epochs From Array Within Timespan: {2023-09-08 21:00:00 +0000 UTC 2023-09-08 22:00:00 +0000 UTC}\"\n",
      "\"Found 36000 Epochs From Array Within Timespan: {2023-09-08 22:00:00 +0000 UTC 2023-09-08 23:00:00 +0000 UTC}\"\n",
      "\"Found 36000 Epochs From Array Within Timespan: {2023-09-08 23:00:00 +0000 UTC 2023-09-08 23:59:59.999 +0000 UTC}\"\n",
      "\"Found 36000 Epochs From Array Within Timespan: {2023-09-09 00:00:00 +0000 UTC 2023-09-09 01:00:00 +0000 UTC}\"\n",
      "\"Generating Daily RINEX File For Year 2023, Month 9, Day 9 To NCC12520.23o\"\n",
      "\"Found 36000 Epochs From Array Within Timespan: {2023-09-09 01:00:00 +0000 UTC 2023-09-09 02:00:00 +0000 UTC}\"\n",
      "\"Found 36000 Epochs From Array Within Timespan: {2023-09-09 02:00:00 +0000 UTC 2023-09-09 03:00:00 +0000 UTC}\"\n",
      "\"Found 36000 Epochs From Array Within Timespan: {2023-09-09 03:00:00 +0000 UTC 2023-09-09 04:00:00 +0000 UTC}\"\n",
      "\"Found 36000 Epochs From Array Within Timespan: {2023-09-09 04:00:00 +0000 UTC 2023-09-09 05:00:00 +0000 UTC}\"\n",
      "\"Found 36000 Epochs From Array Within Timespan: {2023-09-09 05:00:00 +0000 UTC 2023-09-09 06:00:00 +0000 UTC}\"\n",
      "\"Found 35928 Epochs From Array Within Timespan: {2023-09-09 06:00:00 +0000 UTC 2023-09-09 07:00:00 +0000 UTC}\"\n",
      "\"Found 36000 Epochs From Array Within Timespan: {2023-09-09 07:00:00 +0000 UTC 2023-09-09 08:00:00 +0000 UTC}\"\n",
      "\"Found 36000 Epochs From Array Within Timespan: {2023-09-09 08:00:00 +0000 UTC 2023-09-09 09:00:00 +0000 UTC}\"\n",
      "\"Found 36000 Epochs From Array Within Timespan: {2023-09-09 09:00:00 +0000 UTC 2023-09-09 10:00:00 +0000 UTC}\"\n",
      "\"Found 36000 Epochs From Array Within Timespan: {2023-09-09 10:00:00 +0000 UTC 2023-09-09 11:00:00 +0000 UTC}\"\n",
      "\"Found 36000 Epochs From Array Within Timespan: {2023-09-09 11:00:00 +0000 UTC 2023-09-09 12:00:00 +0000 UTC}\"\n",
      "\"Found 36000 Epochs From Array Within Timespan: {2023-09-09 12:00:00 +0000 UTC 2023-09-09 13:00:00 +0000 UTC}\"\n",
      "\"Found 36000 Epochs From Array Within Timespan: {2023-09-09 13:00:00 +0000 UTC 2023-09-09 14:00:00 +0000 UTC}\"\n",
      "\"Found 36000 Epochs From Array Within Timespan: {2023-09-09 14:00:00 +0000 UTC 2023-09-09 15:00:00 +0000 UTC}\"\n",
      "\"Found 36000 Epochs From Array Within Timespan: {2023-09-09 15:00:00 +0000 UTC 2023-09-09 16:00:00 +0000 UTC}\"\n",
      "\"Found 36000 Epochs From Array Within Timespan: {2023-09-09 16:00:00 +0000 UTC 2023-09-09 17:00:00 +0000 UTC}\"\n",
      "\"Found 36000 Epochs From Array Within Timespan: {2023-09-09 17:00:00 +0000 UTC 2023-09-09 18:00:00 +0000 UTC}\"\n",
      "\"Found 36000 Epochs From Array Within Timespan: {2023-09-09 18:00:00 +0000 UTC 2023-09-09 19:00:00 +0000 UTC}\"\n",
      "\"Found 36000 Epochs From Array Within Timespan: {2023-09-09 19:00:00 +0000 UTC 2023-09-09 20:00:00 +0000 UTC}\"\n",
      "\"Found 36000 Epochs From Array Within Timespan: {2023-09-09 20:00:00 +0000 UTC 2023-09-09 21:00:00 +0000 UTC}\"\n",
      "\"Found 36000 Epochs From Array Within Timespan: {2023-09-09 21:00:00 +0000 UTC 2023-09-09 22:00:00 +0000 UTC}\"\n",
      "\"Found 36000 Epochs From Array Within Timespan: {2023-09-09 22:00:00 +0000 UTC 2023-09-09 23:00:00 +0000 UTC}\"\n",
      "\"Found 36000 Epochs From Array Within Timespan: {2023-09-09 23:00:00 +0000 UTC 2023-09-09 23:59:59.999 +0000 UTC}\"\n",
      "\"Found 35972 Epochs From Array Within Timespan: {2023-09-10 00:00:00 +0000 UTC 2023-09-10 01:00:00 +0000 UTC}\"\n",
      "\"Generating Daily RINEX File For Year 2023, Month 9, Day 10 To NCC12530.23o\"\n",
      "\"Found 36000 Epochs From Array Within Timespan: {2023-09-10 01:00:00 +0000 UTC 2023-09-10 02:00:00 +0000 UTC}\"\n",
      "\"Found 36000 Epochs From Array Within Timespan: {2023-09-10 02:00:00 +0000 UTC 2023-09-10 03:00:00 +0000 UTC}\"\n",
      "\"Found 36000 Epochs From Array Within Timespan: {2023-09-10 03:00:00 +0000 UTC 2023-09-10 04:00:00 +0000 UTC}\"\n",
      "\"Found 36000 Epochs From Array Within Timespan: {2023-09-10 04:00:00 +0000 UTC 2023-09-10 05:00:00 +0000 UTC}\"\n",
      "\"Found 36000 Epochs From Array Within Timespan: {2023-09-10 05:00:00 +0000 UTC 2023-09-10 06:00:00 +0000 UTC}\"\n",
      "\"Found 36000 Epochs From Array Within Timespan: {2023-09-10 06:00:00 +0000 UTC 2023-09-10 07:00:00 +0000 UTC}\"\n",
      "\"Found 36000 Epochs From Array Within Timespan: {2023-09-10 07:00:00 +0000 UTC 2023-09-10 08:00:00 +0000 UTC}\"\n",
      "\"Found 36000 Epochs From Array Within Timespan: {2023-09-10 08:00:00 +0000 UTC 2023-09-10 09:00:00 +0000 UTC}\"\n",
      "\"Found 36000 Epochs From Array Within Timespan: {2023-09-10 09:00:00 +0000 UTC 2023-09-10 10:00:00 +0000 UTC}\"\n",
      "\"Found 35999 Epochs From Array Within Timespan: {2023-09-10 10:00:00 +0000 UTC 2023-09-10 11:00:00 +0000 UTC}\"\n",
      "\"Found 36000 Epochs From Array Within Timespan: {2023-09-10 11:00:00 +0000 UTC 2023-09-10 12:00:00 +0000 UTC}\"\n",
      "\"Found 36000 Epochs From Array Within Timespan: {2023-09-10 12:00:00 +0000 UTC 2023-09-10 13:00:00 +0000 UTC}\"\n",
      "\"Found 35939 Epochs From Array Within Timespan: {2023-09-10 13:00:00 +0000 UTC 2023-09-10 14:00:00 +0000 UTC}\"\n",
      "\"Found 36000 Epochs From Array Within Timespan: {2023-09-10 14:00:00 +0000 UTC 2023-09-10 15:00:00 +0000 UTC}\"\n",
      "\"Found 36000 Epochs From Array Within Timespan: {2023-09-10 15:00:00 +0000 UTC 2023-09-10 16:00:00 +0000 UTC}\"\n",
      "\"Found 36000 Epochs From Array Within Timespan: {2023-09-10 16:00:00 +0000 UTC 2023-09-10 17:00:00 +0000 UTC}\"\n",
      "\"Found 36000 Epochs From Array Within Timespan: {2023-09-10 17:00:00 +0000 UTC 2023-09-10 18:00:00 +0000 UTC}\"\n",
      "\"Found 36000 Epochs From Array Within Timespan: {2023-09-10 18:00:00 +0000 UTC 2023-09-10 19:00:00 +0000 UTC}\"\n",
      "\"Found 36000 Epochs From Array Within Timespan: {2023-09-10 19:00:00 +0000 UTC 2023-09-10 20:00:00 +0000 UTC}\"\n",
      "\"Found 36000 Epochs From Array Within Timespan: {2023-09-10 20:00:00 +0000 UTC 2023-09-10 21:00:00 +0000 UTC}\"\n",
      "\"Found 36000 Epochs From Array Within Timespan: {2023-09-10 21:00:00 +0000 UTC 2023-09-10 22:00:00 +0000 UTC}\"\n",
      "\"Found 36000 Epochs From Array Within Timespan: {2023-09-10 22:00:00 +0000 UTC 2023-09-10 23:00:00 +0000 UTC}\"\n",
      "\"Found 36000 Epochs From Array Within Timespan: {2023-09-10 23:00:00 +0000 UTC 2023-09-10 23:59:59.999 +0000 UTC}\"\n",
      "\"Found 36000 Epochs From Array Within Timespan: {2023-09-11 00:00:00 +0000 UTC 2023-09-11 01:00:00 +0000 UTC}\"\n",
      "\"Generating Daily RINEX File For Year 2023, Month 9, Day 11 To NCC12540.23o\"\n",
      "\"Found 36000 Epochs From Array Within Timespan: {2023-09-11 01:00:00 +0000 UTC 2023-09-11 02:00:00 +0000 UTC}\"\n",
      "\"Found 36000 Epochs From Array Within Timespan: {2023-09-11 02:00:00 +0000 UTC 2023-09-11 03:00:00 +0000 UTC}\"\n",
      "\"Found 36000 Epochs From Array Within Timespan: {2023-09-11 03:00:00 +0000 UTC 2023-09-11 04:00:00 +0000 UTC}\"\n",
      "\"Found 36000 Epochs From Array Within Timespan: {2023-09-11 04:00:00 +0000 UTC 2023-09-11 05:00:00 +0000 UTC}\"\n",
      "\"Found 36000 Epochs From Array Within Timespan: {2023-09-11 05:00:00 +0000 UTC 2023-09-11 06:00:00 +0000 UTC}\"\n",
      "\"Found 36000 Epochs From Array Within Timespan: {2023-09-11 06:00:00 +0000 UTC 2023-09-11 07:00:00 +0000 UTC}\"\n",
      "\"Found 36000 Epochs From Array Within Timespan: {2023-09-11 07:00:00 +0000 UTC 2023-09-11 08:00:00 +0000 UTC}\"\n",
      "\"Found 36000 Epochs From Array Within Timespan: {2023-09-11 08:00:00 +0000 UTC 2023-09-11 09:00:00 +0000 UTC}\"\n",
      "\"Found 35976 Epochs From Array Within Timespan: {2023-09-11 09:00:00 +0000 UTC 2023-09-11 10:00:00 +0000 UTC}\"\n",
      "\"Found 36000 Epochs From Array Within Timespan: {2023-09-11 10:00:00 +0000 UTC 2023-09-11 11:00:00 +0000 UTC}\"\n",
      "\"Found 36000 Epochs From Array Within Timespan: {2023-09-11 11:00:00 +0000 UTC 2023-09-11 12:00:00 +0000 UTC}\"\n",
      "\"Found 36000 Epochs From Array Within Timespan: {2023-09-11 12:00:00 +0000 UTC 2023-09-11 13:00:00 +0000 UTC}\"\n",
      "\"Found 36000 Epochs From Array Within Timespan: {2023-09-11 13:00:00 +0000 UTC 2023-09-11 14:00:00 +0000 UTC}\"\n",
      "\"Found 36000 Epochs From Array Within Timespan: {2023-09-11 14:00:00 +0000 UTC 2023-09-11 15:00:00 +0000 UTC}\"\n",
      "\"Found 36000 Epochs From Array Within Timespan: {2023-09-11 15:00:00 +0000 UTC 2023-09-11 16:00:00 +0000 UTC}\"\n",
      "\"Found 36000 Epochs From Array Within Timespan: {2023-09-11 16:00:00 +0000 UTC 2023-09-11 17:00:00 +0000 UTC}\"\n",
      "\"Found 36000 Epochs From Array Within Timespan: {2023-09-11 17:00:00 +0000 UTC 2023-09-11 18:00:00 +0000 UTC}\"\n",
      "\"Found 35928 Epochs From Array Within Timespan: {2023-09-11 18:00:00 +0000 UTC 2023-09-11 19:00:00 +0000 UTC}\"\n",
      "\"Found 36000 Epochs From Array Within Timespan: {2023-09-11 19:00:00 +0000 UTC 2023-09-11 20:00:00 +0000 UTC}\"\n",
      "\"Found 36000 Epochs From Array Within Timespan: {2023-09-11 20:00:00 +0000 UTC 2023-09-11 21:00:00 +0000 UTC}\"\n",
      "\"Found 35927 Epochs From Array Within Timespan: {2023-09-11 21:00:00 +0000 UTC 2023-09-11 22:00:00 +0000 UTC}\"\n",
      "\"Found 36000 Epochs From Array Within Timespan: {2023-09-11 22:00:00 +0000 UTC 2023-09-11 23:00:00 +0000 UTC}\"\n",
      "\"Found 36000 Epochs From Array Within Timespan: {2023-09-11 23:00:00 +0000 UTC 2023-09-11 23:59:59.999 +0000 UTC}\"\n",
      "\"Found 36000 Epochs From Array Within Timespan: {2023-09-12 00:00:00 +0000 UTC 2023-09-12 01:00:00 +0000 UTC}\"\n",
      "\"Generating Daily RINEX File For Year 2023, Month 9, Day 12 To NCC12550.23o\"\n",
      "\"Found 36000 Epochs From Array Within Timespan: {2023-09-12 01:00:00 +0000 UTC 2023-09-12 02:00:00 +0000 UTC}\"\n",
      "\"Found 36000 Epochs From Array Within Timespan: {2023-09-12 02:00:00 +0000 UTC 2023-09-12 03:00:00 +0000 UTC}\"\n",
      "\"Found 36000 Epochs From Array Within Timespan: {2023-09-12 03:00:00 +0000 UTC 2023-09-12 04:00:00 +0000 UTC}\"\n",
      "\"Found 36000 Epochs From Array Within Timespan: {2023-09-12 04:00:00 +0000 UTC 2023-09-12 05:00:00 +0000 UTC}\"\n",
      "\"Found 36000 Epochs From Array Within Timespan: {2023-09-12 05:00:00 +0000 UTC 2023-09-12 06:00:00 +0000 UTC}\"\n",
      "\"Found 36000 Epochs From Array Within Timespan: {2023-09-12 06:00:00 +0000 UTC 2023-09-12 07:00:00 +0000 UTC}\"\n",
      "\"Found 36000 Epochs From Array Within Timespan: {2023-09-12 07:00:00 +0000 UTC 2023-09-12 08:00:00 +0000 UTC}\"\n",
      "\"Found 36000 Epochs From Array Within Timespan: {2023-09-12 08:00:00 +0000 UTC 2023-09-12 09:00:00 +0000 UTC}\"\n",
      "\"Found 35931 Epochs From Array Within Timespan: {2023-09-12 09:00:00 +0000 UTC 2023-09-12 10:00:00 +0000 UTC}\"\n",
      "\"Found 35942 Epochs From Array Within Timespan: {2023-09-12 10:00:00 +0000 UTC 2023-09-12 11:00:00 +0000 UTC}\"\n",
      "\"Found 36000 Epochs From Array Within Timespan: {2023-09-12 11:00:00 +0000 UTC 2023-09-12 12:00:00 +0000 UTC}\"\n",
      "\"Found 36000 Epochs From Array Within Timespan: {2023-09-12 12:00:00 +0000 UTC 2023-09-12 13:00:00 +0000 UTC}\"\n",
      "\"Found 35934 Epochs From Array Within Timespan: {2023-09-12 13:00:00 +0000 UTC 2023-09-12 14:00:00 +0000 UTC}\"\n",
      "\"Found 36000 Epochs From Array Within Timespan: {2023-09-12 14:00:00 +0000 UTC 2023-09-12 15:00:00 +0000 UTC}\"\n",
      "\"Found 36000 Epochs From Array Within Timespan: {2023-09-12 15:00:00 +0000 UTC 2023-09-12 16:00:00 +0000 UTC}\"\n",
      "\"Found 36000 Epochs From Array Within Timespan: {2023-09-12 16:00:00 +0000 UTC 2023-09-12 17:00:00 +0000 UTC}\"\n",
      "\"Found 36000 Epochs From Array Within Timespan: {2023-09-12 17:00:00 +0000 UTC 2023-09-12 18:00:00 +0000 UTC}\"\n",
      "\"Found 36000 Epochs From Array Within Timespan: {2023-09-12 18:00:00 +0000 UTC 2023-09-12 19:00:00 +0000 UTC}\"\n",
      "\"Found 35973 Epochs From Array Within Timespan: {2023-09-12 19:00:00 +0000 UTC 2023-09-12 20:00:00 +0000 UTC}\"\n",
      "\"Found 36000 Epochs From Array Within Timespan: {2023-09-12 20:00:00 +0000 UTC 2023-09-12 21:00:00 +0000 UTC}\"\n",
      "\"Found 36000 Epochs From Array Within Timespan: {2023-09-12 21:00:00 +0000 UTC 2023-09-12 22:00:00 +0000 UTC}\"\n",
      "\"Found 36000 Epochs From Array Within Timespan: {2023-09-12 22:00:00 +0000 UTC 2023-09-12 23:00:00 +0000 UTC}\"\n",
      "\"Found 36000 Epochs From Array Within Timespan: {2023-09-12 23:00:00 +0000 UTC 2023-09-12 23:59:59.999 +0000 UTC}\"\n",
      "\"Found 36000 Epochs From Array Within Timespan: {2023-09-13 00:00:00 +0000 UTC 2023-09-13 01:00:00 +0000 UTC}\"\n",
      "\"Generating Daily RINEX File For Year 2023, Month 9, Day 13 To NCC12560.23o\"\n",
      "\"Found 36000 Epochs From Array Within Timespan: {2023-09-13 01:00:00 +0000 UTC 2023-09-13 02:00:00 +0000 UTC}\"\n",
      "\"Found 36000 Epochs From Array Within Timespan: {2023-09-13 02:00:00 +0000 UTC 2023-09-13 03:00:00 +0000 UTC}\"\n",
      "\"Found 36000 Epochs From Array Within Timespan: {2023-09-13 03:00:00 +0000 UTC 2023-09-13 04:00:00 +0000 UTC}\"\n",
      "\"Found 35900 Epochs From Array Within Timespan: {2023-09-13 04:00:00 +0000 UTC 2023-09-13 05:00:00 +0000 UTC}\"\n",
      "\"Found 35984 Epochs From Array Within Timespan: {2023-09-13 05:00:00 +0000 UTC 2023-09-13 06:00:00 +0000 UTC}\"\n",
      "\"Found 35964 Epochs From Array Within Timespan: {2023-09-13 06:00:00 +0000 UTC 2023-09-13 07:00:00 +0000 UTC}\"\n",
      "\"Found 35990 Epochs From Array Within Timespan: {2023-09-13 07:00:00 +0000 UTC 2023-09-13 08:00:00 +0000 UTC}\"\n",
      "\"Found 35966 Epochs From Array Within Timespan: {2023-09-13 08:00:00 +0000 UTC 2023-09-13 09:00:00 +0000 UTC}\"\n",
      "\"Found 35949 Epochs From Array Within Timespan: {2023-09-13 09:00:00 +0000 UTC 2023-09-13 10:00:00 +0000 UTC}\"\n",
      "\"Found 35990 Epochs From Array Within Timespan: {2023-09-13 10:00:00 +0000 UTC 2023-09-13 11:00:00 +0000 UTC}\"\n",
      "\"Found 35964 Epochs From Array Within Timespan: {2023-09-13 11:00:00 +0000 UTC 2023-09-13 12:00:00 +0000 UTC}\"\n",
      "\"Found 35916 Epochs From Array Within Timespan: {2023-09-13 12:00:00 +0000 UTC 2023-09-13 13:00:00 +0000 UTC}\"\n",
      "\"Found 35947 Epochs From Array Within Timespan: {2023-09-13 13:00:00 +0000 UTC 2023-09-13 14:00:00 +0000 UTC}\"\n",
      "\"Found 35895 Epochs From Array Within Timespan: {2023-09-13 14:00:00 +0000 UTC 2023-09-13 15:00:00 +0000 UTC}\"\n",
      "\"Found 35949 Epochs From Array Within Timespan: {2023-09-13 15:00:00 +0000 UTC 2023-09-13 16:00:00 +0000 UTC}\"\n",
      "\"Found 35882 Epochs From Array Within Timespan: {2023-09-13 16:00:00 +0000 UTC 2023-09-13 17:00:00 +0000 UTC}\"\n",
      "\"Found 35944 Epochs From Array Within Timespan: {2023-09-13 17:00:00 +0000 UTC 2023-09-13 18:00:00 +0000 UTC}\"\n",
      "\"Found 35912 Epochs From Array Within Timespan: {2023-09-13 18:00:00 +0000 UTC 2023-09-13 19:00:00 +0000 UTC}\"\n",
      "\"Found 35921 Epochs From Array Within Timespan: {2023-09-13 19:00:00 +0000 UTC 2023-09-13 20:00:00 +0000 UTC}\"\n",
      "\"Found 35935 Epochs From Array Within Timespan: {2023-09-13 20:00:00 +0000 UTC 2023-09-13 21:00:00 +0000 UTC}\"\n",
      "\"Found 35968 Epochs From Array Within Timespan: {2023-09-13 21:00:00 +0000 UTC 2023-09-13 22:00:00 +0000 UTC}\"\n",
      "\"Found 35928 Epochs From Array Within Timespan: {2023-09-13 22:00:00 +0000 UTC 2023-09-13 23:00:00 +0000 UTC}\"\n",
      "\"Found 35979 Epochs From Array Within Timespan: {2023-09-13 23:00:00 +0000 UTC 2023-09-13 23:59:59.999 +0000 UTC}\"\n",
      "\"Found 35968 Epochs From Array Within Timespan: {2023-09-14 00:00:00 +0000 UTC 2023-09-14 01:00:00 +0000 UTC}\"\n",
      "\"Generating Daily RINEX File For Year 2023, Month 9, Day 14 To NCC12570.23o\"\n",
      "\"Found 35900 Epochs From Array Within Timespan: {2023-09-14 01:00:00 +0000 UTC 2023-09-14 02:00:00 +0000 UTC}\"\n",
      "\"Found 35703 Epochs From Array Within Timespan: {2023-09-14 02:00:00 +0000 UTC 2023-09-14 03:00:00 +0000 UTC}\"\n",
      "\"Found 32737 Epochs From Array Within Timespan: {2023-09-14 03:00:00 +0000 UTC 2023-09-14 04:00:00 +0000 UTC}\"\n",
      "\"Found 362 Epochs From Array Within Timespan: {2024-09-21 22:00:00 +0000 UTC 2024-09-21 23:00:00 +0000 UTC}\"\n",
      "\"Generating Daily RINEX File For Year 2024, Month 9, Day 21 To NCC12650.24o\"\n",
      "\"Found 4658 Epochs From Array Within Timespan: {2024-09-21 23:00:00 +0000 UTC 2024-09-21 23:59:59.999 +0000 UTC}\"\n",
      "\"Found 23 Epochs From Array Within Timespan: {2024-09-22 00:00:00 +0000 UTC 2024-09-22 01:00:00 +0000 UTC}\"\n",
      "\"Generating Daily RINEX File For Year 2024, Month 9, Day 22 To NCC12660.24o\"\n",
      "Generated 9 Rinex Entries spanning 2023-09-08 14:26:07 to 2023-09-10 00:00:00\n",
      "Added 0 out of 9 Rinex Entries to the catalog\n"
     ]
    }
   ],
   "source": [
    "# config.rinex_config.n_processes=2\n",
    "config.rinex_config.override=True\n",
    "pipeline.config = config\n",
    "pipeline.get_rinex_files()"
   ]
  },
  {
   "cell_type": "code",
   "execution_count": 8,
   "metadata": {
    "tags": []
   },
   "outputs": [
    {
     "name": "stderr",
     "output_type": "stream",
     "text": [
      "Processing Rinex Data for cascadia-gorda NCC1 2023_A_1063. This may take a few minutes...\n",
      "Found 9 Rinex Files to Process\n",
      "Converting RINEX file /Users/gottlieb/data/sfg/cascadia-gorda/NCC1/2023_A_1063/intermediate/NCC12560.23o to kin file\n",
      "Converting RINEX file /Users/gottlieb/data/sfg/cascadia-gorda/NCC1/2023_A_1063/intermediate/NCC12550.23o to kin file\n",
      "Converting RINEX file /Users/gottlieb/data/sfg/cascadia-gorda/NCC1/2023_A_1063/intermediate/NCC12510.23o to kin file\n",
      "Converting RINEX file /Users/gottlieb/data/sfg/cascadia-gorda/NCC1/2023_A_1063/intermediate/NCC12660.24o to kin file\n",
      "Converting RINEX file /Users/gottlieb/data/sfg/cascadia-gorda/NCC1/2023_A_1063/intermediate/NCC12570.23o to kin file\n",
      "Converting RINEX file /Users/gottlieb/data/sfg/cascadia-gorda/NCC1/2023_A_1063/intermediate/NCC12520.23o to kin file\n",
      "Converting RINEX file /Users/gottlieb/data/sfg/cascadia-gorda/NCC1/2023_A_1063/intermediate/NCC12540.23o to kin file\n",
      "Converting RINEX file /Users/gottlieb/data/sfg/cascadia-gorda/NCC1/2023_A_1063/intermediate/NCC12530.23o to kin file\n",
      "Converting RINEX file /Users/gottlieb/data/sfg/cascadia-gorda/NCC1/2023_A_1063/intermediate/NCC12650.24o to kin file\n",
      "\u001b[0;31merror:\u001b[0m observation period too short: 18.000 < 30.0\n",
      "No kin file generated from RINEX /Users/gottlieb/data/sfg/cascadia-gorda/NCC1/2023_A_1063/intermediate/NCC12660.24o\n",
      "/Users/gottlieb/GIT/es_sfgtools/src/es_sfgtools/processing/operations/gnss_ops.py:736: UserWarning: No kin file generated from RINEX /Users/gottlieb/data/sfg/cascadia-gorda/NCC1/2023_A_1063/intermediate/NCC12660.24o\n",
      "  warn(response)\n",
      "1;33mwarning:0m no observation for GNSS (R)\n",
      "1;33mwarning:0m no observation for GNSS (E)\n",
      "1;33mwarning:0m no observation for GNSS (C)\n",
      "1;33mwarning:0m no observation for GNSS (J)\n",
      "1;33mwarning:0m no satellite orbit for GNSS (J):  WUM0MGXRAP_20242650000_01D_05M_ORB.SP3\n",
      "1;33mwarning:0m no OSB for GNSS (J): L1 L2\n",
      "Converted RINEX file /Users/gottlieb/data/sfg/cascadia-gorda/NCC1/2023_A_1063/intermediate/NCC12650.24o to kin file /Users/gottlieb/data/sfg/cascadia-gorda/NCC1/2023_A_1063/intermediate/kin_2024265_ncc1.kin\n",
      "Found PRIDE res file /Users/gottlieb/data/sfg/cascadia-gorda/NCC1/2023_A_1063/intermediate/res_2024265_ncc1.res\n",
      "1;33mwarning:0m no observation for GNSS (R)\n",
      "1;33mwarning:0m no observation for GNSS (E)\n",
      "1;33mwarning:0m no observation for GNSS (C)\n",
      "1;33mwarning:0m no observation for GNSS (J)\n",
      "1;33mwarning:0m no satellite orbit for GNSS (J):  WUM0MGXRAP_20232570000_01D_05M_ORB.SP3\n",
      "1;33mwarning:0m no OSB for GNSS (J): L1 L2\n",
      "Converted RINEX file /Users/gottlieb/data/sfg/cascadia-gorda/NCC1/2023_A_1063/intermediate/NCC12570.23o to kin file /Users/gottlieb/data/sfg/cascadia-gorda/NCC1/2023_A_1063/intermediate/kin_2023257_ncc1.kin\n",
      "Found PRIDE res file /Users/gottlieb/data/sfg/cascadia-gorda/NCC1/2023_A_1063/intermediate/res_2023257_ncc1.res\n",
      "1;33mwarning:0m no observation for GNSS (R)\n",
      "1;33mwarning:0m no observation for GNSS (E)\n",
      "1;33mwarning:0m no observation for GNSS (C)\n",
      "1;33mwarning:0m no observation for GNSS (J)\n",
      "1;33mwarning:0m no satellite orbit for GNSS (J):  WUM0MGXRAP_20232510000_01D_05M_ORB.SP3\n",
      "1;33mwarning:0m no OSB for GNSS (J): L1 L2\n",
      "Converted RINEX file /Users/gottlieb/data/sfg/cascadia-gorda/NCC1/2023_A_1063/intermediate/NCC12510.23o to kin file /Users/gottlieb/data/sfg/cascadia-gorda/NCC1/2023_A_1063/intermediate/kin_2023251_ncc1.kin\n",
      "Found PRIDE res file /Users/gottlieb/data/sfg/cascadia-gorda/NCC1/2023_A_1063/intermediate/res_2023251_ncc1.res\n",
      "1;33mwarning:0m no observation for GNSS (R)\n",
      "1;33mwarning:0m no observation for GNSS (E)\n",
      "1;33mwarning:0m no observation for GNSS (C)\n",
      "1;33mwarning:0m no observation for GNSS (J)\n",
      "1;33mwarning:0m no satellite orbit for GNSS (J):  WUM0MGXRAP_20232520000_01D_05M_ORB.SP3\n",
      "1;33mwarning:0m no OSB for GNSS (J): L1 L2\n",
      "Converted RINEX file /Users/gottlieb/data/sfg/cascadia-gorda/NCC1/2023_A_1063/intermediate/NCC12520.23o to kin file /Users/gottlieb/data/sfg/cascadia-gorda/NCC1/2023_A_1063/intermediate/kin_2023252_ncc1.kin\n",
      "Found PRIDE res file /Users/gottlieb/data/sfg/cascadia-gorda/NCC1/2023_A_1063/intermediate/res_2023252_ncc1.res\n",
      "1;33mwarning:0m no observation for GNSS (R)\n",
      "1;33mwarning:0m no observation for GNSS (E)\n",
      "1;33mwarning:0m no observation for GNSS (C)\n",
      "1;33mwarning:0m no observation for GNSS (J)\n",
      "1;33mwarning:0m no satellite orbit for GNSS (J):  WUM0MGXRAP_20232550000_01D_05M_ORB.SP3\n",
      "1;33mwarning:0m no OSB for GNSS (J): L1 L2\n",
      "Converted RINEX file /Users/gottlieb/data/sfg/cascadia-gorda/NCC1/2023_A_1063/intermediate/NCC12550.23o to kin file /Users/gottlieb/data/sfg/cascadia-gorda/NCC1/2023_A_1063/intermediate/kin_2023255_ncc1.kin\n",
      "Found PRIDE res file /Users/gottlieb/data/sfg/cascadia-gorda/NCC1/2023_A_1063/intermediate/res_2023255_ncc1.res\n",
      "1;33mwarning:0m no observation for GNSS (R)\n",
      "1;33mwarning:0m no observation for GNSS (E)\n",
      "1;33mwarning:0m no observation for GNSS (C)\n",
      "1;33mwarning:0m no observation for GNSS (J)\n",
      "1;33mwarning:0m no satellite orbit for GNSS (J):  WUM0MGXRAP_20232560000_01D_05M_ORB.SP3\n",
      "1;33mwarning:0m no OSB for GNSS (J): L1 L2\n",
      "Converted RINEX file /Users/gottlieb/data/sfg/cascadia-gorda/NCC1/2023_A_1063/intermediate/NCC12560.23o to kin file /Users/gottlieb/data/sfg/cascadia-gorda/NCC1/2023_A_1063/intermediate/kin_2023256_ncc1.kin\n",
      "Found PRIDE res file /Users/gottlieb/data/sfg/cascadia-gorda/NCC1/2023_A_1063/intermediate/res_2023256_ncc1.res\n",
      "1;33mwarning:0m no observation for GNSS (R)\n",
      "1;33mwarning:0m no observation for GNSS (E)\n",
      "1;33mwarning:0m no observation for GNSS (C)\n",
      "1;33mwarning:0m no observation for GNSS (J)\n",
      "1;33mwarning:0m no satellite orbit for GNSS (J):  WUM0MGXRAP_20232540000_01D_05M_ORB.SP3\n",
      "1;33mwarning:0m no OSB for GNSS (J): L1 L2\n",
      "Converted RINEX file /Users/gottlieb/data/sfg/cascadia-gorda/NCC1/2023_A_1063/intermediate/NCC12540.23o to kin file /Users/gottlieb/data/sfg/cascadia-gorda/NCC1/2023_A_1063/intermediate/kin_2023254_ncc1.kin\n",
      "Found PRIDE res file /Users/gottlieb/data/sfg/cascadia-gorda/NCC1/2023_A_1063/intermediate/res_2023254_ncc1.res\n",
      "1;33mwarning:0m no observation for GNSS (R)\n",
      "1;33mwarning:0m no observation for GNSS (E)\n",
      "1;33mwarning:0m no observation for GNSS (C)\n",
      "1;33mwarning:0m no observation for GNSS (J)\n",
      "1;33mwarning:0m no satellite orbit for GNSS (J):  WUM0MGXRAP_20232530000_01D_05M_ORB.SP3\n",
      "1;33mwarning:0m no OSB for GNSS (J): L1 L2\n",
      "Converted RINEX file /Users/gottlieb/data/sfg/cascadia-gorda/NCC1/2023_A_1063/intermediate/NCC12530.23o to kin file /Users/gottlieb/data/sfg/cascadia-gorda/NCC1/2023_A_1063/intermediate/kin_2023253_ncc1.kin\n",
      "Found PRIDE res file /Users/gottlieb/data/sfg/cascadia-gorda/NCC1/2023_A_1063/intermediate/res_2023253_ncc1.res\n",
      "Processing Rinex Files: 100%|██████████| 9/9 [00:00<00:00, 256794.12it/s]\n",
      "Generated 16 Kin Files From 9 Rinex Files, Added 16 to the Catalog\n"
     ]
    }
   ],
   "source": [
    "config.rinex_config.override=True\n",
    "pipeline.config = config   \n",
    "pipeline.process_rinex()"
   ]
  },
  {
   "cell_type": "code",
   "execution_count": 9,
   "metadata": {},
   "outputs": [
    {
     "name": "stderr",
     "output_type": "stream",
     "text": [
      "Looking for Kin Files to Process for cascadia-gorda NCC1 2023_A_1063\n",
      "Found 8 Kin Files to Process: processing\n",
      "Processing Kin Files:   0%|          | 0/8 [00:00<?, ?it/s]GNSS Parser: 34425 shots from FILE /Users/gottlieb/data/sfg/cascadia-gorda/NCC1/2023_A_1063/intermediate/kin_2023251_ncc1.kin\n",
      "Processing Kin Files:  12%|█▎        | 1/8 [00:00<00:06,  1.09it/s]GNSS Parser: 86180 shots from FILE /Users/gottlieb/data/sfg/cascadia-gorda/NCC1/2023_A_1063/intermediate/kin_2023256_ncc1.kin\n",
      "Processing Kin Files:  25%|██▌       | 2/8 [00:02<00:07,  1.19s/it]GNSS Parser: 13935 shots from FILE /Users/gottlieb/data/sfg/cascadia-gorda/NCC1/2023_A_1063/intermediate/kin_2023257_ncc1.kin\n",
      "Processing Kin Files:  38%|███▊      | 3/8 [00:02<00:04,  1.12it/s]GNSS Parser: 86381 shots from FILE /Users/gottlieb/data/sfg/cascadia-gorda/NCC1/2023_A_1063/intermediate/kin_2023254_ncc1.kin\n",
      "Processing Kin Files:  50%|█████     | 4/8 [00:04<00:04,  1.05s/it]GNSS Parser: 520 shots from FILE /Users/gottlieb/data/sfg/cascadia-gorda/NCC1/2023_A_1063/intermediate/kin_2024265_ncc1.kin\n",
      "Processing Kin Files:  62%|██████▎   | 5/8 [00:04<00:02,  1.14it/s]GNSS Parser: 86379 shots from FILE /Users/gottlieb/data/sfg/cascadia-gorda/NCC1/2023_A_1063/intermediate/kin_2023255_ncc1.kin\n",
      "Processing Kin Files:  75%|███████▌  | 6/8 [00:06<00:02,  1.04s/it]GNSS Parser: 86391 shots from FILE /Users/gottlieb/data/sfg/cascadia-gorda/NCC1/2023_A_1063/intermediate/kin_2023252_ncc1.kin\n",
      "Processing Kin Files:  88%|████████▊ | 7/8 [00:07<00:01,  1.09s/it]GNSS Parser: 86390 shots from FILE /Users/gottlieb/data/sfg/cascadia-gorda/NCC1/2023_A_1063/intermediate/kin_2023253_ncc1.kin\n",
      "Processing Kin Files: 100%|██████████| 8/8 [00:08<00:00,  1.07s/it]\n",
      "Generated 8 GNSS Dataframes From 8 Kin Files, Added 0 to the Catalog\n"
     ]
    }
   ],
   "source": [
    "pipeline.process_kin()"
   ]
  },
  {
   "cell_type": "code",
   "execution_count": null,
   "metadata": {},
   "outputs": [],
   "source": []
  },
  {
   "cell_type": "code",
   "execution_count": 10,
   "metadata": {},
   "outputs": [
    {
     "name": "stderr",
     "output_type": "stream",
     "text": [
      "Updating shotdata with interpolated gnss data\n",
      "Merging shotdata and gnss data\n",
      "Interpolating shotdata for date 2023-09-08\n",
      "Interpolating 2955 points\n",
      "Interpolating ENU values\n",
      "Interpolation took 16.535 seconds for 2955 x 4 points\n",
      "Interpolating shotdata for date 2023-09-09\n",
      "Interpolating 5758 points\n",
      "Interpolating ENU values\n"
     ]
    },
    {
     "ename": "KeyboardInterrupt",
     "evalue": "",
     "output_type": "error",
     "traceback": [
      "\u001b[0;31m---------------------------------------------------------------------------\u001b[0m",
      "\u001b[0;31mKeyboardInterrupt\u001b[0m                         Traceback (most recent call last)",
      "Cell \u001b[0;32mIn[10], line 1\u001b[0m\n\u001b[0;32m----> 1\u001b[0m pipeline\u001b[38;5;241m.\u001b[39mupdate_shotdata()\n",
      "File \u001b[0;32m~/GIT/es_sfgtools/src/es_sfgtools/processing/pipeline/pipelines.py:427\u001b[0m, in \u001b[0;36mSV3Pipeline.update_shotdata\u001b[0;34m(self)\u001b[0m\n\u001b[1;32m    425\u001b[0m \u001b[38;5;28;01mif\u001b[39;00m \u001b[38;5;129;01mnot\u001b[39;00m \u001b[38;5;28mself\u001b[39m\u001b[38;5;241m.\u001b[39mcatalog\u001b[38;5;241m.\u001b[39mis_merge_complete(\u001b[38;5;241m*\u001b[39m\u001b[38;5;241m*\u001b[39mmerge_job) \u001b[38;5;129;01mor\u001b[39;00m \u001b[38;5;28mself\u001b[39m\u001b[38;5;241m.\u001b[39mconfig\u001b[38;5;241m.\u001b[39mposition_update_config\u001b[38;5;241m.\u001b[39moverride:\n\u001b[1;32m    426\u001b[0m     dates\u001b[38;5;241m.\u001b[39mappend(dates[\u001b[38;5;241m-\u001b[39m\u001b[38;5;241m1\u001b[39m]\u001b[38;5;241m+\u001b[39mdatetime\u001b[38;5;241m.\u001b[39mtimedelta(days\u001b[38;5;241m=\u001b[39m\u001b[38;5;241m1\u001b[39m))\n\u001b[0;32m--> 427\u001b[0m     merge_shotdata_gnss(\n\u001b[1;32m    428\u001b[0m         shotdata\u001b[38;5;241m=\u001b[39m\u001b[38;5;28mself\u001b[39m\u001b[38;5;241m.\u001b[39mconfig\u001b[38;5;241m.\u001b[39mshot_data_dest, gnss\u001b[38;5;241m=\u001b[39m\u001b[38;5;28mself\u001b[39m\u001b[38;5;241m.\u001b[39mconfig\u001b[38;5;241m.\u001b[39mgnss_data_dest, dates\u001b[38;5;241m=\u001b[39mdates, plot\u001b[38;5;241m=\u001b[39m\u001b[38;5;28mself\u001b[39m\u001b[38;5;241m.\u001b[39mconfig\u001b[38;5;241m.\u001b[39mposition_update_config\u001b[38;5;241m.\u001b[39mplot\n\u001b[1;32m    429\u001b[0m     )\n\u001b[1;32m    430\u001b[0m     \u001b[38;5;28mself\u001b[39m\u001b[38;5;241m.\u001b[39mcatalog\u001b[38;5;241m.\u001b[39madd_merge_job(\u001b[38;5;241m*\u001b[39m\u001b[38;5;241m*\u001b[39mmerge_job)\n",
      "File \u001b[0;32m~/GIT/es_sfgtools/src/es_sfgtools/processing/operations/utils.py:143\u001b[0m, in \u001b[0;36mmerge_shotdata_gnss\u001b[0;34m(shotdata, gnss, dates, plot)\u001b[0m\n\u001b[1;32m    140\u001b[0m enu_r_sig[np\u001b[38;5;241m.\u001b[39misnan(enu_r_sig)] \u001b[38;5;241m=\u001b[39m \u001b[38;5;241m1.0\u001b[39m \u001b[38;5;66;03m# set the standard deviation to 1.0 meters if it is nan\u001b[39;00m\n\u001b[1;32m    142\u001b[0m logger\u001b[38;5;241m.\u001b[39mloginfo(\u001b[38;5;124mf\u001b[39m\u001b[38;5;124m\"\u001b[39m\u001b[38;5;124mInterpolating \u001b[39m\u001b[38;5;132;01m{\u001b[39;00mtenu_r\u001b[38;5;241m.\u001b[39mshape[\u001b[38;5;241m0\u001b[39m]\u001b[38;5;132;01m}\u001b[39;00m\u001b[38;5;124m points\u001b[39m\u001b[38;5;124m\"\u001b[39m)\n\u001b[0;32m--> 143\u001b[0m pred_mu,pred_std \u001b[38;5;241m=\u001b[39m interpolate_enu(tenu_l,enu_l_sig,tenu_r\u001b[38;5;241m.\u001b[39mcopy(),enu_r_sig)\n\u001b[1;32m    144\u001b[0m \u001b[38;5;66;03m# create filter that matches the undistiled triggerTime with the first column of pred_mu\u001b[39;00m\n\u001b[1;32m    145\u001b[0m triggerTimePred \u001b[38;5;241m=\u001b[39m pred_mu[:,\u001b[38;5;241m0\u001b[39m]\n",
      "File \u001b[0;32m~/GIT/es_sfgtools/src/es_sfgtools/processing/operations/utils.py:66\u001b[0m, in \u001b[0;36minterpolate_enu\u001b[0;34m(tenu_l, enu_l_sig, tenu_r, enu_r_sig)\u001b[0m\n\u001b[1;32m     64\u001b[0m \u001b[38;5;28;01mfor\u001b[39;00m j \u001b[38;5;129;01min\u001b[39;00m \u001b[38;5;28mrange\u001b[39m(\u001b[38;5;241m3\u001b[39m):\n\u001b[1;32m     65\u001b[0m     gp \u001b[38;5;241m=\u001b[39m GaussianProcessRegressor(kernel\u001b[38;5;241m=\u001b[39mkernel)\n\u001b[0;32m---> 66\u001b[0m     gpr \u001b[38;5;241m=\u001b[39m gp\u001b[38;5;241m.\u001b[39mfit(X_train[ind], Y_train[ind, j])\n\u001b[1;32m     67\u001b[0m     y_mean, y_std \u001b[38;5;241m=\u001b[39m gpr\u001b[38;5;241m.\u001b[39mpredict(\n\u001b[1;32m     68\u001b[0m         tenu_r[idx, \u001b[38;5;241m0\u001b[39m]\u001b[38;5;241m.\u001b[39mreshape(\u001b[38;5;241m-\u001b[39m\u001b[38;5;241m1\u001b[39m, \u001b[38;5;241m1\u001b[39m), return_std\u001b[38;5;241m=\u001b[39m\u001b[38;5;28;01mTrue\u001b[39;00m\n\u001b[1;32m     69\u001b[0m     )\n\u001b[1;32m     70\u001b[0m     enu_r_sig[idx, j] \u001b[38;5;241m=\u001b[39m y_std\n",
      "File \u001b[0;32m~/miniconda3/envs/seafloor_geodesy_mac/lib/python3.11/site-packages/sklearn/base.py:1389\u001b[0m, in \u001b[0;36m_fit_context.<locals>.decorator.<locals>.wrapper\u001b[0;34m(estimator, *args, **kwargs)\u001b[0m\n\u001b[1;32m   1382\u001b[0m     estimator\u001b[38;5;241m.\u001b[39m_validate_params()\n\u001b[1;32m   1384\u001b[0m \u001b[38;5;28;01mwith\u001b[39;00m config_context(\n\u001b[1;32m   1385\u001b[0m     skip_parameter_validation\u001b[38;5;241m=\u001b[39m(\n\u001b[1;32m   1386\u001b[0m         prefer_skip_nested_validation \u001b[38;5;129;01mor\u001b[39;00m global_skip_validation\n\u001b[1;32m   1387\u001b[0m     )\n\u001b[1;32m   1388\u001b[0m ):\n\u001b[0;32m-> 1389\u001b[0m     \u001b[38;5;28;01mreturn\u001b[39;00m fit_method(estimator, \u001b[38;5;241m*\u001b[39margs, \u001b[38;5;241m*\u001b[39m\u001b[38;5;241m*\u001b[39mkwargs)\n",
      "File \u001b[0;32m~/miniconda3/envs/seafloor_geodesy_mac/lib/python3.11/site-packages/sklearn/gaussian_process/_gpr.py:308\u001b[0m, in \u001b[0;36mGaussianProcessRegressor.fit\u001b[0;34m(self, X, y)\u001b[0m\n\u001b[1;32m    303\u001b[0m         \u001b[38;5;28;01mreturn\u001b[39;00m \u001b[38;5;241m-\u001b[39m\u001b[38;5;28mself\u001b[39m\u001b[38;5;241m.\u001b[39mlog_marginal_likelihood(theta, clone_kernel\u001b[38;5;241m=\u001b[39m\u001b[38;5;28;01mFalse\u001b[39;00m)\n\u001b[1;32m    305\u001b[0m \u001b[38;5;66;03m# First optimize starting from theta specified in kernel\u001b[39;00m\n\u001b[1;32m    306\u001b[0m optima \u001b[38;5;241m=\u001b[39m [\n\u001b[1;32m    307\u001b[0m     (\n\u001b[0;32m--> 308\u001b[0m         \u001b[38;5;28mself\u001b[39m\u001b[38;5;241m.\u001b[39m_constrained_optimization(\n\u001b[1;32m    309\u001b[0m             obj_func, \u001b[38;5;28mself\u001b[39m\u001b[38;5;241m.\u001b[39mkernel_\u001b[38;5;241m.\u001b[39mtheta, \u001b[38;5;28mself\u001b[39m\u001b[38;5;241m.\u001b[39mkernel_\u001b[38;5;241m.\u001b[39mbounds\n\u001b[1;32m    310\u001b[0m         )\n\u001b[1;32m    311\u001b[0m     )\n\u001b[1;32m    312\u001b[0m ]\n\u001b[1;32m    314\u001b[0m \u001b[38;5;66;03m# Additional runs are performed from log-uniform chosen initial\u001b[39;00m\n\u001b[1;32m    315\u001b[0m \u001b[38;5;66;03m# theta\u001b[39;00m\n\u001b[1;32m    316\u001b[0m \u001b[38;5;28;01mif\u001b[39;00m \u001b[38;5;28mself\u001b[39m\u001b[38;5;241m.\u001b[39mn_restarts_optimizer \u001b[38;5;241m>\u001b[39m \u001b[38;5;241m0\u001b[39m:\n",
      "File \u001b[0;32m~/miniconda3/envs/seafloor_geodesy_mac/lib/python3.11/site-packages/sklearn/gaussian_process/_gpr.py:653\u001b[0m, in \u001b[0;36mGaussianProcessRegressor._constrained_optimization\u001b[0;34m(self, obj_func, initial_theta, bounds)\u001b[0m\n\u001b[1;32m    651\u001b[0m \u001b[38;5;28;01mdef\u001b[39;00m \u001b[38;5;21m_constrained_optimization\u001b[39m(\u001b[38;5;28mself\u001b[39m, obj_func, initial_theta, bounds):\n\u001b[1;32m    652\u001b[0m     \u001b[38;5;28;01mif\u001b[39;00m \u001b[38;5;28mself\u001b[39m\u001b[38;5;241m.\u001b[39moptimizer \u001b[38;5;241m==\u001b[39m \u001b[38;5;124m\"\u001b[39m\u001b[38;5;124mfmin_l_bfgs_b\u001b[39m\u001b[38;5;124m\"\u001b[39m:\n\u001b[0;32m--> 653\u001b[0m         opt_res \u001b[38;5;241m=\u001b[39m scipy\u001b[38;5;241m.\u001b[39moptimize\u001b[38;5;241m.\u001b[39mminimize(\n\u001b[1;32m    654\u001b[0m             obj_func,\n\u001b[1;32m    655\u001b[0m             initial_theta,\n\u001b[1;32m    656\u001b[0m             method\u001b[38;5;241m=\u001b[39m\u001b[38;5;124m\"\u001b[39m\u001b[38;5;124mL-BFGS-B\u001b[39m\u001b[38;5;124m\"\u001b[39m,\n\u001b[1;32m    657\u001b[0m             jac\u001b[38;5;241m=\u001b[39m\u001b[38;5;28;01mTrue\u001b[39;00m,\n\u001b[1;32m    658\u001b[0m             bounds\u001b[38;5;241m=\u001b[39mbounds,\n\u001b[1;32m    659\u001b[0m         )\n\u001b[1;32m    660\u001b[0m         _check_optimize_result(\u001b[38;5;124m\"\u001b[39m\u001b[38;5;124mlbfgs\u001b[39m\u001b[38;5;124m\"\u001b[39m, opt_res)\n\u001b[1;32m    661\u001b[0m         theta_opt, func_min \u001b[38;5;241m=\u001b[39m opt_res\u001b[38;5;241m.\u001b[39mx, opt_res\u001b[38;5;241m.\u001b[39mfun\n",
      "File \u001b[0;32m~/miniconda3/envs/seafloor_geodesy_mac/lib/python3.11/site-packages/scipy/optimize/_minimize.py:738\u001b[0m, in \u001b[0;36mminimize\u001b[0;34m(fun, x0, args, method, jac, hess, hessp, bounds, constraints, tol, callback, options)\u001b[0m\n\u001b[1;32m    735\u001b[0m     res \u001b[38;5;241m=\u001b[39m _minimize_newtoncg(fun, x0, args, jac, hess, hessp, callback,\n\u001b[1;32m    736\u001b[0m                              \u001b[38;5;241m*\u001b[39m\u001b[38;5;241m*\u001b[39moptions)\n\u001b[1;32m    737\u001b[0m \u001b[38;5;28;01melif\u001b[39;00m meth \u001b[38;5;241m==\u001b[39m \u001b[38;5;124m'\u001b[39m\u001b[38;5;124ml-bfgs-b\u001b[39m\u001b[38;5;124m'\u001b[39m:\n\u001b[0;32m--> 738\u001b[0m     res \u001b[38;5;241m=\u001b[39m _minimize_lbfgsb(fun, x0, args, jac, bounds,\n\u001b[1;32m    739\u001b[0m                            callback\u001b[38;5;241m=\u001b[39mcallback, \u001b[38;5;241m*\u001b[39m\u001b[38;5;241m*\u001b[39moptions)\n\u001b[1;32m    740\u001b[0m \u001b[38;5;28;01melif\u001b[39;00m meth \u001b[38;5;241m==\u001b[39m \u001b[38;5;124m'\u001b[39m\u001b[38;5;124mtnc\u001b[39m\u001b[38;5;124m'\u001b[39m:\n\u001b[1;32m    741\u001b[0m     res \u001b[38;5;241m=\u001b[39m _minimize_tnc(fun, x0, args, jac, bounds, callback\u001b[38;5;241m=\u001b[39mcallback,\n\u001b[1;32m    742\u001b[0m                         \u001b[38;5;241m*\u001b[39m\u001b[38;5;241m*\u001b[39moptions)\n",
      "File \u001b[0;32m~/miniconda3/envs/seafloor_geodesy_mac/lib/python3.11/site-packages/scipy/optimize/_lbfgsb_py.py:441\u001b[0m, in \u001b[0;36m_minimize_lbfgsb\u001b[0;34m(fun, x0, args, jac, bounds, disp, maxcor, ftol, gtol, eps, maxfun, maxiter, iprint, callback, maxls, finite_diff_rel_step, **unknown_options)\u001b[0m\n\u001b[1;32m    433\u001b[0m _lbfgsb\u001b[38;5;241m.\u001b[39msetulb(m, x, low_bnd, upper_bnd, nbd, f, g, factr, pgtol, wa,\n\u001b[1;32m    434\u001b[0m                iwa, task, lsave, isave, dsave, maxls, ln_task)\n\u001b[1;32m    436\u001b[0m \u001b[38;5;28;01mif\u001b[39;00m task[\u001b[38;5;241m0\u001b[39m] \u001b[38;5;241m==\u001b[39m \u001b[38;5;241m3\u001b[39m:\n\u001b[1;32m    437\u001b[0m     \u001b[38;5;66;03m# The minimization routine wants f and g at the current x.\u001b[39;00m\n\u001b[1;32m    438\u001b[0m     \u001b[38;5;66;03m# Note that interruptions due to maxfun are postponed\u001b[39;00m\n\u001b[1;32m    439\u001b[0m     \u001b[38;5;66;03m# until the completion of the current minimization iteration.\u001b[39;00m\n\u001b[1;32m    440\u001b[0m     \u001b[38;5;66;03m# Overwrite f and g:\u001b[39;00m\n\u001b[0;32m--> 441\u001b[0m     f, g \u001b[38;5;241m=\u001b[39m func_and_grad(x)\n\u001b[1;32m    442\u001b[0m \u001b[38;5;28;01melif\u001b[39;00m task[\u001b[38;5;241m0\u001b[39m] \u001b[38;5;241m==\u001b[39m \u001b[38;5;241m1\u001b[39m:\n\u001b[1;32m    443\u001b[0m     \u001b[38;5;66;03m# new iteration\u001b[39;00m\n\u001b[1;32m    444\u001b[0m     n_iterations \u001b[38;5;241m+\u001b[39m\u001b[38;5;241m=\u001b[39m \u001b[38;5;241m1\u001b[39m\n",
      "File \u001b[0;32m~/miniconda3/envs/seafloor_geodesy_mac/lib/python3.11/site-packages/scipy/optimize/_differentiable_functions.py:344\u001b[0m, in \u001b[0;36mScalarFunction.fun_and_grad\u001b[0;34m(self, x)\u001b[0m\n\u001b[1;32m    342\u001b[0m \u001b[38;5;28;01mif\u001b[39;00m \u001b[38;5;129;01mnot\u001b[39;00m np\u001b[38;5;241m.\u001b[39marray_equal(x, \u001b[38;5;28mself\u001b[39m\u001b[38;5;241m.\u001b[39mx):\n\u001b[1;32m    343\u001b[0m     \u001b[38;5;28mself\u001b[39m\u001b[38;5;241m.\u001b[39m_update_x(x)\n\u001b[0;32m--> 344\u001b[0m \u001b[38;5;28mself\u001b[39m\u001b[38;5;241m.\u001b[39m_update_fun()\n\u001b[1;32m    345\u001b[0m \u001b[38;5;28mself\u001b[39m\u001b[38;5;241m.\u001b[39m_update_grad()\n\u001b[1;32m    346\u001b[0m \u001b[38;5;28;01mreturn\u001b[39;00m \u001b[38;5;28mself\u001b[39m\u001b[38;5;241m.\u001b[39mf, \u001b[38;5;28mself\u001b[39m\u001b[38;5;241m.\u001b[39mg\n",
      "File \u001b[0;32m~/miniconda3/envs/seafloor_geodesy_mac/lib/python3.11/site-packages/scipy/optimize/_differentiable_functions.py:295\u001b[0m, in \u001b[0;36mScalarFunction._update_fun\u001b[0;34m(self)\u001b[0m\n\u001b[1;32m    293\u001b[0m \u001b[38;5;28;01mdef\u001b[39;00m \u001b[38;5;21m_update_fun\u001b[39m(\u001b[38;5;28mself\u001b[39m):\n\u001b[1;32m    294\u001b[0m     \u001b[38;5;28;01mif\u001b[39;00m \u001b[38;5;129;01mnot\u001b[39;00m \u001b[38;5;28mself\u001b[39m\u001b[38;5;241m.\u001b[39mf_updated:\n\u001b[0;32m--> 295\u001b[0m         fx \u001b[38;5;241m=\u001b[39m \u001b[38;5;28mself\u001b[39m\u001b[38;5;241m.\u001b[39m_wrapped_fun(\u001b[38;5;28mself\u001b[39m\u001b[38;5;241m.\u001b[39mx)\n\u001b[1;32m    296\u001b[0m         \u001b[38;5;28;01mif\u001b[39;00m fx \u001b[38;5;241m<\u001b[39m \u001b[38;5;28mself\u001b[39m\u001b[38;5;241m.\u001b[39m_lowest_f:\n\u001b[1;32m    297\u001b[0m             \u001b[38;5;28mself\u001b[39m\u001b[38;5;241m.\u001b[39m_lowest_x \u001b[38;5;241m=\u001b[39m \u001b[38;5;28mself\u001b[39m\u001b[38;5;241m.\u001b[39mx\n",
      "File \u001b[0;32m~/miniconda3/envs/seafloor_geodesy_mac/lib/python3.11/site-packages/scipy/optimize/_differentiable_functions.py:21\u001b[0m, in \u001b[0;36m_wrapper_fun.<locals>.wrapped\u001b[0;34m(x)\u001b[0m\n\u001b[1;32m     17\u001b[0m ncalls[\u001b[38;5;241m0\u001b[39m] \u001b[38;5;241m+\u001b[39m\u001b[38;5;241m=\u001b[39m \u001b[38;5;241m1\u001b[39m\n\u001b[1;32m     18\u001b[0m \u001b[38;5;66;03m# Send a copy because the user may overwrite it.\u001b[39;00m\n\u001b[1;32m     19\u001b[0m \u001b[38;5;66;03m# Overwriting results in undefined behaviour because\u001b[39;00m\n\u001b[1;32m     20\u001b[0m \u001b[38;5;66;03m# fun(self.x) will change self.x, with the two no longer linked.\u001b[39;00m\n\u001b[0;32m---> 21\u001b[0m fx \u001b[38;5;241m=\u001b[39m fun(np\u001b[38;5;241m.\u001b[39mcopy(x), \u001b[38;5;241m*\u001b[39margs)\n\u001b[1;32m     22\u001b[0m \u001b[38;5;66;03m# Make sure the function returns a true scalar\u001b[39;00m\n\u001b[1;32m     23\u001b[0m \u001b[38;5;28;01mif\u001b[39;00m \u001b[38;5;129;01mnot\u001b[39;00m np\u001b[38;5;241m.\u001b[39misscalar(fx):\n",
      "File \u001b[0;32m~/miniconda3/envs/seafloor_geodesy_mac/lib/python3.11/site-packages/scipy/optimize/_optimize.py:80\u001b[0m, in \u001b[0;36mMemoizeJac.__call__\u001b[0;34m(self, x, *args)\u001b[0m\n\u001b[1;32m     78\u001b[0m \u001b[38;5;28;01mdef\u001b[39;00m \u001b[38;5;21m__call__\u001b[39m(\u001b[38;5;28mself\u001b[39m, x, \u001b[38;5;241m*\u001b[39margs):\n\u001b[1;32m     79\u001b[0m \u001b[38;5;250m    \u001b[39m\u001b[38;5;124;03m\"\"\" returns the function value \"\"\"\u001b[39;00m\n\u001b[0;32m---> 80\u001b[0m     \u001b[38;5;28mself\u001b[39m\u001b[38;5;241m.\u001b[39m_compute_if_needed(x, \u001b[38;5;241m*\u001b[39margs)\n\u001b[1;32m     81\u001b[0m     \u001b[38;5;28;01mreturn\u001b[39;00m \u001b[38;5;28mself\u001b[39m\u001b[38;5;241m.\u001b[39m_value\n",
      "File \u001b[0;32m~/miniconda3/envs/seafloor_geodesy_mac/lib/python3.11/site-packages/scipy/optimize/_optimize.py:74\u001b[0m, in \u001b[0;36mMemoizeJac._compute_if_needed\u001b[0;34m(self, x, *args)\u001b[0m\n\u001b[1;32m     72\u001b[0m \u001b[38;5;28;01mif\u001b[39;00m \u001b[38;5;129;01mnot\u001b[39;00m np\u001b[38;5;241m.\u001b[39mall(x \u001b[38;5;241m==\u001b[39m \u001b[38;5;28mself\u001b[39m\u001b[38;5;241m.\u001b[39mx) \u001b[38;5;129;01mor\u001b[39;00m \u001b[38;5;28mself\u001b[39m\u001b[38;5;241m.\u001b[39m_value \u001b[38;5;129;01mis\u001b[39;00m \u001b[38;5;28;01mNone\u001b[39;00m \u001b[38;5;129;01mor\u001b[39;00m \u001b[38;5;28mself\u001b[39m\u001b[38;5;241m.\u001b[39mjac \u001b[38;5;129;01mis\u001b[39;00m \u001b[38;5;28;01mNone\u001b[39;00m:\n\u001b[1;32m     73\u001b[0m     \u001b[38;5;28mself\u001b[39m\u001b[38;5;241m.\u001b[39mx \u001b[38;5;241m=\u001b[39m np\u001b[38;5;241m.\u001b[39masarray(x)\u001b[38;5;241m.\u001b[39mcopy()\n\u001b[0;32m---> 74\u001b[0m     fg \u001b[38;5;241m=\u001b[39m \u001b[38;5;28mself\u001b[39m\u001b[38;5;241m.\u001b[39mfun(x, \u001b[38;5;241m*\u001b[39margs)\n\u001b[1;32m     75\u001b[0m     \u001b[38;5;28mself\u001b[39m\u001b[38;5;241m.\u001b[39mjac \u001b[38;5;241m=\u001b[39m fg[\u001b[38;5;241m1\u001b[39m]\n\u001b[1;32m     76\u001b[0m     \u001b[38;5;28mself\u001b[39m\u001b[38;5;241m.\u001b[39m_value \u001b[38;5;241m=\u001b[39m fg[\u001b[38;5;241m0\u001b[39m]\n",
      "File \u001b[0;32m~/miniconda3/envs/seafloor_geodesy_mac/lib/python3.11/site-packages/sklearn/gaussian_process/_gpr.py:298\u001b[0m, in \u001b[0;36mGaussianProcessRegressor.fit.<locals>.obj_func\u001b[0;34m(theta, eval_gradient)\u001b[0m\n\u001b[1;32m    296\u001b[0m \u001b[38;5;28;01mdef\u001b[39;00m \u001b[38;5;21mobj_func\u001b[39m(theta, eval_gradient\u001b[38;5;241m=\u001b[39m\u001b[38;5;28;01mTrue\u001b[39;00m):\n\u001b[1;32m    297\u001b[0m     \u001b[38;5;28;01mif\u001b[39;00m eval_gradient:\n\u001b[0;32m--> 298\u001b[0m         lml, grad \u001b[38;5;241m=\u001b[39m \u001b[38;5;28mself\u001b[39m\u001b[38;5;241m.\u001b[39mlog_marginal_likelihood(\n\u001b[1;32m    299\u001b[0m             theta, eval_gradient\u001b[38;5;241m=\u001b[39m\u001b[38;5;28;01mTrue\u001b[39;00m, clone_kernel\u001b[38;5;241m=\u001b[39m\u001b[38;5;28;01mFalse\u001b[39;00m\n\u001b[1;32m    300\u001b[0m         )\n\u001b[1;32m    301\u001b[0m         \u001b[38;5;28;01mreturn\u001b[39;00m \u001b[38;5;241m-\u001b[39mlml, \u001b[38;5;241m-\u001b[39mgrad\n\u001b[1;32m    302\u001b[0m     \u001b[38;5;28;01melse\u001b[39;00m:\n",
      "File \u001b[0;32m~/miniconda3/envs/seafloor_geodesy_mac/lib/python3.11/site-packages/sklearn/gaussian_process/_gpr.py:624\u001b[0m, in \u001b[0;36mGaussianProcessRegressor.log_marginal_likelihood\u001b[0;34m(self, theta, eval_gradient, clone_kernel)\u001b[0m\n\u001b[1;32m    622\u001b[0m inner_term \u001b[38;5;241m=\u001b[39m np\u001b[38;5;241m.\u001b[39meinsum(\u001b[38;5;124m\"\u001b[39m\u001b[38;5;124mik,jk->ijk\u001b[39m\u001b[38;5;124m\"\u001b[39m, alpha, alpha)\n\u001b[1;32m    623\u001b[0m \u001b[38;5;66;03m# compute K^-1 of shape (n_samples, n_samples)\u001b[39;00m\n\u001b[0;32m--> 624\u001b[0m K_inv \u001b[38;5;241m=\u001b[39m cho_solve(\n\u001b[1;32m    625\u001b[0m     (L, GPR_CHOLESKY_LOWER), np\u001b[38;5;241m.\u001b[39meye(K\u001b[38;5;241m.\u001b[39mshape[\u001b[38;5;241m0\u001b[39m]), check_finite\u001b[38;5;241m=\u001b[39m\u001b[38;5;28;01mFalse\u001b[39;00m\n\u001b[1;32m    626\u001b[0m )\n\u001b[1;32m    627\u001b[0m \u001b[38;5;66;03m# create a new axis to use broadcasting between inner_term and\u001b[39;00m\n\u001b[1;32m    628\u001b[0m \u001b[38;5;66;03m# K_inv\u001b[39;00m\n\u001b[1;32m    629\u001b[0m inner_term \u001b[38;5;241m-\u001b[39m\u001b[38;5;241m=\u001b[39m K_inv[\u001b[38;5;241m.\u001b[39m\u001b[38;5;241m.\u001b[39m\u001b[38;5;241m.\u001b[39m, np\u001b[38;5;241m.\u001b[39mnewaxis]\n",
      "File \u001b[0;32m~/miniconda3/envs/seafloor_geodesy_mac/lib/python3.11/site-packages/scipy/linalg/_decomp_cholesky.py:240\u001b[0m, in \u001b[0;36mcho_solve\u001b[0;34m(c_and_lower, b, overwrite_b, check_finite)\u001b[0m\n\u001b[1;32m    237\u001b[0m overwrite_b \u001b[38;5;241m=\u001b[39m overwrite_b \u001b[38;5;129;01mor\u001b[39;00m _datacopied(b1, b)\n\u001b[1;32m    239\u001b[0m potrs, \u001b[38;5;241m=\u001b[39m get_lapack_funcs((\u001b[38;5;124m'\u001b[39m\u001b[38;5;124mpotrs\u001b[39m\u001b[38;5;124m'\u001b[39m,), (c, b1))\n\u001b[0;32m--> 240\u001b[0m x, info \u001b[38;5;241m=\u001b[39m potrs(c, b1, lower\u001b[38;5;241m=\u001b[39mlower, overwrite_b\u001b[38;5;241m=\u001b[39moverwrite_b)\n\u001b[1;32m    241\u001b[0m \u001b[38;5;28;01mif\u001b[39;00m info \u001b[38;5;241m!=\u001b[39m \u001b[38;5;241m0\u001b[39m:\n\u001b[1;32m    242\u001b[0m     \u001b[38;5;28;01mraise\u001b[39;00m \u001b[38;5;167;01mValueError\u001b[39;00m(\u001b[38;5;124m'\u001b[39m\u001b[38;5;124millegal value in \u001b[39m\u001b[38;5;132;01m%d\u001b[39;00m\u001b[38;5;124mth argument of internal potrs\u001b[39m\u001b[38;5;124m'\u001b[39m\n\u001b[1;32m    243\u001b[0m                      \u001b[38;5;241m%\u001b[39m \u001b[38;5;241m-\u001b[39minfo)\n",
      "\u001b[0;31mKeyboardInterrupt\u001b[0m: "
     ]
    }
   ],
   "source": [
    "pipeline.update_shotdata()"
   ]
  },
  {
   "cell_type": "code",
   "execution_count": null,
   "metadata": {},
   "outputs": [],
   "source": []
  }
 ],
 "metadata": {
  "kernelspec": {
   "display_name": "seafloor_geodesy_mac",
   "language": "python",
   "name": "python3"
  },
  "language_info": {
   "codemirror_mode": {
    "name": "ipython",
    "version": 3
   },
   "file_extension": ".py",
   "mimetype": "text/x-python",
   "name": "python",
   "nbconvert_exporter": "python",
   "pygments_lexer": "ipython3",
   "version": "3.11.11"
  }
 },
 "nbformat": 4,
 "nbformat_minor": 4
}
