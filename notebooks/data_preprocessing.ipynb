{
 "cells": [
  {
   "cell_type": "markdown",
   "metadata": {},
   "source": [
    "# Data Preprocessing\n",
    "This notebook runs a user through the steps to select a survey and preprocess all the raw data into the inputs necessary to run GARPOS.  "
   ]
  },
  {
   "cell_type": "code",
   "execution_count": 1,
   "metadata": {},
   "outputs": [],
   "source": [
    "import os\n",
    "from pathlib import Path\n",
    "import pandas as pd\n",
    "\n",
    "from es_sfgtools.processing.pipeline import DataHandler\n",
    "from es_sfgtools.utils.archive_pull import (\n",
    "    list_survey_files\n",
    "    )\n",
    "\n",
    "from es_sfgtools.utils.loggers import BaseLogger\n",
    "\n",
    "BaseLogger.route_to_console()\n",
    "\n",
    "os.environ['DYLD_LIBRARY_PATH'] = \"/Users/gottlieb/miniconda3/envs/seafloor_geodesy/lib\""
   ]
  },
  {
   "cell_type": "markdown",
   "metadata": {},
   "source": [
    "## Step 1. Initial Setup\n"
   ]
  },
  {
   "cell_type": "markdown",
   "metadata": {},
   "source": [
    "#### Browse available surveys from the community archive and select target\n",
    "- Locate the survey of interest in https://gage-data.earthscope.org/archive/seafloor, and note the `network`, `station`, and `survey` names, which will be input in the cell below.\n",
    "- In order to use this notebook to process new surveys, the data must first be submitted and made available from the community archive "
   ]
  },
  {
   "cell_type": "markdown",
   "metadata": {},
   "source": [
    "# Step 2. Inventory available data and its location"
   ]
  },
  {
   "cell_type": "code",
   "execution_count": null,
   "metadata": {},
   "outputs": [
    {
     "name": "stderr",
     "output_type": "stream",
     "text": [
      "Building directory structure for cascadia-gorda NCC1 2024_A_1126\n",
      "Building TileDB arrays for NCC1\n",
      "Changed working station to cascadia-gorda NCC1\n"
     ]
    }
   ],
   "source": [
    "network='cascadia-gorda'\n",
    "site='NCC1'\n",
    "survey='2024_A_1126'\n",
    "#site='SEM1'\n",
    "#survey='2022_A_1049'\n",
    "\n",
    "#### USE THE FOLLOWING DEFAULTS UNLESS DESIRED####\n",
    "\n",
    "# Set data directory\n",
    "data_dir = Path(f\"/Users/gottlieb/data/sfg\")\n",
    "\n",
    "data_handler = DataHandler(directory=data_dir)\n",
    "data_handler.change_working_station(network=network, station=site, survey=survey)\n",
    "BaseLogger.set_dir(data_handler.station_log_dir)"
   ]
  },
  {
   "cell_type": "code",
   "execution_count": 8,
   "metadata": {},
   "outputs": [
    {
     "name": "stdout",
     "output_type": "stream",
     "text": [
      "Found under https://gage-data.earthscope.org/archive/seafloor/cascadia-gorda/NCC1/2024_A_1126/raw:\n",
      "    136 NOV000 file(s)\n",
      "    40 NOV770 file(s)\n",
      "    25 DFOP00 file(s)\n"
     ]
    }
   ],
   "source": [
    "# Generate a list of files available from remote archive\n",
    "#TODO: implement options for raw vs intermediate vs processed \n",
    "remote_filepaths = list_survey_files(network=network, station=site, survey=survey, show_details=True)"
   ]
  },
  {
   "cell_type": "code",
   "execution_count": 9,
   "metadata": {},
   "outputs": [
    {
     "name": "stdout",
     "output_type": "stream",
     "text": [
      "Local data directory contains the following:\n",
      "    dfop00: 25\n",
      "    novatel770: 40\n",
      "    rinex: 22\n"
     ]
    }
   ],
   "source": [
    "# See what files exist locally\n",
    "data_type_counts = data_handler.get_dtype_counts()\n",
    "print(f\"Local data directory contains the following:\")\n",
    "for item in data_type_counts.items():\n",
    "    print(f\"    {item[0]}: {item[1]}\")"
   ]
  },
  {
   "cell_type": "markdown",
   "metadata": {},
   "source": [
    "## Step 3. Pull data from remote archive"
   ]
  },
  {
   "cell_type": "code",
   "execution_count": 10,
   "metadata": {},
   "outputs": [
    {
     "name": "stderr",
     "output_type": "stream",
     "text": [
      "2025-01-06 13:47:27,314 - data_handler.py:282 - WARNING - File type not recognized for https://gage-data.earthscope.org/archive/seafloor/cascadia-gorda/NCC1/2024_A_1126/raw/323843_001_20240921_225319_00110_AHRS00.bin \n",
      "2025-01-06 13:47:27,315 - data_handler.py:282 - WARNING - File type not recognized for https://gage-data.earthscope.org/archive/seafloor/cascadia-gorda/NCC1/2024_A_1126/raw/323843_001_20240921_225319_00110_TCVR00.bin \n",
      "2025-01-06 13:47:27,322 - data_handler.py:301 - INFO - File https://gage-data.earthscope.org/archive/seafloor/cascadia-gorda/NCC1/2024_A_1126/raw/323843_001_20240921_225330_00110_NOV770.raw already exists in the catalog \n",
      "2025-01-06 13:47:27,323 - data_handler.py:282 - WARNING - File type not recognized for https://gage-data.earthscope.org/archive/seafloor/cascadia-gorda/NCC1/2024_A_1126/raw/323843_001_20240921_230308_00110_INOUT0.bin \n",
      "2025-01-06 13:47:27,323 - data_handler.py:282 - WARNING - File type not recognized for https://gage-data.earthscope.org/archive/seafloor/cascadia-gorda/NCC1/2024_A_1126/raw/323843_001_20240922_000000_00111_AHRS00.bin \n",
      "2025-01-06 13:47:27,324 - data_handler.py:282 - WARNING - File type not recognized for https://gage-data.earthscope.org/archive/seafloor/cascadia-gorda/NCC1/2024_A_1126/raw/323843_001_20240922_000000_00111_GNSS00.bin \n",
      "2025-01-06 13:47:27,328 - data_handler.py:301 - INFO - File https://gage-data.earthscope.org/archive/seafloor/cascadia-gorda/NCC1/2024_A_1126/raw/323843_001_20240922_000000_00111_NOV770.raw already exists in the catalog \n",
      "2025-01-06 13:47:27,329 - data_handler.py:282 - WARNING - File type not recognized for https://gage-data.earthscope.org/archive/seafloor/cascadia-gorda/NCC1/2024_A_1126/raw/323843_001_20240922_001247_00111_TCVR00.bin \n",
      "2025-01-06 13:47:27,329 - data_handler.py:282 - WARNING - File type not recognized for https://gage-data.earthscope.org/archive/seafloor/cascadia-gorda/NCC1/2024_A_1126/raw/323843_001_20240922_001357_00111_INOUT0.bin \n",
      "2025-01-06 13:47:27,329 - data_handler.py:282 - WARNING - File type not recognized for https://gage-data.earthscope.org/archive/seafloor/cascadia-gorda/NCC1/2024_A_1126/raw/323843_001_20240922_140330_00112_AHRS00.bin \n",
      "2025-01-06 13:47:27,330 - data_handler.py:282 - WARNING - File type not recognized for https://gage-data.earthscope.org/archive/seafloor/cascadia-gorda/NCC1/2024_A_1126/raw/323843_001_20240922_140331_00112_TCVR00.bin \n",
      "2025-01-06 13:47:27,334 - data_handler.py:301 - INFO - File https://gage-data.earthscope.org/archive/seafloor/cascadia-gorda/NCC1/2024_A_1126/raw/323843_001_20240922_140341_00112_NOV770.raw already exists in the catalog \n",
      "2025-01-06 13:47:27,334 - data_handler.py:282 - WARNING - File type not recognized for https://gage-data.earthscope.org/archive/seafloor/cascadia-gorda/NCC1/2024_A_1126/raw/323843_001_20240922_142643_00112_INOUT0.bin \n",
      "2025-01-06 13:47:27,336 - data_handler.py:301 - INFO - File https://gage-data.earthscope.org/archive/seafloor/cascadia-gorda/NCC1/2024_A_1126/raw/323843_001_20240922_143036_00112_DFOP00.raw already exists in the catalog \n",
      "2025-01-06 13:47:27,340 - data_handler.py:282 - WARNING - File type not recognized for https://gage-data.earthscope.org/archive/seafloor/cascadia-gorda/NCC1/2024_A_1126/raw/323843_001_20240923_000000_00113_AHRS00.bin \n",
      "2025-01-06 13:47:27,340 - data_handler.py:282 - WARNING - File type not recognized for https://gage-data.earthscope.org/archive/seafloor/cascadia-gorda/NCC1/2024_A_1126/raw/323843_001_20240923_000000_00113_GNSS00.bin \n",
      "2025-01-06 13:47:27,342 - data_handler.py:301 - INFO - File https://gage-data.earthscope.org/archive/seafloor/cascadia-gorda/NCC1/2024_A_1126/raw/323843_001_20240923_000000_00113_NOV770.raw already exists in the catalog \n",
      "2025-01-06 13:47:27,343 - data_handler.py:282 - WARNING - File type not recognized for https://gage-data.earthscope.org/archive/seafloor/cascadia-gorda/NCC1/2024_A_1126/raw/323843_001_20240923_000002_00113_TCVR00.bin \n",
      "2025-01-06 13:47:27,344 - data_handler.py:301 - INFO - File https://gage-data.earthscope.org/archive/seafloor/cascadia-gorda/NCC1/2024_A_1126/raw/323843_001_20240923_000003_00113_DFOP00.raw already exists in the catalog \n",
      "2025-01-06 13:47:27,350 - data_handler.py:301 - INFO - File https://gage-data.earthscope.org/archive/seafloor/cascadia-gorda/NCC1/2024_A_1126/raw/323843_001_20240923_160508_00113_NOV770.raw already exists in the catalog \n",
      "2025-01-06 13:47:27,351 - data_handler.py:282 - WARNING - File type not recognized for https://gage-data.earthscope.org/archive/seafloor/cascadia-gorda/NCC1/2024_A_1126/raw/323843_001_20240923_171807_00113_INOUT0.bin \n",
      "2025-01-06 13:47:27,354 - data_handler.py:282 - WARNING - File type not recognized for https://gage-data.earthscope.org/archive/seafloor/cascadia-gorda/NCC1/2024_A_1126/raw/323843_001_20240924_000000_00114_AHRS00.bin \n",
      "2025-01-06 13:47:27,354 - data_handler.py:282 - WARNING - File type not recognized for https://gage-data.earthscope.org/archive/seafloor/cascadia-gorda/NCC1/2024_A_1126/raw/323843_001_20240924_000000_00114_GNSS00.bin \n",
      "2025-01-06 13:47:27,357 - data_handler.py:301 - INFO - File https://gage-data.earthscope.org/archive/seafloor/cascadia-gorda/NCC1/2024_A_1126/raw/323843_001_20240924_000000_00114_NOV770.raw already exists in the catalog \n",
      "2025-01-06 13:47:27,357 - data_handler.py:282 - WARNING - File type not recognized for https://gage-data.earthscope.org/archive/seafloor/cascadia-gorda/NCC1/2024_A_1126/raw/323843_001_20240924_000003_00114_TCVR00.bin \n",
      "2025-01-06 13:47:27,358 - data_handler.py:301 - INFO - File https://gage-data.earthscope.org/archive/seafloor/cascadia-gorda/NCC1/2024_A_1126/raw/323843_001_20240924_000004_00114_DFOP00.raw already exists in the catalog \n",
      "2025-01-06 13:47:27,363 - data_handler.py:282 - WARNING - File type not recognized for https://gage-data.earthscope.org/archive/seafloor/cascadia-gorda/NCC1/2024_A_1126/raw/323843_001_20240924_150140_00114_INOUT0.bin \n",
      "2025-01-06 13:47:27,363 - data_handler.py:282 - WARNING - File type not recognized for https://gage-data.earthscope.org/archive/seafloor/cascadia-gorda/NCC1/2024_A_1126/raw/323843_001_20240924_204306_00115_AHRS00.bin \n",
      "2025-01-06 13:47:27,364 - data_handler.py:282 - WARNING - File type not recognized for https://gage-data.earthscope.org/archive/seafloor/cascadia-gorda/NCC1/2024_A_1126/raw/323843_001_20240924_204306_00115_TCVR00.bin \n",
      "2025-01-06 13:47:27,366 - data_handler.py:301 - INFO - File https://gage-data.earthscope.org/archive/seafloor/cascadia-gorda/NCC1/2024_A_1126/raw/323843_001_20240924_204316_00115_NOV770.raw already exists in the catalog \n",
      "2025-01-06 13:47:27,367 - data_handler.py:282 - WARNING - File type not recognized for https://gage-data.earthscope.org/archive/seafloor/cascadia-gorda/NCC1/2024_A_1126/raw/323843_001_20240924_210958_00115_INOUT0.bin \n",
      "2025-01-06 13:47:27,368 - data_handler.py:301 - INFO - File https://gage-data.earthscope.org/archive/seafloor/cascadia-gorda/NCC1/2024_A_1126/raw/323843_001_20240924_212831_00115_DFOP00.raw already exists in the catalog \n",
      "2025-01-06 13:47:27,369 - data_handler.py:282 - WARNING - File type not recognized for https://gage-data.earthscope.org/archive/seafloor/cascadia-gorda/NCC1/2024_A_1126/raw/323843_001_20240925_000000_00116_AHRS00.bin \n",
      "2025-01-06 13:47:27,369 - data_handler.py:282 - WARNING - File type not recognized for https://gage-data.earthscope.org/archive/seafloor/cascadia-gorda/NCC1/2024_A_1126/raw/323843_001_20240925_000000_00116_GNSS00.bin \n",
      "2025-01-06 13:47:27,372 - data_handler.py:301 - INFO - File https://gage-data.earthscope.org/archive/seafloor/cascadia-gorda/NCC1/2024_A_1126/raw/323843_001_20240925_000000_00116_NOV770.raw already exists in the catalog \n",
      "2025-01-06 13:47:27,372 - data_handler.py:282 - WARNING - File type not recognized for https://gage-data.earthscope.org/archive/seafloor/cascadia-gorda/NCC1/2024_A_1126/raw/323843_001_20240925_000002_00116_TCVR00.bin \n",
      "2025-01-06 13:47:27,373 - data_handler.py:301 - INFO - File https://gage-data.earthscope.org/archive/seafloor/cascadia-gorda/NCC1/2024_A_1126/raw/323843_001_20240925_000004_00116_DFOP00.raw already exists in the catalog \n",
      "2025-01-06 13:47:27,378 - data_handler.py:282 - WARNING - File type not recognized for https://gage-data.earthscope.org/archive/seafloor/cascadia-gorda/NCC1/2024_A_1126/raw/323843_001_20240925_163754_00116_INOUT0.bin \n",
      "2025-01-06 13:47:27,378 - data_handler.py:282 - WARNING - File type not recognized for https://gage-data.earthscope.org/archive/seafloor/cascadia-gorda/NCC1/2024_A_1126/raw/323843_001_20240926_223835_00117_AHRS00.bin \n",
      "2025-01-06 13:47:27,379 - data_handler.py:282 - WARNING - File type not recognized for https://gage-data.earthscope.org/archive/seafloor/cascadia-gorda/NCC1/2024_A_1126/raw/323843_001_20240926_223835_00117_TCVR00.bin \n",
      "2025-01-06 13:47:27,381 - data_handler.py:301 - INFO - File https://gage-data.earthscope.org/archive/seafloor/cascadia-gorda/NCC1/2024_A_1126/raw/323843_001_20240926_223846_00117_NOV770.raw already exists in the catalog \n",
      "2025-01-06 13:47:27,381 - data_handler.py:282 - WARNING - File type not recognized for https://gage-data.earthscope.org/archive/seafloor/cascadia-gorda/NCC1/2024_A_1126/raw/323843_001_20240926_224931_00117_INOUT0.bin \n",
      "2025-01-06 13:47:27,383 - data_handler.py:301 - INFO - File https://gage-data.earthscope.org/archive/seafloor/cascadia-gorda/NCC1/2024_A_1126/raw/323843_001_20240926_225623_00117_DFOP00.raw already exists in the catalog \n",
      "2025-01-06 13:47:27,383 - data_handler.py:282 - WARNING - File type not recognized for https://gage-data.earthscope.org/archive/seafloor/cascadia-gorda/NCC1/2024_A_1126/raw/323843_001_20240927_000001_00118_AHRS00.bin \n",
      "2025-01-06 13:47:27,383 - data_handler.py:282 - WARNING - File type not recognized for https://gage-data.earthscope.org/archive/seafloor/cascadia-gorda/NCC1/2024_A_1126/raw/323843_001_20240927_000001_00118_GNSS00.bin \n",
      "2025-01-06 13:47:27,386 - data_handler.py:301 - INFO - File https://gage-data.earthscope.org/archive/seafloor/cascadia-gorda/NCC1/2024_A_1126/raw/323843_001_20240927_000001_00118_NOV770.raw already exists in the catalog \n",
      "2025-01-06 13:47:27,386 - data_handler.py:282 - WARNING - File type not recognized for https://gage-data.earthscope.org/archive/seafloor/cascadia-gorda/NCC1/2024_A_1126/raw/323843_001_20240927_000007_00118_TCVR00.bin \n",
      "2025-01-06 13:47:27,388 - data_handler.py:301 - INFO - File https://gage-data.earthscope.org/archive/seafloor/cascadia-gorda/NCC1/2024_A_1126/raw/323843_001_20240927_000008_00118_DFOP00.raw already exists in the catalog \n",
      "2025-01-06 13:47:27,394 - data_handler.py:301 - INFO - File https://gage-data.earthscope.org/archive/seafloor/cascadia-gorda/NCC1/2024_A_1126/raw/323843_001_20240927_153543_00118_NOV770.raw already exists in the catalog \n",
      "2025-01-06 13:47:27,394 - data_handler.py:282 - WARNING - File type not recognized for https://gage-data.earthscope.org/archive/seafloor/cascadia-gorda/NCC1/2024_A_1126/raw/323843_001_20240927_163840_00118_INOUT0.bin \n",
      "2025-01-06 13:47:27,397 - data_handler.py:282 - WARNING - File type not recognized for https://gage-data.earthscope.org/archive/seafloor/cascadia-gorda/NCC1/2024_A_1126/raw/323843_001_20240930_155204_00119_AHRS00.bin \n",
      "2025-01-06 13:47:27,398 - data_handler.py:282 - WARNING - File type not recognized for https://gage-data.earthscope.org/archive/seafloor/cascadia-gorda/NCC1/2024_A_1126/raw/323843_001_20240930_155204_00119_TCVR00.bin \n",
      "2025-01-06 13:47:27,400 - data_handler.py:301 - INFO - File https://gage-data.earthscope.org/archive/seafloor/cascadia-gorda/NCC1/2024_A_1126/raw/323843_001_20240930_155214_00119_NOV770.raw already exists in the catalog \n",
      "2025-01-06 13:47:27,400 - data_handler.py:282 - WARNING - File type not recognized for https://gage-data.earthscope.org/archive/seafloor/cascadia-gorda/NCC1/2024_A_1126/raw/323843_001_20240930_162500_00119_INOUT0.bin \n",
      "2025-01-06 13:47:27,402 - data_handler.py:301 - INFO - File https://gage-data.earthscope.org/archive/seafloor/cascadia-gorda/NCC1/2024_A_1126/raw/323843_001_20240930_164851_00119_DFOP00.raw already exists in the catalog \n",
      "2025-01-06 13:47:27,405 - data_handler.py:282 - WARNING - File type not recognized for https://gage-data.earthscope.org/archive/seafloor/cascadia-gorda/NCC1/2024_A_1126/raw/323843_001_20241001_040525_00120_AHRS00.bin \n",
      "2025-01-06 13:47:27,405 - data_handler.py:282 - WARNING - File type not recognized for https://gage-data.earthscope.org/archive/seafloor/cascadia-gorda/NCC1/2024_A_1126/raw/323843_001_20241001_040525_00120_TCVR00.bin \n",
      "2025-01-06 13:47:27,408 - data_handler.py:301 - INFO - File https://gage-data.earthscope.org/archive/seafloor/cascadia-gorda/NCC1/2024_A_1126/raw/323843_001_20241001_040535_00120_NOV770.raw already exists in the catalog \n",
      "2025-01-06 13:47:27,408 - data_handler.py:282 - WARNING - File type not recognized for https://gage-data.earthscope.org/archive/seafloor/cascadia-gorda/NCC1/2024_A_1126/raw/323843_001_20241001_041607_00120_INOUT0.bin \n",
      "2025-01-06 13:47:27,409 - data_handler.py:301 - INFO - File https://gage-data.earthscope.org/archive/seafloor/cascadia-gorda/NCC1/2024_A_1126/raw/323843_001_20241001_044149_00120_DFOP00.raw already exists in the catalog \n",
      "2025-01-06 13:47:27,416 - data_handler.py:301 - INFO - File https://gage-data.earthscope.org/archive/seafloor/cascadia-gorda/NCC1/2024_A_1126/raw/323843_001_20241001_202813_00120_NOV770.raw already exists in the catalog \n",
      "2025-01-06 13:47:27,418 - data_handler.py:282 - WARNING - File type not recognized for https://gage-data.earthscope.org/archive/seafloor/cascadia-gorda/NCC1/2024_A_1126/raw/323843_001_20241002_000000_00121_AHRS00.bin \n",
      "2025-01-06 13:47:27,418 - data_handler.py:282 - WARNING - File type not recognized for https://gage-data.earthscope.org/archive/seafloor/cascadia-gorda/NCC1/2024_A_1126/raw/323843_001_20241002_000000_00121_GNSS00.bin \n",
      "2025-01-06 13:47:27,421 - data_handler.py:301 - INFO - File https://gage-data.earthscope.org/archive/seafloor/cascadia-gorda/NCC1/2024_A_1126/raw/323843_001_20241002_000000_00121_NOV770.raw already exists in the catalog \n",
      "2025-01-06 13:47:27,421 - data_handler.py:282 - WARNING - File type not recognized for https://gage-data.earthscope.org/archive/seafloor/cascadia-gorda/NCC1/2024_A_1126/raw/323843_001_20241002_000010_00121_TCVR00.bin \n",
      "2025-01-06 13:47:27,422 - data_handler.py:301 - INFO - File https://gage-data.earthscope.org/archive/seafloor/cascadia-gorda/NCC1/2024_A_1126/raw/323843_001_20241002_000011_00121_DFOP00.raw already exists in the catalog \n",
      "2025-01-06 13:47:27,423 - data_handler.py:282 - WARNING - File type not recognized for https://gage-data.earthscope.org/archive/seafloor/cascadia-gorda/NCC1/2024_A_1126/raw/323843_001_20241002_031748_00121_INOUT0.bin \n",
      "2025-01-06 13:47:27,424 - data_handler.py:282 - WARNING - File type not recognized for https://gage-data.earthscope.org/archive/seafloor/cascadia-gorda/NCC1/2024_A_1126/raw/323843_001_20241003_143909_00122_AHRS00.bin \n",
      "2025-01-06 13:47:27,424 - data_handler.py:282 - WARNING - File type not recognized for https://gage-data.earthscope.org/archive/seafloor/cascadia-gorda/NCC1/2024_A_1126/raw/323843_001_20241003_143909_00122_TCVR00.bin \n",
      "2025-01-06 13:47:27,427 - data_handler.py:301 - INFO - File https://gage-data.earthscope.org/archive/seafloor/cascadia-gorda/NCC1/2024_A_1126/raw/323843_001_20241003_143920_00122_NOV770.raw already exists in the catalog \n",
      "2025-01-06 13:47:27,427 - data_handler.py:282 - WARNING - File type not recognized for https://gage-data.earthscope.org/archive/seafloor/cascadia-gorda/NCC1/2024_A_1126/raw/323843_001_20241003_150427_00122_INOUT0.bin \n",
      "2025-01-06 13:47:27,429 - data_handler.py:301 - INFO - File https://gage-data.earthscope.org/archive/seafloor/cascadia-gorda/NCC1/2024_A_1126/raw/323843_001_20241003_162155_00122_DFOP00.raw already exists in the catalog \n",
      "2025-01-06 13:47:27,433 - data_handler.py:282 - WARNING - File type not recognized for https://gage-data.earthscope.org/archive/seafloor/cascadia-gorda/NCC1/2024_A_1126/raw/323843_001_20241004_000000_00123_GNSS00.bin \n",
      "2025-01-06 13:47:27,434 - data_handler.py:301 - INFO - File https://gage-data.earthscope.org/archive/seafloor/cascadia-gorda/NCC1/2024_A_1126/raw/323843_001_20241004_000000_00123_NOV770.raw already exists in the catalog \n",
      "2025-01-06 13:47:27,435 - data_handler.py:282 - WARNING - File type not recognized for https://gage-data.earthscope.org/archive/seafloor/cascadia-gorda/NCC1/2024_A_1126/raw/323843_001_20241004_000001_00123_AHRS00.bin \n",
      "2025-01-06 13:47:27,436 - data_handler.py:282 - WARNING - File type not recognized for https://gage-data.earthscope.org/archive/seafloor/cascadia-gorda/NCC1/2024_A_1126/raw/323843_001_20241004_000008_00123_TCVR00.bin \n",
      "2025-01-06 13:47:27,438 - data_handler.py:301 - INFO - File https://gage-data.earthscope.org/archive/seafloor/cascadia-gorda/NCC1/2024_A_1126/raw/323843_001_20241004_000009_00123_DFOP00.raw already exists in the catalog \n",
      "2025-01-06 13:47:27,438 - data_handler.py:282 - WARNING - File type not recognized for https://gage-data.earthscope.org/archive/seafloor/cascadia-gorda/NCC1/2024_A_1126/raw/323843_001_20241004_004856_00123_INOUT0.bin \n",
      "2025-01-06 13:47:27,445 - data_handler.py:301 - INFO - File https://gage-data.earthscope.org/archive/seafloor/cascadia-gorda/NCC1/2024_A_1126/raw/323843_001_20241004_155651_00123_NOV770.raw already exists in the catalog \n",
      "2025-01-06 13:47:27,447 - data_handler.py:282 - WARNING - File type not recognized for https://gage-data.earthscope.org/archive/seafloor/cascadia-gorda/NCC1/2024_A_1126/raw/323843_001_20241005_032440_00124_AHRS00.bin \n",
      "2025-01-06 13:47:27,447 - data_handler.py:282 - WARNING - File type not recognized for https://gage-data.earthscope.org/archive/seafloor/cascadia-gorda/NCC1/2024_A_1126/raw/323843_001_20241005_032440_00124_TCVR00.bin \n",
      "2025-01-06 13:47:27,450 - data_handler.py:301 - INFO - File https://gage-data.earthscope.org/archive/seafloor/cascadia-gorda/NCC1/2024_A_1126/raw/323843_001_20241005_032450_00124_NOV770.raw already exists in the catalog \n",
      "2025-01-06 13:47:27,450 - data_handler.py:282 - WARNING - File type not recognized for https://gage-data.earthscope.org/archive/seafloor/cascadia-gorda/NCC1/2024_A_1126/raw/323843_001_20241005_033413_00124_INOUT0.bin \n",
      "2025-01-06 13:47:27,451 - data_handler.py:301 - INFO - File https://gage-data.earthscope.org/archive/seafloor/cascadia-gorda/NCC1/2024_A_1126/raw/323843_001_20241005_034620_00124_DFOP00.raw already exists in the catalog \n",
      "2025-01-06 13:47:27,454 - data_handler.py:282 - WARNING - File type not recognized for https://gage-data.earthscope.org/archive/seafloor/cascadia-gorda/NCC1/2024_A_1126/raw/323843_001_20241005_150434_00125_AHRS00.bin \n",
      "2025-01-06 13:47:27,454 - data_handler.py:282 - WARNING - File type not recognized for https://gage-data.earthscope.org/archive/seafloor/cascadia-gorda/NCC1/2024_A_1126/raw/323843_001_20241005_150434_00125_TCVR00.bin \n",
      "2025-01-06 13:47:27,457 - data_handler.py:301 - INFO - File https://gage-data.earthscope.org/archive/seafloor/cascadia-gorda/NCC1/2024_A_1126/raw/323843_001_20241005_150445_00125_NOV770.raw already exists in the catalog \n",
      "2025-01-06 13:47:27,457 - data_handler.py:282 - WARNING - File type not recognized for https://gage-data.earthscope.org/archive/seafloor/cascadia-gorda/NCC1/2024_A_1126/raw/323843_001_20241005_153323_00125_INOUT0.bin \n",
      "2025-01-06 13:47:27,459 - data_handler.py:301 - INFO - File https://gage-data.earthscope.org/archive/seafloor/cascadia-gorda/NCC1/2024_A_1126/raw/323843_001_20241005_155703_00125_DFOP00.raw already exists in the catalog \n",
      "2025-01-06 13:47:27,462 - data_handler.py:282 - WARNING - File type not recognized for https://gage-data.earthscope.org/archive/seafloor/cascadia-gorda/NCC1/2024_A_1126/raw/323843_001_20241006_000000_00126_AHRS00.bin \n",
      "2025-01-06 13:47:27,462 - data_handler.py:282 - WARNING - File type not recognized for https://gage-data.earthscope.org/archive/seafloor/cascadia-gorda/NCC1/2024_A_1126/raw/323843_001_20241006_000000_00126_GNSS00.bin \n",
      "2025-01-06 13:47:27,464 - data_handler.py:301 - INFO - File https://gage-data.earthscope.org/archive/seafloor/cascadia-gorda/NCC1/2024_A_1126/raw/323843_001_20241006_000000_00126_NOV770.raw already exists in the catalog \n",
      "2025-01-06 13:47:27,465 - data_handler.py:282 - WARNING - File type not recognized for https://gage-data.earthscope.org/archive/seafloor/cascadia-gorda/NCC1/2024_A_1126/raw/323843_001_20241006_000009_00126_TCVR00.bin \n",
      "2025-01-06 13:47:27,466 - data_handler.py:301 - INFO - File https://gage-data.earthscope.org/archive/seafloor/cascadia-gorda/NCC1/2024_A_1126/raw/323843_001_20241006_000010_00126_DFOP00.raw already exists in the catalog \n",
      "2025-01-06 13:47:27,470 - data_handler.py:282 - WARNING - File type not recognized for https://gage-data.earthscope.org/archive/seafloor/cascadia-gorda/NCC1/2024_A_1126/raw/323843_001_20241006_100108_00126_INOUT0.bin \n",
      "2025-01-06 13:47:27,472 - data_handler.py:301 - INFO - File https://gage-data.earthscope.org/archive/seafloor/cascadia-gorda/NCC1/2024_A_1126/raw/323843_001_20241006_162432_00126_NOV770.raw already exists in the catalog \n",
      "2025-01-06 13:47:27,476 - data_handler.py:282 - WARNING - File type not recognized for https://gage-data.earthscope.org/archive/seafloor/cascadia-gorda/NCC1/2024_A_1126/raw/323843_001_20241007_000000_00127_AHRS00.bin \n",
      "2025-01-06 13:47:27,476 - data_handler.py:282 - WARNING - File type not recognized for https://gage-data.earthscope.org/archive/seafloor/cascadia-gorda/NCC1/2024_A_1126/raw/323843_001_20241007_000000_00127_GNSS00.bin \n",
      "2025-01-06 13:47:27,479 - data_handler.py:301 - INFO - File https://gage-data.earthscope.org/archive/seafloor/cascadia-gorda/NCC1/2024_A_1126/raw/323843_001_20241007_000000_00127_NOV770.raw already exists in the catalog \n",
      "2025-01-06 13:47:27,479 - data_handler.py:282 - WARNING - File type not recognized for https://gage-data.earthscope.org/archive/seafloor/cascadia-gorda/NCC1/2024_A_1126/raw/323843_001_20241007_000004_00127_TCVR00.bin \n",
      "2025-01-06 13:47:27,481 - data_handler.py:301 - INFO - File https://gage-data.earthscope.org/archive/seafloor/cascadia-gorda/NCC1/2024_A_1126/raw/323843_001_20241007_000006_00127_DFOP00.raw already exists in the catalog \n",
      "2025-01-06 13:47:27,489 - data_handler.py:301 - INFO - File https://gage-data.earthscope.org/archive/seafloor/cascadia-gorda/NCC1/2024_A_1126/raw/323843_001_20241007_153716_00127_NOV770.raw already exists in the catalog \n",
      "2025-01-06 13:47:27,490 - data_handler.py:282 - WARNING - File type not recognized for https://gage-data.earthscope.org/archive/seafloor/cascadia-gorda/NCC1/2024_A_1126/raw/323843_001_20241007_200636_00127_INOUT0.bin \n",
      "2025-01-06 13:47:27,493 - data_handler.py:282 - WARNING - File type not recognized for https://gage-data.earthscope.org/archive/seafloor/cascadia-gorda/NCC1/2024_A_1126/raw/323843_001_20241008_000000_00128_AHRS00.bin \n",
      "2025-01-06 13:47:27,493 - data_handler.py:282 - WARNING - File type not recognized for https://gage-data.earthscope.org/archive/seafloor/cascadia-gorda/NCC1/2024_A_1126/raw/323843_001_20241008_000000_00128_GNSS00.bin \n",
      "2025-01-06 13:47:27,496 - data_handler.py:301 - INFO - File https://gage-data.earthscope.org/archive/seafloor/cascadia-gorda/NCC1/2024_A_1126/raw/323843_001_20241008_000000_00128_NOV770.raw already exists in the catalog \n",
      "2025-01-06 13:47:27,497 - data_handler.py:301 - INFO - File https://gage-data.earthscope.org/archive/seafloor/cascadia-gorda/NCC1/2024_A_1126/raw/323843_001_20241008_000002_00128_DFOP00.raw already exists in the catalog \n",
      "2025-01-06 13:47:27,498 - data_handler.py:282 - WARNING - File type not recognized for https://gage-data.earthscope.org/archive/seafloor/cascadia-gorda/NCC1/2024_A_1126/raw/323843_001_20241008_000002_00128_TCVR00.bin \n",
      "2025-01-06 13:47:27,504 - data_handler.py:301 - INFO - File https://gage-data.earthscope.org/archive/seafloor/cascadia-gorda/NCC1/2024_A_1126/raw/323843_001_20241008_160326_00128_NOV770.raw already exists in the catalog \n",
      "2025-01-06 13:47:27,506 - data_handler.py:282 - WARNING - File type not recognized for https://gage-data.earthscope.org/archive/seafloor/cascadia-gorda/NCC1/2024_A_1126/raw/323843_001_20241008_214003_00128_INOUT0.bin \n",
      "2025-01-06 13:47:27,508 - data_handler.py:282 - WARNING - File type not recognized for https://gage-data.earthscope.org/archive/seafloor/cascadia-gorda/NCC1/2024_A_1126/raw/323843_001_20241009_000001_00129_AHRS00.bin \n",
      "2025-01-06 13:47:27,508 - data_handler.py:282 - WARNING - File type not recognized for https://gage-data.earthscope.org/archive/seafloor/cascadia-gorda/NCC1/2024_A_1126/raw/323843_001_20241009_000001_00129_GNSS00.bin \n",
      "2025-01-06 13:47:27,511 - data_handler.py:301 - INFO - File https://gage-data.earthscope.org/archive/seafloor/cascadia-gorda/NCC1/2024_A_1126/raw/323843_001_20241009_000001_00129_NOV770.raw already exists in the catalog \n",
      "2025-01-06 13:47:27,511 - data_handler.py:282 - WARNING - File type not recognized for https://gage-data.earthscope.org/archive/seafloor/cascadia-gorda/NCC1/2024_A_1126/raw/323843_001_20241009_000008_00129_TCVR00.bin \n",
      "2025-01-06 13:47:27,512 - data_handler.py:301 - INFO - File https://gage-data.earthscope.org/archive/seafloor/cascadia-gorda/NCC1/2024_A_1126/raw/323843_001_20241009_000009_00129_DFOP00.raw already exists in the catalog \n",
      "2025-01-06 13:47:27,519 - data_handler.py:301 - INFO - File https://gage-data.earthscope.org/archive/seafloor/cascadia-gorda/NCC1/2024_A_1126/raw/323843_001_20241009_155201_00129_NOV770.raw already exists in the catalog \n",
      "2025-01-06 13:47:27,522 - data_handler.py:282 - WARNING - File type not recognized for https://gage-data.earthscope.org/archive/seafloor/cascadia-gorda/NCC1/2024_A_1126/raw/323843_001_20241010_000000_00130_AHRS00.bin \n",
      "2025-01-06 13:47:27,524 - data_handler.py:301 - INFO - File https://gage-data.earthscope.org/archive/seafloor/cascadia-gorda/NCC1/2024_A_1126/raw/323843_001_20241010_000000_00130_DFOP00.raw already exists in the catalog \n",
      "2025-01-06 13:47:27,524 - data_handler.py:282 - WARNING - File type not recognized for https://gage-data.earthscope.org/archive/seafloor/cascadia-gorda/NCC1/2024_A_1126/raw/323843_001_20241010_000000_00130_GNSS00.bin \n",
      "2025-01-06 13:47:27,527 - data_handler.py:301 - INFO - File https://gage-data.earthscope.org/archive/seafloor/cascadia-gorda/NCC1/2024_A_1126/raw/323843_001_20241010_000000_00130_NOV770.raw already exists in the catalog \n",
      "2025-01-06 13:47:27,527 - data_handler.py:282 - WARNING - File type not recognized for https://gage-data.earthscope.org/archive/seafloor/cascadia-gorda/NCC1/2024_A_1126/raw/323843_001_20241010_000000_00130_TCVR00.bin \n",
      "2025-01-06 13:47:27,535 - data_handler.py:301 - INFO - File https://gage-data.earthscope.org/archive/seafloor/cascadia-gorda/NCC1/2024_A_1126/raw/323843_001_20241010_160452_00130_NOV770.raw already exists in the catalog \n",
      "2025-01-06 13:47:27,538 - data_handler.py:282 - WARNING - File type not recognized for https://gage-data.earthscope.org/archive/seafloor/cascadia-gorda/NCC1/2024_A_1126/raw/323843_001_20241011_000000_00131_AHRS00.bin \n",
      "2025-01-06 13:47:27,539 - data_handler.py:301 - INFO - File https://gage-data.earthscope.org/archive/seafloor/cascadia-gorda/NCC1/2024_A_1126/raw/323843_001_20241011_000000_00131_DFOP00.raw already exists in the catalog \n",
      "2025-01-06 13:47:27,539 - data_handler.py:282 - WARNING - File type not recognized for https://gage-data.earthscope.org/archive/seafloor/cascadia-gorda/NCC1/2024_A_1126/raw/323843_001_20241011_000000_00131_GNSS00.bin \n",
      "2025-01-06 13:47:27,542 - data_handler.py:301 - INFO - File https://gage-data.earthscope.org/archive/seafloor/cascadia-gorda/NCC1/2024_A_1126/raw/323843_001_20241011_000000_00131_NOV770.raw already exists in the catalog \n",
      "2025-01-06 13:47:27,542 - data_handler.py:282 - WARNING - File type not recognized for https://gage-data.earthscope.org/archive/seafloor/cascadia-gorda/NCC1/2024_A_1126/raw/323843_001_20241011_000000_00131_TCVR00.bin \n",
      "2025-01-06 13:47:27,554 - data_handler.py:301 - INFO - File https://gage-data.earthscope.org/archive/seafloor/cascadia-gorda/NCC1/2024_A_1126/raw/323843_001_20241011_155757_00131_NOV770.raw already exists in the catalog \n",
      "2025-01-06 13:47:27,558 - data_handler.py:282 - WARNING - File type not recognized for https://gage-data.earthscope.org/archive/seafloor/cascadia-gorda/NCC1/2024_A_1126/raw/323843_001_20241011_201546_00132_AHRS00.bin \n",
      "2025-01-06 13:47:27,559 - data_handler.py:282 - WARNING - File type not recognized for https://gage-data.earthscope.org/archive/seafloor/cascadia-gorda/NCC1/2024_A_1126/raw/323843_001_20241011_201546_00132_TCVR00.bin \n",
      "2025-01-06 13:47:27,560 - data_handler.py:301 - INFO - File https://gage-data.earthscope.org/archive/seafloor/cascadia-gorda/NCC1/2024_A_1126/raw/323843_001_20241011_201553_00132_DFOP00.raw already exists in the catalog \n",
      "2025-01-06 13:47:27,564 - data_handler.py:301 - INFO - File https://gage-data.earthscope.org/archive/seafloor/cascadia-gorda/NCC1/2024_A_1126/raw/323843_001_20241011_201556_00132_NOV770.raw already exists in the catalog \n",
      "2025-01-06 13:47:27,567 - data_handler.py:282 - WARNING - File type not recognized for https://gage-data.earthscope.org/archive/seafloor/cascadia-gorda/NCC1/2024_A_1126/raw/323843_001_20241011_233019_00132_INOUT0.bin \n",
      "2025-01-06 13:47:27,568 - data_handler.py:282 - WARNING - File type not recognized for https://gage-data.earthscope.org/archive/seafloor/cascadia-gorda/NCC1/2024_A_1126/raw/323843_001_20241012_000000_00133_AHRS00.bin \n",
      "2025-01-06 13:47:27,568 - data_handler.py:282 - WARNING - File type not recognized for https://gage-data.earthscope.org/archive/seafloor/cascadia-gorda/NCC1/2024_A_1126/raw/323843_001_20241012_000000_00133_GNSS00.bin \n",
      "2025-01-06 13:47:27,574 - data_handler.py:301 - INFO - File https://gage-data.earthscope.org/archive/seafloor/cascadia-gorda/NCC1/2024_A_1126/raw/323843_001_20241012_000000_00133_NOV770.raw already exists in the catalog \n",
      "2025-01-06 13:47:27,574 - data_handler.py:282 - WARNING - File type not recognized for https://gage-data.earthscope.org/archive/seafloor/cascadia-gorda/NCC1/2024_A_1126/raw/323843_001_20241012_001050_00134_AHRS00.bin \n",
      "2025-01-06 13:47:27,575 - data_handler.py:282 - WARNING - File type not recognized for https://gage-data.earthscope.org/archive/seafloor/cascadia-gorda/NCC1/2024_A_1126/raw/323843_001_20241012_001050_00134_TCVR00.bin \n",
      "2025-01-06 13:47:27,578 - data_handler.py:301 - INFO - File https://gage-data.earthscope.org/archive/seafloor/cascadia-gorda/NCC1/2024_A_1126/raw/323843_001_20241012_001100_00134_NOV770.raw already exists in the catalog \n",
      "2025-01-06 13:47:27,579 - data_handler.py:282 - WARNING - File type not recognized for https://gage-data.earthscope.org/archive/seafloor/cascadia-gorda/NCC1/2024_A_1126/raw/323843_001_20241012_003515_00134_INOUT0.bin \n",
      "2025-01-06 13:47:27,580 - data_handler.py:301 - INFO - File https://gage-data.earthscope.org/archive/seafloor/cascadia-gorda/NCC1/2024_A_1126/raw/323843_001_20241012_003830_00134_DFOP00.raw already exists in the catalog \n",
      "2025-01-06 13:47:27,588 - data_handler.py:301 - INFO - File https://gage-data.earthscope.org/archive/seafloor/cascadia-gorda/NCC1/2024_A_1126/raw/323843_001_20241012_163913_00134_NOV770.raw already exists in the catalog \n",
      "2025-01-06 13:47:27,592 - data_handler.py:282 - WARNING - File type not recognized for https://gage-data.earthscope.org/archive/seafloor/cascadia-gorda/NCC1/2024_A_1126/raw/323843_001_20241013_000000_00135_AHRS00.bin \n",
      "2025-01-06 13:47:27,592 - data_handler.py:282 - WARNING - File type not recognized for https://gage-data.earthscope.org/archive/seafloor/cascadia-gorda/NCC1/2024_A_1126/raw/323843_001_20241013_000000_00135_GNSS00.bin \n",
      "2025-01-06 13:47:27,595 - data_handler.py:301 - INFO - File https://gage-data.earthscope.org/archive/seafloor/cascadia-gorda/NCC1/2024_A_1126/raw/323843_001_20241013_000000_00135_NOV770.raw already exists in the catalog \n",
      "2025-01-06 13:47:27,595 - data_handler.py:282 - WARNING - File type not recognized for https://gage-data.earthscope.org/archive/seafloor/cascadia-gorda/NCC1/2024_A_1126/raw/323843_001_20241013_000001_00135_TCVR00.bin \n",
      "2025-01-06 13:47:27,597 - data_handler.py:301 - INFO - File https://gage-data.earthscope.org/archive/seafloor/cascadia-gorda/NCC1/2024_A_1126/raw/323843_001_20241013_000003_00135_DFOP00.raw already exists in the catalog \n",
      "2025-01-06 13:47:27,605 - data_handler.py:301 - INFO - File https://gage-data.earthscope.org/archive/seafloor/cascadia-gorda/NCC1/2024_A_1126/raw/323843_001_20241013_152803_00135_NOV770.raw already exists in the catalog \n",
      "2025-01-06 13:47:27,608 - data_handler.py:282 - WARNING - File type not recognized for https://gage-data.earthscope.org/archive/seafloor/cascadia-gorda/NCC1/2024_A_1126/raw/323843_001_20241014_000000_00136_AHRS00.bin \n",
      "2025-01-06 13:47:27,608 - data_handler.py:282 - WARNING - File type not recognized for https://gage-data.earthscope.org/archive/seafloor/cascadia-gorda/NCC1/2024_A_1126/raw/323843_001_20241014_000000_00136_GNSS00.bin \n",
      "2025-01-06 13:47:27,611 - data_handler.py:301 - INFO - File https://gage-data.earthscope.org/archive/seafloor/cascadia-gorda/NCC1/2024_A_1126/raw/323843_001_20241014_000000_00136_NOV770.raw already exists in the catalog \n",
      "2025-01-06 13:47:27,611 - data_handler.py:282 - WARNING - File type not recognized for https://gage-data.earthscope.org/archive/seafloor/cascadia-gorda/NCC1/2024_A_1126/raw/323843_001_20241014_000007_00136_TCVR00.bin \n",
      "2025-01-06 13:47:27,613 - data_handler.py:301 - INFO - File https://gage-data.earthscope.org/archive/seafloor/cascadia-gorda/NCC1/2024_A_1126/raw/323843_001_20241014_000008_00136_DFOP00.raw already exists in the catalog \n",
      "2025-01-06 13:47:27,617 - data_handler.py:282 - WARNING - File type not recognized for https://gage-data.earthscope.org/archive/seafloor/cascadia-gorda/NCC1/2024_A_1126/raw/323843_001_20241014_171624_00137_AHRS00.bin \n",
      "2025-01-06 13:47:27,617 - data_handler.py:282 - WARNING - File type not recognized for https://gage-data.earthscope.org/archive/seafloor/cascadia-gorda/NCC1/2024_A_1126/raw/323843_001_20241014_171625_00137_TCVR00.bin \n",
      "2025-01-06 13:47:27,619 - data_handler.py:301 - INFO - File https://gage-data.earthscope.org/archive/seafloor/cascadia-gorda/NCC1/2024_A_1126/raw/323843_001_20241014_171631_00137_DFOP00.raw already exists in the catalog \n",
      "2025-01-06 13:47:27,623 - data_handler.py:301 - INFO - File https://gage-data.earthscope.org/archive/seafloor/cascadia-gorda/NCC1/2024_A_1126/raw/323843_001_20241014_171635_00137_NOV770.raw already exists in the catalog \n",
      "2025-01-06 13:47:27,623 - data_handler.py:282 - WARNING - File type not recognized for https://gage-data.earthscope.org/archive/seafloor/cascadia-gorda/NCC1/2024_A_1126/raw/323843_001_20241014_173223_00137_INOUT0.bin \n",
      "2025-01-06 13:47:27,779 - data_handler.py:310 - INFO - Added 0 out of 136 files to the catalog \n"
     ]
    }
   ],
   "source": [
    "#Add found remote files to the local catalog.  Note this builds an inventory, \n",
    "#but does not do the downloading until a later step.\n",
    "# TODO: Detail counts of files local vs only remote\n",
    "data_handler.add_data_remote(remote_filepaths=remote_filepaths)\n"
   ]
  },
  {
   "cell_type": "markdown",
   "metadata": {},
   "source": [
    "#### Select files types for downloading\n",
    "Observable file types depend on whether data was collected with an SV2 or SV3 waveglider.  \n",
    "\n",
    "![Alt text](garpos_flow.jpg)"
   ]
  },
  {
   "cell_type": "code",
   "execution_count": 5,
   "metadata": {},
   "outputs": [
    {
     "name": "stderr",
     "output_type": "stream",
     "text": [
      "2025-01-06 14:01:47,401 - data_handler.py:359 - INFO - No new files to download \n",
      "2025-01-06 14:01:47,405 - data_handler.py:359 - INFO - No new files to download \n"
     ]
    },
    {
     "name": "stdout",
     "output_type": "stream",
     "text": [
      "Getting assets for cascadia-gorda NCC1 2024_A_1126 AssetType.DFOP00\n",
      "Getting assets for cascadia-gorda NCC1 2024_A_1126 AssetType.NOVATEL770\n"
     ]
    }
   ],
   "source": [
    "# Download the files by type\n",
    "# data_handler.download_data(file_type='sonardyne', show_details=False)\n",
    "# data_handler.download_data(file_type='novatel', show_details=False)\n",
    "# data_handler.download_data(file_type='master', show_details=False)\n",
    "# data_handler.download_data(file_type='svpavg', show_details=False)\n",
    "# data_handler.download_data(file_type='leverarm', show_details=False)\n",
    "\n",
    "data_handler.download_data(file_types='dfop00')\n",
    "data_handler.download_data(file_types='novatel770')"
   ]
  },
  {
   "cell_type": "markdown",
   "metadata": {},
   "source": [
    "# Step 4. Parse/Process raw data to processing input schemas\n",
    "\n",
    "- 4.1 Parse acoustic observations into AcousticDataFrames\n",
    "- 4.2 Parse IMU observations into IMUDataFrames\n",
    "- 4.3 Process GNSS observables to generate PositionDataFrames\n",
    "    - Parse RANGE-A novatel messages, build RINEX files\n",
    "    - Run PRIDE-PPP-AR on RINEX, generate Kin files\n",
    "    - Parse Kin files into PositionDataFrames\n",
    "- 4.4 Parse metadata files into SiteConfig"
   ]
  },
  {
   "cell_type": "code",
   "execution_count": 3,
   "metadata": {},
   "outputs": [],
   "source": [
    "pipeline, config = data_handler.get_pipeline_sv3()"
   ]
  },
  {
   "cell_type": "markdown",
   "metadata": {},
   "source": [
    "### 4.1 Process and read DFOP00 files "
   ]
  },
  {
   "cell_type": "code",
   "execution_count": 8,
   "metadata": {},
   "outputs": [
    {
     "name": "stdout",
     "output_type": "stream",
     "text": [
      "Getting assets for cascadia-gorda NCC1 2024_A_1126 AssetType.DFOP00\n",
      "Found 25 DFOP00 Files to Process\n"
     ]
    },
    {
     "data": {
      "application/vnd.jupyter.widget-view+json": {
       "model_id": "90df1340d8d64ec0bfd7f188713822ad",
       "version_major": 2,
       "version_minor": 0
      },
      "text/plain": [
       "Processing DFOP00 Files:   0%|          | 0/25 [00:00<?, ?it/s]"
      ]
     },
     "metadata": {},
     "output_type": "display_data"
    },
    {
     "name": "stdout",
     "output_type": "stream",
     "text": [
      "Generated 23 ShotData dataframes From 25 DFOP00 Files\n"
     ]
    }
   ],
   "source": [
    "config.dfop00_config.override=True\n",
    "config.dfop00_config.show_details=True\n",
    "pipeline.config = config\n",
    "pipeline.process_dfop00()"
   ]
  },
  {
   "cell_type": "markdown",
   "metadata": {},
   "source": [
    "### 4.3 Take all GNSS parent files and generate GNSS df's"
   ]
  },
  {
   "cell_type": "code",
   "execution_count": 4,
   "metadata": {},
   "outputs": [
    {
     "name": "stdout",
     "output_type": "stream",
     "text": [
      "Processing Novatel 770 data for cascadia-gorda NCC1 2024_A_1126\n",
      "Getting assets for cascadia-gorda NCC1 2024_A_1126 AssetType.NOVATEL770\n",
      "Processing Novatel 000 data for cascadia-gorda NCC1 2024_A_1126\n",
      "Getting assets for cascadia-gorda NCC1 2024_A_1126 AssetType.NOVATEL000\n",
      "No Novatel 000 Files Found to Process for cascadia-gorda NCC1 2024_A_1126\n"
     ]
    }
   ],
   "source": [
    "pipeline.pre_process_novatel()"
   ]
  },
  {
   "cell_type": "code",
   "execution_count": 7,
   "metadata": {},
   "outputs": [],
   "source": [
    "pipeline.get_rinex_files()"
   ]
  },
  {
   "cell_type": "code",
   "execution_count": 8,
   "metadata": {},
   "outputs": [
    {
     "name": "stdout",
     "output_type": "stream",
     "text": [
      "Getting assets for cascadia-gorda NCC1 2024_A_1126 AssetType.RINEX\n",
      "Getting assets for cascadia-gorda NCC1 2024_A_1126 AssetType.KIN\n"
     ]
    },
    {
     "ename": "FileNotFoundError",
     "evalue": "PRIDE-PPP binary 'pdp3' not found in path",
     "output_type": "error",
     "traceback": [
      "\u001b[0;31m---------------------------------------------------------------------------\u001b[0m",
      "\u001b[0;31mRemoteTraceback\u001b[0m                           Traceback (most recent call last)",
      "\u001b[0;31mRemoteTraceback\u001b[0m: \n\"\"\"\nTraceback (most recent call last):\n  File \"/Users/gottlieb/miniconda3/envs/seafloor_geodesy/lib/python3.11/multiprocessing/pool.py\", line 125, in worker\n    result = (True, func(*args, **kwds))\n                    ^^^^^^^^^^^^^^^^^^^\n  File \"/Users/gottlieb/miniconda3/envs/seafloor_geodesy/lib/python3.11/multiprocessing/pool.py\", line 48, in mapstar\n    return list(map(*args))\n           ^^^^^^^^^^^^^^^^\n  File \"/Users/gottlieb/GIT/es_sfgtools/src/es_sfgtools/processing/operations/gnss_ops.py\", line 616, in rinex_to_kin\n    raise FileNotFoundError(\"PRIDE-PPP binary 'pdp3' not found in path\")\nFileNotFoundError: PRIDE-PPP binary 'pdp3' not found in path\n\"\"\"",
      "\nThe above exception was the direct cause of the following exception:\n",
      "\u001b[0;31mFileNotFoundError\u001b[0m                         Traceback (most recent call last)",
      "Cell \u001b[0;32mIn[8], line 1\u001b[0m\n\u001b[0;32m----> 1\u001b[0m pipeline\u001b[38;5;241m.\u001b[39mprocess_rinex()\n",
      "File \u001b[0;32m~/GIT/es_sfgtools/src/es_sfgtools/processing/pipeline/pipelines.py:289\u001b[0m, in \u001b[0;36mSV3Pipeline.process_rinex\u001b[0;34m(self)\u001b[0m\n\u001b[1;32m    285\u001b[0m uploadCount \u001b[38;5;241m=\u001b[39m \u001b[38;5;241m0\u001b[39m\n\u001b[1;32m    287\u001b[0m \u001b[38;5;28;01mwith\u001b[39;00m multiprocessing\u001b[38;5;241m.\u001b[39mPool(processes\u001b[38;5;241m=\u001b[39m\u001b[38;5;28mself\u001b[39m\u001b[38;5;241m.\u001b[39mconfig\u001b[38;5;241m.\u001b[39mrinex_config\u001b[38;5;241m.\u001b[39mn_processes) \u001b[38;5;28;01mas\u001b[39;00m pool:\n\u001b[0;32m--> 289\u001b[0m     results \u001b[38;5;241m=\u001b[39m pool\u001b[38;5;241m.\u001b[39mmap(process_rinex_partial, rinex_entries)\n\u001b[1;32m    292\u001b[0m     \u001b[38;5;28;01mfor\u001b[39;00m idx, (kinfile, resfile) \u001b[38;5;129;01min\u001b[39;00m \u001b[38;5;28menumerate\u001b[39m(tqdm(\n\u001b[1;32m    293\u001b[0m         results, total\u001b[38;5;241m=\u001b[39m\u001b[38;5;28mlen\u001b[39m(rinex_entries), desc\u001b[38;5;241m=\u001b[39m\u001b[38;5;124m\"\u001b[39m\u001b[38;5;124mProcessing Rinex Files\u001b[39m\u001b[38;5;124m\"\u001b[39m,mininterval\u001b[38;5;241m=\u001b[39m\u001b[38;5;241m0.5\u001b[39m\n\u001b[1;32m    294\u001b[0m     )):\n\u001b[1;32m    295\u001b[0m         \u001b[38;5;28;01mif\u001b[39;00m kinfile \u001b[38;5;129;01mis\u001b[39;00m \u001b[38;5;129;01mnot\u001b[39;00m \u001b[38;5;28;01mNone\u001b[39;00m:\n",
      "File \u001b[0;32m~/miniconda3/envs/seafloor_geodesy/lib/python3.11/multiprocessing/pool.py:367\u001b[0m, in \u001b[0;36mPool.map\u001b[0;34m(self, func, iterable, chunksize)\u001b[0m\n\u001b[1;32m    362\u001b[0m \u001b[38;5;28;01mdef\u001b[39;00m \u001b[38;5;21mmap\u001b[39m(\u001b[38;5;28mself\u001b[39m, func, iterable, chunksize\u001b[38;5;241m=\u001b[39m\u001b[38;5;28;01mNone\u001b[39;00m):\n\u001b[1;32m    363\u001b[0m \u001b[38;5;250m    \u001b[39m\u001b[38;5;124;03m'''\u001b[39;00m\n\u001b[1;32m    364\u001b[0m \u001b[38;5;124;03m    Apply `func` to each element in `iterable`, collecting the results\u001b[39;00m\n\u001b[1;32m    365\u001b[0m \u001b[38;5;124;03m    in a list that is returned.\u001b[39;00m\n\u001b[1;32m    366\u001b[0m \u001b[38;5;124;03m    '''\u001b[39;00m\n\u001b[0;32m--> 367\u001b[0m     \u001b[38;5;28;01mreturn\u001b[39;00m \u001b[38;5;28mself\u001b[39m\u001b[38;5;241m.\u001b[39m_map_async(func, iterable, mapstar, chunksize)\u001b[38;5;241m.\u001b[39mget()\n",
      "File \u001b[0;32m~/miniconda3/envs/seafloor_geodesy/lib/python3.11/multiprocessing/pool.py:774\u001b[0m, in \u001b[0;36mApplyResult.get\u001b[0;34m(self, timeout)\u001b[0m\n\u001b[1;32m    772\u001b[0m     \u001b[38;5;28;01mreturn\u001b[39;00m \u001b[38;5;28mself\u001b[39m\u001b[38;5;241m.\u001b[39m_value\n\u001b[1;32m    773\u001b[0m \u001b[38;5;28;01melse\u001b[39;00m:\n\u001b[0;32m--> 774\u001b[0m     \u001b[38;5;28;01mraise\u001b[39;00m \u001b[38;5;28mself\u001b[39m\u001b[38;5;241m.\u001b[39m_value\n",
      "\u001b[0;31mFileNotFoundError\u001b[0m: PRIDE-PPP binary 'pdp3' not found in path"
     ]
    }
   ],
   "source": [
    "pipeline.process_rinex()"
   ]
  },
  {
   "cell_type": "code",
   "execution_count": 6,
   "metadata": {},
   "outputs": [
    {
     "name": "stdout",
     "output_type": "stream",
     "text": [
      "Getting assets for cascadia-gorda NCC1 2024_A_1126 AssetType.KIN\n",
      "Getting assets for cascadia-gorda NCC1 2024_A_1126 AssetType.KINRESIDUALS\n"
     ]
    }
   ],
   "source": [
    "pipeline.process_kin()"
   ]
  },
  {
   "cell_type": "code",
   "execution_count": null,
   "metadata": {},
   "outputs": [],
   "source": [
    "pipeline.update_shotdata()"
   ]
  }
 ],
 "metadata": {
  "kernelspec": {
   "display_name": "seafloor_geodesy",
   "language": "python",
   "name": "python3"
  },
  "language_info": {
   "codemirror_mode": {
    "name": "ipython",
    "version": 3
   },
   "file_extension": ".py",
   "mimetype": "text/x-python",
   "name": "python",
   "nbconvert_exporter": "python",
   "pygments_lexer": "ipython3",
   "version": "3.11.11"
  }
 },
 "nbformat": 4,
 "nbformat_minor": 2
}
