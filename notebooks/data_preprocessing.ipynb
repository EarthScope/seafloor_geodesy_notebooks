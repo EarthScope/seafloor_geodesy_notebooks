{
 "cells": [
  {
   "cell_type": "markdown",
   "metadata": {},
   "source": [
    "# Data Preprocessing\n",
    "This notebook runs a user through the steps to select a survey and preprocess all the raw data into the inputs necessary to run GARPOS.  "
   ]
  },
  {
   "cell_type": "code",
   "execution_count": 1,
   "metadata": {},
   "outputs": [],
   "source": [
    "import os\n",
    "import sys\n",
    "from pathlib import Path\n",
    "import pandas as pd\n",
    "\n",
    "from es_sfgtools.processing.pipeline import DataHandler\n",
    "from es_sfgtools.utils.archive_pull import (\n",
    "    list_survey_files\n",
    "    )\n",
    "\n",
    "from es_sfgtools.utils.loggers import BaseLogger\n",
    "\n",
    "BaseLogger.route_to_console()\n",
    "\n",
    "os.environ['DYLD_LIBRARY_PATH'] = \"/Users/gottlieb/miniconda3/envs/seafloor_geodesy/lib\"\n",
    "os.environ[\"PATH\"] += os.pathsep + \"/Users/gottlieb/.PRIDE_PPPAR_BIN\""
   ]
  },
  {
   "cell_type": "markdown",
   "metadata": {},
   "source": [
    "## Step 1. Initial Setup\n"
   ]
  },
  {
   "cell_type": "markdown",
   "metadata": {},
   "source": [
    "#### Browse available surveys from the community archive and select target\n",
    "- Locate the survey of interest in https://gage-data.earthscope.org/archive/seafloor, and note the `network`, `station`, and `survey` names, which will be input in the cell below.  Leave vessel_type as SV3 unless you know you are working with older SV2 data.\n",
    "- In order to use this notebook to process new surveys, the data must first be submitted and made available from the community archive "
   ]
  },
  {
   "cell_type": "code",
   "execution_count": 28,
   "metadata": {},
   "outputs": [
    {
     "name": "stderr",
     "output_type": "stream",
     "text": [
      "Building directory structure for cascadia-gorda NCC1 2024_A_1126\n",
      "Building TileDB arrays for NCC1\n",
      "Changed working station to cascadia-gorda NCC1\n"
     ]
    },
    {
     "name": "stdout",
     "output_type": "stream",
     "text": [
      "/Users/gottlieb/data/sfg\n"
     ]
    }
   ],
   "source": [
    "# Input survey parameters\n",
    "network='cascadia-gorda'\n",
    "site='NCC1'\n",
    "survey='2024_A_1126'\n",
    "vessel_type = 'SV3'\n",
    "\n",
    "# Set data directory path for local environment\n",
    "data_dir = Path(f\"{os.path.expanduser('~/data/sfg')}\")\n",
    "os.makedirs(data_dir, exist_ok=True)\n",
    "\n",
    "#### USE THE FOLLOWING DEFAULTS UNLESS DESIRED####\n",
    "data_handler = DataHandler(directory=data_dir)\n",
    "data_handler.change_working_station(network=network, station=site, survey=survey)\n",
    "BaseLogger.set_dir(data_handler.station_log_dir)\n",
    "\n",
    "if vessel_type == 'SV3':\n",
    "    pipeline, config = data_handler.get_pipeline_sv3()\n",
    "elif vessel_type == 'SV2':\n",
    "    pipeline, config = data_handler.get_pipeline_sv2()\n",
    "else:\n",
    "    raise ValueError(f\"Vessel type {vessel_type} not recognized\")\n",
    "\n"
   ]
  },
  {
   "cell_type": "markdown",
   "metadata": {},
   "source": [
    "# Step 2. Inventory available data and its location"
   ]
  },
  {
   "cell_type": "code",
   "execution_count": 12,
   "metadata": {},
   "outputs": [
    {
     "name": "stdout",
     "output_type": "stream",
     "text": [
      "Found under https://gage-data.earthscope.org/archive/seafloor/cascadia-gorda/NCC1/2024_A_1126/raw:\n",
      "    136 NOV000 file(s)\n",
      "    40 NOV770 file(s)\n",
      "    25 DFOP00 file(s)\n"
     ]
    }
   ],
   "source": [
    "# Generate a list of files available from remote archive\n",
    "#TODO: implement options for raw vs intermediate vs processed \n",
    "remote_filepaths = list_survey_files(network=network, station=site, survey=survey, show_details=True)"
   ]
  },
  {
   "cell_type": "code",
   "execution_count": 13,
   "metadata": {},
   "outputs": [
    {
     "name": "stdout",
     "output_type": "stream",
     "text": [
      "Local data directory contains the following:\n",
      "    dfop00: 25\n",
      "    kin: 21\n",
      "    kinresiduals: 18\n",
      "    novatel770: 40\n",
      "    rinex: 22\n"
     ]
    }
   ],
   "source": [
    "# See what files exist locally\n",
    "data_type_counts = data_handler.get_dtype_counts()\n",
    "print(f\"Local data directory contains the following:\")\n",
    "for item in data_type_counts.items():\n",
    "    print(f\"    {item[0]}: {item[1]}\")"
   ]
  },
  {
   "cell_type": "markdown",
   "metadata": {},
   "source": [
    "## Step 3. Pull data from remote archive"
   ]
  },
  {
   "cell_type": "code",
   "execution_count": 14,
   "metadata": {},
   "outputs": [
    {
     "name": "stderr",
     "output_type": "stream",
     "text": [
      "File type not recognized for https://gage-data.earthscope.org/archive/seafloor/cascadia-gorda/NCC1/2024_A_1126/raw/323843_001_20240921_225319_00110_AHRS00.bin\n",
      "File type not recognized for https://gage-data.earthscope.org/archive/seafloor/cascadia-gorda/NCC1/2024_A_1126/raw/323843_001_20240921_225319_00110_TCVR00.bin\n",
      "File https://gage-data.earthscope.org/archive/seafloor/cascadia-gorda/NCC1/2024_A_1126/raw/323843_001_20240921_225330_00110_NOV770.raw already exists in the catalog\n",
      "File type not recognized for https://gage-data.earthscope.org/archive/seafloor/cascadia-gorda/NCC1/2024_A_1126/raw/323843_001_20240921_230308_00110_INOUT0.bin\n",
      "File type not recognized for https://gage-data.earthscope.org/archive/seafloor/cascadia-gorda/NCC1/2024_A_1126/raw/323843_001_20240922_000000_00111_AHRS00.bin\n",
      "File type not recognized for https://gage-data.earthscope.org/archive/seafloor/cascadia-gorda/NCC1/2024_A_1126/raw/323843_001_20240922_000000_00111_GNSS00.bin\n",
      "File https://gage-data.earthscope.org/archive/seafloor/cascadia-gorda/NCC1/2024_A_1126/raw/323843_001_20240922_000000_00111_NOV770.raw already exists in the catalog\n",
      "File type not recognized for https://gage-data.earthscope.org/archive/seafloor/cascadia-gorda/NCC1/2024_A_1126/raw/323843_001_20240922_001247_00111_TCVR00.bin\n",
      "File type not recognized for https://gage-data.earthscope.org/archive/seafloor/cascadia-gorda/NCC1/2024_A_1126/raw/323843_001_20240922_001357_00111_INOUT0.bin\n",
      "File type not recognized for https://gage-data.earthscope.org/archive/seafloor/cascadia-gorda/NCC1/2024_A_1126/raw/323843_001_20240922_140330_00112_AHRS00.bin\n",
      "File type not recognized for https://gage-data.earthscope.org/archive/seafloor/cascadia-gorda/NCC1/2024_A_1126/raw/323843_001_20240922_140331_00112_TCVR00.bin\n",
      "File https://gage-data.earthscope.org/archive/seafloor/cascadia-gorda/NCC1/2024_A_1126/raw/323843_001_20240922_140341_00112_NOV770.raw already exists in the catalog\n",
      "File type not recognized for https://gage-data.earthscope.org/archive/seafloor/cascadia-gorda/NCC1/2024_A_1126/raw/323843_001_20240922_142643_00112_INOUT0.bin\n",
      "File https://gage-data.earthscope.org/archive/seafloor/cascadia-gorda/NCC1/2024_A_1126/raw/323843_001_20240922_143036_00112_DFOP00.raw already exists in the catalog\n",
      "File type not recognized for https://gage-data.earthscope.org/archive/seafloor/cascadia-gorda/NCC1/2024_A_1126/raw/323843_001_20240923_000000_00113_AHRS00.bin\n",
      "File type not recognized for https://gage-data.earthscope.org/archive/seafloor/cascadia-gorda/NCC1/2024_A_1126/raw/323843_001_20240923_000000_00113_GNSS00.bin\n",
      "File https://gage-data.earthscope.org/archive/seafloor/cascadia-gorda/NCC1/2024_A_1126/raw/323843_001_20240923_000000_00113_NOV770.raw already exists in the catalog\n",
      "File type not recognized for https://gage-data.earthscope.org/archive/seafloor/cascadia-gorda/NCC1/2024_A_1126/raw/323843_001_20240923_000002_00113_TCVR00.bin\n",
      "File https://gage-data.earthscope.org/archive/seafloor/cascadia-gorda/NCC1/2024_A_1126/raw/323843_001_20240923_000003_00113_DFOP00.raw already exists in the catalog\n",
      "File https://gage-data.earthscope.org/archive/seafloor/cascadia-gorda/NCC1/2024_A_1126/raw/323843_001_20240923_160508_00113_NOV770.raw already exists in the catalog\n",
      "File type not recognized for https://gage-data.earthscope.org/archive/seafloor/cascadia-gorda/NCC1/2024_A_1126/raw/323843_001_20240923_171807_00113_INOUT0.bin\n",
      "File type not recognized for https://gage-data.earthscope.org/archive/seafloor/cascadia-gorda/NCC1/2024_A_1126/raw/323843_001_20240924_000000_00114_AHRS00.bin\n",
      "File type not recognized for https://gage-data.earthscope.org/archive/seafloor/cascadia-gorda/NCC1/2024_A_1126/raw/323843_001_20240924_000000_00114_GNSS00.bin\n",
      "File https://gage-data.earthscope.org/archive/seafloor/cascadia-gorda/NCC1/2024_A_1126/raw/323843_001_20240924_000000_00114_NOV770.raw already exists in the catalog\n",
      "File type not recognized for https://gage-data.earthscope.org/archive/seafloor/cascadia-gorda/NCC1/2024_A_1126/raw/323843_001_20240924_000003_00114_TCVR00.bin\n",
      "File https://gage-data.earthscope.org/archive/seafloor/cascadia-gorda/NCC1/2024_A_1126/raw/323843_001_20240924_000004_00114_DFOP00.raw already exists in the catalog\n",
      "File type not recognized for https://gage-data.earthscope.org/archive/seafloor/cascadia-gorda/NCC1/2024_A_1126/raw/323843_001_20240924_150140_00114_INOUT0.bin\n",
      "File type not recognized for https://gage-data.earthscope.org/archive/seafloor/cascadia-gorda/NCC1/2024_A_1126/raw/323843_001_20240924_204306_00115_AHRS00.bin\n",
      "File type not recognized for https://gage-data.earthscope.org/archive/seafloor/cascadia-gorda/NCC1/2024_A_1126/raw/323843_001_20240924_204306_00115_TCVR00.bin\n",
      "File https://gage-data.earthscope.org/archive/seafloor/cascadia-gorda/NCC1/2024_A_1126/raw/323843_001_20240924_204316_00115_NOV770.raw already exists in the catalog\n",
      "File type not recognized for https://gage-data.earthscope.org/archive/seafloor/cascadia-gorda/NCC1/2024_A_1126/raw/323843_001_20240924_210958_00115_INOUT0.bin\n",
      "File https://gage-data.earthscope.org/archive/seafloor/cascadia-gorda/NCC1/2024_A_1126/raw/323843_001_20240924_212831_00115_DFOP00.raw already exists in the catalog\n",
      "File type not recognized for https://gage-data.earthscope.org/archive/seafloor/cascadia-gorda/NCC1/2024_A_1126/raw/323843_001_20240925_000000_00116_AHRS00.bin\n",
      "File type not recognized for https://gage-data.earthscope.org/archive/seafloor/cascadia-gorda/NCC1/2024_A_1126/raw/323843_001_20240925_000000_00116_GNSS00.bin\n",
      "File https://gage-data.earthscope.org/archive/seafloor/cascadia-gorda/NCC1/2024_A_1126/raw/323843_001_20240925_000000_00116_NOV770.raw already exists in the catalog\n",
      "File type not recognized for https://gage-data.earthscope.org/archive/seafloor/cascadia-gorda/NCC1/2024_A_1126/raw/323843_001_20240925_000002_00116_TCVR00.bin\n",
      "File https://gage-data.earthscope.org/archive/seafloor/cascadia-gorda/NCC1/2024_A_1126/raw/323843_001_20240925_000004_00116_DFOP00.raw already exists in the catalog\n",
      "File type not recognized for https://gage-data.earthscope.org/archive/seafloor/cascadia-gorda/NCC1/2024_A_1126/raw/323843_001_20240925_163754_00116_INOUT0.bin\n",
      "File type not recognized for https://gage-data.earthscope.org/archive/seafloor/cascadia-gorda/NCC1/2024_A_1126/raw/323843_001_20240926_223835_00117_AHRS00.bin\n",
      "File type not recognized for https://gage-data.earthscope.org/archive/seafloor/cascadia-gorda/NCC1/2024_A_1126/raw/323843_001_20240926_223835_00117_TCVR00.bin\n",
      "File https://gage-data.earthscope.org/archive/seafloor/cascadia-gorda/NCC1/2024_A_1126/raw/323843_001_20240926_223846_00117_NOV770.raw already exists in the catalog\n",
      "File type not recognized for https://gage-data.earthscope.org/archive/seafloor/cascadia-gorda/NCC1/2024_A_1126/raw/323843_001_20240926_224931_00117_INOUT0.bin\n",
      "File https://gage-data.earthscope.org/archive/seafloor/cascadia-gorda/NCC1/2024_A_1126/raw/323843_001_20240926_225623_00117_DFOP00.raw already exists in the catalog\n",
      "File type not recognized for https://gage-data.earthscope.org/archive/seafloor/cascadia-gorda/NCC1/2024_A_1126/raw/323843_001_20240927_000001_00118_AHRS00.bin\n",
      "File type not recognized for https://gage-data.earthscope.org/archive/seafloor/cascadia-gorda/NCC1/2024_A_1126/raw/323843_001_20240927_000001_00118_GNSS00.bin\n",
      "File https://gage-data.earthscope.org/archive/seafloor/cascadia-gorda/NCC1/2024_A_1126/raw/323843_001_20240927_000001_00118_NOV770.raw already exists in the catalog\n",
      "File type not recognized for https://gage-data.earthscope.org/archive/seafloor/cascadia-gorda/NCC1/2024_A_1126/raw/323843_001_20240927_000007_00118_TCVR00.bin\n",
      "File https://gage-data.earthscope.org/archive/seafloor/cascadia-gorda/NCC1/2024_A_1126/raw/323843_001_20240927_000008_00118_DFOP00.raw already exists in the catalog\n",
      "File https://gage-data.earthscope.org/archive/seafloor/cascadia-gorda/NCC1/2024_A_1126/raw/323843_001_20240927_153543_00118_NOV770.raw already exists in the catalog\n",
      "File type not recognized for https://gage-data.earthscope.org/archive/seafloor/cascadia-gorda/NCC1/2024_A_1126/raw/323843_001_20240927_163840_00118_INOUT0.bin\n",
      "File type not recognized for https://gage-data.earthscope.org/archive/seafloor/cascadia-gorda/NCC1/2024_A_1126/raw/323843_001_20240930_155204_00119_AHRS00.bin\n",
      "File type not recognized for https://gage-data.earthscope.org/archive/seafloor/cascadia-gorda/NCC1/2024_A_1126/raw/323843_001_20240930_155204_00119_TCVR00.bin\n",
      "File https://gage-data.earthscope.org/archive/seafloor/cascadia-gorda/NCC1/2024_A_1126/raw/323843_001_20240930_155214_00119_NOV770.raw already exists in the catalog\n",
      "File type not recognized for https://gage-data.earthscope.org/archive/seafloor/cascadia-gorda/NCC1/2024_A_1126/raw/323843_001_20240930_162500_00119_INOUT0.bin\n",
      "File https://gage-data.earthscope.org/archive/seafloor/cascadia-gorda/NCC1/2024_A_1126/raw/323843_001_20240930_164851_00119_DFOP00.raw already exists in the catalog\n",
      "File type not recognized for https://gage-data.earthscope.org/archive/seafloor/cascadia-gorda/NCC1/2024_A_1126/raw/323843_001_20241001_040525_00120_AHRS00.bin\n",
      "File type not recognized for https://gage-data.earthscope.org/archive/seafloor/cascadia-gorda/NCC1/2024_A_1126/raw/323843_001_20241001_040525_00120_TCVR00.bin\n",
      "File https://gage-data.earthscope.org/archive/seafloor/cascadia-gorda/NCC1/2024_A_1126/raw/323843_001_20241001_040535_00120_NOV770.raw already exists in the catalog\n",
      "File type not recognized for https://gage-data.earthscope.org/archive/seafloor/cascadia-gorda/NCC1/2024_A_1126/raw/323843_001_20241001_041607_00120_INOUT0.bin\n",
      "File https://gage-data.earthscope.org/archive/seafloor/cascadia-gorda/NCC1/2024_A_1126/raw/323843_001_20241001_044149_00120_DFOP00.raw already exists in the catalog\n",
      "File https://gage-data.earthscope.org/archive/seafloor/cascadia-gorda/NCC1/2024_A_1126/raw/323843_001_20241001_202813_00120_NOV770.raw already exists in the catalog\n",
      "File type not recognized for https://gage-data.earthscope.org/archive/seafloor/cascadia-gorda/NCC1/2024_A_1126/raw/323843_001_20241002_000000_00121_AHRS00.bin\n",
      "File type not recognized for https://gage-data.earthscope.org/archive/seafloor/cascadia-gorda/NCC1/2024_A_1126/raw/323843_001_20241002_000000_00121_GNSS00.bin\n",
      "File https://gage-data.earthscope.org/archive/seafloor/cascadia-gorda/NCC1/2024_A_1126/raw/323843_001_20241002_000000_00121_NOV770.raw already exists in the catalog\n",
      "File type not recognized for https://gage-data.earthscope.org/archive/seafloor/cascadia-gorda/NCC1/2024_A_1126/raw/323843_001_20241002_000010_00121_TCVR00.bin\n",
      "File https://gage-data.earthscope.org/archive/seafloor/cascadia-gorda/NCC1/2024_A_1126/raw/323843_001_20241002_000011_00121_DFOP00.raw already exists in the catalog\n",
      "File type not recognized for https://gage-data.earthscope.org/archive/seafloor/cascadia-gorda/NCC1/2024_A_1126/raw/323843_001_20241002_031748_00121_INOUT0.bin\n",
      "File type not recognized for https://gage-data.earthscope.org/archive/seafloor/cascadia-gorda/NCC1/2024_A_1126/raw/323843_001_20241003_143909_00122_AHRS00.bin\n",
      "File type not recognized for https://gage-data.earthscope.org/archive/seafloor/cascadia-gorda/NCC1/2024_A_1126/raw/323843_001_20241003_143909_00122_TCVR00.bin\n",
      "File https://gage-data.earthscope.org/archive/seafloor/cascadia-gorda/NCC1/2024_A_1126/raw/323843_001_20241003_143920_00122_NOV770.raw already exists in the catalog\n",
      "File type not recognized for https://gage-data.earthscope.org/archive/seafloor/cascadia-gorda/NCC1/2024_A_1126/raw/323843_001_20241003_150427_00122_INOUT0.bin\n",
      "File https://gage-data.earthscope.org/archive/seafloor/cascadia-gorda/NCC1/2024_A_1126/raw/323843_001_20241003_162155_00122_DFOP00.raw already exists in the catalog\n",
      "File type not recognized for https://gage-data.earthscope.org/archive/seafloor/cascadia-gorda/NCC1/2024_A_1126/raw/323843_001_20241004_000000_00123_GNSS00.bin\n",
      "File https://gage-data.earthscope.org/archive/seafloor/cascadia-gorda/NCC1/2024_A_1126/raw/323843_001_20241004_000000_00123_NOV770.raw already exists in the catalog\n",
      "File type not recognized for https://gage-data.earthscope.org/archive/seafloor/cascadia-gorda/NCC1/2024_A_1126/raw/323843_001_20241004_000001_00123_AHRS00.bin\n",
      "File type not recognized for https://gage-data.earthscope.org/archive/seafloor/cascadia-gorda/NCC1/2024_A_1126/raw/323843_001_20241004_000008_00123_TCVR00.bin\n",
      "File https://gage-data.earthscope.org/archive/seafloor/cascadia-gorda/NCC1/2024_A_1126/raw/323843_001_20241004_000009_00123_DFOP00.raw already exists in the catalog\n",
      "File type not recognized for https://gage-data.earthscope.org/archive/seafloor/cascadia-gorda/NCC1/2024_A_1126/raw/323843_001_20241004_004856_00123_INOUT0.bin\n",
      "File https://gage-data.earthscope.org/archive/seafloor/cascadia-gorda/NCC1/2024_A_1126/raw/323843_001_20241004_155651_00123_NOV770.raw already exists in the catalog\n",
      "File type not recognized for https://gage-data.earthscope.org/archive/seafloor/cascadia-gorda/NCC1/2024_A_1126/raw/323843_001_20241005_032440_00124_AHRS00.bin\n",
      "File type not recognized for https://gage-data.earthscope.org/archive/seafloor/cascadia-gorda/NCC1/2024_A_1126/raw/323843_001_20241005_032440_00124_TCVR00.bin\n",
      "File https://gage-data.earthscope.org/archive/seafloor/cascadia-gorda/NCC1/2024_A_1126/raw/323843_001_20241005_032450_00124_NOV770.raw already exists in the catalog\n",
      "File type not recognized for https://gage-data.earthscope.org/archive/seafloor/cascadia-gorda/NCC1/2024_A_1126/raw/323843_001_20241005_033413_00124_INOUT0.bin\n",
      "File https://gage-data.earthscope.org/archive/seafloor/cascadia-gorda/NCC1/2024_A_1126/raw/323843_001_20241005_034620_00124_DFOP00.raw already exists in the catalog\n",
      "File type not recognized for https://gage-data.earthscope.org/archive/seafloor/cascadia-gorda/NCC1/2024_A_1126/raw/323843_001_20241005_150434_00125_AHRS00.bin\n",
      "File type not recognized for https://gage-data.earthscope.org/archive/seafloor/cascadia-gorda/NCC1/2024_A_1126/raw/323843_001_20241005_150434_00125_TCVR00.bin\n",
      "File https://gage-data.earthscope.org/archive/seafloor/cascadia-gorda/NCC1/2024_A_1126/raw/323843_001_20241005_150445_00125_NOV770.raw already exists in the catalog\n",
      "File type not recognized for https://gage-data.earthscope.org/archive/seafloor/cascadia-gorda/NCC1/2024_A_1126/raw/323843_001_20241005_153323_00125_INOUT0.bin\n",
      "File https://gage-data.earthscope.org/archive/seafloor/cascadia-gorda/NCC1/2024_A_1126/raw/323843_001_20241005_155703_00125_DFOP00.raw already exists in the catalog\n",
      "File type not recognized for https://gage-data.earthscope.org/archive/seafloor/cascadia-gorda/NCC1/2024_A_1126/raw/323843_001_20241006_000000_00126_AHRS00.bin\n",
      "File type not recognized for https://gage-data.earthscope.org/archive/seafloor/cascadia-gorda/NCC1/2024_A_1126/raw/323843_001_20241006_000000_00126_GNSS00.bin\n",
      "File https://gage-data.earthscope.org/archive/seafloor/cascadia-gorda/NCC1/2024_A_1126/raw/323843_001_20241006_000000_00126_NOV770.raw already exists in the catalog\n",
      "File type not recognized for https://gage-data.earthscope.org/archive/seafloor/cascadia-gorda/NCC1/2024_A_1126/raw/323843_001_20241006_000009_00126_TCVR00.bin\n",
      "File https://gage-data.earthscope.org/archive/seafloor/cascadia-gorda/NCC1/2024_A_1126/raw/323843_001_20241006_000010_00126_DFOP00.raw already exists in the catalog\n",
      "File type not recognized for https://gage-data.earthscope.org/archive/seafloor/cascadia-gorda/NCC1/2024_A_1126/raw/323843_001_20241006_100108_00126_INOUT0.bin\n",
      "File https://gage-data.earthscope.org/archive/seafloor/cascadia-gorda/NCC1/2024_A_1126/raw/323843_001_20241006_162432_00126_NOV770.raw already exists in the catalog\n",
      "File type not recognized for https://gage-data.earthscope.org/archive/seafloor/cascadia-gorda/NCC1/2024_A_1126/raw/323843_001_20241007_000000_00127_AHRS00.bin\n",
      "File type not recognized for https://gage-data.earthscope.org/archive/seafloor/cascadia-gorda/NCC1/2024_A_1126/raw/323843_001_20241007_000000_00127_GNSS00.bin\n",
      "File https://gage-data.earthscope.org/archive/seafloor/cascadia-gorda/NCC1/2024_A_1126/raw/323843_001_20241007_000000_00127_NOV770.raw already exists in the catalog\n",
      "File type not recognized for https://gage-data.earthscope.org/archive/seafloor/cascadia-gorda/NCC1/2024_A_1126/raw/323843_001_20241007_000004_00127_TCVR00.bin\n",
      "File https://gage-data.earthscope.org/archive/seafloor/cascadia-gorda/NCC1/2024_A_1126/raw/323843_001_20241007_000006_00127_DFOP00.raw already exists in the catalog\n",
      "File https://gage-data.earthscope.org/archive/seafloor/cascadia-gorda/NCC1/2024_A_1126/raw/323843_001_20241007_153716_00127_NOV770.raw already exists in the catalog\n",
      "File type not recognized for https://gage-data.earthscope.org/archive/seafloor/cascadia-gorda/NCC1/2024_A_1126/raw/323843_001_20241007_200636_00127_INOUT0.bin\n",
      "File type not recognized for https://gage-data.earthscope.org/archive/seafloor/cascadia-gorda/NCC1/2024_A_1126/raw/323843_001_20241008_000000_00128_AHRS00.bin\n",
      "File type not recognized for https://gage-data.earthscope.org/archive/seafloor/cascadia-gorda/NCC1/2024_A_1126/raw/323843_001_20241008_000000_00128_GNSS00.bin\n",
      "File https://gage-data.earthscope.org/archive/seafloor/cascadia-gorda/NCC1/2024_A_1126/raw/323843_001_20241008_000000_00128_NOV770.raw already exists in the catalog\n",
      "File https://gage-data.earthscope.org/archive/seafloor/cascadia-gorda/NCC1/2024_A_1126/raw/323843_001_20241008_000002_00128_DFOP00.raw already exists in the catalog\n",
      "File type not recognized for https://gage-data.earthscope.org/archive/seafloor/cascadia-gorda/NCC1/2024_A_1126/raw/323843_001_20241008_000002_00128_TCVR00.bin\n",
      "File https://gage-data.earthscope.org/archive/seafloor/cascadia-gorda/NCC1/2024_A_1126/raw/323843_001_20241008_160326_00128_NOV770.raw already exists in the catalog\n",
      "File type not recognized for https://gage-data.earthscope.org/archive/seafloor/cascadia-gorda/NCC1/2024_A_1126/raw/323843_001_20241008_214003_00128_INOUT0.bin\n",
      "File type not recognized for https://gage-data.earthscope.org/archive/seafloor/cascadia-gorda/NCC1/2024_A_1126/raw/323843_001_20241009_000001_00129_AHRS00.bin\n",
      "File type not recognized for https://gage-data.earthscope.org/archive/seafloor/cascadia-gorda/NCC1/2024_A_1126/raw/323843_001_20241009_000001_00129_GNSS00.bin\n",
      "File https://gage-data.earthscope.org/archive/seafloor/cascadia-gorda/NCC1/2024_A_1126/raw/323843_001_20241009_000001_00129_NOV770.raw already exists in the catalog\n",
      "File type not recognized for https://gage-data.earthscope.org/archive/seafloor/cascadia-gorda/NCC1/2024_A_1126/raw/323843_001_20241009_000008_00129_TCVR00.bin\n",
      "File https://gage-data.earthscope.org/archive/seafloor/cascadia-gorda/NCC1/2024_A_1126/raw/323843_001_20241009_000009_00129_DFOP00.raw already exists in the catalog\n",
      "File https://gage-data.earthscope.org/archive/seafloor/cascadia-gorda/NCC1/2024_A_1126/raw/323843_001_20241009_155201_00129_NOV770.raw already exists in the catalog\n",
      "File type not recognized for https://gage-data.earthscope.org/archive/seafloor/cascadia-gorda/NCC1/2024_A_1126/raw/323843_001_20241010_000000_00130_AHRS00.bin\n",
      "File https://gage-data.earthscope.org/archive/seafloor/cascadia-gorda/NCC1/2024_A_1126/raw/323843_001_20241010_000000_00130_DFOP00.raw already exists in the catalog\n",
      "File type not recognized for https://gage-data.earthscope.org/archive/seafloor/cascadia-gorda/NCC1/2024_A_1126/raw/323843_001_20241010_000000_00130_GNSS00.bin\n",
      "File https://gage-data.earthscope.org/archive/seafloor/cascadia-gorda/NCC1/2024_A_1126/raw/323843_001_20241010_000000_00130_NOV770.raw already exists in the catalog\n",
      "File type not recognized for https://gage-data.earthscope.org/archive/seafloor/cascadia-gorda/NCC1/2024_A_1126/raw/323843_001_20241010_000000_00130_TCVR00.bin\n",
      "File https://gage-data.earthscope.org/archive/seafloor/cascadia-gorda/NCC1/2024_A_1126/raw/323843_001_20241010_160452_00130_NOV770.raw already exists in the catalog\n",
      "File type not recognized for https://gage-data.earthscope.org/archive/seafloor/cascadia-gorda/NCC1/2024_A_1126/raw/323843_001_20241011_000000_00131_AHRS00.bin\n",
      "File https://gage-data.earthscope.org/archive/seafloor/cascadia-gorda/NCC1/2024_A_1126/raw/323843_001_20241011_000000_00131_DFOP00.raw already exists in the catalog\n",
      "File type not recognized for https://gage-data.earthscope.org/archive/seafloor/cascadia-gorda/NCC1/2024_A_1126/raw/323843_001_20241011_000000_00131_GNSS00.bin\n",
      "File https://gage-data.earthscope.org/archive/seafloor/cascadia-gorda/NCC1/2024_A_1126/raw/323843_001_20241011_000000_00131_NOV770.raw already exists in the catalog\n",
      "File type not recognized for https://gage-data.earthscope.org/archive/seafloor/cascadia-gorda/NCC1/2024_A_1126/raw/323843_001_20241011_000000_00131_TCVR00.bin\n",
      "File https://gage-data.earthscope.org/archive/seafloor/cascadia-gorda/NCC1/2024_A_1126/raw/323843_001_20241011_155757_00131_NOV770.raw already exists in the catalog\n",
      "File type not recognized for https://gage-data.earthscope.org/archive/seafloor/cascadia-gorda/NCC1/2024_A_1126/raw/323843_001_20241011_201546_00132_AHRS00.bin\n",
      "File type not recognized for https://gage-data.earthscope.org/archive/seafloor/cascadia-gorda/NCC1/2024_A_1126/raw/323843_001_20241011_201546_00132_TCVR00.bin\n",
      "File https://gage-data.earthscope.org/archive/seafloor/cascadia-gorda/NCC1/2024_A_1126/raw/323843_001_20241011_201553_00132_DFOP00.raw already exists in the catalog\n",
      "File https://gage-data.earthscope.org/archive/seafloor/cascadia-gorda/NCC1/2024_A_1126/raw/323843_001_20241011_201556_00132_NOV770.raw already exists in the catalog\n",
      "File type not recognized for https://gage-data.earthscope.org/archive/seafloor/cascadia-gorda/NCC1/2024_A_1126/raw/323843_001_20241011_233019_00132_INOUT0.bin\n",
      "File type not recognized for https://gage-data.earthscope.org/archive/seafloor/cascadia-gorda/NCC1/2024_A_1126/raw/323843_001_20241012_000000_00133_AHRS00.bin\n",
      "File type not recognized for https://gage-data.earthscope.org/archive/seafloor/cascadia-gorda/NCC1/2024_A_1126/raw/323843_001_20241012_000000_00133_GNSS00.bin\n",
      "File https://gage-data.earthscope.org/archive/seafloor/cascadia-gorda/NCC1/2024_A_1126/raw/323843_001_20241012_000000_00133_NOV770.raw already exists in the catalog\n",
      "File type not recognized for https://gage-data.earthscope.org/archive/seafloor/cascadia-gorda/NCC1/2024_A_1126/raw/323843_001_20241012_001050_00134_AHRS00.bin\n",
      "File type not recognized for https://gage-data.earthscope.org/archive/seafloor/cascadia-gorda/NCC1/2024_A_1126/raw/323843_001_20241012_001050_00134_TCVR00.bin\n",
      "File https://gage-data.earthscope.org/archive/seafloor/cascadia-gorda/NCC1/2024_A_1126/raw/323843_001_20241012_001100_00134_NOV770.raw already exists in the catalog\n",
      "File type not recognized for https://gage-data.earthscope.org/archive/seafloor/cascadia-gorda/NCC1/2024_A_1126/raw/323843_001_20241012_003515_00134_INOUT0.bin\n",
      "File https://gage-data.earthscope.org/archive/seafloor/cascadia-gorda/NCC1/2024_A_1126/raw/323843_001_20241012_003830_00134_DFOP00.raw already exists in the catalog\n",
      "File https://gage-data.earthscope.org/archive/seafloor/cascadia-gorda/NCC1/2024_A_1126/raw/323843_001_20241012_163913_00134_NOV770.raw already exists in the catalog\n",
      "File type not recognized for https://gage-data.earthscope.org/archive/seafloor/cascadia-gorda/NCC1/2024_A_1126/raw/323843_001_20241013_000000_00135_AHRS00.bin\n",
      "File type not recognized for https://gage-data.earthscope.org/archive/seafloor/cascadia-gorda/NCC1/2024_A_1126/raw/323843_001_20241013_000000_00135_GNSS00.bin\n",
      "File https://gage-data.earthscope.org/archive/seafloor/cascadia-gorda/NCC1/2024_A_1126/raw/323843_001_20241013_000000_00135_NOV770.raw already exists in the catalog\n",
      "File type not recognized for https://gage-data.earthscope.org/archive/seafloor/cascadia-gorda/NCC1/2024_A_1126/raw/323843_001_20241013_000001_00135_TCVR00.bin\n",
      "File https://gage-data.earthscope.org/archive/seafloor/cascadia-gorda/NCC1/2024_A_1126/raw/323843_001_20241013_000003_00135_DFOP00.raw already exists in the catalog\n",
      "File https://gage-data.earthscope.org/archive/seafloor/cascadia-gorda/NCC1/2024_A_1126/raw/323843_001_20241013_152803_00135_NOV770.raw already exists in the catalog\n",
      "File type not recognized for https://gage-data.earthscope.org/archive/seafloor/cascadia-gorda/NCC1/2024_A_1126/raw/323843_001_20241014_000000_00136_AHRS00.bin\n",
      "File type not recognized for https://gage-data.earthscope.org/archive/seafloor/cascadia-gorda/NCC1/2024_A_1126/raw/323843_001_20241014_000000_00136_GNSS00.bin\n",
      "File https://gage-data.earthscope.org/archive/seafloor/cascadia-gorda/NCC1/2024_A_1126/raw/323843_001_20241014_000000_00136_NOV770.raw already exists in the catalog\n",
      "File type not recognized for https://gage-data.earthscope.org/archive/seafloor/cascadia-gorda/NCC1/2024_A_1126/raw/323843_001_20241014_000007_00136_TCVR00.bin\n",
      "File https://gage-data.earthscope.org/archive/seafloor/cascadia-gorda/NCC1/2024_A_1126/raw/323843_001_20241014_000008_00136_DFOP00.raw already exists in the catalog\n",
      "File type not recognized for https://gage-data.earthscope.org/archive/seafloor/cascadia-gorda/NCC1/2024_A_1126/raw/323843_001_20241014_171624_00137_AHRS00.bin\n",
      "File type not recognized for https://gage-data.earthscope.org/archive/seafloor/cascadia-gorda/NCC1/2024_A_1126/raw/323843_001_20241014_171625_00137_TCVR00.bin\n",
      "File https://gage-data.earthscope.org/archive/seafloor/cascadia-gorda/NCC1/2024_A_1126/raw/323843_001_20241014_171631_00137_DFOP00.raw already exists in the catalog\n",
      "File https://gage-data.earthscope.org/archive/seafloor/cascadia-gorda/NCC1/2024_A_1126/raw/323843_001_20241014_171635_00137_NOV770.raw already exists in the catalog\n",
      "File type not recognized for https://gage-data.earthscope.org/archive/seafloor/cascadia-gorda/NCC1/2024_A_1126/raw/323843_001_20241014_173223_00137_INOUT0.bin\n",
      "Added 0 out of 136 files to the catalog\n"
     ]
    }
   ],
   "source": [
    "#Add found remote files to the local catalog.  Note this builds an inventory, \n",
    "#but does not do the downloading until a later step.\n",
    "# TODO: Detail counts of files local vs only remote\n",
    "data_handler.add_data_remote(remote_filepaths=remote_filepaths)\n"
   ]
  },
  {
   "cell_type": "markdown",
   "metadata": {},
   "source": [
    "#### Select files types for downloading\n",
    "Observable file types depend on whether data was collected with an SV2 or SV3 waveglider.  \n",
    "\n",
    "![Alt text](garpos_flow.jpg)"
   ]
  },
  {
   "cell_type": "code",
   "execution_count": 15,
   "metadata": {},
   "outputs": [
    {
     "name": "stderr",
     "output_type": "stream",
     "text": [
      "No new files to download\n",
      "No new files to download\n"
     ]
    },
    {
     "name": "stdout",
     "output_type": "stream",
     "text": [
      "Getting assets for cascadia-gorda NCC1 2024_A_1126 AssetType.DFOP00\n",
      "Getting assets for cascadia-gorda NCC1 2024_A_1126 AssetType.NOVATEL770\n"
     ]
    }
   ],
   "source": [
    "# Download the files by type\n",
    "# data_handler.download_data(file_type='sonardyne', show_details=False)\n",
    "# data_handler.download_data(file_type='novatel', show_details=False)\n",
    "# data_handler.download_data(file_type='master', show_details=False)\n",
    "# data_handler.download_data(file_type='svpavg', show_details=False)\n",
    "# data_handler.download_data(file_type='leverarm', show_details=False)\n",
    "\n",
    "data_handler.download_data(file_types='dfop00')\n",
    "data_handler.download_data(file_types='novatel770')"
   ]
  },
  {
   "cell_type": "markdown",
   "metadata": {},
   "source": [
    "# Step 4. Parse/Process raw data to processing input schemas\n",
    "\n",
    "- 4.1 Parse acoustic observations into AcousticDataFrames\n",
    "- 4.2 Parse IMU observations into IMUDataFrames\n",
    "- 4.3 Process GNSS observables to generate PositionDataFrames\n",
    "    - Parse RANGE-A novatel messages, build RINEX files\n",
    "    - Run PRIDE-PPP-AR on RINEX, generate Kin files\n",
    "    - Parse Kin files into PositionDataFrames\n",
    "- 4.4 Parse metadata files into SiteConfig"
   ]
  },
  {
   "cell_type": "markdown",
   "metadata": {},
   "source": [
    "### 4.1 Process and read DFOP00 files "
   ]
  },
  {
   "cell_type": "code",
   "execution_count": 16,
   "metadata": {},
   "outputs": [
    {
     "name": "stdout",
     "output_type": "stream",
     "text": [
      "Getting assets for cascadia-gorda NCC1 2024_A_1126 AssetType.DFOP00\n",
      "Found 2 DFOP00 Files to Process\n"
     ]
    },
    {
     "data": {
      "application/vnd.jupyter.widget-view+json": {
       "model_id": "a32765afee024b4f9e7897aa1d07b394",
       "version_major": 2,
       "version_minor": 0
      },
      "text/plain": [
       "Processing DFOP00 Files:   0%|          | 0/2 [00:00<?, ?it/s]"
      ]
     },
     "metadata": {},
     "output_type": "display_data"
    },
    {
     "name": "stdout",
     "output_type": "stream",
     "text": [
      "Generated 0 ShotData dataframes From 2 DFOP00 Files\n"
     ]
    }
   ],
   "source": [
    "#config.dfop00_config.override=True\n",
    "config.dfop00_config.show_details=True\n",
    "pipeline.config = config\n",
    "pipeline.process_dfop00()"
   ]
  },
  {
   "cell_type": "markdown",
   "metadata": {},
   "source": [
    "### 4.3 Take all GNSS parent files and generate GNSS df's"
   ]
  },
  {
   "cell_type": "code",
   "execution_count": 17,
   "metadata": {},
   "outputs": [
    {
     "name": "stdout",
     "output_type": "stream",
     "text": [
      "Processing Novatel 770 data for cascadia-gorda NCC1 2024_A_1126\n",
      "Getting local assets for cascadia-gorda NCC1 2024_A_1126 AssetType.NOVATEL770\n",
      "Processing Novatel 000 data for cascadia-gorda NCC1 2024_A_1126\n",
      "Getting local assets for cascadia-gorda NCC1 2024_A_1126 AssetType.NOVATEL000\n",
      "No Novatel 000 Files Found to Process for cascadia-gorda NCC1 2024_A_1126\n"
     ]
    }
   ],
   "source": [
    "pipeline.pre_process_novatel()"
   ]
  },
  {
   "cell_type": "code",
   "execution_count": 18,
   "metadata": {},
   "outputs": [],
   "source": [
    "pipeline.get_rinex_files()"
   ]
  },
  {
   "cell_type": "code",
   "execution_count": 21,
   "metadata": {},
   "outputs": [
    {
     "name": "stdout",
     "output_type": "stream",
     "text": [
      "Getting assets for cascadia-gorda NCC1 2024_A_1126 AssetType.RINEX\n",
      "Getting assets for cascadia-gorda NCC1 2024_A_1126 AssetType.KIN\n"
     ]
    },
    {
     "name": "stderr",
     "output_type": "stream",
     "text": [
      "/Users/gottlieb/GIT/es_sfgtools/src/es_sfgtools/processing/operations/gnss_ops.py:721: UserWarning: No kin file generated from RINEX /Users/gottlieb/data/sfg/cascadia-gorda/NCC1/2024_A_1126/intermediate/NCC12870.24o\n",
      "  warn(response)\n"
     ]
    },
    {
     "data": {
      "application/vnd.jupyter.widget-view+json": {
       "model_id": "89e1568d63024b24ad96f08260287d7a",
       "version_major": 2,
       "version_minor": 0
      },
      "text/plain": [
       "Processing Rinex Files:   0%|          | 0/1 [00:00<?, ?it/s]"
      ]
     },
     "metadata": {},
     "output_type": "display_data"
    }
   ],
   "source": [
    "config.rinex_config.override=False\n",
    "pipeline.config = config\n",
    "pipeline.process_rinex()"
   ]
  },
  {
   "cell_type": "code",
   "execution_count": 22,
   "metadata": {},
   "outputs": [
    {
     "name": "stdout",
     "output_type": "stream",
     "text": [
      "Getting assets for cascadia-gorda NCC1 2024_A_1126 AssetType.KIN\n",
      "Getting assets for cascadia-gorda NCC1 2024_A_1126 AssetType.KINRESIDUALS\n"
     ]
    },
    {
     "data": {
      "application/vnd.jupyter.widget-view+json": {
       "model_id": "b8cd043b7e8f486f962e2870ac747a44",
       "version_major": 2,
       "version_minor": 0
      },
      "text/plain": [
       "Processing Kin Files:   0%|          | 0/4 [00:00<?, ?it/s]"
      ]
     },
     "metadata": {},
     "output_type": "display_data"
    }
   ],
   "source": [
    "pipeline.process_kin()"
   ]
  },
  {
   "cell_type": "code",
   "execution_count": 23,
   "metadata": {},
   "outputs": [
    {
     "name": "stdout",
     "output_type": "stream",
     "text": [
      "Updating shotdata with interpolated gnss data\n"
     ]
    }
   ],
   "source": [
    "pipeline.update_shotdata()"
   ]
  },
  {
   "cell_type": "code",
   "execution_count": null,
   "metadata": {},
   "outputs": [],
   "source": []
  }
 ],
 "metadata": {
  "kernelspec": {
   "display_name": "seafloor_geodesy",
   "language": "python",
   "name": "python3"
  },
  "language_info": {
   "codemirror_mode": {
    "name": "ipython",
    "version": 3
   },
   "file_extension": ".py",
   "mimetype": "text/x-python",
   "name": "python",
   "nbconvert_exporter": "python",
   "pygments_lexer": "ipython3",
   "version": "3.11.11"
  }
 },
 "nbformat": 4,
 "nbformat_minor": 2
}
