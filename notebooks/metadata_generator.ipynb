{
 "cells": [
  {
   "cell_type": "markdown",
   "id": "18992eaf",
   "metadata": {},
   "source": [
    "# Create or Update Seafloor Site Metadata File\n",
    "\n",
    "This notebook goes through the steps necessary to update or create a new site metadata file. "
   ]
  },
  {
   "cell_type": "markdown",
   "id": "e591895a",
   "metadata": {},
   "source": [
    "***\n",
    "## Import packages"
   ]
  },
  {
   "cell_type": "code",
   "execution_count": null,
   "id": "6ec279d2",
   "metadata": {},
   "outputs": [],
   "source": [
    "from datetime import datetime\n",
    "import json\n",
    "import ipywidgets as widgets\n",
    "from ipywidgets import HBox\n",
    "from IPython.display import Image, display\n",
    "import functools\n",
    "import os\n",
    "import sys\n",
    "\n",
    "from es_sfgtools.utils.metadata_generator import Site, start_and_end_dates, buttons, import_site\n",
    "from es_sfgtools.utils.gage_data import get_file_from_gage_data"
   ]
  },
  {
   "cell_type": "markdown",
   "id": "9a99a3b5",
   "metadata": {},
   "source": [
    "***\n",
    "## Choosing the appropriate site metadata file\n",
    "\n",
    "Using the options below, you may either `create` or `update` a site metadata file. If the site already exists in the earthscope archive, the metadata file should be accessible on https://gage-data.earthscope.org/archive/seafloor. \n",
    "\n",
    "Only choose 1 of the 3 options."
   ]
  },
  {
   "cell_type": "markdown",
   "id": "7d59d7ba",
   "metadata": {},
   "source": [
    "### Option 1: Create new site metadata file\n",
    "\n",
    "Use this cell below to create a new site metadata file. If you wish to use a previously created site file, skip this section and go to the next section."
   ]
  },
  {
   "cell_type": "code",
   "execution_count": null,
   "id": "bc945090",
   "metadata": {},
   "outputs": [],
   "source": [
    "# ----------------------- Update these values ----------------------- \n",
    "# Add site names and networks\n",
    "names = ['AAAA']                 # list of names used for this site, including the 4 char ID\n",
    "networks = ['aleutian']          # list of networks this site is a part of              \n",
    "\n",
    "# Add time of origin\n",
    "time_of_origin = datetime(year=1900, month=1, day=1, \n",
    "                          hour=0, minute=0, second=0)\n",
    "\n",
    "# height\n",
    "local_geoid_height = 0\n",
    "\n",
    "# ---------------------- Do not update code below ---------------------\n",
    "# Create site object\n",
    "site_class = Site(names=names, \n",
    "                  networks=networks,\n",
    "                  time_of_origin=time_of_origin,\n",
    "                  local_geoid_height=local_geoid_height)\n",
    "print(json.dumps(site_class.site, indent=2))"
   ]
  },
  {
   "cell_type": "markdown",
   "id": "6bb258f5",
   "metadata": {},
   "source": [
    "### Option 2: Pull existing site metadata from local file path\n",
    "Use the cell below to load an existing site metadata file to update"
   ]
  },
  {
   "cell_type": "code",
   "execution_count": null,
   "id": "2c2fcdb1",
   "metadata": {},
   "outputs": [],
   "source": [
    "# Pull in site metadata from json file\n",
    "\n",
    "json_file_path = 'site.json'\n",
    "site_class = import_site(json_file_path)\n",
    "print(json.dumps(site_class.site, indent=2))"
   ]
  },
  {
   "cell_type": "markdown",
   "id": "5c749c6f",
   "metadata": {},
   "source": [
    "### Option 3: Pull existing site metadata directly from GAGE data\n",
    "Use the cell below to load an existing site metadata file from the GAGE data archive"
   ]
  },
  {
   "cell_type": "code",
   "execution_count": null,
   "id": "b1ebb51f",
   "metadata": {},
   "outputs": [],
   "source": [
    "# ----------------------- Update these values -----------------------\n",
    "gage_http_file_link = ''\n",
    "destination_directory = './gage_data'   # directory where the files will be downloaded to (default is the current directory/gage_data)\n",
    "token_path = '.'                        # directory where the token will be stored (default is the current directory)\n",
    "\n",
    "\n",
    "# ---------------------- Do not update code below ---------------------\n",
    "get_file_from_gage_data(url=gage_http_file_link, \n",
    "                        dest_dir=destination_directory)\n",
    "\n",
    "file_name = os.path.basename(gage_http_file_link)\n",
    "site_class = import_site(os.path.join(destination_directory, file_name))\n",
    "print(json.dumps(site_class.site, indent=2))"
   ]
  },
  {
   "cell_type": "markdown",
   "id": "fc62bcbe",
   "metadata": {},
   "source": [
    "***\n",
    "## Optional additions and updates\n",
    "Below are optional additions and updates you can make to the site metadata file. You do not need to go in order to update the file. Options include..\n",
    "* Reference Frames\n",
    "* Campaigns \n",
    "* Survey Vessels (waveglider, gnss receiver/antennas, transducers, transcievers)\n",
    "* Benchmarks \n",
    "* Transponders\n",
    "***\n",
    "\n",
    "## Instructions for adding each data type\n",
    "1. Input values in \"Update these Values\" section\n",
    "   * For a new section, enter all known values, including a start and end date. If a start and end date is not changed from \"1900\", then it will not be added into the json\n",
    "   * For updating an existing section, update only the values you wish to change. Leave all other fields empty or as they are.\n",
    "2. Run the cell and check the printed JSON input is correct.\n",
    "3. Use the buttons provided to add or update the campaign.\n",
    "***"
   ]
  },
  {
   "cell_type": "markdown",
   "id": "1d4af6b5",
   "metadata": {},
   "source": [
    "## Reference frame"
   ]
  },
  {
   "cell_type": "code",
   "execution_count": null,
   "id": "489188f3",
   "metadata": {},
   "outputs": [],
   "source": [
    "reference_frame = {}\n",
    "# ----------------------- Update these values ----------------------- \n",
    "reference_frame['name'] = \"\"         # e.g ITRF2008\n",
    "\n",
    "# Enter the start/end date & time of the reference frame\n",
    "ref_start = datetime(year=1900, month=1, day=1,\n",
    "                          hour=0, minute=0, second=0)\n",
    "ref_end = datetime(year=1900, month=1, day=1,\n",
    "                        hour=0, minute=0, second=0)\n",
    "\n",
    "# ---------------------- Do not update code below ---------------------\n",
    "reference_frame = start_and_end_dates(start_date=ref_start, \n",
    "                                      end_date=ref_end, \n",
    "                                      dict_to_update=reference_frame)\n",
    "# Button actions\n",
    "output = widgets.Output()\n",
    "display(widgets.HBox([buttons['new_ref'], buttons['existing_ref']]), output) \n",
    "buttons['new_ref'].on_click(functools.partial(site_class.new_top_level_group, \"referenceFrames\", reference_frame, output))\n",
    "buttons['existing_ref'].on_click(functools.partial(site_class.existing_ref_frame, reference_frame, output))"
   ]
  },
  {
   "cell_type": "markdown",
   "id": "b703a9c6",
   "metadata": {},
   "source": [
    "## Campaign"
   ]
  },
  {
   "cell_type": "code",
   "execution_count": null,
   "id": "d4bdb7a1",
   "metadata": {},
   "outputs": [],
   "source": [
    "campaign = {}\n",
    "# ----------------------- Update these values ----------------------- \n",
    "\n",
    "# Generate the campaign name\n",
    "campaign_year = \"\"              # Year of campaign - eg. 2024\n",
    "campaign_interval = \"\"          # alphabetical interval of campaign - 1st: a, 2nd: b, etc..\n",
    "waveglider_code = \"\"            # 4 digit waveglider code\n",
    "\n",
    "# Enter information known about the people and vessels involved in the campaign\n",
    "campaign['type'] = \"\"                         # type of campaign: deploy | measure \n",
    "campaign['launchVesselName'] = \"\"             # launch vessel name used in campaign\n",
    "campaign['recoveryVesselName'] = \"\"           # recovery vessel name used in campaign\n",
    "campaign['principalInvestigator'] = \"\"        # PI name \n",
    "campaign['cruiseName'] = \"\"                   # Name of cruise\n",
    "campaign['technicianName'] = \"\"               # technician name\n",
    "campaign['technicianContact'] = \"\"            # technician contact information (email/phone)\n",
    "\n",
    "# Enter the start/end date & time of the campaign # todo are these normally in UTC time??? \n",
    "campaign_start = datetime(year=1900, month=1, day=1, \n",
    "                          hour=0, minute=0, second=0)\n",
    "campaign_end = datetime(year=1900, month=1, day=1, \n",
    "                        hour=0, minute=0, second=0)\n",
    "\n",
    "\n",
    "# ----------------------- Do not update code below ----------------------- \n",
    "campaign_name = campaign_year + \"_\" + campaign_interval.upper() + \"_\" + waveglider_code.upper()\n",
    "campaign['name'] = campaign_name\n",
    "campaign['surveys'] = []\n",
    "\n",
    "campaign = start_and_end_dates(start_date=campaign_start, \n",
    "                                      end_date=campaign_end, \n",
    "                                      dict_to_update=campaign)\n",
    "\n",
    "# Button actions \n",
    "output = widgets.Output()\n",
    "display(widgets.HBox([buttons['new_campaign'], buttons['existing_campaign']]), output)\n",
    "buttons['new_campaign'].on_click(functools.partial(site_class.new_top_level_group, \"campaigns\", campaign, output))\n",
    "buttons['existing_campaign'].on_click(functools.partial(site_class.existing_campaign, campaign, output))\n"
   ]
  },
  {
   "cell_type": "markdown",
   "id": "8bf012ec",
   "metadata": {},
   "source": [
    "## Benchmark"
   ]
  },
  {
   "cell_type": "code",
   "execution_count": null,
   "id": "12c528a8",
   "metadata": {},
   "outputs": [],
   "source": [
    "benchmark = {'dropPointLocation': {}, 'aPrioriLocations': {}}\n",
    "# ----------------------- Update these values ----------------------- \n",
    "\n",
    "# Benchmark information\n",
    "benchmark['name'] = \"\"                 # \"IVB1-1\"\n",
    "benchmark['benchmarkID'] = \"\"          # stamped on name\n",
    "\n",
    "# Enter start and end of benchmark, if only a start date, do not update the end date\n",
    "benchmark_start = datetime(year=1900, month=1, day=1,\n",
    "                          hour=0, minute=0, second=0)\n",
    "benchmark_end = datetime(year=1900, month=1, day=1,\n",
    "                          hour=0, minute=0, second=0)\n",
    "\n",
    "# Drop points\n",
    "benchmark['dropPointLocation']['latitude'] = 0         # latitude of benchmark drop point\n",
    "benchmark['dropPointLocation']['longitude'] = 0        # longitude of benchmark drop point\n",
    "benchmark['dropPointLocation']['elevation'] = 0        # elevation of benchmark drop point\n",
    "\n",
    "# Apriori locations  # todo this is a list.. should it be?\n",
    "benchmark['aPrioriLocations']['latitude'] = 0          # latitude of benchmark drop point\n",
    "benchmark['aPrioriLocations']['longitude']  = 0        # longitude of benchmark drop point\n",
    "benchmark['aPrioriLocations']['elevation']  = 0        # elevation of benchmark drop point\n",
    "\n",
    "# todo should there be a start and end apriori\n",
    "\n",
    "# ----------------------- Do not update code below ----------------------- \n",
    "benchmark = start_and_end_dates(start_date=benchmark_start, \n",
    "                                end_date=benchmark_end, \n",
    "                                dict_to_update=benchmark)\n",
    "benchmark['transponders'] = []\n",
    "\n",
    "# Button actions\n",
    "output = widgets.Output()\n",
    "display(widgets.HBox([buttons['new_benchmark'], buttons['existing_benchmark']]), output)\n",
    "buttons['new_benchmark'].on_click(functools.partial(site_class.new_top_level_group, \"benchmarks\", benchmark, output))\n",
    "buttons['existing_benchmark'].on_click(functools.partial(site_class.existing_benchmark, benchmark, output))"
   ]
  },
  {
   "cell_type": "markdown",
   "id": "d68b8b6d",
   "metadata": {},
   "source": [
    "## Benchmark transponder"
   ]
  },
  {
   "cell_type": "code",
   "execution_count": null,
   "id": "f3ea2551",
   "metadata": {},
   "outputs": [],
   "source": [
    "# ----------------------- Update these values ----------------------- \n",
    "transponder = {}\n",
    " \n",
    "# Change this if you didn't previously add a benchmark or wish to add to a different benchmark\n",
    "transponder_benchmark_name = benchmark['name']\n",
    "\n",
    "transponder['uid'] = \"\"                       # UID?\n",
    "transponder['model'] = \"\"                     # transponder model number\n",
    "transponder['serialNumber'] = \"\"              # transponder serial number\n",
    "transponder['batteryCapacity'] = \"\"           # e.g 4 Ah\n",
    "transponder['address'] = \"\"                   # e.g 5209\n",
    "transponder['tat'] = \"\"                       # TAT in ms\n",
    "\n",
    " # Change the campaign name if you didn't previously add a campaign or wish to add to a different campaign\n",
    "transponder['deploymentCampaignName'] = \"\" #campaign_name      \n",
    "transponder['recoveryCampaignName'] = \"\" #campaign_name\n",
    "\n",
    "# Start and end date\n",
    "transponder_start = datetime(year=1900, month=1, day=1,\n",
    "                          hour=0, minute=0, second=0)\n",
    "transponder_end = datetime(year=1900, month=1, day=1,\n",
    "                          hour=0, minute=0, second=0)\n",
    "\n",
    "# Add any notable events if applicable\n",
    "notes = \"\"\n",
    "\n",
    "# Optional:  Add battery voltage\n",
    "add_battery_voltage = False          # set to True if adding a voltage \n",
    "voltage_date = datetime(year=1900, month=1, day=1,\n",
    "                          hour=0, minute=0, second=0)\n",
    "voltage_value = 0                    # e.g 12.0\n",
    "\n",
    "# Optional: Add extra sensor\n",
    "add_sensor = False                   # set to True if adding a sensor\n",
    "sensor_type = \"\"                     # e.g \"pressure\"\n",
    "sensor_model_number = \"\"             # pressure sensor model number\n",
    "sensor_serial_number = \"\"            # pressure sensor serial number\n",
    "\n",
    "\n",
    "# ----------------------- Do not update code below ----------------------- \n",
    "if add_battery_voltage:\n",
    "    print(\"adding battery voltage\")\n",
    "    transponder['batteryVoltage'] = [{}]\n",
    "    transponder['batteryVoltage'][0]['date'] = voltage_date.strftime('%Y-%m-%dT%H:%M:%S')\n",
    "    transponder['batteryVoltage'][0]['voltage'] = voltage_value\n",
    "    \n",
    "if add_sensor:\n",
    "    print(\"adding sensor\")\n",
    "    transponder['extraSensors'] = [{}]\n",
    "    transponder['extraSensors'][0]['type'] = sensor_type\n",
    "    transponder['extraSensors'][0]['model'] = sensor_model_number\n",
    "    transponder['extraSensors'][0]['serialNumber'] = sensor_serial_number\n",
    "\n",
    "transponder = start_and_end_dates(start_date=transponder_start, \n",
    "                                end_date=transponder_end, \n",
    "                                dict_to_update=transponder)\n",
    "\n",
    "# Button actions\n",
    "output = widgets.Output()\n",
    "display(widgets.HBox([buttons['new_transponder'], buttons['existing_transponder']]), output)\n",
    "buttons['new_transponder'].on_click(functools.partial(site_class.add_transponder_to_benchmark, transponder_benchmark_name, transponder, output))\n",
    "buttons['existing_transponder'].on_click(functools.partial(site_class.existing_transponder, transponder_benchmark_name, transponder, output))\n",
    "    "
   ]
  },
  {
   "cell_type": "markdown",
   "id": "573a5f8b",
   "metadata": {},
   "source": [
    "## Campaign Survey"
   ]
  },
  {
   "cell_type": "code",
   "execution_count": null,
   "id": "515e9606",
   "metadata": {},
   "outputs": [],
   "source": [
    "survey = {}\n",
    "notes = {}\n",
    "# ----------------------- Update these values ----------------------- \n",
    " # Change this if you didn't previously add a campaign or wish to add to a different campaign\n",
    "survey_campaign_name = campaign_name       \n",
    "\n",
    "# Update this value to the survey ID if you wish to update an existing survey\n",
    "survey['id'] = \"\"                 # campaign_name + interval\n",
    "\n",
    "survey['type'] = \"\"               # e.g cirle drive | fixed point\n",
    "survey['vesselName'] = \"\"         # Vessel name \n",
    "survey['benchmarkIDs'] = []       # List of benchmark IDs in survey['IVB1-1', 'IVB1-2', 'IVB1-3']\n",
    "\n",
    "# Enter the start and end date/time of the survey\n",
    "survey_start = datetime(year=1900, month=1, day=1, \n",
    "                        hour=0, minute=0, second=0)\n",
    "survey_end = datetime(year=1900, month=1, day=1, \n",
    "                        hour=0, minute=0, second=0)\n",
    "\n",
    "# Add any notes or commands\n",
    "add_notes = False                       # Change to True if you wish to add notes for the survey\n",
    "notes['commands'] = ''                  # log of commands for a given survey\n",
    "notes['notes'] = ''                     # i.e any strange data flags\n",
    "\n",
    "    \n",
    "# ----------------------- Do not update code below -----------------------    \n",
    "survey = start_and_end_dates(start_date=survey_start, \n",
    "                                end_date=survey_end, \n",
    "                                dict_to_update=survey)\n",
    "if survey['id']:\n",
    "    print(\"Survey will be updated to: \" + survey['id'])\n",
    "\n",
    "if add_notes:\n",
    "    survey['notes'] = notes\n",
    "\n",
    "# Button actions\n",
    "output = widgets.Output()\n",
    "display(widgets.HBox([buttons['new_survey'], buttons['existing_survey']]), output)\n",
    "buttons['new_survey'].on_click(functools.partial(site_class.new_survey, survey, survey_campaign_name, output))\n",
    "buttons['existing_survey'].on_click(functools.partial(site_class.existing_survey, survey, survey_campaign_name, survey['id'], output))"
   ]
  },
  {
   "cell_type": "markdown",
   "id": "248bc22b",
   "metadata": {},
   "source": [
    "## Survey Vessel\n",
    "Add the primary suvey vessel (e.g waveglider, boat, etc..). If the survey vessel already exists but is being used in a new survey, the ID will be updated.\n"
   ]
  },
  {
   "cell_type": "code",
   "execution_count": null,
   "id": "a3538159",
   "metadata": {},
   "outputs": [],
   "source": [
    "survey_vessel = {}\n",
    "# ----------------------- Update these values ----------------------- \n",
    "\n",
    "survey_id = ''                             # Survey ID the vessel was used in\n",
    "survey_vessel[\"type\"] = ''                 # waveglider\n",
    "survey_vessel[\"name\"] = ''                 # e.g GLDR\n",
    "survey_vessel['model'] = ''                # waveglider model number\n",
    "survey_vessel['serialNumber'] = ''         # waveglider serial number\n",
    "    \n",
    "# ----------------------- Do not update code below ----------------------- \n",
    "print(\"Adding or updating: \\n\" + json.dumps(survey_vessel, indent=2))\n",
    "output = widgets.Output()\n",
    "display(widgets.HBox([buttons['new_survey_vessel'], buttons['existing_survey_vessel']]), output)\n",
    "buttons['new_survey_vessel'].on_click(functools.partial(site_class.add_primary_survey_vessel, survey_vessel, survey_id, output))"
   ]
  },
  {
   "cell_type": "markdown",
   "id": "7d13bdc0",
   "metadata": {},
   "source": [
    "## Survey Vessel Equipment"
   ]
  },
  {
   "cell_type": "markdown",
   "id": "3532d550",
   "metadata": {},
   "source": [
    "### INS Payload"
   ]
  },
  {
   "cell_type": "code",
   "execution_count": null,
   "id": "890f7c6e",
   "metadata": {},
   "outputs": [],
   "source": [
    "ins_payload = {}\n",
    "# ----------------------- Update these values ----------------------- \n",
    " # Change this if you didn't previously add a survey vessel or wish to add to a different vessel\n",
    "ins_payload_survey_vessel = survey_vessel['name']\n",
    "survey_id = ''                            # Survey ID the INS was used in\n",
    "\n",
    "ins_payload['type'] = ''                  # type of INS \n",
    "ins_payload['model'] = ''                 # INS model number\n",
    "ins_payload['serialNumber' ] = ''         # INS serial number\n",
    "\n",
    "\n",
    "# ----------------------- Do not update code below -----------------------     \n",
    "# Button actions\n",
    "print(\"Adding or updating: \\n\" + json.dumps(ins_payload, indent=2))\n",
    "output = widgets.Output()\n",
    "display(widgets.HBox([buttons['new_payload']]),  output)\n",
    "buttons['new_payload'].on_click(functools.partial(site_class.add_survey_vessel_equipment, ins_payload_survey_vessel, \"insPayloads\", ins_payload, \n",
    "                                                  survey_id, output))\n"
   ]
  },
  {
   "cell_type": "markdown",
   "id": "4b7a8db3",
   "metadata": {},
   "source": [
    "### GNSS receiver"
   ]
  },
  {
   "cell_type": "code",
   "execution_count": null,
   "id": "c4372781",
   "metadata": {},
   "outputs": [],
   "source": [
    "gnss_receiver = {}\n",
    "# ----------------------- Update these values -----------------------  \n",
    "# Change this if you didn't previously add a survey vessel OR wish to add to a different vessel\n",
    "gnss_survey_vessel = survey_vessel['name']\n",
    "survey_id = ''\n",
    "\n",
    "\n",
    "gnss_receiver['type'] = ''                  # type of gnss receiver e.g \"trimble netrs\"\n",
    "gnss_receiver['model'] = ''                 # receiver model number\n",
    "gnss_receiver['serialNumber' ] = ''         # receiver serial number\n",
    "gnss_receiver['firmwareVersion'] = ''       # receiver firmware version\n",
    "\n",
    "# Enter the start and end date/time of the gnss receiver\n",
    "receiver_start = datetime(year=1900, month=1, day=1, \n",
    "                        hour=0, minute=0, second=0)\n",
    "receiver_end = datetime(year=1900, month=1, day=1, \n",
    "                        hour=0, minute=0, second=0)\n",
    "\n",
    "\n",
    "# ----------------------- Do not update code below -----------------------  \n",
    "print(\"Adding or updating: \\n\" + json.dumps(gnss_receiver, indent=2))\n",
    "# Button actions\n",
    "output = widgets.Output()\n",
    "display(widgets.HBox([buttons['new_receiver']]), output)\n",
    "buttons['new_receiver'].on_click(functools.partial(site_class.add_survey_vessel_equipment, gnss_survey_vessel, \"gnssReceivers\", gnss_receiver, \n",
    "                                                   survey_id, output))\n"
   ]
  },
  {
   "cell_type": "markdown",
   "id": "0c58dcff",
   "metadata": {},
   "source": [
    "### GNSS antenna"
   ]
  },
  {
   "cell_type": "code",
   "execution_count": null,
   "id": "1e50f333",
   "metadata": {},
   "outputs": [],
   "source": [
    "gnss_antenna = {}\n",
    "# ----------------------- Update these values -----------------------  \n",
    "# Change this if you didn't previously add a survey vessel or wish to add to a different vessel\n",
    "gnss_survey_vessel = ''\n",
    "survey_id = ''\n",
    "\n",
    "gnss_antenna['type'] = ''                  # type of gnss antenna e.g \"trimble\"\n",
    "gnss_antenna['model'] = ''                 # antenna model number\n",
    "gnss_antenna['serialNumber' ] = ''         # antenna serial number\n",
    "gnss_antenna['radomeSerialNumber'] = ''    # antenna radome serial number\n",
    "\n",
    "\n",
    "# ----------------------- Do not update code below -----------------------     \n",
    "print(\"Adding or updating: \\n\" + json.dumps(gnss_antenna, indent=2))\n",
    "    \n",
    "# Button actions\n",
    "output = widgets.Output()\n",
    "display(widgets.HBox([buttons['new_antenna']]), output)\n",
    "buttons['new_antenna'].on_click(functools.partial(site_class.add_survey_vessel_equipment, gnss_survey_vessel, \"gnssAntennas\", gnss_antenna, \n",
    "                                                  survey_id, output))\n"
   ]
  },
  {
   "cell_type": "markdown",
   "id": "fa070eb0",
   "metadata": {},
   "source": [
    "### Acoustic Transducer"
   ]
  },
  {
   "cell_type": "code",
   "execution_count": null,
   "id": "d599af7a",
   "metadata": {},
   "outputs": [],
   "source": [
    "transducer = {}\n",
    "# ----------------------- Update these values -----------------------  \n",
    "# Change this if you didn't previously add a survey vessel or wish to add to a different vessel\n",
    "transducer_survey_vessel = survey_vessel['name']\n",
    "survey_id = ''\n",
    "\n",
    "\n",
    "transducer['type'] = ''                 # transducer model number\n",
    "transducer['serialNumber'] = ''         # transducer serial number\n",
    "transducer['frequency'] = ''            # frequency e.g MF/LMF\n",
    "\n",
    "\n",
    "# ----------------------- Do not update code below ----------------------- \n",
    "print(\"Adding or updating: \\n\" + json.dumps(transducer, indent=2))\n",
    "    \n",
    "# Button actions\n",
    "output = widgets.Output()\n",
    "display(widgets.HBox([buttons['new_transducer']]), output)\n",
    "buttons['new_transducer'].on_click(functools.partial(site_class.add_survey_vessel_equipment, transducer_survey_vessel, \"acousticTransducer\", transducer, \n",
    "                                                     survey_id, output))"
   ]
  },
  {
   "cell_type": "markdown",
   "id": "05036f43",
   "metadata": {},
   "source": [
    "### Acoustic Transceiver"
   ]
  },
  {
   "cell_type": "code",
   "execution_count": null,
   "id": "3ce509f1",
   "metadata": {},
   "outputs": [],
   "source": [
    "transceiver = {}\n",
    "# ----------------------- Update these values -----------------------  \n",
    "# Change this if you didn't previously add a survey vessel or wish to add to a different vessel\n",
    "transceiver_survey_vessel = survey_vessel['name']\n",
    "survey_id = ''\n",
    "\n",
    "\n",
    "transceiver['type'] = ''                      # transceiver model number\n",
    "transceiver['serialNumber'] = ''              # transceiver serial number\n",
    "transceiver['frequency'] = ''                 # frequency e.g MF/LMF\n",
    "transceiver['triggerDelay'] = ''              # delay seconds\n",
    "transceiver['delayIncludedInTWTT'] = 'false'  # transceiver frequency e.g MF/LMF\n",
    "\n",
    "\n",
    "# ----------------------- Do not update code below -----------------------  \n",
    "print(\"Adding or updating: \\n\" + json.dumps(transceiver, indent=2))\n",
    "    \n",
    "# Button actions\n",
    "output = widgets.Output()\n",
    "display(widgets.HBox([buttons['new_transceiver']]), output)\n",
    "buttons['new_transceiver'].on_click(functools.partial(site_class.add_survey_vessel_equipment, transceiver_survey_vessel, \"acousticTransceiver\", transceiver, \n",
    "                                                      survey_id, output))"
   ]
  },
  {
   "cell_type": "markdown",
   "id": "d46896a7",
   "metadata": {},
   "source": [
    "### Acoustic to Transducer Offsets"
   ]
  },
  {
   "cell_type": "code",
   "execution_count": null,
   "id": "8a53c2c2",
   "metadata": {},
   "outputs": [],
   "source": [
    "atd = {}\n",
    "# ----------------------- Update these values -----------------------  \n",
    "# Change this if you didn't previously add a survey vessel or wish to add to a different vessel\n",
    "atd_survey_vessel = survey_vessel['name']        # \n",
    "survey_id = ''\n",
    "\n",
    "atd['x'] = ''\n",
    "atd['y'] = ''\n",
    "atd['z'] = ''\n",
    "\n",
    "# ----------------------- Do not update code below -----------------------  \n",
    "print(\"Adding or updating: \\n\" + json.dumps(atd, indent=2))\n",
    "    \n",
    "# Button actions\n",
    "output = widgets.Output()\n",
    "display(widgets.HBox([buttons['new_atd']]), output)\n",
    "buttons['new_atd'].on_click(functools.partial(site_class.add_survey_vessel_equipment, atd_survey_vessel, \"atdOffsets\", atd, \n",
    "                                                survey_id, output))\n"
   ]
  },
  {
   "cell_type": "markdown",
   "id": "99666369",
   "metadata": {},
   "source": [
    "# Write out JSON file\n",
    "This step can be completed at any time.\n",
    "\n",
    "* First check the contents..."
   ]
  },
  {
   "cell_type": "code",
   "execution_count": null,
   "id": "c3dde637-d315-4a76-824c-794c792de426",
   "metadata": {},
   "outputs": [],
   "source": [
    "print(json.dumps(site_class.site, indent=2))"
   ]
  },
  {
   "cell_type": "markdown",
   "id": "0159eb31-b567-45e1-b88f-adb6847553a1",
   "metadata": {},
   "source": [
    "## Export Site to file"
   ]
  },
  {
   "cell_type": "code",
   "execution_count": null,
   "id": "ed555100",
   "metadata": {},
   "outputs": [],
   "source": [
    "file_path = \"./site.json\"                            # Export file path you wish to store\n",
    "site_class.export_site(file_path)"
   ]
  },
  {
   "cell_type": "code",
   "execution_count": null,
   "id": "915073c9-9278-413c-975f-5ad8d19a092a",
   "metadata": {},
   "outputs": [],
   "source": []
  }
 ],
 "metadata": {
  "kernelspec": {
   "display_name": "Python 3 (ipykernel)",
   "language": "python",
   "name": "python3"
  },
  "language_info": {
   "codemirror_mode": {
    "name": "ipython",
    "version": 3
   },
   "file_extension": ".py",
   "mimetype": "text/x-python",
   "name": "python",
   "nbconvert_exporter": "python",
   "pygments_lexer": "ipython3",
   "version": "3.10.11"
  }
 },
 "nbformat": 4,
 "nbformat_minor": 5
}
